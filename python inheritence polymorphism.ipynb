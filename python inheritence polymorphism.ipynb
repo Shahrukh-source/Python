{
 "cells": [
  {
   "cell_type": "code",
   "execution_count": 1,
   "id": "3322775a",
   "metadata": {},
   "outputs": [
    {
     "name": "stdout",
     "output_type": "stream",
     "text": [
      "Tyres: \n",
      " \tBranch: Pirelli\n",
      " \tBelted-bias: True\n",
      " \tOptimal pressure: 2.0\n",
      "Engine: \n",
      " \tFuel type: Diesel\n",
      " \tNoise level:3\n",
      "Body:\n",
      " \tSize: Medium toyota\n"
     ]
    }
   ],
   "source": [
    "class Tyres:\n",
    "    def __init__(self, branch, belted_bias, opt_pressure):\n",
    "        self.branch = branch\n",
    "        self.belted_bias = belted_bias\n",
    "        self.opt_pressure = opt_pressure\n",
    "        \n",
    "    def __str__(self):\n",
    "        return (\"Tyres: \\n \\tBranch: \" + self.branch +\n",
    "               \"\\n \\tBelted-bias: \" + str(self.belted_bias) + \n",
    "               \"\\n \\tOptimal pressure: \" + str(self.opt_pressure))\n",
    "        \n",
    "class Engine:\n",
    "    def __init__(self, fuel_type, noise_level):\n",
    "        self.fuel_type = fuel_type\n",
    "        self.noise_level = noise_level\n",
    "        \n",
    "    def __str__(self):\n",
    "        return (\"Engine: \\n \\tFuel type: \" + self.fuel_type +\n",
    "                \"\\n \\tNoise level:\" + str(self.noise_level))\n",
    "        \n",
    "class Body:\n",
    "    def __init__(self, size):\n",
    "        self.size = size\n",
    "        \n",
    "    def __str__(self):\n",
    "        return \"Body:\\n \\tSize: \" + self.size\n",
    "        \n",
    "class Car:\n",
    "    def __init__(self,name ,  tyres, engine, body):\n",
    "        self.name = name \n",
    "        self.tyres = tyres\n",
    "        self.engine = engine\n",
    "        self.body = body\n",
    "        \n",
    "    def __str__(self):\n",
    "        return str(self.tyres) + \"\\n\" + str(self.engine) + \"\\n\" + str(self.body) + \" \" + str(self.name)\n",
    "\n",
    "        \n",
    "t = Tyres('Pirelli', True, 2.0)\n",
    "e = Engine('Diesel', 3)\n",
    "b = Body('Medium')\n",
    "c = Car(\"toyota\",t, e, b)\n",
    "print(c)"
   ]
  },
  {
   "cell_type": "code",
   "execution_count": 2,
   "id": "0f11ea2d",
   "metadata": {},
   "outputs": [],
   "source": [
    "class parent :\n",
    "    \n",
    "    a = 10 \n",
    "    b = 40 \n",
    "    \n",
    "    def __init__(self,parent_a , parent_b):\n",
    "        self.parent_a = parent_a\n",
    "        self.parent_b = parent_b\n",
    "        \n",
    "class child(parent):\n",
    "    def __init__(self, *args):\n",
    "        super(child,self).__init__(*args)\n",
    "    "
   ]
  },
  {
   "cell_type": "code",
   "execution_count": 3,
   "id": "434fdd2b",
   "metadata": {},
   "outputs": [
    {
     "name": "stdout",
     "output_type": "stream",
     "text": [
      "Kudrjavka is a Laika born in 1954.\n"
     ]
    }
   ],
   "source": [
    "class Dog:\n",
    "    def __init__(self, name, year_of_birth, breed):\n",
    "        self._name = name\n",
    "        self._year_of_birth = year_of_birth\n",
    "        self._breed = breed\n",
    "\n",
    "    def __str__(self):\n",
    "        return \"%s is a %s born in %d.\" % (self._name, self._breed, self._year_of_birth)\n",
    "\n",
    "kudrjavka = Dog(\"Kudrjavka\", 1954, \"Laika\")\n",
    "dog1 = Dog(\"german\" ,565 , \"coco\")\n",
    "dog2= Dog(\"german\" ,565 , \"coco\")\n",
    "dog3= Dog(\"german\" ,565 , \"coco\")\n",
    "dog4= Dog(\"german\" ,565 , \"coco\")\n",
    "dog5 = Dog(\"german\" ,565 , \"coco\")\n",
    "\n",
    "dog6= Dog(\"german\" ,565 , \"coco\")\n",
    "\n",
    "\n",
    "print(kudrjavka)"
   ]
  },
  {
   "cell_type": "code",
   "execution_count": 4,
   "id": "bd4d2088",
   "metadata": {},
   "outputs": [],
   "source": [
    "class student:\n",
    "    \n",
    "    def __init__(self,name, student_id,school_name, address):\n",
    "        self.name = name \n",
    "        self.student_id = student_id\n",
    "        self.school_name = school_name\n",
    "        self.address = address\n",
    "        \n",
    "        \n",
    "    def __str__(self):\n",
    "        return str(self.name) + \"  \" + str(self.student_id) + \"   \" + str(self.school_name) + \"  \"+ str( self.address)"
   ]
  },
  {
   "cell_type": "code",
   "execution_count": 5,
   "id": "c6637a6b",
   "metadata": {},
   "outputs": [
    {
     "name": "stdout",
     "output_type": "stream",
     "text": [
      "sudh  454   iNeuron  xyz\n"
     ]
    }
   ],
   "source": [
    "stu = student(\"sudh\" , 454 , \"iNeuron\" , \"xyz\") \n",
    "print(stu)"
   ]
  },
  {
   "cell_type": "code",
   "execution_count": 6,
   "id": "7d95ef46",
   "metadata": {},
   "outputs": [
    {
     "name": "stdout",
     "output_type": "stream",
     "text": [
      "Kudrjavka is a Laika born in 1954.  45   dog_sch  sdfdsf\n"
     ]
    }
   ],
   "source": [
    "dog = student(kudrjavka , 45 , \"dog_sch\" , \"sdfdsf\")\n",
    "print(dog)"
   ]
  },
  {
   "cell_type": "code",
   "execution_count": 7,
   "id": "186766e1",
   "metadata": {},
   "outputs": [],
   "source": [
    "dog1 = student(dog1 , 45 , \"dog_sch\" , \"sdfdsf\")"
   ]
  },
  {
   "cell_type": "code",
   "execution_count": 8,
   "id": "94e5bb2d",
   "metadata": {},
   "outputs": [],
   "source": [
    "class BonusDistribution:\n",
    "    \n",
    "    def __init__ (self,employeeId, employeeRating):\n",
    "    \n",
    "        self.empId = employeeId\n",
    "        self.empRating = employeeRating\n",
    "        self.__bonusforRatingA = \"70%\"  #making value private\n",
    "        self.__bonusforRatingB = \"60%\"  #making value private\n",
    "        self.__bonusforRatingC = \"50%\"  #making value private\n",
    "        self.__bonusforRatingD = \"30%\"  #making value private\n",
    "        self.__bonusforRatingForRest = \"No Bonus\" #making value private\n",
    "        \n",
    "        \n",
    "    def bonusCalculator(self):\n",
    "        \n",
    "        if self.empRating == 'A':\n",
    "            bonus = self.__bonusforRatingA\n",
    "            msg = \"Bonus for this employee is :\"+ bonus\n",
    "            return msg\n",
    "        elif self.empRating == 'B':\n",
    "            bonus = self.__bonusforRatingB\n",
    "            msg = \"Bonus for this employee is :\"+ bonus\n",
    "            return msg\n",
    "        elif self.empRating == 'C':\n",
    "            bonus = self.__bonusforRatingC\n",
    "            msg = \"Bonus for this employee is :\"+ bonus\n",
    "            return msg\n",
    "        elif self.empRating == 'D':\n",
    "            bonus = self.__bonusforRatingD\n",
    "            msg = \"Bonus for this employee is :\"+ bonus\n",
    "            return msg\n",
    "        else:\n",
    "            bonus = self.__bonusforRatingForRest\n",
    "            msg = \"Bonus for this employee is :\"+ bonus\n",
    "            return msg\n",
    "        \n",
    "    def __changevariable(self , value) : \n",
    "         self.__bonusforRatingB = value"
   ]
  },
  {
   "cell_type": "code",
   "execution_count": 9,
   "id": "20173e77",
   "metadata": {},
   "outputs": [],
   "source": [
    "emp1 = BonusDistribution(1232,'B')\n",
    "emp2 = BonusDistribution(1342,'B')\n",
    "emp3 = BonusDistribution(1031,'E')"
   ]
  },
  {
   "cell_type": "code",
   "execution_count": 12,
   "id": "247f7981",
   "metadata": {},
   "outputs": [],
   "source": [
    "emp2._BonusDistribution__changevariable(\"67%\")"
   ]
  },
  {
   "cell_type": "code",
   "execution_count": 11,
   "id": "c97d3281",
   "metadata": {},
   "outputs": [
    {
     "data": {
      "text/plain": [
       "'Bonus for this employee is :67%'"
      ]
     },
     "execution_count": 11,
     "metadata": {},
     "output_type": "execute_result"
    }
   ],
   "source": [
    "emp2.bonusCalculator()"
   ]
  },
  {
   "cell_type": "code",
   "execution_count": 13,
   "id": "37ca7fcb",
   "metadata": {},
   "outputs": [
    {
     "data": {
      "text/plain": [
       "'Bonus for this employee is :60%'"
      ]
     },
     "execution_count": 13,
     "metadata": {},
     "output_type": "execute_result"
    }
   ],
   "source": [
    "emp1.bonusCalculator()"
   ]
  },
  {
   "cell_type": "code",
   "execution_count": 14,
   "id": "bc92fc1d",
   "metadata": {},
   "outputs": [],
   "source": [
    "emp1._BonusDistribution__bonusforRatingB = \"90%\""
   ]
  },
  {
   "cell_type": "code",
   "execution_count": 15,
   "id": "2f573a39",
   "metadata": {},
   "outputs": [
    {
     "data": {
      "text/plain": [
       "'Bonus for this employee is :90%'"
      ]
     },
     "execution_count": 15,
     "metadata": {},
     "output_type": "execute_result"
    }
   ],
   "source": [
    "emp1.bonusCalculator()"
   ]
  },
  {
   "cell_type": "code",
   "execution_count": 16,
   "id": "763c9681",
   "metadata": {},
   "outputs": [
    {
     "ename": "AttributeError",
     "evalue": "'BonusDistribution' object has no attribute 'chagnevariable'",
     "output_type": "error",
     "traceback": [
      "\u001b[1;31m---------------------------------------------------------------------------\u001b[0m",
      "\u001b[1;31mAttributeError\u001b[0m                            Traceback (most recent call last)",
      "\u001b[1;32mC:\\Users\\SHAHRU~1\\AppData\\Local\\Temp/ipykernel_5736/1832896517.py\u001b[0m in \u001b[0;36m<module>\u001b[1;34m\u001b[0m\n\u001b[1;32m----> 1\u001b[1;33m \u001b[0memp1\u001b[0m\u001b[1;33m.\u001b[0m\u001b[0mchagnevariable\u001b[0m\u001b[1;33m(\u001b[0m\u001b[1;34m\"85%\"\u001b[0m\u001b[1;33m)\u001b[0m\u001b[1;33m\u001b[0m\u001b[1;33m\u001b[0m\u001b[0m\n\u001b[0m",
      "\u001b[1;31mAttributeError\u001b[0m: 'BonusDistribution' object has no attribute 'chagnevariable'"
     ]
    }
   ],
   "source": [
    "emp1.chagnevariable(\"85%\")"
   ]
  },
  {
   "cell_type": "code",
   "execution_count": 17,
   "id": "94679874",
   "metadata": {},
   "outputs": [
    {
     "data": {
      "text/plain": [
       "'Bonus for this employee is :90%'"
      ]
     },
     "execution_count": 17,
     "metadata": {},
     "output_type": "execute_result"
    }
   ],
   "source": [
    "emp1.bonusCalculator()"
   ]
  },
  {
   "cell_type": "code",
   "execution_count": 18,
   "id": "7666495f",
   "metadata": {},
   "outputs": [
    {
     "data": {
      "text/plain": [
       "'Bonus for this employee is :67%'"
      ]
     },
     "execution_count": 18,
     "metadata": {},
     "output_type": "execute_result"
    }
   ],
   "source": [
    "emp2.bonusCalculator()"
   ]
  },
  {
   "cell_type": "code",
   "execution_count": 19,
   "id": "fe95d5d7",
   "metadata": {},
   "outputs": [],
   "source": [
    "emp1 = BonusDistribution(1232,'B') #?????????????????\n",
    "emp2 = BonusDistribution(1342,'B')"
   ]
  },
  {
   "cell_type": "code",
   "execution_count": 20,
   "id": "04d9c118",
   "metadata": {},
   "outputs": [
    {
     "name": "stdout",
     "output_type": "stream",
     "text": [
      "\n"
     ]
    }
   ],
   "source": [
    "print()"
   ]
  },
  {
   "cell_type": "code",
   "execution_count": 21,
   "id": "58775fba",
   "metadata": {},
   "outputs": [],
   "source": [
    "class multiplynumeric():\n",
    "    def __init__(self,a) : \n",
    "        self.a = a \n",
    "    \n",
    "    def __mul__(self, other ):\n",
    "        \n",
    "        return self.a - other.a"
   ]
  },
  {
   "cell_type": "code",
   "execution_count": 22,
   "id": "1bf7ec4e",
   "metadata": {},
   "outputs": [],
   "source": [
    "mul = multiplynumeric(10)\n",
    "mul1 = multiplynumeric(2)"
   ]
  },
  {
   "cell_type": "code",
   "execution_count": 23,
   "id": "f48ee470",
   "metadata": {},
   "outputs": [
    {
     "data": {
      "text/plain": [
       "8"
      ]
     },
     "execution_count": 23,
     "metadata": {},
     "output_type": "execute_result"
    }
   ],
   "source": [
    "mul * mul1"
   ]
  },
  {
   "cell_type": "code",
   "execution_count": 24,
   "id": "b0665eed",
   "metadata": {},
   "outputs": [
    {
     "data": {
      "text/plain": [
       "18"
      ]
     },
     "execution_count": 24,
     "metadata": {},
     "output_type": "execute_result"
    }
   ],
   "source": [
    "9 * 2"
   ]
  },
  {
   "cell_type": "code",
   "execution_count": 25,
   "id": "696017c6",
   "metadata": {},
   "outputs": [],
   "source": [
    "def test(a , b ) :\n",
    "    return a + b "
   ]
  },
  {
   "cell_type": "code",
   "execution_count": 26,
   "id": "7489615f",
   "metadata": {},
   "outputs": [
    {
     "name": "stdout",
     "output_type": "stream",
     "text": [
      "11\n",
      "sudh kumar\n",
      "[3, 4, 5, 6, 7, 8, 4, 5, 6, 7, 89]\n"
     ]
    }
   ],
   "source": [
    "print(test(5, 6 )) #??????????????\n",
    "print(test(\"sudh \" , \"kumar\"))\n",
    "print(test([3,4,5,6,7,8] , [ 4,5,6,7,89]))"
   ]
  },
  {
   "cell_type": "code",
   "execution_count": 27,
   "id": "35521949",
   "metadata": {},
   "outputs": [],
   "source": [
    "class ineuron:\n",
    "    def msg(self):\n",
    "        print(\"this is a msg to ineruonr \" )\n",
    "        \n",
    "        \n",
    "class xyz:\n",
    "    \n",
    "    def msg(self):\n",
    "        print(\"this is a msg to xyz\") \n",
    "        \n",
    "              "
   ]
  },
  {
   "cell_type": "code",
   "execution_count": 28,
   "id": "18b8149e",
   "metadata": {},
   "outputs": [],
   "source": [
    "def test(notes):\n",
    "    notes.msg()"
   ]
  },
  {
   "cell_type": "code",
   "execution_count": 29,
   "id": "5fd9842a",
   "metadata": {},
   "outputs": [],
   "source": [
    "i = ineuron()\n",
    "x = xyz()"
   ]
  },
  {
   "cell_type": "code",
   "execution_count": 30,
   "id": "ea47e8f4",
   "metadata": {},
   "outputs": [
    {
     "name": "stdout",
     "output_type": "stream",
     "text": [
      "this is a msg to ineruonr \n"
     ]
    }
   ],
   "source": [
    "test(i)"
   ]
  },
  {
   "cell_type": "code",
   "execution_count": 31,
   "id": "305dcb31",
   "metadata": {},
   "outputs": [
    {
     "name": "stdout",
     "output_type": "stream",
     "text": [
      "this is a msg to xyz\n"
     ]
    }
   ],
   "source": [
    "test(x)"
   ]
  },
  {
   "cell_type": "code",
   "execution_count": 32,
   "id": "66bf5553",
   "metadata": {},
   "outputs": [
    {
     "ename": "SyntaxError",
     "evalue": "invalid syntax (Temp/ipykernel_5736/777126530.py, line 1)",
     "output_type": "error",
     "traceback": [
      "\u001b[1;36m  File \u001b[1;32m\"C:\\Users\\SHAHRU~1\\AppData\\Local\\Temp/ipykernel_5736/777126530.py\"\u001b[1;36m, line \u001b[1;32m1\u001b[0m\n\u001b[1;33m    1. inheritnce\u001b[0m\n\u001b[1;37m       ^\u001b[0m\n\u001b[1;31mSyntaxError\u001b[0m\u001b[1;31m:\u001b[0m invalid syntax\n"
     ]
    }
   ],
   "source": [
    "1. inheritnce \n",
    "2 .ploy # multiple term but object is same\n",
    "3 . abstraction\n",
    "4 . encaptuation "
   ]
  },
  {
   "cell_type": "code",
   "execution_count": 33,
   "id": "f2e787fb",
   "metadata": {},
   "outputs": [
    {
     "ename": "SyntaxError",
     "evalue": "invalid syntax (Temp/ipykernel_5736/2535114145.py, line 1)",
     "output_type": "error",
     "traceback": [
      "\u001b[1;36m  File \u001b[1;32m\"C:\\Users\\SHAHRU~1\\AppData\\Local\\Temp/ipykernel_5736/2535114145.py\"\u001b[1;36m, line \u001b[1;32m1\u001b[0m\n\u001b[1;33m    https://dev.mysql.com/downloads/installer/\u001b[0m\n\u001b[1;37m          ^\u001b[0m\n\u001b[1;31mSyntaxError\u001b[0m\u001b[1;31m:\u001b[0m invalid syntax\n"
     ]
    }
   ],
   "source": [
    "https://dev.mysql.com/downloads/installer/"
   ]
  },
  {
   "cell_type": "code",
   "execution_count": 22,
   "id": "e54e21a5",
   "metadata": {},
   "outputs": [
    {
     "name": "stdout",
     "output_type": "stream",
     "text": [
      " enter number a5\n",
      "enter your number b4\n"
     ]
    },
    {
     "ename": "NameError",
     "evalue": "name 'Self' is not defined",
     "output_type": "error",
     "traceback": [
      "\u001b[1;31m---------------------------------------------------------------------------\u001b[0m",
      "\u001b[1;31mNameError\u001b[0m                                 Traceback (most recent call last)",
      "\u001b[1;32mC:\\Users\\SHAHRU~1\\AppData\\Local\\Temp/ipykernel_14536/2300959692.py\u001b[0m in \u001b[0;36m<module>\u001b[1;34m\u001b[0m\n\u001b[0;32m     16\u001b[0m \u001b[0ma\u001b[0m \u001b[1;33m=\u001b[0m \u001b[0mint\u001b[0m\u001b[1;33m(\u001b[0m\u001b[0minput\u001b[0m \u001b[1;33m(\u001b[0m\u001b[1;34m\" enter number a\"\u001b[0m\u001b[1;33m)\u001b[0m\u001b[1;33m)\u001b[0m\u001b[1;33m\u001b[0m\u001b[1;33m\u001b[0m\u001b[0m\n\u001b[0;32m     17\u001b[0m \u001b[0mb\u001b[0m \u001b[1;33m=\u001b[0m \u001b[0mint\u001b[0m\u001b[1;33m(\u001b[0m\u001b[0minput\u001b[0m \u001b[1;33m(\u001b[0m\u001b[1;34m\"enter your number b\"\u001b[0m\u001b[1;33m)\u001b[0m\u001b[1;33m)\u001b[0m\u001b[1;33m\u001b[0m\u001b[1;33m\u001b[0m\u001b[0m\n\u001b[1;32m---> 18\u001b[1;33m \u001b[0mA\u001b[0m\u001b[1;33m=\u001b[0m \u001b[0mCALCULATOR\u001b[0m\u001b[1;33m(\u001b[0m\u001b[0ma\u001b[0m\u001b[1;33m,\u001b[0m\u001b[0mb\u001b[0m\u001b[1;33m)\u001b[0m\u001b[1;33m\u001b[0m\u001b[1;33m\u001b[0m\u001b[0m\n\u001b[0m\u001b[0;32m     19\u001b[0m \u001b[0mb\u001b[0m \u001b[1;33m=\u001b[0m \u001b[0mCALCULATOR0\u001b[0m\u001b[1;33m(\u001b[0m\u001b[0ma\u001b[0m\u001b[1;33m,\u001b[0m\u001b[0mb\u001b[0m\u001b[1;33m)\u001b[0m\u001b[1;33m\u001b[0m\u001b[1;33m\u001b[0m\u001b[0m\n\u001b[0;32m     20\u001b[0m \u001b[0mc\u001b[0m \u001b[1;33m=\u001b[0m  \u001b[0mCALCULATOR1\u001b[0m\u001b[1;33m(\u001b[0m\u001b[0ma\u001b[0m\u001b[1;33m,\u001b[0m\u001b[0mb\u001b[0m\u001b[1;33m)\u001b[0m\u001b[1;33m\u001b[0m\u001b[1;33m\u001b[0m\u001b[0m\n",
      "\u001b[1;32mC:\\Users\\SHAHRU~1\\AppData\\Local\\Temp/ipykernel_14536/2300959692.py\u001b[0m in \u001b[0;36m__init__\u001b[1;34m(self, a, b)\u001b[0m\n\u001b[0;32m      1\u001b[0m \u001b[1;32mclass\u001b[0m \u001b[0mCALCULATOR\u001b[0m\u001b[1;33m:\u001b[0m\u001b[1;33m\u001b[0m\u001b[1;33m\u001b[0m\u001b[0m\n\u001b[0;32m      2\u001b[0m     \u001b[1;32mdef\u001b[0m \u001b[0m__init__\u001b[0m\u001b[1;33m(\u001b[0m\u001b[0mself\u001b[0m\u001b[1;33m,\u001b[0m\u001b[0ma\u001b[0m\u001b[1;33m,\u001b[0m\u001b[0mb\u001b[0m\u001b[1;33m)\u001b[0m\u001b[1;33m:\u001b[0m\u001b[1;33m\u001b[0m\u001b[1;33m\u001b[0m\u001b[0m\n\u001b[1;32m----> 3\u001b[1;33m             \u001b[0mSelf\u001b[0m\u001b[1;33m.\u001b[0m\u001b[0ma\u001b[0m \u001b[1;33m=\u001b[0m \u001b[0ma\u001b[0m\u001b[1;33m\u001b[0m\u001b[1;33m\u001b[0m\u001b[0m\n\u001b[0m\u001b[0;32m      4\u001b[0m             \u001b[0mSelf\u001b[0m\u001b[1;33m.\u001b[0m\u001b[0mb\u001b[0m \u001b[1;33m=\u001b[0m \u001b[0mb\u001b[0m\u001b[1;33m\u001b[0m\u001b[1;33m\u001b[0m\u001b[0m\n\u001b[0;32m      5\u001b[0m \u001b[1;32mclass\u001b[0m \u001b[0mCALCULATOR0\u001b[0m\u001b[1;33m(\u001b[0m\u001b[0mCALCULATOR\u001b[0m\u001b[1;33m)\u001b[0m\u001b[1;33m:\u001b[0m\u001b[1;33m\u001b[0m\u001b[1;33m\u001b[0m\u001b[0m\n",
      "\u001b[1;31mNameError\u001b[0m: name 'Self' is not defined"
     ]
    }
   ],
   "source": [
    "class CALCULATOR:\n",
    "    def __init__(self,a,b):\n",
    "            Self.a = a\n",
    "            Self.b = b\n",
    "class CALCULATOR0(CALCULATOR):       \n",
    "    def add( a,b):\n",
    "        return a + b\n",
    "    \n",
    "class CALCULATOR1(CALCULATOR0):\n",
    "    def mul(a,b):\n",
    "            return a*b\n",
    "        \n",
    "class CALCULATOR2( CALCULATOR1):\n",
    "    def divided(a,b):\n",
    "            return a/b\n",
    "a = int(input (\" enter number a\"))\n",
    "b = int(input (\"enter your number b\"))\n",
    "A= CALCULATOR(a,b)\n",
    "b = CALCULATOR0(a,b)\n",
    "c =  CALCULATOR1(a,b)\n",
    "d = CALCULATOR2(a,b)\n"
   ]
  },
  {
   "cell_type": "code",
   "execution_count": 14,
   "id": "cf6e87ab",
   "metadata": {},
   "outputs": [
    {
     "name": "stdout",
     "output_type": "stream",
     "text": [
      " enter number a4\n",
      "enter your number b5\n",
      " enter number c6\n",
      " enter number d8\n",
      " enter number e3\n",
      " enter number f5\n"
     ]
    },
    {
     "ename": "TypeError",
     "evalue": "CALCULATOR() takes no arguments",
     "output_type": "error",
     "traceback": [
      "\u001b[1;31m---------------------------------------------------------------------------\u001b[0m",
      "\u001b[1;31mTypeError\u001b[0m                                 Traceback (most recent call last)",
      "\u001b[1;32mC:\\Users\\SHAHRU~1\\AppData\\Local\\Temp/ipykernel_14536/2385990239.py\u001b[0m in \u001b[0;36m<module>\u001b[1;34m\u001b[0m\n\u001b[0;32m     16\u001b[0m \u001b[0me\u001b[0m \u001b[1;33m=\u001b[0m \u001b[0mint\u001b[0m\u001b[1;33m(\u001b[0m\u001b[0minput\u001b[0m \u001b[1;33m(\u001b[0m\u001b[1;34m\" enter number e\"\u001b[0m\u001b[1;33m)\u001b[0m\u001b[1;33m)\u001b[0m\u001b[1;33m\u001b[0m\u001b[1;33m\u001b[0m\u001b[0m\n\u001b[0;32m     17\u001b[0m \u001b[0mf\u001b[0m \u001b[1;33m=\u001b[0m \u001b[0mint\u001b[0m\u001b[1;33m(\u001b[0m\u001b[0minput\u001b[0m \u001b[1;33m(\u001b[0m\u001b[1;34m\" enter number f\"\u001b[0m\u001b[1;33m)\u001b[0m\u001b[1;33m)\u001b[0m\u001b[1;33m\u001b[0m\u001b[1;33m\u001b[0m\u001b[0m\n\u001b[1;32m---> 18\u001b[1;33m \u001b[0mA\u001b[0m\u001b[1;33m=\u001b[0m \u001b[0mCALCULATOR\u001b[0m\u001b[1;33m(\u001b[0m\u001b[0ma\u001b[0m\u001b[1;33m,\u001b[0m\u001b[0mb\u001b[0m\u001b[1;33m,\u001b[0m\u001b[0mc\u001b[0m\u001b[1;33m,\u001b[0m\u001b[0md\u001b[0m\u001b[1;33m,\u001b[0m\u001b[0me\u001b[0m\u001b[1;33m,\u001b[0m\u001b[0mf\u001b[0m\u001b[1;33m)\u001b[0m\u001b[1;33m\u001b[0m\u001b[1;33m\u001b[0m\u001b[0m\n\u001b[0m\u001b[0;32m     19\u001b[0m \u001b[0mPrint\u001b[0m \u001b[1;33m(\u001b[0m\u001b[0mA\u001b[0m\u001b[1;33m)\u001b[0m\u001b[1;33m\u001b[0m\u001b[1;33m\u001b[0m\u001b[0m\n\u001b[0;32m     20\u001b[0m \u001b[1;33m\u001b[0m\u001b[0m\n",
      "\u001b[1;31mTypeError\u001b[0m: CALCULATOR() takes no arguments"
     ]
    }
   ],
   "source": [
    "class CALCULATOR:\n",
    "    def _init_(self,a,b):\n",
    "            Self.a = a\n",
    "            Self.b = b\n",
    "       \n",
    "    def add( a,b):\n",
    "        return a + b\n",
    "    def mul(c,d):\n",
    "            return a*b\n",
    "    def divided(e,f):\n",
    "            return a/b\n",
    "a = int(input (\" enter number a\"))\n",
    "b = int(input (\"enter your number b\"))\n",
    "\n",
    "A= CALCULATOR(a,b)\n",
    "Print (A)\n",
    "    "
   ]
  },
  {
   "cell_type": "code",
   "execution_count": 17,
   "id": "3eee9c87",
   "metadata": {},
   "outputs": [
    {
     "ename": "SyntaxError",
     "evalue": "unexpected EOF while parsing (Temp/ipykernel_14536/892358233.py, line 5)",
     "output_type": "error",
     "traceback": [
      "\u001b[1;36m  File \u001b[1;32m\"C:\\Users\\SHAHRU~1\\AppData\\Local\\Temp/ipykernel_14536/892358233.py\"\u001b[1;36m, line \u001b[1;32m5\u001b[0m\n\u001b[1;33m    Print (d\u001b[0m\n\u001b[1;37m            ^\u001b[0m\n\u001b[1;31mSyntaxError\u001b[0m\u001b[1;31m:\u001b[0m unexpected EOF while parsing\n"
     ]
    }
   ],
   "source": [
    "Print (A)\n",
    "Print (a)\n",
    "Print (b)\n",
    "Print (c)\n",
    "Print (d"
   ]
  },
  {
   "cell_type": "code",
   "execution_count": 18,
   "id": "88c8e409",
   "metadata": {},
   "outputs": [],
   "source": [
    "class Calculator:\n",
    "    def __int__(self,x,y):\n",
    "        self.x = x\n",
    "        self.y = y\n",
    "    def add(self):\n",
    "        return self.x + self.y\n",
    "    def sub(self):\n",
    "        return self.x - self.y\n",
    "    def multi(self):\n",
    "        return self.x * self.y\n",
    "    def div(self):\n",
    "        return self.x / self.y\n",
    "\n",
    "    def convert(self,a,b):\n",
    "        try:\n",
    "            int_a = int(a)\n",
    "            int_b = int(b)\n",
    "        except ValueError:\n",
    "            int_a = float(a)\n",
    "            int_b = float(b)\n",
    "        return int_a,int_b\n",
    "\n",
    "run = True"
   ]
  },
  {
   "cell_type": "code",
   "execution_count": 21,
   "id": "5f17e27a",
   "metadata": {},
   "outputs": [
    {
     "name": "stdout",
     "output_type": "stream",
     "text": [
      " enter number a5\n",
      "enter your number b2\n"
     ]
    },
    {
     "ename": "TypeError",
     "evalue": "Calculator() takes no arguments",
     "output_type": "error",
     "traceback": [
      "\u001b[1;31m---------------------------------------------------------------------------\u001b[0m",
      "\u001b[1;31mTypeError\u001b[0m                                 Traceback (most recent call last)",
      "\u001b[1;32mC:\\Users\\SHAHRU~1\\AppData\\Local\\Temp/ipykernel_14536/541824922.py\u001b[0m in \u001b[0;36m<module>\u001b[1;34m\u001b[0m\n\u001b[0;32m     13\u001b[0m \u001b[0mx\u001b[0m \u001b[1;33m=\u001b[0m \u001b[0mint\u001b[0m\u001b[1;33m(\u001b[0m\u001b[0minput\u001b[0m \u001b[1;33m(\u001b[0m\u001b[1;34m\" enter number a\"\u001b[0m\u001b[1;33m)\u001b[0m\u001b[1;33m)\u001b[0m\u001b[1;33m\u001b[0m\u001b[1;33m\u001b[0m\u001b[0m\n\u001b[0;32m     14\u001b[0m \u001b[0my\u001b[0m \u001b[1;33m=\u001b[0m \u001b[0mint\u001b[0m\u001b[1;33m(\u001b[0m\u001b[0minput\u001b[0m \u001b[1;33m(\u001b[0m\u001b[1;34m\"enter your number b\"\u001b[0m\u001b[1;33m)\u001b[0m\u001b[1;33m)\u001b[0m\u001b[1;33m\u001b[0m\u001b[1;33m\u001b[0m\u001b[0m\n\u001b[1;32m---> 15\u001b[1;33m \u001b[0mt\u001b[0m \u001b[1;33m=\u001b[0m \u001b[0mCalculator\u001b[0m\u001b[1;33m(\u001b[0m\u001b[0mx\u001b[0m\u001b[1;33m,\u001b[0m\u001b[0my\u001b[0m\u001b[1;33m)\u001b[0m\u001b[1;33m\u001b[0m\u001b[1;33m\u001b[0m\u001b[0m\n\u001b[0m",
      "\u001b[1;31mTypeError\u001b[0m: Calculator() takes no arguments"
     ]
    }
   ],
   "source": [
    "class Calculator:\n",
    "    def __int__(self,x,y):\n",
    "        self.x = x\n",
    "        self.y = y\n",
    "    def add(self):\n",
    "        return self.x + self.y\n",
    "    def sub(self):\n",
    "        return self.x - self.y\n",
    "    def multi(self):\n",
    "        return self.x * self.y\n",
    "    def div(self):\n",
    "        return self.x / self.y\n",
    "x = int(input (\" enter number a\"))\n",
    "y = int(input (\"enter your number b\"))\n",
    "t = Calculator(x,y)\n"
   ]
  },
  {
   "cell_type": "code",
   "execution_count": null,
   "id": "7d367a08",
   "metadata": {},
   "outputs": [
    {
     "name": "stdout",
     "output_type": "stream",
     "text": [
      "Select operation.\n",
      "1.Add\n",
      "2.Subtract\n",
      "3.Multiply\n",
      "4.Divide\n",
      "Enter choice(1/2/3/4): 1\n",
      "Enter first number: 2\n",
      "Enter second number: 5\n",
      "2.0 + 5.0 = 7.0\n",
      "Let's do next calculation? (yes/no): yes\n"
     ]
    }
   ],
   "source": [
    "# Program make a simple calculator\n",
    "\n",
    "# This function adds two numbers\n",
    "def add(x, y):\n",
    "    return x + y\n",
    "\n",
    "# This function subtracts two numbers\n",
    "def subtract(x, y):\n",
    "    return x - y\n",
    "\n",
    "# This function multiplies two numbers\n",
    "def multiply(x, y):\n",
    "    return x * y\n",
    "\n",
    "# This function divides two numbers\n",
    "def divide(x, y):\n",
    "    return x / y\n",
    "\n",
    "\n",
    "print(\"Select operation.\")\n",
    "print(\"1.Add\")\n",
    "print(\"2.Subtract\")\n",
    "print(\"3.Multiply\")\n",
    "print(\"4.Divide\")\n",
    "\n",
    "while True:\n",
    "    # take input from the user\n",
    "    choice = input(\"Enter choice(1/2/3/4): \")\n",
    "\n",
    "    # check if choice is one of the four options\n",
    "    if choice in ('1', '2', '3', '4'):\n",
    "        num1 = float(input(\"Enter first number: \"))\n",
    "        num2 = float(input(\"Enter second number: \"))\n",
    "\n",
    "        if choice == '1':\n",
    "            print(num1, \"+\", num2, \"=\", add(num1, num2))\n",
    "\n",
    "        elif choice == '2':\n",
    "            print(num1, \"-\", num2, \"=\", subtract(num1, num2))\n",
    "\n",
    "        elif choice == '3':\n",
    "            print(num1, \"*\", num2, \"=\", multiply(num1, num2))\n",
    "\n",
    "        elif choice == '4':\n",
    "            print(num1, \"/\", num2, \"=\", divide(num1, num2))\n",
    "        \n",
    "        # check if user wants another calculation\n",
    "        # break the while loop if answer is no\n",
    "        next_calculation = input(\"Let's do next calculation? (yes/no): \")\n",
    "        if next_calculation == \"no\":\n",
    "          break"
   ]
  },
  {
   "cell_type": "code",
   "execution_count": null,
   "id": "1386a27e",
   "metadata": {},
   "outputs": [],
   "source": []
  }
 ],
 "metadata": {
  "kernelspec": {
   "display_name": "Python 3 (ipykernel)",
   "language": "python",
   "name": "python3"
  },
  "language_info": {
   "codemirror_mode": {
    "name": "ipython",
    "version": 3
   },
   "file_extension": ".py",
   "mimetype": "text/x-python",
   "name": "python",
   "nbconvert_exporter": "python",
   "pygments_lexer": "ipython3",
   "version": "3.9.7"
  }
 },
 "nbformat": 4,
 "nbformat_minor": 5
}
