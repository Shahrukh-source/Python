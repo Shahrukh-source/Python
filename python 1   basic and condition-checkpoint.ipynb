{
 "cells": [
  {
   "cell_type": "code",
   "execution_count": 1,
   "id": "5c313870",
   "metadata": {},
   "outputs": [
    {
     "name": "stdout",
     "output_type": "stream",
     "text": [
      "this is my first python program\n"
     ]
    }
   ],
   "source": [
    "#this is my first prog\n",
    "print('this is my first python program')"
   ]
  },
  {
   "cell_type": "code",
   "execution_count": 3,
   "id": "ba047aff",
   "metadata": {},
   "outputs": [
    {
     "name": "stdout",
     "output_type": "stream",
     "text": [
      " this is my first program\n"
     ]
    }
   ],
   "source": [
    "print (\" this is my first program\")"
   ]
  },
  {
   "cell_type": "code",
   "execution_count": 10,
   "id": "47b88849",
   "metadata": {},
   "outputs": [
    {
     "data": {
      "text/plain": [
       "'FAFASFSAFSAFASFASFASFSDFASF\\nASDFASF\\nASDFASDF\\n'"
      ]
     },
     "execution_count": 10,
     "metadata": {},
     "output_type": "execute_result"
    }
   ],
   "source": [
    "#my name is sudh \n",
    "\"\"\"FAFASFSAFSAFASFASFASFSDFASF\n",
    "ASDFASF\n",
    "ASDFASDF\n",
    "\"\"\"\n"
   ]
  },
  {
   "cell_type": "code",
   "execution_count": 5,
   "id": "90ded0af",
   "metadata": {},
   "outputs": [
    {
     "data": {
      "text/plain": [
       "'print(\"fsdfsdfs\")\\nprint(\"Fsdfsfs\\\\FSDFSAFASFASDDF)\\nprint(\"sdfsfsdf\")'"
      ]
     },
     "execution_count": 5,
     "metadata": {},
     "output_type": "execute_result"
    }
   ],
   "source": [
    "\"\"\"print(\"fsdfsdfs\")\n",
    "print(\"Fsdfsfs\\FSDFSAFASFASDDF)\n",
    "print(\"sdfsfsdf\")\"\"\""
   ]
  },
  {
   "cell_type": "code",
   "execution_count": 6,
   "id": "a92df3dc",
   "metadata": {},
   "outputs": [],
   "source": [
    "afsdf = 10 "
   ]
  },
  {
   "cell_type": "code",
   "execution_count": 7,
   "id": "45c0408d",
   "metadata": {},
   "outputs": [
    {
     "data": {
      "text/plain": [
       "10"
      ]
     },
     "execution_count": 7,
     "metadata": {},
     "output_type": "execute_result"
    }
   ],
   "source": [
    "afsdf"
   ]
  },
  {
   "cell_type": "code",
   "execution_count": 11,
   "id": "c0874790",
   "metadata": {},
   "outputs": [
    {
     "data": {
      "text/plain": [
       "int"
      ]
     },
     "execution_count": 11,
     "metadata": {},
     "output_type": "execute_result"
    }
   ],
   "source": [
    "type(afsdf)"
   ]
  },
  {
   "cell_type": "code",
   "execution_count": 12,
   "id": "c5f1b4b2",
   "metadata": {},
   "outputs": [],
   "source": [
    "b = '34554sudh 45345fgf sgsd sdfg sh sghf h dhdfh df'"
   ]
  },
  {
   "cell_type": "code",
   "execution_count": 13,
   "id": "c50a38cc",
   "metadata": {},
   "outputs": [
    {
     "data": {
      "text/plain": [
       "str"
      ]
     },
     "execution_count": 13,
     "metadata": {},
     "output_type": "execute_result"
    }
   ],
   "source": [
    "type(b)"
   ]
  },
  {
   "cell_type": "code",
   "execution_count": 14,
   "id": "f792479c",
   "metadata": {},
   "outputs": [
    {
     "data": {
      "text/plain": [
       "'34554sudh 45345fgf sgsd sdfg sh sghf h dhdfh df'"
      ]
     },
     "execution_count": 14,
     "metadata": {},
     "output_type": "execute_result"
    }
   ],
   "source": [
    "b"
   ]
  },
  {
   "cell_type": "code",
   "execution_count": 17,
   "id": "233f8b84",
   "metadata": {},
   "outputs": [
    {
     "name": "stdout",
     "output_type": "stream",
     "text": [
      "34554sudh 45345fgf sgsd sdfg sh sghf h dhdfh df afsdf\n"
     ]
    }
   ],
   "source": [
    "print(b , \"afsdf\")"
   ]
  },
  {
   "cell_type": "code",
   "execution_count": 18,
   "id": "70a00989",
   "metadata": {},
   "outputs": [],
   "source": [
    "a = 45\n",
    "b = \"srk \""
   ]
  },
  {
   "cell_type": "code",
   "execution_count": 19,
   "id": "53599163",
   "metadata": {},
   "outputs": [
    {
     "data": {
      "text/plain": [
       "(45, 'srk ')"
      ]
     },
     "execution_count": 19,
     "metadata": {},
     "output_type": "execute_result"
    }
   ],
   "source": [
    "a,b"
   ]
  },
  {
   "cell_type": "code",
   "execution_count": 20,
   "id": "ca0e2149",
   "metadata": {},
   "outputs": [
    {
     "name": "stdout",
     "output_type": "stream",
     "text": [
      "45 srk \n"
     ]
    }
   ],
   "source": [
    "print(a,b)"
   ]
  },
  {
   "cell_type": "code",
   "execution_count": 21,
   "id": "fd72351f",
   "metadata": {},
   "outputs": [],
   "source": [
    "a, b  , s = 45 , \"srk\" , \"this is my name \""
   ]
  },
  {
   "cell_type": "code",
   "execution_count": 22,
   "id": "5f7f1606",
   "metadata": {},
   "outputs": [
    {
     "data": {
      "text/plain": [
       "45"
      ]
     },
     "execution_count": 22,
     "metadata": {},
     "output_type": "execute_result"
    }
   ],
   "source": [
    "a"
   ]
  },
  {
   "cell_type": "code",
   "execution_count": 23,
   "id": "183fd34b",
   "metadata": {},
   "outputs": [
    {
     "data": {
      "text/plain": [
       "'srk'"
      ]
     },
     "execution_count": 23,
     "metadata": {},
     "output_type": "execute_result"
    }
   ],
   "source": [
    "b"
   ]
  },
  {
   "cell_type": "code",
   "execution_count": 24,
   "id": "06082660",
   "metadata": {},
   "outputs": [
    {
     "data": {
      "text/plain": [
       "'this is my name '"
      ]
     },
     "execution_count": 24,
     "metadata": {},
     "output_type": "execute_result"
    }
   ],
   "source": [
    "s"
   ]
  },
  {
   "cell_type": "code",
   "execution_count": 25,
   "id": "7e9c16e6",
   "metadata": {},
   "outputs": [
    {
     "data": {
      "text/plain": [
       "int"
      ]
     },
     "execution_count": 25,
     "metadata": {},
     "output_type": "execute_result"
    }
   ],
   "source": [
    "type(a)"
   ]
  },
  {
   "cell_type": "code",
   "execution_count": 26,
   "id": "69ca1875",
   "metadata": {},
   "outputs": [
    {
     "data": {
      "text/plain": [
       "str"
      ]
     },
     "execution_count": 26,
     "metadata": {},
     "output_type": "execute_result"
    }
   ],
   "source": [
    "type(b)"
   ]
  },
  {
   "cell_type": "code",
   "execution_count": 27,
   "id": "7ff37b13",
   "metadata": {},
   "outputs": [
    {
     "data": {
      "text/plain": [
       "str"
      ]
     },
     "execution_count": 27,
     "metadata": {},
     "output_type": "execute_result"
    }
   ],
   "source": [
    "type(s)"
   ]
  },
  {
   "cell_type": "code",
   "execution_count": 28,
   "id": "5027136a",
   "metadata": {},
   "outputs": [
    {
     "name": "stdout",
     "output_type": "stream",
     "text": [
      "45 srk this is my name \n"
     ]
    }
   ],
   "source": [
    "print(a,b,s)"
   ]
  },
  {
   "cell_type": "code",
   "execution_count": 29,
   "id": "193979e4",
   "metadata": {},
   "outputs": [],
   "source": [
    "b  = '\"fsdf\"'"
   ]
  },
  {
   "cell_type": "code",
   "execution_count": 30,
   "id": "f46d2249",
   "metadata": {},
   "outputs": [
    {
     "data": {
      "text/plain": [
       "'\"fsdf\"'"
      ]
     },
     "execution_count": 30,
     "metadata": {},
     "output_type": "execute_result"
    }
   ],
   "source": [
    "b"
   ]
  },
  {
   "cell_type": "code",
   "execution_count": 31,
   "id": "ccce88e4",
   "metadata": {},
   "outputs": [
    {
     "name": "stdout",
     "output_type": "stream",
     "text": [
      "\"fsdf\"\n"
     ]
    }
   ],
   "source": [
    "print(b)"
   ]
  },
  {
   "cell_type": "code",
   "execution_count": 34,
   "id": "eff6523c",
   "metadata": {},
   "outputs": [],
   "source": [
    "_b = \"hghg\""
   ]
  },
  {
   "cell_type": "code",
   "execution_count": 36,
   "id": "20f44987",
   "metadata": {},
   "outputs": [
    {
     "data": {
      "text/plain": [
       "'hghg'"
      ]
     },
     "execution_count": 36,
     "metadata": {},
     "output_type": "execute_result"
    }
   ],
   "source": [
    "_b"
   ]
  },
  {
   "cell_type": "code",
   "execution_count": 37,
   "id": "b7677ebf",
   "metadata": {},
   "outputs": [],
   "source": [
    "B =\"hjhg\""
   ]
  },
  {
   "cell_type": "code",
   "execution_count": 38,
   "id": "f246fbc6",
   "metadata": {},
   "outputs": [
    {
     "data": {
      "text/plain": [
       "'hjhg'"
      ]
     },
     "execution_count": 38,
     "metadata": {},
     "output_type": "execute_result"
    }
   ],
   "source": [
    "B"
   ]
  },
  {
   "cell_type": "code",
   "execution_count": 39,
   "id": "0a2eb8dd",
   "metadata": {},
   "outputs": [
    {
     "ename": "SyntaxError",
     "evalue": "invalid syntax (Temp/ipykernel_15188/3309275161.py, line 1)",
     "output_type": "error",
     "traceback": [
      "\u001b[1;36m  File \u001b[1;32m\"C:\\Users\\SHAHRU~1\\AppData\\Local\\Temp/ipykernel_15188/3309275161.py\"\u001b[1;36m, line \u001b[1;32m1\u001b[0m\n\u001b[1;33m    1b = 3215645\u001b[0m\n\u001b[1;37m     ^\u001b[0m\n\u001b[1;31mSyntaxError\u001b[0m\u001b[1;31m:\u001b[0m invalid syntax\n"
     ]
    }
   ],
   "source": [
    "1b = 3215645"
   ]
  },
  {
   "cell_type": "code",
   "execution_count": 40,
   "id": "215416b3",
   "metadata": {},
   "outputs": [
    {
     "ename": "SyntaxError",
     "evalue": "invalid syntax (Temp/ipykernel_15188/3731183111.py, line 1)",
     "output_type": "error",
     "traceback": [
      "\u001b[1;36m  File \u001b[1;32m\"C:\\Users\\SHAHRU~1\\AppData\\Local\\Temp/ipykernel_15188/3731183111.py\"\u001b[1;36m, line \u001b[1;32m1\u001b[0m\n\u001b[1;33m    b& = 564\u001b[0m\n\u001b[1;37m       ^\u001b[0m\n\u001b[1;31mSyntaxError\u001b[0m\u001b[1;31m:\u001b[0m invalid syntax\n"
     ]
    }
   ],
   "source": [
    "b& = 564"
   ]
  },
  {
   "cell_type": "code",
   "execution_count": 53,
   "id": "b38e3ff5",
   "metadata": {},
   "outputs": [],
   "source": [
    "name = \"shahrukh khan\" \n",
    "userid = 5465\n",
    "password = \"in52564\"\n",
    "email = \"srkpathan9044@gmail.com\""
   ]
  },
  {
   "cell_type": "code",
   "execution_count": 47,
   "id": "009b3cf3",
   "metadata": {},
   "outputs": [
    {
     "data": {
      "text/plain": [
       "45"
      ]
     },
     "execution_count": 47,
     "metadata": {},
     "output_type": "execute_result"
    }
   ],
   "source": [
    "a"
   ]
  },
  {
   "cell_type": "code",
   "execution_count": 45,
   "id": "0c536d18",
   "metadata": {},
   "outputs": [
    {
     "data": {
      "text/plain": [
       "'shahrukh khan'"
      ]
     },
     "execution_count": 45,
     "metadata": {},
     "output_type": "execute_result"
    }
   ],
   "source": [
    "name"
   ]
  },
  {
   "cell_type": "code",
   "execution_count": 46,
   "id": "4eca6146",
   "metadata": {},
   "outputs": [
    {
     "data": {
      "text/plain": [
       "5465"
      ]
     },
     "execution_count": 46,
     "metadata": {},
     "output_type": "execute_result"
    }
   ],
   "source": [
    "userid"
   ]
  },
  {
   "cell_type": "code",
   "execution_count": 54,
   "id": "b828f9a9",
   "metadata": {},
   "outputs": [],
   "source": [
    "a = 1.6"
   ]
  },
  {
   "cell_type": "code",
   "execution_count": 55,
   "id": "7885f76b",
   "metadata": {},
   "outputs": [
    {
     "data": {
      "text/plain": [
       "float"
      ]
     },
     "execution_count": 55,
     "metadata": {},
     "output_type": "execute_result"
    }
   ],
   "source": [
    "type(a)"
   ]
  },
  {
   "cell_type": "code",
   "execution_count": 56,
   "id": "76099fae",
   "metadata": {},
   "outputs": [],
   "source": [
    "a= True\n",
    "b=False"
   ]
  },
  {
   "cell_type": "code",
   "execution_count": 57,
   "id": "d4fc9a71",
   "metadata": {},
   "outputs": [
    {
     "data": {
      "text/plain": [
       "True"
      ]
     },
     "execution_count": 57,
     "metadata": {},
     "output_type": "execute_result"
    }
   ],
   "source": [
    "a"
   ]
  },
  {
   "cell_type": "code",
   "execution_count": 58,
   "id": "b2ac9552",
   "metadata": {},
   "outputs": [
    {
     "data": {
      "text/plain": [
       "bool"
      ]
     },
     "execution_count": 58,
     "metadata": {},
     "output_type": "execute_result"
    }
   ],
   "source": [
    "type(a)"
   ]
  },
  {
   "cell_type": "code",
   "execution_count": 59,
   "id": "cee59d95",
   "metadata": {},
   "outputs": [
    {
     "ename": "NameError",
     "evalue": "name 'true' is not defined",
     "output_type": "error",
     "traceback": [
      "\u001b[1;31m---------------------------------------------------------------------------\u001b[0m",
      "\u001b[1;31mNameError\u001b[0m                                 Traceback (most recent call last)",
      "\u001b[1;32mC:\\Users\\SHAHRU~1\\AppData\\Local\\Temp/ipykernel_15188/448341179.py\u001b[0m in \u001b[0;36m<module>\u001b[1;34m\u001b[0m\n\u001b[1;32m----> 1\u001b[1;33m \u001b[0ma\u001b[0m\u001b[1;33m=\u001b[0m \u001b[0mtrue\u001b[0m\u001b[1;33m\u001b[0m\u001b[1;33m\u001b[0m\u001b[0m\n\u001b[0m\u001b[0;32m      2\u001b[0m \u001b[0mb\u001b[0m\u001b[1;33m=\u001b[0m\u001b[0mfalse\u001b[0m\u001b[1;33m\u001b[0m\u001b[1;33m\u001b[0m\u001b[0m\n",
      "\u001b[1;31mNameError\u001b[0m: name 'true' is not defined"
     ]
    }
   ],
   "source": [
    "a= true\n",
    "b=false"
   ]
  },
  {
   "cell_type": "code",
   "execution_count": 60,
   "id": "5afcc4cd",
   "metadata": {},
   "outputs": [
    {
     "name": "stdout",
     "output_type": "stream",
     "text": [
      "4\n",
      "0\n"
     ]
    }
   ],
   "source": [
    "print(True + True + True + False + True  )\n",
    "print(False - True+ True ) "
   ]
  },
  {
   "cell_type": "code",
   "execution_count": 61,
   "id": "93bd4078",
   "metadata": {},
   "outputs": [
    {
     "data": {
      "text/plain": [
       "2"
      ]
     },
     "execution_count": 61,
     "metadata": {},
     "output_type": "execute_result"
    }
   ],
   "source": [
    "True + True -False"
   ]
  },
  {
   "cell_type": "code",
   "execution_count": 62,
   "id": "ff4f48e8",
   "metadata": {},
   "outputs": [
    {
     "ename": "ZeroDivisionError",
     "evalue": "division by zero",
     "output_type": "error",
     "traceback": [
      "\u001b[1;31m---------------------------------------------------------------------------\u001b[0m",
      "\u001b[1;31mZeroDivisionError\u001b[0m                         Traceback (most recent call last)",
      "\u001b[1;32mC:\\Users\\SHAHRU~1\\AppData\\Local\\Temp/ipykernel_15188/2917913318.py\u001b[0m in \u001b[0;36m<module>\u001b[1;34m\u001b[0m\n\u001b[1;32m----> 1\u001b[1;33m \u001b[1;32mTrue\u001b[0m \u001b[1;33m/\u001b[0m \u001b[1;32mFalse\u001b[0m\u001b[1;33m\u001b[0m\u001b[1;33m\u001b[0m\u001b[0m\n\u001b[0m",
      "\u001b[1;31mZeroDivisionError\u001b[0m: division by zero"
     ]
    }
   ],
   "source": [
    "True / False"
   ]
  },
  {
   "cell_type": "code",
   "execution_count": 64,
   "id": "79e850b2",
   "metadata": {},
   "outputs": [],
   "source": [
    "n  = 45 + 6j # 45 is a real part,6 is a imaginary part,j is notation for imagenary part,j is only nbotation in python programming not other value like abhgsdf not notation\n",
    "m = 56 + 8j"
   ]
  },
  {
   "cell_type": "code",
   "execution_count": 65,
   "id": "2a6c1231",
   "metadata": {},
   "outputs": [
    {
     "data": {
      "text/plain": [
       "complex"
      ]
     },
     "execution_count": 65,
     "metadata": {},
     "output_type": "execute_result"
    }
   ],
   "source": [
    "type(n) #comnination is complex part"
   ]
  },
  {
   "cell_type": "code",
   "execution_count": 66,
   "id": "a7fac396",
   "metadata": {},
   "outputs": [
    {
     "data": {
      "text/plain": [
       "(45+6j)"
      ]
     },
     "execution_count": 66,
     "metadata": {},
     "output_type": "execute_result"
    }
   ],
   "source": [
    "n"
   ]
  },
  {
   "cell_type": "code",
   "execution_count": 67,
   "id": "303fc33c",
   "metadata": {},
   "outputs": [
    {
     "data": {
      "text/plain": [
       "45.0"
      ]
     },
     "execution_count": 67,
     "metadata": {},
     "output_type": "execute_result"
    }
   ],
   "source": [
    "n.real # self upcasting"
   ]
  },
  {
   "cell_type": "code",
   "execution_count": 71,
   "id": "6e79b0fe",
   "metadata": {},
   "outputs": [
    {
     "data": {
      "text/plain": [
       "6.0"
      ]
     },
     "execution_count": 71,
     "metadata": {},
     "output_type": "execute_result"
    }
   ],
   "source": [
    "n.imag"
   ]
  },
  {
   "cell_type": "code",
   "execution_count": 72,
   "id": "f68a436b",
   "metadata": {},
   "outputs": [
    {
     "data": {
      "text/plain": [
       "(2472+696j)"
      ]
     },
     "execution_count": 72,
     "metadata": {},
     "output_type": "execute_result"
    }
   ],
   "source": [
    "n*m"
   ]
  },
  {
   "cell_type": "code",
   "execution_count": 73,
   "id": "20f5d971",
   "metadata": {},
   "outputs": [
    {
     "data": {
      "text/plain": [
       "str"
      ]
     },
     "execution_count": 73,
     "metadata": {},
     "output_type": "execute_result"
    }
   ],
   "source": [
    "b = \"sdf\"\n",
    "type(b)"
   ]
  },
  {
   "cell_type": "code",
   "execution_count": 74,
   "id": "448533b9",
   "metadata": {},
   "outputs": [
    {
     "ename": "TypeError",
     "evalue": "unsupported operand type(s) for +: 'int' and 'str'",
     "output_type": "error",
     "traceback": [
      "\u001b[1;31m---------------------------------------------------------------------------\u001b[0m",
      "\u001b[1;31mTypeError\u001b[0m                                 Traceback (most recent call last)",
      "\u001b[1;32mC:\\Users\\SHAHRU~1\\AppData\\Local\\Temp/ipykernel_15188/1876037009.py\u001b[0m in \u001b[0;36m<module>\u001b[1;34m\u001b[0m\n\u001b[1;32m----> 1\u001b[1;33m \u001b[1;36m1\u001b[0m\u001b[1;33m+\u001b[0m \u001b[1;34m\"sudh\"\u001b[0m\u001b[1;33m\u001b[0m\u001b[1;33m\u001b[0m\u001b[0m\n\u001b[0m",
      "\u001b[1;31mTypeError\u001b[0m: unsupported operand type(s) for +: 'int' and 'str'"
     ]
    }
   ],
   "source": [
    "1+ \"sudh\""
   ]
  },
  {
   "cell_type": "code",
   "execution_count": 76,
   "id": "11a40765",
   "metadata": {},
   "outputs": [
    {
     "data": {
      "text/plain": [
       "'1sudh'"
      ]
     },
     "execution_count": 76,
     "metadata": {},
     "output_type": "execute_result"
    }
   ],
   "source": [
    "\"1\"+ \"sudh\" # that is called the concatination operation"
   ]
  },
  {
   "cell_type": "code",
   "execution_count": 77,
   "id": "5928d8b0",
   "metadata": {},
   "outputs": [
    {
     "data": {
      "text/plain": [
       "6.25"
      ]
     },
     "execution_count": 77,
     "metadata": {},
     "output_type": "execute_result"
    }
   ],
   "source": [
    "1+ 5.25 # that is called upcasting"
   ]
  },
  {
   "cell_type": "code",
   "execution_count": 78,
   "id": "d36e18a8",
   "metadata": {},
   "outputs": [
    {
     "data": {
      "text/plain": [
       "'srksrksrk'"
      ]
     },
     "execution_count": 78,
     "metadata": {},
     "output_type": "execute_result"
    }
   ],
   "source": [
    "\"srk\"+\"srk\"+\"srk\""
   ]
  },
  {
   "cell_type": "code",
   "execution_count": 80,
   "id": "1fee9702",
   "metadata": {},
   "outputs": [
    {
     "data": {
      "text/plain": [
       "'srksrksrk'"
      ]
     },
     "execution_count": 80,
     "metadata": {},
     "output_type": "execute_result"
    }
   ],
   "source": [
    "\"srk\" * 3"
   ]
  },
  {
   "cell_type": "code",
   "execution_count": 81,
   "id": "98f1936b",
   "metadata": {},
   "outputs": [
    {
     "ename": "TypeError",
     "evalue": "unsupported operand type(s) for /: 'str' and 'int'",
     "output_type": "error",
     "traceback": [
      "\u001b[1;31m---------------------------------------------------------------------------\u001b[0m",
      "\u001b[1;31mTypeError\u001b[0m                                 Traceback (most recent call last)",
      "\u001b[1;32mC:\\Users\\SHAHRU~1\\AppData\\Local\\Temp/ipykernel_15188/2300317551.py\u001b[0m in \u001b[0;36m<module>\u001b[1;34m\u001b[0m\n\u001b[1;32m----> 1\u001b[1;33m \u001b[1;34m\"srk\"\u001b[0m\u001b[1;33m/\u001b[0m\u001b[1;36m3\u001b[0m\u001b[1;33m\u001b[0m\u001b[1;33m\u001b[0m\u001b[0m\n\u001b[0m",
      "\u001b[1;31mTypeError\u001b[0m: unsupported operand type(s) for /: 'str' and 'int'"
     ]
    }
   ],
   "source": [
    "\"srk\"/3"
   ]
  },
  {
   "cell_type": "code",
   "execution_count": 82,
   "id": "811f435d",
   "metadata": {},
   "outputs": [
    {
     "ename": "TypeError",
     "evalue": "unsupported operand type(s) for -: 'str' and 'str'",
     "output_type": "error",
     "traceback": [
      "\u001b[1;31m---------------------------------------------------------------------------\u001b[0m",
      "\u001b[1;31mTypeError\u001b[0m                                 Traceback (most recent call last)",
      "\u001b[1;32mC:\\Users\\SHAHRU~1\\AppData\\Local\\Temp/ipykernel_15188/1628959392.py\u001b[0m in \u001b[0;36m<module>\u001b[1;34m\u001b[0m\n\u001b[1;32m----> 1\u001b[1;33m \u001b[1;34m\"srk\"\u001b[0m \u001b[1;33m-\u001b[0m \u001b[1;34m\"srk\"\u001b[0m\u001b[1;33m\u001b[0m\u001b[1;33m\u001b[0m\u001b[0m\n\u001b[0m",
      "\u001b[1;31mTypeError\u001b[0m: unsupported operand type(s) for -: 'str' and 'str'"
     ]
    }
   ],
   "source": [
    "\"srk\" - \"srk\""
   ]
  },
  {
   "cell_type": "code",
   "execution_count": 83,
   "id": "8f1d6467",
   "metadata": {},
   "outputs": [
    {
     "data": {
      "text/plain": [
       "25"
      ]
     },
     "execution_count": 83,
     "metadata": {},
     "output_type": "execute_result"
    }
   ],
   "source": [
    "int(\"25\")"
   ]
  },
  {
   "cell_type": "code",
   "execution_count": 84,
   "id": "61ca0c40",
   "metadata": {},
   "outputs": [
    {
     "ename": "ValueError",
     "evalue": "invalid literal for int() with base 10: 'hjgg'",
     "output_type": "error",
     "traceback": [
      "\u001b[1;31m---------------------------------------------------------------------------\u001b[0m",
      "\u001b[1;31mValueError\u001b[0m                                Traceback (most recent call last)",
      "\u001b[1;32mC:\\Users\\SHAHRU~1\\AppData\\Local\\Temp/ipykernel_15188/214180420.py\u001b[0m in \u001b[0;36m<module>\u001b[1;34m\u001b[0m\n\u001b[1;32m----> 1\u001b[1;33m \u001b[0mint\u001b[0m\u001b[1;33m(\u001b[0m\u001b[1;34m\"hjgg\"\u001b[0m\u001b[1;33m)\u001b[0m\u001b[1;33m\u001b[0m\u001b[1;33m\u001b[0m\u001b[0m\n\u001b[0m",
      "\u001b[1;31mValueError\u001b[0m: invalid literal for int() with base 10: 'hjgg'"
     ]
    }
   ],
   "source": [
    "int(\"hjgg\")"
   ]
  },
  {
   "cell_type": "code",
   "execution_count": 85,
   "id": "995b9ab3",
   "metadata": {},
   "outputs": [
    {
     "data": {
      "text/plain": [
       "'hgvyf'"
      ]
     },
     "execution_count": 85,
     "metadata": {},
     "output_type": "execute_result"
    }
   ],
   "source": [
    "str(\"hgvyf\")"
   ]
  },
  {
   "cell_type": "code",
   "execution_count": 86,
   "id": "4cf884e8",
   "metadata": {},
   "outputs": [
    {
     "ename": "ValueError",
     "evalue": "invalid literal for int() with base 10: '34645ghffyb'",
     "output_type": "error",
     "traceback": [
      "\u001b[1;31m---------------------------------------------------------------------------\u001b[0m",
      "\u001b[1;31mValueError\u001b[0m                                Traceback (most recent call last)",
      "\u001b[1;32mC:\\Users\\SHAHRU~1\\AppData\\Local\\Temp/ipykernel_15188/432660779.py\u001b[0m in \u001b[0;36m<module>\u001b[1;34m\u001b[0m\n\u001b[1;32m----> 1\u001b[1;33m \u001b[0mint\u001b[0m\u001b[1;33m(\u001b[0m\u001b[1;34m\"34645ghffyb\"\u001b[0m\u001b[1;33m)\u001b[0m\u001b[1;33m\u001b[0m\u001b[1;33m\u001b[0m\u001b[0m\n\u001b[0m",
      "\u001b[1;31mValueError\u001b[0m: invalid literal for int() with base 10: '34645ghffyb'"
     ]
    }
   ],
   "source": [
    "int(\"34645ghffyb\")"
   ]
  },
  {
   "cell_type": "code",
   "execution_count": 87,
   "id": "4e0df82a",
   "metadata": {},
   "outputs": [],
   "source": [
    "a = 10 "
   ]
  },
  {
   "cell_type": "code",
   "execution_count": null,
   "id": "0a758a8e",
   "metadata": {},
   "outputs": [],
   "source": [
    "a = input(\"enter a interger \") # input is a inbuilt function in python and is for when we wanna to input data by user,by which able to take a input from the user"
   ]
  },
  {
   "cell_type": "code",
   "execution_count": 88,
   "id": "e094a0ce",
   "metadata": {},
   "outputs": [
    {
     "name": "stdout",
     "output_type": "stream",
     "text": [
      "jkdfhvuh\n"
     ]
    }
   ],
   "source": [
    "a = input()"
   ]
  },
  {
   "cell_type": "code",
   "execution_count": 89,
   "id": "939f8334",
   "metadata": {},
   "outputs": [
    {
     "data": {
      "text/plain": [
       "'jkdfhvuh'"
      ]
     },
     "execution_count": 89,
     "metadata": {},
     "output_type": "execute_result"
    }
   ],
   "source": [
    "a"
   ]
  },
  {
   "cell_type": "code",
   "execution_count": 91,
   "id": "35c046cc",
   "metadata": {},
   "outputs": [
    {
     "name": "stdout",
     "output_type": "stream",
     "text": [
      "enter a integer24551\n"
     ]
    }
   ],
   "source": [
    "a = input(\"enter a integer\")"
   ]
  },
  {
   "cell_type": "code",
   "execution_count": 92,
   "id": "56fbec9c",
   "metadata": {},
   "outputs": [
    {
     "data": {
      "text/plain": [
       "'24551'"
      ]
     },
     "execution_count": 92,
     "metadata": {},
     "output_type": "execute_result"
    }
   ],
   "source": [
    "a"
   ]
  },
  {
   "cell_type": "code",
   "execution_count": 93,
   "id": "ee67a098",
   "metadata": {},
   "outputs": [
    {
     "data": {
      "text/plain": [
       "str"
      ]
     },
     "execution_count": 93,
     "metadata": {},
     "output_type": "execute_result"
    }
   ],
   "source": [
    "type(a)"
   ]
  },
  {
   "cell_type": "code",
   "execution_count": 112,
   "id": "bbd440de",
   "metadata": {},
   "outputs": [
    {
     "name": "stdout",
     "output_type": "stream",
     "text": [
      "56\n",
      "655\n",
      "99\n"
     ]
    }
   ],
   "source": [
    "a = int(input())\n",
    "b = int(input())\n",
    "c = int(input())"
   ]
  },
  {
   "cell_type": "code",
   "execution_count": 113,
   "id": "4fb5bf22",
   "metadata": {},
   "outputs": [
    {
     "data": {
      "text/plain": [
       "56"
      ]
     },
     "execution_count": 113,
     "metadata": {},
     "output_type": "execute_result"
    }
   ],
   "source": [
    "a"
   ]
  },
  {
   "cell_type": "code",
   "execution_count": 114,
   "id": "011862e4",
   "metadata": {},
   "outputs": [
    {
     "data": {
      "text/plain": [
       "655"
      ]
     },
     "execution_count": 114,
     "metadata": {},
     "output_type": "execute_result"
    }
   ],
   "source": [
    "b"
   ]
  },
  {
   "cell_type": "code",
   "execution_count": 115,
   "id": "2479e949",
   "metadata": {},
   "outputs": [
    {
     "data": {
      "text/plain": [
       "99"
      ]
     },
     "execution_count": 115,
     "metadata": {},
     "output_type": "execute_result"
    }
   ],
   "source": [
    "c"
   ]
  },
  {
   "cell_type": "code",
   "execution_count": 118,
   "id": "6ebe4e63",
   "metadata": {},
   "outputs": [
    {
     "name": "stdout",
     "output_type": "stream",
     "text": [
      "this is my a\n",
      "645\n"
     ]
    }
   ],
   "source": [
    "a = input(\"this is my a\\n\")"
   ]
  },
  {
   "cell_type": "code",
   "execution_count": 119,
   "id": "d859d7c4",
   "metadata": {},
   "outputs": [
    {
     "data": {
      "text/plain": [
       "'645'"
      ]
     },
     "execution_count": 119,
     "metadata": {},
     "output_type": "execute_result"
    }
   ],
   "source": [
    "a"
   ]
  },
  {
   "cell_type": "code",
   "execution_count": 137,
   "id": "d0729757",
   "metadata": {},
   "outputs": [
    {
     "name": "stdout",
     "output_type": "stream",
     "text": [
      "this is my var a 45\n",
      "this is my var b 56\n",
      "this is my var c 34\n"
     ]
    }
   ],
   "source": [
    "a = int(input(\"this is my var a \"))\n",
    "b = int(input(\"this is my var b \"))\n",
    "c = int(input(\"this is my var c \"))\n",
    "o = a+b/c\n",
    "o1 = o + 78 + 6j\n",
    "str(o1) + \"sudh\""
   ]
  },
  {
   "cell_type": "code",
   "execution_count": 138,
   "id": "6ad806f3",
   "metadata": {},
   "outputs": [
    {
     "data": {
      "text/plain": [
       "(45, 56, 34)"
      ]
     },
     "execution_count": 138,
     "metadata": {},
     "output_type": "execute_result"
    }
   ],
   "source": [
    "a,b,c"
   ]
  },
  {
   "cell_type": "code",
   "execution_count": 139,
   "id": "09d24e8b",
   "metadata": {},
   "outputs": [
    {
     "data": {
      "text/plain": [
       "46.64705882352941"
      ]
     },
     "execution_count": 139,
     "metadata": {},
     "output_type": "execute_result"
    }
   ],
   "source": [
    "o = a+b/c\n",
    "o"
   ]
  },
  {
   "cell_type": "code",
   "execution_count": 140,
   "id": "15b57e14",
   "metadata": {},
   "outputs": [],
   "source": [
    "o1 = o + 78 + 6j"
   ]
  },
  {
   "cell_type": "code",
   "execution_count": 141,
   "id": "39c0e68b",
   "metadata": {},
   "outputs": [
    {
     "data": {
      "text/plain": [
       "(124.64705882352942+6j)"
      ]
     },
     "execution_count": 141,
     "metadata": {},
     "output_type": "execute_result"
    }
   ],
   "source": [
    "o1"
   ]
  },
  {
   "cell_type": "code",
   "execution_count": 142,
   "id": "a624270f",
   "metadata": {},
   "outputs": [
    {
     "data": {
      "text/plain": [
       "complex"
      ]
     },
     "execution_count": 142,
     "metadata": {},
     "output_type": "execute_result"
    }
   ],
   "source": [
    "type(o1)"
   ]
  },
  {
   "cell_type": "code",
   "execution_count": 143,
   "id": "db7f270d",
   "metadata": {},
   "outputs": [
    {
     "ename": "TypeError",
     "evalue": "unsupported operand type(s) for +: 'complex' and 'str'",
     "output_type": "error",
     "traceback": [
      "\u001b[1;31m---------------------------------------------------------------------------\u001b[0m",
      "\u001b[1;31mTypeError\u001b[0m                                 Traceback (most recent call last)",
      "\u001b[1;32mC:\\Users\\SHAHRU~1\\AppData\\Local\\Temp/ipykernel_15188/1168071373.py\u001b[0m in \u001b[0;36m<module>\u001b[1;34m\u001b[0m\n\u001b[1;32m----> 1\u001b[1;33m \u001b[0mo1\u001b[0m \u001b[1;33m+\u001b[0m \u001b[1;34m\"srk\"\u001b[0m\u001b[1;33m\u001b[0m\u001b[1;33m\u001b[0m\u001b[0m\n\u001b[0m",
      "\u001b[1;31mTypeError\u001b[0m: unsupported operand type(s) for +: 'complex' and 'str'"
     ]
    }
   ],
   "source": [
    "o1 + \"srk\" #its a heterogeneous data type"
   ]
  },
  {
   "cell_type": "code",
   "execution_count": 144,
   "id": "0a28a223",
   "metadata": {},
   "outputs": [
    {
     "data": {
      "text/plain": [
       "'(124.64705882352942+6j)srk'"
      ]
     },
     "execution_count": 144,
     "metadata": {},
     "output_type": "execute_result"
    }
   ],
   "source": [
    "str(o1)+\"srk\""
   ]
  },
  {
   "cell_type": "code",
   "execution_count": 145,
   "id": "b009c072",
   "metadata": {},
   "outputs": [
    {
     "name": "stdout",
     "output_type": "stream",
     "text": [
      "input a number lesser then 34 -- 56\n"
     ]
    }
   ],
   "source": [
    "a = int(input(\"input a number lesser then 34 -- \"))"
   ]
  },
  {
   "cell_type": "code",
   "execution_count": 7,
   "id": "19ae50ee",
   "metadata": {},
   "outputs": [
    {
     "name": "stdout",
     "output_type": "stream",
     "text": [
      "input a number56\n",
      "data greathan so i am not satisfy\n"
     ]
    }
   ],
   "source": [
    "a = int(input(\"input a number\"))\n",
    "if a < 34 :\n",
    "    print(\"data input lesthan from 34 i am satisfy \")\n",
    "        \n",
    "else :\n",
    "    print(\"data greathan so i am not satisfy\")"
   ]
  },
  {
   "cell_type": "code",
   "execution_count": 8,
   "id": "c44b3e79",
   "metadata": {},
   "outputs": [],
   "source": [
    "if a <34 :\n",
    "    pass"
   ]
  },
  {
   "cell_type": "code",
   "execution_count": 12,
   "id": "6c8e3b1c",
   "metadata": {},
   "outputs": [
    {
     "name": "stdout",
     "output_type": "stream",
     "text": [
      "input a number500\n",
      "data greathan so i am not satisfy\n"
     ]
    }
   ],
   "source": [
    "a = int(input(\"input a number\"))\n",
    "if a < 34 :\n",
    "    print(\"data input lesthan from 34 i am satisfy \")\n",
    "elif a< 100 :\n",
    "    print(\"my data less than 100\")\n",
    "    \n",
    "else :\n",
    "    print(\"data greathan so i am not satisfy\")"
   ]
  },
  {
   "cell_type": "code",
   "execution_count": 15,
   "id": "824c0865",
   "metadata": {},
   "outputs": [
    {
     "name": "stdout",
     "output_type": "stream",
     "text": [
      "input a salary5000\n",
      "i buy a car\n"
     ]
    }
   ],
   "source": [
    "salary = int(input(\"input a salary\"))\n",
    "if salary > 1000000:\n",
    "    print (\"i buy a home\")\n",
    "elif salary >500000:\n",
    "    print(\"i buy a car\")\n",
    "elif salary > 100000:\n",
    "    print(\"i buy a bike\")"
   ]
  },
  {
   "cell_type": "code",
   "execution_count": 30,
   "id": "81c72b6e",
   "metadata": {},
   "outputs": [
    {
     "name": "stdout",
     "output_type": "stream",
     "text": [
      "input a salary5000000000\n",
      "i buy a home\n",
      "srk home\n"
     ]
    }
   ],
   "source": [
    "salary = int(input(\"input a salary\")) # code start line wise line\n",
    "if salary > 1000:\n",
    "    print (\"i buy a home\")\n",
    "    print(\"srk home\")\n",
    "elif salary >500:\n",
    "    print(\"i buy a car\")\n",
    "elif salary > 100:\n",
    "    print(\"i buy a bike\")\n",
    "else:\n",
    "    print(\"i am go for saving\")\n"
   ]
  },
  {
   "cell_type": "code",
   "execution_count": 31,
   "id": "80679b0a",
   "metadata": {},
   "outputs": [
    {
     "name": "stdout",
     "output_type": "stream",
     "text": [
      "input a salary100000000\n",
      "i buy a home\n",
      "srk\n",
      "i buy a santro \n"
     ]
    }
   ],
   "source": [
    "salary = int(input(\"input a salary\")) # code start line wise line\n",
    "if salary > 1000:\n",
    "    print (\"i buy a home\")\n",
    "    print(\"srk\")\n",
    "    if salary >50000 :\n",
    "        print(\"i buy a santro \")\n",
    "    elif salary >100000:\n",
    "        print(\" ibuy a farari\")\n",
    "    else:\n",
    "        print(\"i am not like\")\n",
    "elif salary >500:\n",
    "    print(\"i buy a car\")\n",
    "elif salary > 100:\n",
    "    print(\"i buy a bike\")\n",
    "else:\n",
    "    print(\"i am go for saving\")\n"
   ]
  },
  {
   "cell_type": "code",
   "execution_count": null,
   "id": "7b23b0a5",
   "metadata": {},
   "outputs": [],
   "source": [
    "salary = int(input(\"input a salary\")) # code start, line wise line\n",
    "if salary > 1000:\n",
    "    print (\"i buy a home\")           # multiple hararkey\n",
    "    print(\"srk\")\n",
    "    if salary >5000 :\n",
    "        print(\"i buy a santro \")\n",
    "        if True:\n",
    "            print(\"false code\") # not work because of execute line wise\n",
    "    elif salary >10000:\n",
    "        print(\" i buy a farari\") # not work because of execute line wise\n",
    "    else:\n",
    "        print(\"i am not like\")\n",
    "elif salary >500:\n",
    "    print(\"i buy a car\")\n",
    "elif salary > 100:\n",
    "    print(\"i buy a bike\")\n",
    "else:\n",
    "    print(\"i am go for saving\")\n"
   ]
  },
  {
   "cell_type": "code",
   "execution_count": 9,
   "id": "6d9c70bc",
   "metadata": {},
   "outputs": [
    {
     "name": "stdout",
     "output_type": "stream",
     "text": [
      "input a salary1100\n",
      "i buy a home\n",
      "srk\n",
      " i buy a farari\n"
     ]
    }
   ],
   "source": [
    "salary = int(input(\"input a salary\")) # code start, line wise line\n",
    "if salary > 1000:\n",
    "    print (\"i buy a home\")           # multiple hararkey\n",
    "    print(\"srk\")\n",
    "    if salary <600 :\n",
    "        print(\"i buy a santro \")\n",
    "        if True:\n",
    "            print(\"false code\") # not work because of execute line wise\n",
    "    elif salary >700:\n",
    "        print(\" i buy a farari\") # not work because of execute line wise\n",
    "    else:\n",
    "        print(\"i am not like\")\n",
    "elif salary >500:\n",
    "    print(\"i buy a car\")\n",
    "elif salary > 100:\n",
    "    print(\"i buy a bike\")\n",
    "else:\n",
    "    print(\"i am go for saving\")\n"
   ]
  },
  {
   "cell_type": "code",
   "execution_count": 11,
   "id": "2989a26c",
   "metadata": {},
   "outputs": [
    {
     "data": {
      "text/plain": [
       "True"
      ]
     },
     "execution_count": 11,
     "metadata": {},
     "output_type": "execute_result"
    }
   ],
   "source": [
    "salary > 110"
   ]
  },
  {
   "cell_type": "code",
   "execution_count": 16,
   "id": "5fdf5152",
   "metadata": {},
   "outputs": [
    {
     "name": "stdout",
     "output_type": "stream",
     "text": [
      "input a salary60000\n",
      "i buy a home\n",
      "srk\n",
      "i buy a santro \n",
      "false code\n",
      " i buy a farari\n",
      "i am cool\n"
     ]
    }
   ],
   "source": [
    "salary = int(input(\"input a salary\")) # code start, line wise line\n",
    "if salary > 1000:\n",
    "    print (\"i buy a home\")           # multiple hararkey\n",
    "    print(\"srk\")\n",
    "    if salary >6000 :\n",
    "        print(\"i buy a santro \")\n",
    "        if True:\n",
    "            print(\"false code\") # not work because of execute line wise\n",
    "    if salary >7000:\n",
    "        print(\" i buy a farari\")\n",
    "    if salary> 50000:\n",
    "        print(\"i am cool\")# not work because of execute line wise\n",
    "    else:\n",
    "        print(\"i am not like\")\n",
    "elif salary >500:\n",
    "    print(\"i buy a car\")\n",
    "elif salary > 100:\n",
    "    print(\"i buy a bike\")\n",
    "else:\n",
    "    print(\"i am go for saving\")\n"
   ]
  },
  {
   "cell_type": "code",
   "execution_count": 17,
   "id": "1c95fc00",
   "metadata": {},
   "outputs": [
    {
     "name": "stdout",
     "output_type": "stream",
     "text": [
      "1965035541776\n",
      "1965035542192\n"
     ]
    }
   ],
   "source": [
    "a = 56.65\n",
    "b = 45.89\n",
    "print(id(a))\n",
    "print(id(b))"
   ]
  },
  {
   "cell_type": "code",
   "execution_count": null,
   "id": "bb5d203e",
   "metadata": {},
   "outputs": [],
   "source": [
    "void test(int i , float j ){\n",
    "    \n",
    "}"
   ]
  },
  {
   "cell_type": "code",
   "execution_count": null,
   "id": "89dfedb1",
   "metadata": {},
   "outputs": [],
   "source": [
    "name = \"sudh\"\n",
    "test = \"dfsfsf\""
   ]
  },
  {
   "cell_type": "code",
   "execution_count": null,
   "id": "fb95be62",
   "metadata": {},
   "outputs": [],
   "source": [
    "def test(name = str  , test = int):\n",
    "    name = \"fsfds\"\n",
    "    test= \"fsdfs\"\n",
    "    print(name, test)"
   ]
  },
  {
   "cell_type": "code",
   "execution_count": null,
   "id": "3a6dfc82",
   "metadata": {},
   "outputs": [],
   "source": [
    "test()"
   ]
  },
  {
   "cell_type": "code",
   "execution_count": null,
   "id": "b8df8e32",
   "metadata": {},
   "outputs": [],
   "source": [
    "def test1(name , id1):\n",
    "    \n",
    "    print(test(),name , id1)"
   ]
  },
  {
   "cell_type": "code",
   "execution_count": null,
   "id": "0f2e078d",
   "metadata": {},
   "outputs": [],
   "source": [
    "test1(\"Sds\",\"ds\")"
   ]
  },
  {
   "cell_type": "code",
   "execution_count": null,
   "id": "a8875a70",
   "metadata": {},
   "outputs": [],
   "source": [
    "def test():\n",
    "        return \"dasas\""
   ]
  },
  {
   "cell_type": "code",
   "execution_count": null,
   "id": "3894a2ff",
   "metadata": {},
   "outputs": [],
   "source": []
  },
  {
   "cell_type": "code",
   "execution_count": null,
   "id": "fb07502c",
   "metadata": {},
   "outputs": [],
   "source": []
  },
  {
   "cell_type": "code",
   "execution_count": null,
   "id": "2cc65ebf",
   "metadata": {},
   "outputs": [],
   "source": []
  },
  {
   "cell_type": "code",
   "execution_count": null,
   "id": "368c5a6a",
   "metadata": {},
   "outputs": [],
   "source": []
  },
  {
   "cell_type": "code",
   "execution_count": 3,
   "id": "efa7db7a",
   "metadata": {},
   "outputs": [
    {
     "name": "stdout",
     "output_type": "stream",
     "text": [
      "jgyhug\n",
      "hvghyhu\n",
      "jhgh\n",
      "kjbhjg\n",
      "kjhggy\n",
      "jkbhjgg\n",
      "jbhgfyf\n",
      "\n",
      "bvhh\n",
      "\n"
     ]
    }
   ],
   "source": [
    "print(\"\"\"jgyhug\n",
    "hvghyhu\n",
    "jhgh\n",
    "kjbhjg\n",
    "kjhggy\n",
    "jkbhjgg\n",
    "jbhgfyf\n",
    "\\nbvhh\n",
    "\"\"\")"
   ]
  },
  {
   "cell_type": "code",
   "execution_count": 5,
   "id": "7fe8c990",
   "metadata": {},
   "outputs": [
    {
     "data": {
      "text/plain": [
       "'jhg #multi line comment\\nhfg\\nkjluhg\\njhghg\\nghcfrdr\\n'"
      ]
     },
     "execution_count": 5,
     "metadata": {},
     "output_type": "execute_result"
    }
   ],
   "source": [
    "#multi line comment\n",
    "\"\"\"jhg #multi line comment\n",
    "hfg\n",
    "kjluhg\n",
    "jhghg\n",
    "ghcfrdr\n",
    "\"\"\""
   ]
  },
  {
   "cell_type": "markdown",
   "id": "68fe00fd",
   "metadata": {},
   "source": [
    "# second lacture condition and loop"
   ]
  },
  {
   "cell_type": "code",
   "execution_count": null,
   "id": "c58d9499",
   "metadata": {},
   "outputs": [],
   "source": []
  },
  {
   "cell_type": "code",
   "execution_count": 27,
   "id": "12d8e1f5",
   "metadata": {},
   "outputs": [
    {
     "name": "stdout",
     "output_type": "stream",
     "text": [
      "this is a valid statement\n"
     ]
    }
   ],
   "source": [
    "a = 10\n",
    "b= 20\n",
    "if a==10 or b >20 :\n",
    "    print(\"this is a valid statement\")\n",
    "elif a==10 and b <=20 :\n",
    "    print(\"this is valid inside elif\")\n",
    "else:\n",
    "    print(\"condition is not valid\")"
   ]
  },
  {
   "cell_type": "code",
   "execution_count": null,
   "id": "b4f12ab0",
   "metadata": {},
   "outputs": [],
   "source": [
    "task:\n",
    "    take a input from your keybord as your first name and last name and then to try validate of write a multiple condition by yourself\n",
    "    "
   ]
  },
  {
   "cell_type": "code",
   "execution_count": 19,
   "id": "06c980b1",
   "metadata": {},
   "outputs": [
    {
     "data": {
      "text/plain": [
       "False"
      ]
     },
     "execution_count": 19,
     "metadata": {},
     "output_type": "execute_result"
    }
   ],
   "source": [
    "a==10 and b >20"
   ]
  },
  {
   "cell_type": "code",
   "execution_count": 20,
   "id": "d960beb0",
   "metadata": {},
   "outputs": [
    {
     "data": {
      "text/plain": [
       "(False, False)"
      ]
     },
     "execution_count": 20,
     "metadata": {},
     "output_type": "execute_result"
    }
   ],
   "source": [
    "a==20 , b== 10"
   ]
  },
  {
   "cell_type": "code",
   "execution_count": 21,
   "id": "afcc9d38",
   "metadata": {},
   "outputs": [
    {
     "data": {
      "text/plain": [
       "True"
      ]
     },
     "execution_count": 21,
     "metadata": {},
     "output_type": "execute_result"
    }
   ],
   "source": [
    "a>=10 and b==20"
   ]
  },
  {
   "cell_type": "code",
   "execution_count": 22,
   "id": "5adaf1e6",
   "metadata": {},
   "outputs": [
    {
     "data": {
      "text/plain": [
       "(True, True)"
      ]
     },
     "execution_count": 22,
     "metadata": {},
     "output_type": "execute_result"
    }
   ],
   "source": [
    "a== 10 , b==20"
   ]
  },
  {
   "cell_type": "markdown",
   "id": "c3c097a0",
   "metadata": {},
   "source": [
    "task:\n",
    "    take a input from your keybord as your first name and last name and then to try validate of write a multiple condition by yourself\n",
    "    i = input (\"enter your name\")\n",
    "    if i = \"hjhg\":\n",
    "        print(\"correct\")\n",
    "    elif i=hj:\n",
    "        print(\"full name plz\")\n",
    "    else:\n",
    "        print(\"you are not the user\")"
   ]
  },
  {
   "cell_type": "code",
   "execution_count": 1,
   "id": "fb24adc5",
   "metadata": {},
   "outputs": [
    {
     "name": "stdout",
     "output_type": "stream",
     "text": [
      "Enter your first nameSh\n",
      "Enter your last namek\n",
      "correct name buddy\n"
     ]
    }
   ],
   "source": [
    "a = input(\"Enter your first name\")\n",
    "b= input(\"Enter your last name\")\n",
    "\n",
    "if a == \"shahrukh\" or b == \"khan\":\n",
    "    print(\"you are correct\")\n",
    "elif a==\"khan\" and b ==\"shahrukh\" :\n",
    "    print(\"this is not true\")\n",
    "elif a== \"Sha\" and b== \"kh\":\n",
    "    print(\"full name plz not use short\")\n",
    "else:\n",
    "    print(\"correct name buddy\")"
   ]
  },
  {
   "cell_type": "markdown",
   "id": "7014bcfa",
   "metadata": {},
   "source": [
    "# while loop"
   ]
  },
  {
   "cell_type": "code",
   "execution_count": 3,
   "id": "edbe95c5",
   "metadata": {},
   "outputs": [
    {
     "name": "stdout",
     "output_type": "stream",
     "text": [
      "this is my sped\n",
      "this is my sped\n",
      "this is my sped\n",
      "this is my sped\n",
      "this is my sped\n",
      "this is my sped\n",
      "this is my sped\n",
      "this is my sped\n",
      "this is my sped\n"
     ]
    }
   ],
   "source": [
    "initial_speed = 0\n",
    "final_speed = 100\n",
    "count = 1\n",
    "while initial_speed < final_speed:\n",
    "    print(\"this is my sped\")\n",
    "    count = count +1\n",
    "    if count == 10 :\n",
    "        break"
   ]
  },
  {
   "cell_type": "code",
   "execution_count": 7,
   "id": "b68ef46e",
   "metadata": {},
   "outputs": [
    {
     "name": "stdout",
     "output_type": "stream",
     "text": [
      "given the value50\n",
      "given second value60\n",
      " this is a good bro\n",
      " this is a good bro\n",
      " this is a good bro\n",
      " this is a good bro\n"
     ]
    }
   ],
   "source": [
    "a = int(input(\"given the value\"))  # while condition checking the file true or not\n",
    "b = int(input(\"given second value\"))\n",
    "count = 1\n",
    "while a<b:\n",
    "    print(\" this is a good bro\")    \n",
    "    count = count +1\n",
    "    if count ==5:\n",
    "        break"
   ]
  },
  {
   "cell_type": "code",
   "execution_count": 1,
   "id": "27714a94",
   "metadata": {},
   "outputs": [
    {
     "name": "stdout",
     "output_type": "stream",
     "text": [
      "1\n",
      "2\n",
      "3\n",
      "4\n",
      "5\n",
      "6\n",
      "7\n",
      "8\n",
      "9\n"
     ]
    }
   ],
   "source": [
    "i = 1\n",
    "j = 10\n",
    "while i < j :\n",
    "    print(i)\n",
    "    i = i+1\n"
   ]
  },
  {
   "cell_type": "markdown",
   "id": "8e285eab",
   "metadata": {},
   "source": [
    "# working with loop"
   ]
  },
  {
   "cell_type": "code",
   "execution_count": 2,
   "id": "0eb05ff5",
   "metadata": {},
   "outputs": [
    {
     "name": "stdout",
     "output_type": "stream",
     "text": [
      "1\n",
      "2\n",
      "3\n",
      "4\n",
      "this is not show\n"
     ]
    }
   ],
   "source": [
    "a = 5\n",
    "i = 1\n",
    "while i < a:\n",
    "    print(i)\n",
    "    i += 1\n",
    "else:\n",
    "    print(\"this is not show\")"
   ]
  },
  {
   "cell_type": "code",
   "execution_count": 8,
   "id": "246bb8d1",
   "metadata": {},
   "outputs": [
    {
     "name": "stdout",
     "output_type": "stream",
     "text": [
      "1\n",
      "2\n",
      "1\n",
      "not available\n"
     ]
    }
   ],
   "source": [
    "s = 3\n",
    "i = 1\n",
    "j = 1\n",
    "\n",
    "while i<s:\n",
    "    print(i)\n",
    "    i += 1\n",
    "else:\n",
    "   \n",
    "    \n",
    "    while j<2:\n",
    "        print(j)\n",
    "        j = j+1\n",
    "    print(\"not available\")\n",
    "        "
   ]
  },
  {
   "cell_type": "code",
   "execution_count": 9,
   "id": "6e31435d",
   "metadata": {},
   "outputs": [
    {
     "name": "stdout",
     "output_type": "stream",
     "text": [
      "1\n",
      "2\n",
      "3\n",
      "4\n",
      "5\n",
      "no 10 rs notes are available \n"
     ]
    }
   ],
   "source": [
    "notes = 5 \n",
    "i = 1 \n",
    "j = 1\n",
    "while i < notes:\n",
    "    print(i)\n",
    "    i += 1\n",
    "else :\n",
    "    \n",
    "    while j < 2 :\n",
    "        print(i)\n",
    "        j = j + 1 \n",
    "    print(\"no 10 rs notes are available \")"
   ]
  },
  {
   "cell_type": "code",
   "execution_count": 25,
   "id": "071d0c99",
   "metadata": {},
   "outputs": [],
   "source": [
    "s = \"my name is shahrukh khan\""
   ]
  },
  {
   "cell_type": "code",
   "execution_count": 26,
   "id": "e1357392",
   "metadata": {},
   "outputs": [
    {
     "data": {
      "text/plain": [
       "'m'"
      ]
     },
     "execution_count": 26,
     "metadata": {},
     "output_type": "execute_result"
    }
   ],
   "source": [
    "s[0]"
   ]
  },
  {
   "cell_type": "code",
   "execution_count": 27,
   "id": "6911a2ef",
   "metadata": {},
   "outputs": [
    {
     "data": {
      "text/plain": [
       "'n'"
      ]
     },
     "execution_count": 27,
     "metadata": {},
     "output_type": "execute_result"
    }
   ],
   "source": [
    "s[3]"
   ]
  },
  {
   "cell_type": "code",
   "execution_count": 28,
   "id": "d0bf205f",
   "metadata": {},
   "outputs": [
    {
     "data": {
      "text/plain": [
       "'name is'"
      ]
     },
     "execution_count": 28,
     "metadata": {},
     "output_type": "execute_result"
    }
   ],
   "source": [
    "s[3:10]"
   ]
  },
  {
   "cell_type": "code",
   "execution_count": 29,
   "id": "5330513d",
   "metadata": {},
   "outputs": [
    {
     "data": {
      "text/plain": [
       "''"
      ]
     },
     "execution_count": 29,
     "metadata": {},
     "output_type": "execute_result"
    }
   ],
   "source": [
    "s[10:3]"
   ]
  },
  {
   "cell_type": "code",
   "execution_count": 30,
   "id": "a8e707e7",
   "metadata": {},
   "outputs": [
    {
     "data": {
      "text/plain": [
       "' si ema'"
      ]
     },
     "execution_count": 30,
     "metadata": {},
     "output_type": "execute_result"
    }
   ],
   "source": [
    "s[10:3:-1]"
   ]
  },
  {
   "cell_type": "code",
   "execution_count": 31,
   "id": "1bc48cbc",
   "metadata": {},
   "outputs": [
    {
     "data": {
      "text/plain": [
       "' name is shahruk'"
      ]
     },
     "execution_count": 31,
     "metadata": {},
     "output_type": "execute_result"
    }
   ],
   "source": [
    "s[2:-6]"
   ]
  },
  {
   "cell_type": "code",
   "execution_count": 32,
   "id": "0bda22e4",
   "metadata": {},
   "outputs": [
    {
     "data": {
      "text/plain": [
       "' aei'"
      ]
     },
     "execution_count": 32,
     "metadata": {},
     "output_type": "execute_result"
    }
   ],
   "source": [
    "s[2:10:2]"
   ]
  },
  {
   "cell_type": "code",
   "execution_count": 35,
   "id": "7be2126e",
   "metadata": {},
   "outputs": [
    {
     "name": "stdout",
     "output_type": "stream",
     "text": [
      "m\n",
      "y\n",
      " \n",
      "n\n",
      "a\n",
      "m\n",
      "e\n",
      " \n",
      "i\n",
      "s\n",
      "i knew it\n",
      " \n",
      "s\n",
      "i knew it\n",
      "h\n",
      "a\n",
      "h\n",
      "r\n",
      "u\n",
      "k\n",
      "h\n",
      " \n",
      "k\n",
      "h\n",
      "a\n",
      "n\n"
     ]
    }
   ],
   "source": [
    "for i in s:\n",
    "    print(i)\n",
    "    if i == \"s\":\n",
    "        print(\"i knew it\")"
   ]
  },
  {
   "cell_type": "code",
   "execution_count": 37,
   "id": "e189f712",
   "metadata": {},
   "outputs": [],
   "source": [
    "s = \"my name is shahrukh khan\""
   ]
  },
  {
   "cell_type": "code",
   "execution_count": 48,
   "id": "c5e91e64",
   "metadata": {},
   "outputs": [
    {
     "name": "stdout",
     "output_type": "stream",
     "text": [
      "m\n",
      "y\n",
      " \n",
      "a\n",
      "m\n",
      "e\n",
      " \n",
      "i\n",
      "s\n",
      " \n",
      "s\n",
      "h\n",
      "a\n",
      "h\n",
      "r\n",
      "u\n",
      "k\n",
      "h\n",
      " \n",
      "k\n",
      "h\n",
      "a\n",
      "ok bro\n",
      "this is your name is good\n"
     ]
    }
   ],
   "source": [
    "for i in s:\n",
    "    if i == \"n\":\n",
    "     #   break\n",
    "        continue\n",
    "    print(i)\n",
    "else:\n",
    "    if i == \"n\": # last name\n",
    "        print(\"ok bro\")\n",
    "    print(\"this is your name is good\")"
   ]
  },
  {
   "cell_type": "code",
   "execution_count": 3,
   "id": "dd493c67",
   "metadata": {},
   "outputs": [],
   "source": [
    "s = \"shahrukh khan\"\n",
    "ss = \"\"\n",
    "for i in range(len(s)):\n",
    "    if s[i] == \"n\":\n",
    "        continue\n",
    "    else:\n",
    "        ss = ss + s[i]\n",
    "    "
   ]
  },
  {
   "cell_type": "code",
   "execution_count": null,
   "id": "0bd98363",
   "metadata": {},
   "outputs": [],
   "source": []
  },
  {
   "cell_type": "code",
   "execution_count": 2,
   "id": "a30dc2c9",
   "metadata": {},
   "outputs": [
    {
     "data": {
      "text/plain": [
       "'shahrukh kha'"
      ]
     },
     "execution_count": 2,
     "metadata": {},
     "output_type": "execute_result"
    }
   ],
   "source": [
    "ss"
   ]
  },
  {
   "cell_type": "code",
   "execution_count": 12,
   "id": "77f1ea22",
   "metadata": {},
   "outputs": [
    {
     "name": "stdout",
     "output_type": "stream",
     "text": [
      " i got s as a string \n",
      "s\n",
      "h\n",
      "a\n",
      "h\n",
      "r\n",
      "u\n",
      "k\n",
      "h\n",
      " \n",
      "k\n",
      "h\n",
      "a\n",
      "n\n"
     ]
    }
   ],
   "source": [
    "for i in s :\n",
    "    if i == 's':\n",
    "        print(\" i got s as a string \")\n",
    "    print(i)"
   ]
  },
  {
   "cell_type": "code",
   "execution_count": 13,
   "id": "fa8abd22",
   "metadata": {},
   "outputs": [
    {
     "name": "stdout",
     "output_type": "stream",
     "text": [
      "s\n",
      "h\n",
      "a\n",
      "h\n",
      "r\n",
      "u\n",
      "k\n",
      "h\n",
      " \n",
      "k\n",
      "h\n",
      "a\n",
      "this is a else condtion \n"
     ]
    }
   ],
   "source": [
    "for i in s :\n",
    "    if i == \"n\":\n",
    "        continue \n",
    "    print(i)\n",
    "else :\n",
    "    if i == 'u':\n",
    "        print(\"last char was u \")\n",
    "    print(\"this is a else condtion \")"
   ]
  },
  {
   "cell_type": "code",
   "execution_count": 14,
   "id": "81fab828",
   "metadata": {},
   "outputs": [
    {
     "name": "stdout",
     "output_type": "stream",
     "text": [
      "+ \r\n",
      "+ + \r\n",
      "+ + + \r\n",
      "+ + + + \r\n",
      "+ + + + + \r\n",
      "+ + + + + + \r\n",
      "+ + + + + + + \r\n"
     ]
    }
   ],
   "source": [
    "n = 7 \n",
    "for i in range(0 ,n):\n",
    "    for j in range(0 ,i +1):\n",
    "        print(\"+ \" , end = \"\")\n",
    "    print(\"\\r\")"
   ]
  },
  {
   "cell_type": "code",
   "execution_count": 21,
   "id": "8ca22eb9",
   "metadata": {},
   "outputs": [
    {
     "name": "stdout",
     "output_type": "stream",
     "text": [
      " @#%  \r\n",
      " @#%   @#%  \r\n",
      " @#%   @#%   @#%  \r\n",
      " @#%   @#%   @#%   @#%  \r\n",
      " @#%   @#%   @#%   @#%   @#%  \r\n",
      " @#%   @#%   @#%   @#%   @#%   @#%  \r\n",
      " @#%   @#%   @#%   @#%   @#%   @#%   @#%  \r\n",
      " @#%   @#%   @#%   @#%   @#%   @#%   @#%   @#%  \r\n",
      " @#%   @#%   @#%   @#%   @#%   @#%   @#%   @#%   @#%  \r\n",
      " @#%   @#%   @#%   @#%   @#%   @#%   @#%   @#%   @#%   @#%  \r\n"
     ]
    }
   ],
   "source": [
    "n = 10\n",
    "for i in range (0 ,n):\n",
    "    for j in range (0, i + 1):\n",
    "        print(\" @#%  \" , end = \"\")\n",
    "    print(\"\\r\")\n"
   ]
  },
  {
   "cell_type": "code",
   "execution_count": 27,
   "id": "0e00300c",
   "metadata": {},
   "outputs": [
    {
     "name": "stdout",
     "output_type": "stream",
     "text": [
      " @#%   @#%   @#%   @#%   @#%   @#%   @#%   @#%  \r\n",
      " @#%   @#%   @#%   @#%   @#%   @#%   @#%   @#%   @#%  \r\n",
      " @#%   @#%   @#%   @#%   @#%   @#%   @#%   @#%   @#%   @#%  \r\n"
     ]
    }
   ],
   "source": [
    "n = 10\n",
    "for i in range (7 ,n):\n",
    "    for j in range (0, i + 1):\n",
    "        print(\" @#%  \" , end = \"\")\n",
    "    print(\"\\r\")\n"
   ]
  },
  {
   "cell_type": "code",
   "execution_count": 28,
   "id": "bf15b0e3",
   "metadata": {},
   "outputs": [
    {
     "name": "stdout",
     "output_type": "stream",
     "text": [
      "        * * * * * * \r\n",
      "         * * * * * \r\n",
      "          * * * * \r\n",
      "           * * * \r\n",
      "            * * \r\n",
      "             * \r\n"
     ]
    }
   ],
   "source": [
    "def pattern(n):\n",
    "      k = 2*n -2\n",
    "      for i in range(n,-1,-1):\n",
    "           for j in range(k,0,-1):\n",
    "                print(end=\" \")\n",
    "           k = k +1\n",
    "           for j in range(0, i+1):\n",
    "                print(\"*\", end=\" \")\n",
    "           print(\"\\r\")\n",
    " \n",
    "pattern(5)\n"
   ]
  },
  {
   "cell_type": "code",
   "execution_count": 29,
   "id": "747bd1f1",
   "metadata": {},
   "outputs": [
    {
     "name": "stdout",
     "output_type": "stream",
     "text": [
      "7\n",
      "6\n",
      "5\n",
      "4\n",
      "3\n",
      "2\n",
      "1\n"
     ]
    }
   ],
   "source": [
    "for i in range(7,0,-1):\n",
    "    print(i)"
   ]
  },
  {
   "cell_type": "code",
   "execution_count": 30,
   "id": "de19f3aa",
   "metadata": {},
   "outputs": [
    {
     "name": "stdout",
     "output_type": "stream",
     "text": [
      "Enter number of rows required: 7\n",
      "*************\n",
      " ***********\n",
      "  *********\n",
      "   *******\n",
      "    *****\n",
      "     ***\n",
      "      *\n"
     ]
    }
   ],
   "source": [
    "n = int(input('Enter number of rows required: '))\n",
    "\n",
    "for i in range(n,0,-1):\n",
    "    for j in range(n-i):\n",
    "        print(' ', end='') \n",
    "    \n",
    "    for j in range(2*i-1):\n",
    "        print('*',end='') \n",
    "    print()\n"
   ]
  },
  {
   "cell_type": "code",
   "execution_count": 31,
   "id": "13ef8495",
   "metadata": {},
   "outputs": [
    {
     "name": "stdout",
     "output_type": "stream",
     "text": [
      "8\n",
      "7\n",
      "6\n",
      "5\n",
      "4\n",
      "3\n",
      "2\n",
      "1\n"
     ]
    }
   ],
   "source": [
    "for i in range(8, 0, -1):\n",
    "    print(i)"
   ]
  },
  {
   "cell_type": "code",
   "execution_count": 32,
   "id": "0e693b60",
   "metadata": {},
   "outputs": [
    {
     "name": "stdout",
     "output_type": "stream",
     "text": [
      "        * * * * * * \n",
      "         * * * * * \n",
      "          * * * * \n",
      "           * * * \n",
      "            * * \n",
      "             * \n"
     ]
    }
   ],
   "source": [
    "num = 5\n",
    "m = 2 * num - 2\n",
    "for i in range(num, -1, -1):\n",
    "    for j in range(m, 0, -1):\n",
    "        print(end=\" \")\n",
    "    m = m + 1\n",
    "    for j in range(0, i + 1):\n",
    "        print(\"*\", end=\" \")\n",
    "    print(\"\")"
   ]
  },
  {
   "cell_type": "code",
   "execution_count": 33,
   "id": "bb079e4d",
   "metadata": {},
   "outputs": [
    {
     "data": {
      "text/plain": [
       "'     '"
      ]
     },
     "execution_count": 33,
     "metadata": {},
     "output_type": "execute_result"
    }
   ],
   "source": [
    "\" \"*5"
   ]
  },
  {
   "cell_type": "code",
   "execution_count": 34,
   "id": "5356b911",
   "metadata": {},
   "outputs": [
    {
     "name": "stdout",
     "output_type": "stream",
     "text": [
      "        * \n",
      "       * * \n",
      "      * * * \n",
      "     * * * * \n",
      "    * * * * * \n",
      "   * * * * * * \n",
      "  * * * * * * * \n",
      " * * * * * * * * \n",
      "* * * * * * * * * \n"
     ]
    }
   ],
   "source": [
    "n =9\n",
    "i=0\n",
    "while i < n :\n",
    "    print(' '*(n-i-1) + '* '*(i+1))\n",
    "    i +=1"
   ]
  },
  {
   "cell_type": "code",
   "execution_count": 35,
   "id": "a636f67e",
   "metadata": {},
   "outputs": [
    {
     "name": "stdout",
     "output_type": "stream",
     "text": [
      "    *\n",
      "   ***\n",
      "  *****\n",
      " *******\n",
      "*********\n"
     ]
    }
   ],
   "source": [
    "i=1\n",
    "k=1 #for printing starts with the increament of 2\n",
    "\n",
    "while i<=5:\n",
    "    b=1\n",
    "    while b<=5-i:\n",
    "        print(' ',end='')\n",
    "        b=b+1\n",
    "        \n",
    "    j=1\n",
    "    while j<=k:\n",
    "        print('*', end='')\n",
    "        j=j+1\n",
    "    print()\n",
    "    \n",
    "    k=k+2\n",
    "    \n",
    "    i=i+1"
   ]
  },
  {
   "cell_type": "code",
   "execution_count": 36,
   "id": "90bd6641",
   "metadata": {},
   "outputs": [
    {
     "name": "stdout",
     "output_type": "stream",
     "text": [
      "Please enter the amount of rows: 10\n",
      "         *\n",
      "        ***\n",
      "       *****\n",
      "      *******\n",
      "     *********\n",
      "    ***********\n",
      "   *************\n",
      "  ***************\n",
      " *****************\n",
      "*******************\n",
      "**iNeuron-FSDS**\n"
     ]
    }
   ],
   "source": [
    "userInput = int(input(\"Please enter the amount of rows: \"))\n",
    "\n",
    "row = 0\n",
    "while(row < userInput):\n",
    "    row += 1\n",
    "    spaces = userInput - row\n",
    "\n",
    "    spaces_counter = 0\n",
    "    while(spaces_counter < spaces):\n",
    "        print(\" \", end='')\n",
    "        spaces_counter += 1\n",
    "\n",
    "    num_stars = 2*row-1\n",
    "    while(num_stars > 0):\n",
    "        print(\"*\", end='')\n",
    "        num_stars -= 1\n",
    "\n",
    "    print()\n",
    "print(\"**iNeuron-FSDS**\")"
   ]
  },
  {
   "cell_type": "code",
   "execution_count": 37,
   "id": "547e976f",
   "metadata": {},
   "outputs": [],
   "source": [
    "l = list()"
   ]
  },
  {
   "cell_type": "code",
   "execution_count": 38,
   "id": "749e7a3d",
   "metadata": {},
   "outputs": [],
   "source": [
    "name = \"sudh\"\n",
    "phno = 543535345\n",
    "addr = \"sdfsff\"\n",
    "\n",
    "name , phno , addr = \"sudh \" , 54353453,\"fgfd\""
   ]
  },
  {
   "cell_type": "code",
   "execution_count": 39,
   "id": "d5049dff",
   "metadata": {},
   "outputs": [
    {
     "data": {
      "text/plain": [
       "7"
      ]
     },
     "execution_count": 39,
     "metadata": {},
     "output_type": "execute_result"
    }
   ],
   "source": [
    "l = [\"sudh\" , 34535,\"sfsfsafa\", True, 45+8j , [3,5,6,\"dfg\"],6.787]\n",
    "\n",
    "len(l)"
   ]
  },
  {
   "cell_type": "code",
   "execution_count": null,
   "id": "0aa2b3f1",
   "metadata": {},
   "outputs": [],
   "source": [
    "range(10)"
   ]
  },
  {
   "cell_type": "code",
   "execution_count": null,
   "id": "1690638c",
   "metadata": {},
   "outputs": [],
   "source": [
    "list(range(10))"
   ]
  },
  {
   "cell_type": "code",
   "execution_count": null,
   "id": "a3f75ef8",
   "metadata": {},
   "outputs": [],
   "source": [
    "for  i in range(4,10):\n",
    "    print(i)"
   ]
  },
  {
   "cell_type": "code",
   "execution_count": null,
   "id": "cbd545a3",
   "metadata": {},
   "outputs": [],
   "source": [
    "l[80 :3:1]"
   ]
  },
  {
   "cell_type": "code",
   "execution_count": null,
   "id": "1d57f187",
   "metadata": {},
   "outputs": [],
   "source": [
    "for i in l :\n",
    "    if type(i) == list:\n",
    "        n = 0\n",
    "        for  j in i :\n",
    "            if type(j) == int :\n",
    "                n = n + j\n",
    "        print(n)\n",
    "                \n",
    "        print(type(j))"
   ]
  },
  {
   "cell_type": "code",
   "execution_count": null,
   "id": "057c496d",
   "metadata": {},
   "outputs": [],
   "source": [
    "type(l)"
   ]
  },
  {
   "cell_type": "code",
   "execution_count": null,
   "id": "a6dd158a",
   "metadata": {},
   "outputs": [],
   "source": [
    "l1 = []\n",
    "type(l1)"
   ]
  },
  {
   "cell_type": "code",
   "execution_count": null,
   "id": "aab7bfe1",
   "metadata": {},
   "outputs": [],
   "source": [
    "l2 = list()\n",
    "type(l2)"
   ]
  },
  {
   "cell_type": "code",
   "execution_count": null,
   "id": "4f20499c",
   "metadata": {},
   "outputs": [],
   "source": [
    "type(l1)"
   ]
  },
  {
   "cell_type": "code",
   "execution_count": null,
   "id": "5b3c4933",
   "metadata": {},
   "outputs": [],
   "source": []
  },
  {
   "cell_type": "code",
   "execution_count": null,
   "id": "f940a162",
   "metadata": {},
   "outputs": [],
   "source": []
  },
  {
   "cell_type": "code",
   "execution_count": null,
   "id": "bdbbf728",
   "metadata": {},
   "outputs": [],
   "source": []
  },
  {
   "cell_type": "code",
   "execution_count": null,
   "id": "e7adf826",
   "metadata": {},
   "outputs": [],
   "source": []
  },
  {
   "cell_type": "markdown",
   "id": "bfbc8220",
   "metadata": {},
   "source": [
    "# new lacture working string and list\n"
   ]
  },
  {
   "cell_type": "code",
   "execution_count": 2,
   "id": "8883fd21",
   "metadata": {},
   "outputs": [],
   "source": [
    "c = 'this is my first class for full stack data science  that\"s why i have joined this class '"
   ]
  },
  {
   "cell_type": "code",
   "execution_count": 3,
   "id": "9f78c1ef",
   "metadata": {},
   "outputs": [],
   "source": [
    "c = \"this is my first class for full stack data science  that's why i have joined this class \""
   ]
  },
  {
   "cell_type": "code",
   "execution_count": 4,
   "id": "3509e096",
   "metadata": {},
   "outputs": [
    {
     "ename": "SyntaxError",
     "evalue": "invalid syntax (Temp/ipykernel_20380/687474190.py, line 1)",
     "output_type": "error",
     "traceback": [
      "\u001b[1;36m  File \u001b[1;32m\"C:\\Users\\SHAHRU~1\\AppData\\Local\\Temp/ipykernel_20380/687474190.py\"\u001b[1;36m, line \u001b[1;32m1\u001b[0m\n\u001b[1;33m    c = \"this is my first class for full stack data science  that\"s why i have joined this class \"\u001b[0m\n\u001b[1;37m                                                                  ^\u001b[0m\n\u001b[1;31mSyntaxError\u001b[0m\u001b[1;31m:\u001b[0m invalid syntax\n"
     ]
    }
   ],
   "source": [
    "c = \"this is my first class for full stack data science  that\"s why i have joined this class \""
   ]
  },
  {
   "cell_type": "code",
   "execution_count": 5,
   "id": "e55746b9",
   "metadata": {},
   "outputs": [
    {
     "ename": "SyntaxError",
     "evalue": "invalid syntax (Temp/ipykernel_20380/2623129364.py, line 1)",
     "output_type": "error",
     "traceback": [
      "\u001b[1;36m  File \u001b[1;32m\"C:\\Users\\SHAHRU~1\\AppData\\Local\\Temp/ipykernel_20380/2623129364.py\"\u001b[1;36m, line \u001b[1;32m1\u001b[0m\n\u001b[1;33m    c = 'this is my first class for full stack data science  that's why i have joined this class '\u001b[0m\n\u001b[1;37m                                                                  ^\u001b[0m\n\u001b[1;31mSyntaxError\u001b[0m\u001b[1;31m:\u001b[0m invalid syntax\n"
     ]
    }
   ],
   "source": [
    "c = 'this is my first class for full stack data science  that's why i have joined this class '"
   ]
  },
  {
   "cell_type": "code",
   "execution_count": 10,
   "id": "fb3537a8",
   "metadata": {},
   "outputs": [],
   "source": [
    "s = \"this is full stack class \""
   ]
  },
  {
   "cell_type": "code",
   "execution_count": 11,
   "id": "5f92216d",
   "metadata": {},
   "outputs": [
    {
     "data": {
      "text/plain": [
       "'t'"
      ]
     },
     "execution_count": 11,
     "metadata": {},
     "output_type": "execute_result"
    }
   ],
   "source": [
    "s[0]"
   ]
  },
  {
   "cell_type": "code",
   "execution_count": 12,
   "id": "7ae402aa",
   "metadata": {},
   "outputs": [
    {
     "data": {
      "text/plain": [
       "'i'"
      ]
     },
     "execution_count": 12,
     "metadata": {},
     "output_type": "execute_result"
    }
   ],
   "source": [
    "s[2]"
   ]
  },
  {
   "cell_type": "code",
   "execution_count": 13,
   "id": "8c75ec4a",
   "metadata": {},
   "outputs": [
    {
     "data": {
      "text/plain": [
       "' '"
      ]
     },
     "execution_count": 13,
     "metadata": {},
     "output_type": "execute_result"
    }
   ],
   "source": [
    "s[-1]"
   ]
  },
  {
   "cell_type": "code",
   "execution_count": 16,
   "id": "b3e075da",
   "metadata": {},
   "outputs": [
    {
     "data": {
      "text/plain": [
       "25"
      ]
     },
     "execution_count": 16,
     "metadata": {},
     "output_type": "execute_result"
    }
   ],
   "source": [
    "len(s)"
   ]
  },
  {
   "cell_type": "code",
   "execution_count": 17,
   "id": "3520278b",
   "metadata": {},
   "outputs": [
    {
     "data": {
      "text/plain": [
       "' is fu'"
      ]
     },
     "execution_count": 17,
     "metadata": {},
     "output_type": "execute_result"
    }
   ],
   "source": [
    "s[4:10]"
   ]
  },
  {
   "cell_type": "code",
   "execution_count": 20,
   "id": "3dc67b24",
   "metadata": {},
   "outputs": [],
   "source": [
    "s = \"this is full stack class \""
   ]
  },
  {
   "cell_type": "code",
   "execution_count": 21,
   "id": "d75284ec",
   "metadata": {},
   "outputs": [
    {
     "data": {
      "text/plain": [
       "'his is full stack c'"
      ]
     },
     "execution_count": 21,
     "metadata": {},
     "output_type": "execute_result"
    }
   ],
   "source": [
    "s[1:20]"
   ]
  },
  {
   "cell_type": "code",
   "execution_count": 22,
   "id": "3dc8b8f1",
   "metadata": {},
   "outputs": [
    {
     "data": {
      "text/plain": [
       "'h'"
      ]
     },
     "execution_count": 22,
     "metadata": {},
     "output_type": "execute_result"
    }
   ],
   "source": [
    "s[1:3:10]"
   ]
  },
  {
   "cell_type": "code",
   "execution_count": 23,
   "id": "c1c2f80c",
   "metadata": {},
   "outputs": [],
   "source": [
    "s = \"abcdef\""
   ]
  },
  {
   "cell_type": "code",
   "execution_count": 24,
   "id": "7d04a04d",
   "metadata": {},
   "outputs": [
    {
     "data": {
      "text/plain": [
       "'bc'"
      ]
     },
     "execution_count": 24,
     "metadata": {},
     "output_type": "execute_result"
    }
   ],
   "source": [
    "s[1:3]"
   ]
  },
  {
   "cell_type": "code",
   "execution_count": 26,
   "id": "06aa6d8f",
   "metadata": {},
   "outputs": [
    {
     "data": {
      "text/plain": [
       "'cd'"
      ]
     },
     "execution_count": 26,
     "metadata": {},
     "output_type": "execute_result"
    }
   ],
   "source": [
    "s[2:4] # 4 means less 1 number count means 123"
   ]
  },
  {
   "cell_type": "code",
   "execution_count": 28,
   "id": "040909d6",
   "metadata": {},
   "outputs": [
    {
     "data": {
      "text/plain": [
       "'b'"
      ]
     },
     "execution_count": 28,
     "metadata": {},
     "output_type": "execute_result"
    }
   ],
   "source": [
    "s[1:3:2]"
   ]
  },
  {
   "cell_type": "code",
   "execution_count": 29,
   "id": "fec4560e",
   "metadata": {},
   "outputs": [],
   "source": [
    "s = \"this is full stack class \""
   ]
  },
  {
   "cell_type": "code",
   "execution_count": 30,
   "id": "04fe20b8",
   "metadata": {},
   "outputs": [
    {
     "name": "stdout",
     "output_type": "stream",
     "text": [
      "t\n",
      "h\n",
      "i\n",
      "s\n",
      " \n",
      "i\n",
      "s\n",
      " \n",
      "f\n",
      "u\n",
      "l\n",
      "l\n",
      " \n",
      "s\n",
      "t\n",
      "a\n",
      "c\n",
      "k\n",
      " \n",
      "c\n",
      "l\n",
      "a\n",
      "s\n",
      "s\n",
      " \n"
     ]
    }
   ],
   "source": [
    "for i in s:\n",
    "    print(i)"
   ]
  },
  {
   "cell_type": "code",
   "execution_count": 37,
   "id": "38875eb0",
   "metadata": {},
   "outputs": [
    {
     "name": "stdout",
     "output_type": "stream",
     "text": [
      "t\n",
      "h\n",
      "i\n",
      "s\n",
      " \n",
      "i\n",
      "s\n",
      " \n",
      "f\n",
      "u\n",
      "l\n",
      "l\n",
      " \n",
      "s\n",
      "t\n",
      "a\n",
      "c\n",
      "k\n",
      " \n",
      "c\n",
      "l\n",
      "a\n",
      "s\n",
      "s\n",
      " \n"
     ]
    }
   ],
   "source": [
    "for i in range(len(s)) :\n",
    "    print(s[i])"
   ]
  },
  {
   "cell_type": "code",
   "execution_count": 38,
   "id": "750d2c9c",
   "metadata": {},
   "outputs": [
    {
     "name": "stdout",
     "output_type": "stream",
     "text": [
      "t\n",
      "h\n",
      "i\n",
      "s\n",
      " \n",
      "i\n",
      "s\n",
      " \n",
      "f\n",
      "u\n",
      "l\n",
      "l\n",
      " \n",
      "s\n",
      "t\n",
      "a\n",
      "c\n",
      "k\n",
      " \n",
      "c\n",
      "l\n",
      "a\n",
      "s\n",
      "s\n",
      " \n"
     ]
    }
   ],
   "source": [
    "for i in range(len(s)):\n",
    "    print(s[i])"
   ]
  },
  {
   "cell_type": "code",
   "execution_count": 39,
   "id": "a08568b6",
   "metadata": {},
   "outputs": [
    {
     "data": {
      "text/plain": [
       "' ssalc kc'"
      ]
     },
     "execution_count": 39,
     "metadata": {},
     "output_type": "execute_result"
    }
   ],
   "source": [
    "s[-1:-10:-1]"
   ]
  },
  {
   "cell_type": "code",
   "execution_count": 40,
   "id": "0e07fde4",
   "metadata": {},
   "outputs": [
    {
     "data": {
      "text/plain": [
       "' '"
      ]
     },
     "execution_count": 40,
     "metadata": {},
     "output_type": "execute_result"
    }
   ],
   "source": [
    "s[-1]"
   ]
  },
  {
   "cell_type": "code",
   "execution_count": 41,
   "id": "34e94afb",
   "metadata": {},
   "outputs": [
    {
     "data": {
      "text/plain": [
       "25"
      ]
     },
     "execution_count": 41,
     "metadata": {},
     "output_type": "execute_result"
    }
   ],
   "source": [
    "len(s)"
   ]
  },
  {
   "cell_type": "code",
   "execution_count": 42,
   "id": "4da91082",
   "metadata": {},
   "outputs": [
    {
     "data": {
      "text/plain": [
       "' ssalc kcats lluf si siht'"
      ]
     },
     "execution_count": 42,
     "metadata": {},
     "output_type": "execute_result"
    }
   ],
   "source": [
    "s[::-1]"
   ]
  },
  {
   "cell_type": "code",
   "execution_count": 43,
   "id": "fb503843",
   "metadata": {},
   "outputs": [
    {
     "data": {
      "text/plain": [
       "'this is full stack class '"
      ]
     },
     "execution_count": 43,
     "metadata": {},
     "output_type": "execute_result"
    }
   ],
   "source": [
    "s"
   ]
  },
  {
   "cell_type": "code",
   "execution_count": 44,
   "id": "c6cd8fa0",
   "metadata": {},
   "outputs": [
    {
     "data": {
      "text/plain": [
       "' sl ct lfs it'"
      ]
     },
     "execution_count": 44,
     "metadata": {},
     "output_type": "execute_result"
    }
   ],
   "source": [
    "s[::-2]"
   ]
  },
  {
   "cell_type": "code",
   "execution_count": null,
   "id": "53a8f300",
   "metadata": {},
   "outputs": [],
   "source": [
    "s = \"this is full stack class \""
   ]
  },
  {
   "cell_type": "code",
   "execution_count": 46,
   "id": "a7557dd1",
   "metadata": {},
   "outputs": [
    {
     "data": {
      "text/plain": [
       "'this is full stack class '"
      ]
     },
     "execution_count": 46,
     "metadata": {},
     "output_type": "execute_result"
    }
   ],
   "source": [
    "s #immutable object item not allow in string"
   ]
  },
  {
   "cell_type": "code",
   "execution_count": 47,
   "id": "1d5f0226",
   "metadata": {},
   "outputs": [
    {
     "ename": "TypeError",
     "evalue": "'str' object does not support item assignment",
     "output_type": "error",
     "traceback": [
      "\u001b[1;31m---------------------------------------------------------------------------\u001b[0m",
      "\u001b[1;31mTypeError\u001b[0m                                 Traceback (most recent call last)",
      "\u001b[1;32mC:\\Users\\SHAHRU~1\\AppData\\Local\\Temp/ipykernel_20528/2196776389.py\u001b[0m in \u001b[0;36m<module>\u001b[1;34m\u001b[0m\n\u001b[1;32m----> 1\u001b[1;33m \u001b[0ms\u001b[0m\u001b[1;33m[\u001b[0m\u001b[1;36m0\u001b[0m\u001b[1;33m]\u001b[0m \u001b[1;33m=\u001b[0m \u001b[1;34m\"x\"\u001b[0m\u001b[1;33m\u001b[0m\u001b[1;33m\u001b[0m\u001b[0m\n\u001b[0m",
      "\u001b[1;31mTypeError\u001b[0m: 'str' object does not support item assignment"
     ]
    }
   ],
   "source": [
    "s[0] = \"x\""
   ]
  },
  {
   "cell_type": "code",
   "execution_count": 58,
   "id": "46f1e9d8",
   "metadata": {},
   "outputs": [],
   "source": [
    "l = [\"sdfs\",234,345.45,True] # list is a mmutable items replace one data to other data allow in the list"
   ]
  },
  {
   "cell_type": "code",
   "execution_count": 59,
   "id": "4794bd95",
   "metadata": {},
   "outputs": [
    {
     "data": {
      "text/plain": [
       "'sdfs'"
      ]
     },
     "execution_count": 59,
     "metadata": {},
     "output_type": "execute_result"
    }
   ],
   "source": [
    "l[0]"
   ]
  },
  {
   "cell_type": "code",
   "execution_count": 60,
   "id": "6ff6a62d",
   "metadata": {},
   "outputs": [],
   "source": [
    "l[0] = \"sudh\""
   ]
  },
  {
   "cell_type": "code",
   "execution_count": 61,
   "id": "29bbf8ad",
   "metadata": {},
   "outputs": [
    {
     "data": {
      "text/plain": [
       "['sudh', 234, 345.45, True]"
      ]
     },
     "execution_count": 61,
     "metadata": {},
     "output_type": "execute_result"
    }
   ],
   "source": [
    "l"
   ]
  },
  {
   "cell_type": "code",
   "execution_count": 62,
   "id": "91060b7b",
   "metadata": {},
   "outputs": [
    {
     "data": {
      "text/plain": [
       "'sudh kumar '"
      ]
     },
     "execution_count": 62,
     "metadata": {},
     "output_type": "execute_result"
    }
   ],
   "source": [
    "\"sudh\"  + \" kumar \""
   ]
  },
  {
   "cell_type": "code",
   "execution_count": 63,
   "id": "d8ed1ba4",
   "metadata": {},
   "outputs": [
    {
     "data": {
      "text/plain": [
       "'sudh3'"
      ]
     },
     "execution_count": 63,
     "metadata": {},
     "output_type": "execute_result"
    }
   ],
   "source": [
    "\"sudh\" + str(3) "
   ]
  },
  {
   "cell_type": "code",
   "execution_count": 64,
   "id": "1bbcc4a1",
   "metadata": {},
   "outputs": [
    {
     "ename": "TypeError",
     "evalue": "can only concatenate str (not \"list\") to str",
     "output_type": "error",
     "traceback": [
      "\u001b[1;31m---------------------------------------------------------------------------\u001b[0m",
      "\u001b[1;31mTypeError\u001b[0m                                 Traceback (most recent call last)",
      "\u001b[1;32mC:\\Users\\SHAHRU~1\\AppData\\Local\\Temp/ipykernel_20528/3245496817.py\u001b[0m in \u001b[0;36m<module>\u001b[1;34m\u001b[0m\n\u001b[1;32m----> 1\u001b[1;33m \u001b[1;34m\"sudh\"\u001b[0m \u001b[1;33m+\u001b[0m \u001b[1;33m[\u001b[0m\u001b[1;34m\"kumar\"\u001b[0m \u001b[1;33m,\u001b[0m \u001b[1;36m3\u001b[0m\u001b[1;33m,\u001b[0m\u001b[1;36m4\u001b[0m\u001b[1;33m,\u001b[0m\u001b[1;36m56\u001b[0m\u001b[1;33m]\u001b[0m\u001b[1;33m\u001b[0m\u001b[1;33m\u001b[0m\u001b[0m\n\u001b[0m",
      "\u001b[1;31mTypeError\u001b[0m: can only concatenate str (not \"list\") to str"
     ]
    }
   ],
   "source": [
    "\"sudh\" + [\"kumar\" , 3,4,56]"
   ]
  },
  {
   "cell_type": "code",
   "execution_count": 65,
   "id": "3d319837",
   "metadata": {},
   "outputs": [
    {
     "data": {
      "text/plain": [
       "'sudh sudh sudh sudh sudh sudh '"
      ]
     },
     "execution_count": 65,
     "metadata": {},
     "output_type": "execute_result"
    }
   ],
   "source": [
    "\"sudh \" * 6"
   ]
  },
  {
   "cell_type": "code",
   "execution_count": 66,
   "id": "907534b1",
   "metadata": {},
   "outputs": [],
   "source": [
    "s = \"my name is sudhanshu kumar , Name of org is ineuron\""
   ]
  },
  {
   "cell_type": "code",
   "execution_count": 67,
   "id": "c3d2fdba",
   "metadata": {},
   "outputs": [
    {
     "data": {
      "text/plain": [
       "'my name is sudhanshu kumar , Name of org is ineuron'"
      ]
     },
     "execution_count": 67,
     "metadata": {},
     "output_type": "execute_result"
    }
   ],
   "source": [
    "s"
   ]
  },
  {
   "cell_type": "code",
   "execution_count": 68,
   "id": "75923365",
   "metadata": {},
   "outputs": [
    {
     "data": {
      "text/plain": [
       "29"
      ]
     },
     "execution_count": 68,
     "metadata": {},
     "output_type": "execute_result"
    }
   ],
   "source": [
    "s.find(\"Name\")"
   ]
  },
  {
   "cell_type": "code",
   "execution_count": 70,
   "id": "0efc57a4",
   "metadata": {},
   "outputs": [],
   "source": [
    " s = \"bbhjhhj\""
   ]
  },
  {
   "cell_type": "code",
   "execution_count": 71,
   "id": "dfbb0974",
   "metadata": {},
   "outputs": [
    {
     "data": {
      "text/plain": [
       "-1"
      ]
     },
     "execution_count": 71,
     "metadata": {},
     "output_type": "execute_result"
    }
   ],
   "source": [
    "s.find(\"abc\") # not available so given -1"
   ]
  },
  {
   "cell_type": "code",
   "execution_count": 72,
   "id": "0e9b847b",
   "metadata": {},
   "outputs": [],
   "source": [
    " s = \"my name is sudhanshu kumar , Name of org is ineuron\""
   ]
  },
  {
   "cell_type": "code",
   "execution_count": 73,
   "id": "b2c84566",
   "metadata": {},
   "outputs": [
    {
     "data": {
      "text/plain": [
       "3"
      ]
     },
     "execution_count": 73,
     "metadata": {},
     "output_type": "execute_result"
    }
   ],
   "source": [
    "s.find(\"name\")                                  # 0,1,2,3"
   ]
  },
  {
   "cell_type": "code",
   "execution_count": 76,
   "id": "23bfc7f6",
   "metadata": {},
   "outputs": [
    {
     "name": "stdout",
     "output_type": "stream",
     "text": [
      "3\n",
      "4\n",
      "5\n",
      "6\n"
     ]
    }
   ],
   "source": [
    "b = s.find(\"name\")\n",
    "for i in range(len(\"name\")):\n",
    "    print(b+i)"
   ]
  },
  {
   "cell_type": "code",
   "execution_count": 77,
   "id": "0cb0d123",
   "metadata": {},
   "outputs": [],
   "source": [
    "# \"m\" = string\n",
    "#\"my\"= substring"
   ]
  },
  {
   "cell_type": "code",
   "execution_count": 78,
   "id": "7451f5e0",
   "metadata": {},
   "outputs": [],
   "source": [
    " s = \"my name is sudhanshu kumar , Name of org is ineuron\""
   ]
  },
  {
   "cell_type": "code",
   "execution_count": 81,
   "id": "851480a1",
   "metadata": {},
   "outputs": [
    {
     "data": {
      "text/plain": [
       "2"
      ]
     },
     "execution_count": 81,
     "metadata": {},
     "output_type": "execute_result"
    }
   ],
   "source": [
    "s.count(\"is\") # show sub string"
   ]
  },
  {
   "cell_type": "code",
   "execution_count": 82,
   "id": "ead80a3c",
   "metadata": {},
   "outputs": [
    {
     "data": {
      "text/plain": [
       "['my',\n",
       " 'name',\n",
       " 'is',\n",
       " 'sudhanshu',\n",
       " 'kumar',\n",
       " ',',\n",
       " 'Name',\n",
       " 'of',\n",
       " 'org',\n",
       " 'is',\n",
       " 'ineuron']"
      ]
     },
     "execution_count": 82,
     "metadata": {},
     "output_type": "execute_result"
    }
   ],
   "source": [
    "s.split() # giving list seprator by white space"
   ]
  },
  {
   "cell_type": "code",
   "execution_count": 83,
   "id": "180b511d",
   "metadata": {},
   "outputs": [
    {
     "data": {
      "text/plain": [
       "['my name is sudhanshu kumar ', ' Name of org is ineuron']"
      ]
     },
     "execution_count": 83,
     "metadata": {},
     "output_type": "execute_result"
    }
   ],
   "source": [
    "s.split(\",\")"
   ]
  },
  {
   "cell_type": "code",
   "execution_count": 84,
   "id": "96eb26a3",
   "metadata": {},
   "outputs": [
    {
     "data": {
      "text/plain": [
       "['my ', 'ame is sudha', 'shu kumar , Name of org is i', 'euro', '']"
      ]
     },
     "execution_count": 84,
     "metadata": {},
     "output_type": "execute_result"
    }
   ],
   "source": [
    "s.split(\"n\")"
   ]
  },
  {
   "cell_type": "code",
   "execution_count": 85,
   "id": "c1fafe80",
   "metadata": {},
   "outputs": [
    {
     "data": {
      "text/plain": [
       "list"
      ]
     },
     "execution_count": 85,
     "metadata": {},
     "output_type": "execute_result"
    }
   ],
   "source": [
    "type(s.split('na'))"
   ]
  },
  {
   "cell_type": "code",
   "execution_count": 89,
   "id": "9eea407c",
   "metadata": {},
   "outputs": [],
   "source": [
    " s = \"my name is sudhanshu kumar , Name of org is ineuron\""
   ]
  },
  {
   "cell_type": "code",
   "execution_count": 90,
   "id": "38bb904c",
   "metadata": {},
   "outputs": [
    {
     "data": {
      "text/plain": [
       "'MY NAME IS SUDHANSHU KUMAR , NAME OF ORG IS INEURON'"
      ]
     },
     "execution_count": 90,
     "metadata": {},
     "output_type": "execute_result"
    }
   ],
   "source": [
    "s.upper()"
   ]
  },
  {
   "cell_type": "code",
   "execution_count": 91,
   "id": "6b7550fe",
   "metadata": {},
   "outputs": [
    {
     "data": {
      "text/plain": [
       "'my name is sudhanshu kumar , name of org is ineuron'"
      ]
     },
     "execution_count": 91,
     "metadata": {},
     "output_type": "execute_result"
    }
   ],
   "source": [
    "s.lower()"
   ]
  },
  {
   "cell_type": "code",
   "execution_count": 92,
   "id": "5de0ed00",
   "metadata": {},
   "outputs": [
    {
     "data": {
      "text/plain": [
       "'MY NAME IS SUDHANSHU KUMAR , nAME OF ORG IS INEURON'"
      ]
     },
     "execution_count": 92,
     "metadata": {},
     "output_type": "execute_result"
    }
   ],
   "source": [
    "s.swapcase()"
   ]
  },
  {
   "cell_type": "code",
   "execution_count": 94,
   "id": "97eefd58",
   "metadata": {},
   "outputs": [
    {
     "data": {
      "text/plain": [
       "'m y   n a m e   i s   s u d h a n s h u   k u m a r   ,   N a m e   o f   o r g   i s   i n e u r o n'"
      ]
     },
     "execution_count": 94,
     "metadata": {},
     "output_type": "execute_result"
    }
   ],
   "source": [
    "\" \".join(s)"
   ]
  },
  {
   "cell_type": "code",
   "execution_count": 95,
   "id": "f361a441",
   "metadata": {},
   "outputs": [
    {
     "data": {
      "text/plain": [
       "'mmm ymm  mm nmm amm mmm emm  mm imm smm  mm smm umm dmm hmm amm nmm smm hmm umm  mm kmm umm mmm amm rmm  mm ,mm  mm Nmm amm mmm emm  mm omm fmm  mm omm rmm gmm  mm imm smm  mm imm nmm emm umm rmm omm n'"
      ]
     },
     "execution_count": 95,
     "metadata": {},
     "output_type": "execute_result"
    }
   ],
   "source": [
    "\"mm \".join(s)"
   ]
  },
  {
   "cell_type": "code",
   "execution_count": 97,
   "id": "bc97c24b",
   "metadata": {},
   "outputs": [
    {
     "data": {
      "text/plain": [
       "<reversed at 0x22a687f37f0>"
      ]
     },
     "execution_count": 97,
     "metadata": {},
     "output_type": "execute_result"
    }
   ],
   "source": [
    "reversed(s)"
   ]
  },
  {
   "cell_type": "code",
   "execution_count": 98,
   "id": "65ff5a18",
   "metadata": {},
   "outputs": [
    {
     "data": {
      "text/plain": [
       "'norueni si gro fo emaN , ramuk uhsnahdus si eman ym'"
      ]
     },
     "execution_count": 98,
     "metadata": {},
     "output_type": "execute_result"
    }
   ],
   "source": [
    "s[::-1]"
   ]
  },
  {
   "cell_type": "code",
   "execution_count": 103,
   "id": "ef503649",
   "metadata": {},
   "outputs": [
    {
     "data": {
      "text/plain": [
       "'m aei uhnh ua  aeo r siern'"
      ]
     },
     "execution_count": 103,
     "metadata": {},
     "output_type": "execute_result"
    }
   ],
   "source": [
    "s[::2]"
   ]
  },
  {
   "cell_type": "code",
   "execution_count": 106,
   "id": "6b0904ed",
   "metadata": {},
   "outputs": [
    {
     "data": {
      "text/plain": [
       "['n',\n",
       " 'o',\n",
       " 'r',\n",
       " 'u',\n",
       " 'e',\n",
       " 'n',\n",
       " 'i',\n",
       " ' ',\n",
       " 's',\n",
       " 'i',\n",
       " ' ',\n",
       " 'g',\n",
       " 'r',\n",
       " 'o',\n",
       " ' ',\n",
       " 'f',\n",
       " 'o',\n",
       " ' ',\n",
       " 'e',\n",
       " 'm',\n",
       " 'a',\n",
       " 'N',\n",
       " ' ',\n",
       " ',',\n",
       " ' ',\n",
       " 'r',\n",
       " 'a',\n",
       " 'm',\n",
       " 'u',\n",
       " 'k',\n",
       " ' ',\n",
       " 'u',\n",
       " 'h',\n",
       " 's',\n",
       " 'n',\n",
       " 'a',\n",
       " 'h',\n",
       " 'd',\n",
       " 'u',\n",
       " 's',\n",
       " ' ',\n",
       " 's',\n",
       " 'i',\n",
       " ' ',\n",
       " 'e',\n",
       " 'm',\n",
       " 'a',\n",
       " 'n',\n",
       " ' ',\n",
       " 'y',\n",
       " 'm']"
      ]
     },
     "execution_count": 106,
     "metadata": {},
     "output_type": "execute_result"
    }
   ],
   "source": [
    "list(reversed(s))"
   ]
  },
  {
   "cell_type": "code",
   "execution_count": 110,
   "id": "f48b8ddc",
   "metadata": {},
   "outputs": [
    {
     "name": "stdout",
     "output_type": "stream",
     "text": [
      "n\n",
      "o\n",
      "r\n",
      "u\n",
      "e\n",
      "n\n",
      "i\n",
      " \n",
      "s\n",
      "i\n",
      " \n",
      "g\n",
      "r\n",
      "o\n",
      " \n",
      "f\n",
      "o\n",
      " \n",
      "e\n",
      "m\n",
      "a\n",
      "N\n",
      " \n",
      ",\n",
      " \n",
      "r\n",
      "a\n",
      "m\n",
      "u\n",
      "k\n",
      " \n",
      "u\n",
      "h\n",
      "s\n",
      "n\n",
      "a\n",
      "h\n",
      "d\n",
      "u\n",
      "s\n",
      " \n",
      "s\n",
      "i\n",
      " \n",
      "e\n",
      "m\n",
      "a\n",
      "n\n",
      " \n",
      "y\n",
      "m\n"
     ]
    }
   ],
   "source": [
    "for i in reversed(s):\n",
    "    print(i)"
   ]
  },
  {
   "cell_type": "code",
   "execution_count": 111,
   "id": "187c17ef",
   "metadata": {},
   "outputs": [],
   "source": [
    "s = \"       su  dh \""
   ]
  },
  {
   "cell_type": "code",
   "execution_count": 112,
   "id": "332161e1",
   "metadata": {},
   "outputs": [
    {
     "data": {
      "text/plain": [
       "'       su  dh '"
      ]
     },
     "execution_count": 112,
     "metadata": {},
     "output_type": "execute_result"
    }
   ],
   "source": [
    "s"
   ]
  },
  {
   "cell_type": "code",
   "execution_count": 113,
   "id": "2459ce4c",
   "metadata": {},
   "outputs": [
    {
     "data": {
      "text/plain": [
       "'su  dh'"
      ]
     },
     "execution_count": 113,
     "metadata": {},
     "output_type": "execute_result"
    }
   ],
   "source": [
    "s.strip() # remove before and after space means both side"
   ]
  },
  {
   "cell_type": "code",
   "execution_count": 114,
   "id": "1fb8b0af",
   "metadata": {},
   "outputs": [
    {
     "data": {
      "text/plain": [
       "'su  dh '"
      ]
     },
     "execution_count": 114,
     "metadata": {},
     "output_type": "execute_result"
    }
   ],
   "source": [
    "s.lstrip() # laft hand side remove"
   ]
  },
  {
   "cell_type": "code",
   "execution_count": 115,
   "id": "c8985345",
   "metadata": {},
   "outputs": [
    {
     "data": {
      "text/plain": [
       "'       su  dh'"
      ]
     },
     "execution_count": 115,
     "metadata": {},
     "output_type": "execute_result"
    }
   ],
   "source": [
    "s.rstrip() #right hand side remove"
   ]
  },
  {
   "cell_type": "code",
   "execution_count": 5,
   "id": "9fcc232c",
   "metadata": {},
   "outputs": [],
   "source": [
    "s = (\"greeting from ineuron\")"
   ]
  },
  {
   "cell_type": "code",
   "execution_count": 6,
   "id": "49152eb3",
   "metadata": {},
   "outputs": [
    {
     "data": {
      "text/plain": [
       "'greeting brom ineuron'"
      ]
     },
     "execution_count": 6,
     "metadata": {},
     "output_type": "execute_result"
    }
   ],
   "source": [
    "s.replace(\"f\", \"b\")"
   ]
  },
  {
   "cell_type": "code",
   "execution_count": 7,
   "id": "1915227f",
   "metadata": {},
   "outputs": [],
   "source": [
    "s = s.replace(\"from\", \"to\")"
   ]
  },
  {
   "cell_type": "code",
   "execution_count": 8,
   "id": "50855103",
   "metadata": {},
   "outputs": [],
   "source": [
    "s=s.replace(\"f\", \"b\")"
   ]
  },
  {
   "cell_type": "code",
   "execution_count": 9,
   "id": "68f74eb1",
   "metadata": {},
   "outputs": [
    {
     "data": {
      "text/plain": [
       "'greeting to ineuron'"
      ]
     },
     "execution_count": 9,
     "metadata": {},
     "output_type": "execute_result"
    }
   ],
   "source": [
    "s"
   ]
  },
  {
   "cell_type": "code",
   "execution_count": 10,
   "id": "69060d56",
   "metadata": {},
   "outputs": [],
   "source": [
    "s = \"sudh\""
   ]
  },
  {
   "cell_type": "code",
   "execution_count": 11,
   "id": "452f7771",
   "metadata": {},
   "outputs": [
    {
     "data": {
      "text/plain": [
       "'@@@@@@@@@@sudh@@@@@@@@@'"
      ]
     },
     "execution_count": 11,
     "metadata": {},
     "output_type": "execute_result"
    }
   ],
   "source": [
    "s.center(23 , '@')"
   ]
  },
  {
   "cell_type": "code",
   "execution_count": 12,
   "id": "9c218cea",
   "metadata": {},
   "outputs": [
    {
     "ename": "TypeError",
     "evalue": "The fill character must be exactly one character long",
     "output_type": "error",
     "traceback": [
      "\u001b[1;31m---------------------------------------------------------------------------\u001b[0m",
      "\u001b[1;31mTypeError\u001b[0m                                 Traceback (most recent call last)",
      "\u001b[1;32mC:\\Users\\SHAHRU~1\\AppData\\Local\\Temp/ipykernel_1920/492946228.py\u001b[0m in \u001b[0;36m<module>\u001b[1;34m\u001b[0m\n\u001b[1;32m----> 1\u001b[1;33m \u001b[0ms\u001b[0m\u001b[1;33m.\u001b[0m\u001b[0mcenter\u001b[0m\u001b[1;33m(\u001b[0m\u001b[1;36m23\u001b[0m \u001b[1;33m,\u001b[0m \u001b[1;34m'@@'\u001b[0m\u001b[1;33m)\u001b[0m\u001b[1;33m\u001b[0m\u001b[1;33m\u001b[0m\u001b[0m\n\u001b[0m",
      "\u001b[1;31mTypeError\u001b[0m: The fill character must be exactly one character long"
     ]
    }
   ],
   "source": [
    "s.center(23 , '@@') # not use two corrector in which"
   ]
  },
  {
   "cell_type": "code",
   "execution_count": 13,
   "id": "48127eac",
   "metadata": {},
   "outputs": [],
   "source": [
    "s = \"sudh\\tku\\tmar\""
   ]
  },
  {
   "cell_type": "code",
   "execution_count": 14,
   "id": "ed1fa8d2",
   "metadata": {},
   "outputs": [
    {
     "data": {
      "text/plain": [
       "'sudh\\tku\\tmar'"
      ]
     },
     "execution_count": 14,
     "metadata": {},
     "output_type": "execute_result"
    }
   ],
   "source": [
    "s"
   ]
  },
  {
   "cell_type": "code",
   "execution_count": 15,
   "id": "3a2f6655",
   "metadata": {},
   "outputs": [
    {
     "data": {
      "text/plain": [
       "'sudh    ku      mar'"
      ]
     },
     "execution_count": 15,
     "metadata": {},
     "output_type": "execute_result"
    }
   ],
   "source": [
    "s.expandtabs()"
   ]
  },
  {
   "cell_type": "code",
   "execution_count": 23,
   "id": "20f96abd",
   "metadata": {},
   "outputs": [
    {
     "name": "stdout",
     "output_type": "stream",
     "text": [
      "the number is :5\n",
      "3\n",
      "7\n",
      "11\n",
      "14\n",
      "28\n",
      "['we', 'ineuronll', 'ineuronre', 'ineuron', 'pineuronrt', 'of', 'full', 'stineuronck']\n"
     ]
    }
   ],
   "source": [
    "a=\"We all are a part of Full Stack\"\n",
    "a = a.lower()\n",
    "b = a.count(\"a\")\n",
    "print(\"the number is :\" +str(b))\n",
    "for i in range(len(a)):\n",
    "    if a[i] == \"a\":\n",
    "        print(i)\n",
    "c = a.replace(\"a\" , \"ineuron\") \n",
    "print(c.split())\n",
    "    \n"
   ]
  },
  {
   "cell_type": "code",
   "execution_count": 3,
   "id": "a18f14bf",
   "metadata": {},
   "outputs": [
    {
     "data": {
      "text/plain": [
       "'we all are a part of full stack'"
      ]
     },
     "execution_count": 3,
     "metadata": {},
     "output_type": "execute_result"
    }
   ],
   "source": [
    "a=\"We all are a part of Full Stack\"\n",
    "b=a.lower()\n",
    "b"
   ]
  },
  {
   "cell_type": "code",
   "execution_count": 4,
   "id": "4da23b0b",
   "metadata": {},
   "outputs": [
    {
     "data": {
      "text/plain": [
       "'we all are a part of full stack'"
      ]
     },
     "execution_count": 4,
     "metadata": {},
     "output_type": "execute_result"
    }
   ],
   "source": [
    "b = a.lower()\n",
    "b"
   ]
  },
  {
   "cell_type": "code",
   "execution_count": 8,
   "id": "7b2f4bf3",
   "metadata": {},
   "outputs": [
    {
     "data": {
      "text/plain": [
       "4"
      ]
     },
     "execution_count": 8,
     "metadata": {},
     "output_type": "execute_result"
    }
   ],
   "source": [
    "c= a.count(\"l\")\n",
    "c"
   ]
  },
  {
   "cell_type": "code",
   "execution_count": 25,
   "id": "b8fc1c8c",
   "metadata": {},
   "outputs": [
    {
     "data": {
      "text/plain": [
       "5"
      ]
     },
     "execution_count": 25,
     "metadata": {},
     "output_type": "execute_result"
    }
   ],
   "source": [
    "c=a.count(\"a\")\n",
    "c"
   ]
  },
  {
   "cell_type": "code",
   "execution_count": 11,
   "id": "aa0b43c0",
   "metadata": {},
   "outputs": [
    {
     "name": "stdout",
     "output_type": "stream",
     "text": [
      "3\n",
      "7\n",
      "11\n",
      "14\n",
      "28\n"
     ]
    }
   ],
   "source": [
    "for i in range(len(a)):\n",
    "    if(a[i]==\"a\"):\n",
    "        print(i)"
   ]
  },
  {
   "cell_type": "code",
   "execution_count": 26,
   "id": "d32dc8a3",
   "metadata": {},
   "outputs": [
    {
     "name": "stdout",
     "output_type": "stream",
     "text": [
      "3\n",
      "7\n",
      "11\n",
      "14\n",
      "28\n"
     ]
    }
   ],
   "source": [
    "for i in range(len(a)):\n",
    "    if(a[i]==\"a\"):\n",
    "        print(i)"
   ]
  },
  {
   "cell_type": "code",
   "execution_count": 27,
   "id": "21e4083a",
   "metadata": {},
   "outputs": [
    {
     "data": {
      "text/plain": [
       "'We iNeuronll iNeuronre iNeuron piNeuronrt of Full StiNeuronck'"
      ]
     },
     "execution_count": 27,
     "metadata": {},
     "output_type": "execute_result"
    }
   ],
   "source": [
    "d=a.replace(\"a\",\"iNeuron\")\n",
    "d"
   ]
  },
  {
   "cell_type": "code",
   "execution_count": 28,
   "id": "9c210d85",
   "metadata": {},
   "outputs": [
    {
     "name": "stdout",
     "output_type": "stream",
     "text": [
      "['We', 'all', 'are', 'a', 'part', 'of', 'Full', 'Stack']\n"
     ]
    }
   ],
   "source": [
    "e=a.split()\n",
    "print(e)"
   ]
  },
  {
   "cell_type": "code",
   "execution_count": 29,
   "id": "4a983860",
   "metadata": {},
   "outputs": [
    {
     "name": "stdout",
     "output_type": "stream",
     "text": [
      "we all are a part of full stack\n",
      "The count of a is  5\n",
      "3\n",
      "7\n",
      "11\n",
      "14\n",
      "28\n",
      "We iNeuronll iNeuronre iNeuron piNeuronrt of Full StiNeuronck\n",
      "['We', 'all', 'are', 'a', 'part', 'of', 'Full', 'Stack']\n"
     ]
    }
   ],
   "source": [
    "a=\"We all are a part of Full Stack\"\n",
    "b=a.lower()\n",
    "print(b)\n",
    "c=a.count(\"a\")\n",
    "print(\"The count of a is \",c)\n",
    "for i in range(len(a)):\n",
    "    if(a[i]==\"a\"):\n",
    "        print(i)\n",
    "d=a.replace(\"a\",\"iNeuron\")\n",
    "print(d)\n",
    "e=a.split()\n",
    "print(e)"
   ]
  },
  {
   "cell_type": "code",
   "execution_count": 30,
   "id": "3c59d183",
   "metadata": {},
   "outputs": [
    {
     "name": "stdout",
     "output_type": "stream",
     "text": [
      "we are all part of full stack\n",
      "4\n",
      "[3, 7, 12, 26]\n",
      "We Ineuronre Ineuronll pIneuronrt of Full StIneuronck\n",
      "['We', 'are', 'all', 'part', 'of', 'Full', 'Stack']\n"
     ]
    }
   ],
   "source": [
    "a = \"We are all part of Full Stack\"\n",
    "\n",
    "# 1. Normalizing entire string in lower case\n",
    "print(a.lower())\n",
    "# 2. Finding number of occurances of a in entire string\n",
    "print(len([i for i in range(len(a)) if a[i] == 'a']))\n",
    "# 3. Indexes where a is present \n",
    "print([i for i in range(len(a)) if a[i] == 'a'])  \n",
    "# 4 . replace all a's with ineuron\n",
    "print(a.replace('a','Ineuron'))\n",
    "#5. print all the words as a list\n",
    "print([i for i in a.split() ])"
   ]
  },
  {
   "cell_type": "code",
   "execution_count": 31,
   "id": "8932756e",
   "metadata": {},
   "outputs": [
    {
     "name": "stdout",
     "output_type": "stream",
     "text": [
      "lower : we are part of full stack\n",
      "Count of a : 3\n",
      "3\n",
      "8\n",
      "22\n",
      "Replace a with iNeuron : We iNeuronre PiNeuronrt of Full StiNeuronck\n"
     ]
    }
   ],
   "source": [
    "a='We are Part of Full Stack'\n",
    "b=a.lower()\n",
    "print('lower :',b)\n",
    "c=a.count('a')\n",
    "print('Count of a :',c)\n",
    "for i in range(1,25):\n",
    "    if a[i]== 'a':\n",
    "        print(i)\n",
    "str=a.replace('a','iNeuron')\n",
    "print('Replace a with iNeuron :',str)"
   ]
  },
  {
   "cell_type": "code",
   "execution_count": 32,
   "id": "9853a0f3",
   "metadata": {},
   "outputs": [
    {
     "name": "stdout",
     "output_type": "stream",
     "text": [
      "count of a= 5\n"
     ]
    }
   ],
   "source": [
    "a=\"we all are a part of Full Stack\"\n",
    "a=a.lower()\n",
    "c=a.count(\"a\")\n",
    "print(\"count of a=\",c)"
   ]
  },
  {
   "cell_type": "code",
   "execution_count": 33,
   "id": "7abeff14",
   "metadata": {},
   "outputs": [
    {
     "name": "stdout",
     "output_type": "stream",
     "text": [
      "count of a= 5\n",
      "all indexes of 'a': [3, 7, 11, 14, 28]\n"
     ]
    }
   ],
   "source": [
    "a=\"we all are a part of Full Stack\"\n",
    "a=a.lower()\n",
    "c=a.count(\"a\")\n",
    "print(\"count of a=\",c)\n",
    "l=[]\n",
    "for e in range(len(a)):\n",
    "    if a[e]==\"a\":\n",
    "        l.append(e)\n",
    "print(\"all indexes of 'a':\",l)"
   ]
  },
  {
   "cell_type": "code",
   "execution_count": 34,
   "id": "faa6cb9d",
   "metadata": {},
   "outputs": [
    {
     "data": {
      "text/plain": [
       "['we',\n",
       " 'iNeuronll',\n",
       " 'iNeuronre',\n",
       " 'iNeuron',\n",
       " 'piNeuronrt',\n",
       " 'of',\n",
       " 'full',\n",
       " 'stiNeuronck']"
      ]
     },
     "execution_count": 34,
     "metadata": {},
     "output_type": "execute_result"
    }
   ],
   "source": [
    "a=a.replace(\"a\",\"iNeuron\")    \n",
    "a.split() "
   ]
  },
  {
   "cell_type": "code",
   "execution_count": 12,
   "id": "dd2321e0",
   "metadata": {},
   "outputs": [],
   "source": [
    "s = \"SHAHRUKH\""
   ]
  },
  {
   "cell_type": "code",
   "execution_count": 13,
   "id": "ae68cba8",
   "metadata": {},
   "outputs": [
    {
     "data": {
      "text/plain": [
       "True"
      ]
     },
     "execution_count": 13,
     "metadata": {},
     "output_type": "execute_result"
    }
   ],
   "source": [
    "s.isupper() # give me bolean value "
   ]
  },
  {
   "cell_type": "code",
   "execution_count": 14,
   "id": "46ac33bd",
   "metadata": {},
   "outputs": [],
   "source": [
    "s = \"shahrukh\""
   ]
  },
  {
   "cell_type": "code",
   "execution_count": 15,
   "id": "6008101d",
   "metadata": {},
   "outputs": [
    {
     "data": {
      "text/plain": [
       "True"
      ]
     },
     "execution_count": 15,
     "metadata": {},
     "output_type": "execute_result"
    }
   ],
   "source": [
    "s.islower()"
   ]
  },
  {
   "cell_type": "code",
   "execution_count": 16,
   "id": "c9bed826",
   "metadata": {},
   "outputs": [
    {
     "data": {
      "text/plain": [
       "False"
      ]
     },
     "execution_count": 16,
     "metadata": {},
     "output_type": "execute_result"
    }
   ],
   "source": [
    "s.isupper()"
   ]
  },
  {
   "cell_type": "code",
   "execution_count": 17,
   "id": "09062708",
   "metadata": {},
   "outputs": [
    {
     "data": {
      "text/plain": [
       "False"
      ]
     },
     "execution_count": 17,
     "metadata": {},
     "output_type": "execute_result"
    }
   ],
   "source": [
    "s.isspace()"
   ]
  },
  {
   "cell_type": "code",
   "execution_count": 18,
   "id": "34308598",
   "metadata": {},
   "outputs": [
    {
     "data": {
      "text/plain": [
       "False"
      ]
     },
     "execution_count": 18,
     "metadata": {},
     "output_type": "execute_result"
    }
   ],
   "source": [
    "s.isdigit()"
   ]
  },
  {
   "cell_type": "code",
   "execution_count": 19,
   "id": "fce599e8",
   "metadata": {},
   "outputs": [
    {
     "data": {
      "text/plain": [
       "True"
      ]
     },
     "execution_count": 19,
     "metadata": {},
     "output_type": "execute_result"
    }
   ],
   "source": [
    "s.endswith(\"h\")"
   ]
  },
  {
   "cell_type": "code",
   "execution_count": 20,
   "id": "45619436",
   "metadata": {},
   "outputs": [
    {
     "data": {
      "text/plain": [
       "True"
      ]
     },
     "execution_count": 20,
     "metadata": {},
     "output_type": "execute_result"
    }
   ],
   "source": [
    "s.startswith(\"s\")"
   ]
  },
  {
   "cell_type": "code",
   "execution_count": 25,
   "id": "b81767f5",
   "metadata": {},
   "outputs": [],
   "source": [
    "s = \"shh146\""
   ]
  },
  {
   "cell_type": "code",
   "execution_count": 26,
   "id": "5e326c95",
   "metadata": {},
   "outputs": [
    {
     "data": {
      "text/plain": [
       "True"
      ]
     },
     "execution_count": 26,
     "metadata": {},
     "output_type": "execute_result"
    }
   ],
   "source": [
    "s.isalnum()"
   ]
  },
  {
   "cell_type": "code",
   "execution_count": 34,
   "id": "4b5e0c17",
   "metadata": {},
   "outputs": [],
   "source": [
    "s = \"bhbh235\""
   ]
  },
  {
   "cell_type": "code",
   "execution_count": 35,
   "id": "88bfe2d1",
   "metadata": {},
   "outputs": [
    {
     "data": {
      "text/plain": [
       "False"
      ]
     },
     "execution_count": 35,
     "metadata": {},
     "output_type": "execute_result"
    }
   ],
   "source": [
    "s.isalpha()"
   ]
  },
  {
   "cell_type": "code",
   "execution_count": 37,
   "id": "944c3049",
   "metadata": {},
   "outputs": [],
   "source": [
    "s = \"Shah\" # start part is to be greaterthan"
   ]
  },
  {
   "cell_type": "code",
   "execution_count": 38,
   "id": "bfec8a77",
   "metadata": {},
   "outputs": [
    {
     "data": {
      "text/plain": [
       "True"
      ]
     },
     "execution_count": 38,
     "metadata": {},
     "output_type": "execute_result"
    }
   ],
   "source": [
    "s.istitle()"
   ]
  },
  {
   "cell_type": "code",
   "execution_count": 43,
   "id": "0c206a82",
   "metadata": {},
   "outputs": [],
   "source": [
    "s = \"this is a full stack batch\""
   ]
  },
  {
   "cell_type": "code",
   "execution_count": 45,
   "id": "0d03aeb2",
   "metadata": {},
   "outputs": [
    {
     "data": {
      "text/plain": [
       "26"
      ]
     },
     "execution_count": 45,
     "metadata": {},
     "output_type": "execute_result"
    }
   ],
   "source": [
    "len(s)"
   ]
  },
  {
   "cell_type": "code",
   "execution_count": 40,
   "id": "3a443586",
   "metadata": {},
   "outputs": [
    {
     "name": "stdout",
     "output_type": "stream",
     "text": [
      "26\n"
     ]
    }
   ],
   "source": [
    "count = 0 \n",
    "for i in  s :\n",
    "    count = count +1 \n",
    "print(count)"
   ]
  },
  {
   "cell_type": "code",
   "execution_count": 50,
   "id": "37cbea13",
   "metadata": {},
   "outputs": [
    {
     "name": "stdout",
     "output_type": "stream",
     "text": [
      "h\n",
      "c\n",
      "t\n",
      "a\n",
      "b\n",
      " \n",
      "k\n",
      "c\n",
      "a\n",
      "t\n",
      "s\n",
      " \n",
      "l\n",
      "l\n",
      "u\n",
      "f\n",
      " \n",
      "a\n",
      " \n",
      "s\n",
      "i\n",
      " \n",
      "s\n",
      "i\n",
      "h\n"
     ]
    }
   ],
   "source": [
    "for i in range(1,len(s)) :\n",
    "    print(s[-i])"
   ]
  },
  {
   "cell_type": "code",
   "execution_count": 51,
   "id": "1d61d56c",
   "metadata": {},
   "outputs": [
    {
     "name": "stdout",
     "output_type": "stream",
     "text": [
      "h\n",
      "d\n",
      "u\n",
      "s\n"
     ]
    }
   ],
   "source": [
    "s = \"sudh\"\n",
    "ch = len(s) -1\n",
    "while ch >= 0 :\n",
    "    print(s[ch])\n",
    "    ch = ch -1 "
   ]
  },
  {
   "cell_type": "code",
   "execution_count": 55,
   "id": "f7c9e19e",
   "metadata": {},
   "outputs": [
    {
     "name": "stdout",
     "output_type": "stream",
     "text": [
      "h\n",
      "k\n",
      "u\n",
      "r\n",
      "h\n",
      "a\n",
      "h\n",
      "s\n"
     ]
    }
   ],
   "source": [
    "s = \"shahrukh\"\n",
    "a = len(s) -1\n",
    "while a >= 0:\n",
    "    print(s[a])\n",
    "    a = a-1"
   ]
  },
  {
   "cell_type": "code",
   "execution_count": 56,
   "id": "9ef76dc9",
   "metadata": {},
   "outputs": [
    {
     "name": "stdout",
     "output_type": "stream",
     "text": [
      "s\n",
      "h\n",
      "a\n",
      "h\n",
      "r\n",
      "u\n",
      "k\n",
      "h\n"
     ]
    },
    {
     "ename": "IndexError",
     "evalue": "string index out of range",
     "output_type": "error",
     "traceback": [
      "\u001b[1;31m---------------------------------------------------------------------------\u001b[0m",
      "\u001b[1;31mIndexError\u001b[0m                                Traceback (most recent call last)",
      "\u001b[1;32mC:\\Users\\SHAHRU~1\\AppData\\Local\\Temp/ipykernel_14640/3544382221.py\u001b[0m in \u001b[0;36m<module>\u001b[1;34m\u001b[0m\n\u001b[0;32m      2\u001b[0m \u001b[0ma\u001b[0m \u001b[1;33m=\u001b[0m \u001b[0mlen\u001b[0m\u001b[1;33m(\u001b[0m\u001b[0ms\u001b[0m\u001b[1;33m)\u001b[0m \u001b[1;33m-\u001b[0m\u001b[1;36m8\u001b[0m\u001b[1;33m\u001b[0m\u001b[1;33m\u001b[0m\u001b[0m\n\u001b[0;32m      3\u001b[0m \u001b[1;32mwhile\u001b[0m \u001b[0ma\u001b[0m \u001b[1;33m>=\u001b[0m \u001b[1;36m0\u001b[0m\u001b[1;33m:\u001b[0m\u001b[1;33m\u001b[0m\u001b[1;33m\u001b[0m\u001b[0m\n\u001b[1;32m----> 4\u001b[1;33m     \u001b[0mprint\u001b[0m\u001b[1;33m(\u001b[0m\u001b[0ms\u001b[0m\u001b[1;33m[\u001b[0m\u001b[0ma\u001b[0m\u001b[1;33m]\u001b[0m\u001b[1;33m)\u001b[0m\u001b[1;33m\u001b[0m\u001b[1;33m\u001b[0m\u001b[0m\n\u001b[0m\u001b[0;32m      5\u001b[0m     \u001b[0ma\u001b[0m \u001b[1;33m=\u001b[0m \u001b[0ma\u001b[0m\u001b[1;33m+\u001b[0m\u001b[1;36m1\u001b[0m\u001b[1;33m\u001b[0m\u001b[1;33m\u001b[0m\u001b[0m\n",
      "\u001b[1;31mIndexError\u001b[0m: string index out of range"
     ]
    }
   ],
   "source": [
    "s = \"shahrukh\"\n",
    "a = len(s) -8\n",
    "while a >= 0:\n",
    "    print(s[a])\n",
    "    a = a+1"
   ]
  },
  {
   "cell_type": "code",
   "execution_count": 57,
   "id": "6074b4e1",
   "metadata": {},
   "outputs": [
    {
     "name": "stdout",
     "output_type": "stream",
     "text": [
      "i is a vowel\n",
      "n is not a vowel\n",
      "e is a vowel\n",
      "r is not a vowel\n",
      "u is a vowel\n",
      "o is a vowel\n",
      "n is not a vowel\n"
     ]
    }
   ],
   "source": [
    "name = \"ineruon\"\n",
    "vowels = \"AaEeIiOoUu\"\n",
    "\n",
    "for i in name :\n",
    "    if i in vowels:\n",
    "        print(\"{} is a vowel\".format(i))\n",
    "    else :\n",
    "        print(\"{} is not a vowel\".format(i))"
   ]
  },
  {
   "cell_type": "code",
   "execution_count": 58,
   "id": "73d0e8b5",
   "metadata": {},
   "outputs": [
    {
     "data": {
      "text/plain": [
       "' my name is sudh'"
      ]
     },
     "execution_count": 58,
     "metadata": {},
     "output_type": "execute_result"
    }
   ],
   "source": [
    "\" {} name is sudh\".format(\"my\")"
   ]
  },
  {
   "cell_type": "code",
   "execution_count": 61,
   "id": "5087db1e",
   "metadata": {},
   "outputs": [
    {
     "name": "stdout",
     "output_type": "stream",
     "text": [
      "5\n",
      "9\n"
     ]
    }
   ],
   "source": [
    "a = input()\n",
    "b = input()"
   ]
  },
  {
   "cell_type": "code",
   "execution_count": 62,
   "id": "0f240132",
   "metadata": {},
   "outputs": [
    {
     "data": {
      "text/plain": [
       "(<function str.format>, ('5', '9', 'Fsdfsfs'))"
      ]
     },
     "execution_count": 62,
     "metadata": {},
     "output_type": "execute_result"
    }
   ],
   "source": [
    "\"{} name {} sudh {} \".format,(a, b, \"Fsdfsfs\") # it will try to provide and it will try to pass a data in run time to a system"
   ]
  },
  {
   "cell_type": "code",
   "execution_count": 63,
   "id": "fc4ba453",
   "metadata": {},
   "outputs": [],
   "source": [
    "#pelindrom is kind of data and kind of string if you try to  forword direction and backword direction so it will be same"
   ]
  },
  {
   "cell_type": "code",
   "execution_count": 64,
   "id": "84e49fff",
   "metadata": {},
   "outputs": [],
   "source": [
    "a = \"xyx\"\n",
    "b = 2002\n",
    "c = \"eye\"\n",
    "d = \"nitin\""
   ]
  },
  {
   "cell_type": "code",
   "execution_count": 65,
   "id": "a38b95d2",
   "metadata": {},
   "outputs": [
    {
     "name": "stdout",
     "output_type": "stream",
     "text": [
      "enter a data for which you would like to check pelindrom eye\n",
      "its a same \n"
     ]
    }
   ],
   "source": [
    "s = input(\"enter a data for which you would like to check pelindrom \" )\n",
    "s1 = s[::-1]\n",
    "if s ==s1:\n",
    "    print(\"its a same \")\n",
    "else :\n",
    "    print(\"its not a same \")"
   ]
  },
  {
   "cell_type": "code",
   "execution_count": null,
   "id": "5656c8fd",
   "metadata": {},
   "outputs": [],
   "source": [
    "s = input(\"let me bro type some data and that data are check by polindr0m\")\n",
    "s1 = s[::-1]\n",
    "if s== s1:\n",
    "    print(\"your are correct\")\n",
    "else:\n",
    "    print(\"you are not correct\")"
   ]
  },
  {
   "cell_type": "code",
   "execution_count": 1,
   "id": "ae183e19",
   "metadata": {},
   "outputs": [
    {
     "data": {
      "text/plain": [
       "[4]"
      ]
     },
     "execution_count": 1,
     "metadata": {},
     "output_type": "execute_result"
    }
   ],
   "source": [
    "list =[1,2,3,4]\n",
    "list[4:2:-1]"
   ]
  },
  {
   "cell_type": "code",
   "execution_count": 3,
   "id": "d6f9377f",
   "metadata": {},
   "outputs": [
    {
     "data": {
      "text/plain": [
       "[]"
      ]
     },
     "execution_count": 3,
     "metadata": {},
     "output_type": "execute_result"
    }
   ],
   "source": [
    "list =[1,2,3,4]\n",
    "list[4:3:-1]"
   ]
  },
  {
   "cell_type": "markdown",
   "id": "a149def0",
   "metadata": {},
   "source": [
    "# list manipulation"
   ]
  },
  {
   "cell_type": "code",
   "execution_count": 2,
   "id": "87a81c1d",
   "metadata": {},
   "outputs": [],
   "source": [
    "l = [1,2,3,54,\"srk\",True,\"12312nbdj\"]"
   ]
  },
  {
   "cell_type": "code",
   "execution_count": 3,
   "id": "bce617aa",
   "metadata": {},
   "outputs": [
    {
     "name": "stdout",
     "output_type": "stream",
     "text": [
      "1\n",
      "2\n",
      "3\n",
      "54\n",
      "srk\n",
      "True\n",
      "12312nbdj\n"
     ]
    }
   ],
   "source": [
    "for i in l:\n",
    "    print(i)"
   ]
  },
  {
   "cell_type": "code",
   "execution_count": 3,
   "id": "f6c6ecf7",
   "metadata": {},
   "outputs": [
    {
     "data": {
      "text/plain": [
       "['12312nbdj', True, 'srk', 54, 3, 2, 1]"
      ]
     },
     "execution_count": 3,
     "metadata": {},
     "output_type": "execute_result"
    }
   ],
   "source": [
    "l[::-1]"
   ]
  },
  {
   "cell_type": "code",
   "execution_count": 16,
   "id": "1f1670a2",
   "metadata": {},
   "outputs": [],
   "source": [
    "l  = [\"sudh\" , 234,45.56, [45,56,6,\"c\"] , True]"
   ]
  },
  {
   "cell_type": "code",
   "execution_count": 17,
   "id": "67269924",
   "metadata": {},
   "outputs": [],
   "source": [
    "l1 = [1,2,3,54,\"srk\",True,[1,2,3,12,\"nbdj\"]]"
   ]
  },
  {
   "cell_type": "code",
   "execution_count": 18,
   "id": "b1b76e13",
   "metadata": {},
   "outputs": [
    {
     "name": "stdout",
     "output_type": "stream",
     "text": [
      "no element is not a list  sudh\n",
      "no element is not a list  234\n",
      "no element is not a list  45.56\n",
      "this is a list  [45, 56, 6, 'c']\n",
      "no element is not a list  True\n"
     ]
    }
   ],
   "source": [
    "for i in l :\n",
    "    if type(i)== list :\n",
    "        print(\"this is a list \" ,i)\n",
    "    else :\n",
    "        print(\"no element is not a list \", i)"
   ]
  },
  {
   "cell_type": "code",
   "execution_count": 19,
   "id": "4f278c37",
   "metadata": {},
   "outputs": [
    {
     "name": "stdout",
     "output_type": "stream",
     "text": [
      "this is not a list sudh\n",
      "this is not a list 234\n",
      "this is not a list 45.56\n",
      "this is a list [45, 56, 6, 'c']\n",
      "this is not a list True\n"
     ]
    }
   ],
   "source": [
    "for i in l :\n",
    "    if type(i)==list:\n",
    "        print(\"this is a list\", i)\n",
    "    else:\n",
    "        print(\"this is not a list\", i)"
   ]
  },
  {
   "cell_type": "code",
   "execution_count": 20,
   "id": "dd164a8f",
   "metadata": {},
   "outputs": [
    {
     "data": {
      "text/plain": [
       "['sudh',\n",
       " 234,\n",
       " 45.56,\n",
       " [45, 56, 6, 'c'],\n",
       " True,\n",
       " 1,\n",
       " 2,\n",
       " 3,\n",
       " 54,\n",
       " 'srk',\n",
       " True,\n",
       " [1, 2, 3, 12, 'nbdj']]"
      ]
     },
     "execution_count": 20,
     "metadata": {},
     "output_type": "execute_result"
    }
   ],
   "source": [
    "l+l1"
   ]
  },
  {
   "cell_type": "code",
   "execution_count": 22,
   "id": "b98b269d",
   "metadata": {},
   "outputs": [
    {
     "data": {
      "text/plain": [
       "7"
      ]
     },
     "execution_count": 22,
     "metadata": {},
     "output_type": "execute_result"
    }
   ],
   "source": [
    "len(l1)"
   ]
  },
  {
   "cell_type": "code",
   "execution_count": 24,
   "id": "e51faed9",
   "metadata": {},
   "outputs": [
    {
     "data": {
      "text/plain": [
       "True"
      ]
     },
     "execution_count": 24,
     "metadata": {},
     "output_type": "execute_result"
    }
   ],
   "source": [
    "234 in l"
   ]
  },
  {
   "cell_type": "code",
   "execution_count": 25,
   "id": "0cbc1b67",
   "metadata": {},
   "outputs": [
    {
     "name": "stdout",
     "output_type": "stream",
     "text": [
      "45.56\n"
     ]
    }
   ],
   "source": [
    "print(max([2,3,4,5,45.56]))"
   ]
  },
  {
   "cell_type": "code",
   "execution_count": 26,
   "id": "db25b41c",
   "metadata": {},
   "outputs": [
    {
     "name": "stdout",
     "output_type": "stream",
     "text": [
      "8\n"
     ]
    }
   ],
   "source": [
    "print(max([1,2,3,4,5,6,8]))"
   ]
  },
  {
   "cell_type": "code",
   "execution_count": 29,
   "id": "7e99f18b",
   "metadata": {},
   "outputs": [
    {
     "ename": "TypeError",
     "evalue": "'>' not supported between instances of 'str' and 'int'",
     "output_type": "error",
     "traceback": [
      "\u001b[1;31m---------------------------------------------------------------------------\u001b[0m",
      "\u001b[1;31mTypeError\u001b[0m                                 Traceback (most recent call last)",
      "\u001b[1;32mC:\\Users\\SHAHRU~1\\AppData\\Local\\Temp/ipykernel_13768/3974790338.py\u001b[0m in \u001b[0;36m<module>\u001b[1;34m\u001b[0m\n\u001b[1;32m----> 1\u001b[1;33m \u001b[0mprint\u001b[0m\u001b[1;33m(\u001b[0m\u001b[0mmax\u001b[0m\u001b[1;33m(\u001b[0m\u001b[1;33m[\u001b[0m\u001b[1;36m1\u001b[0m\u001b[1;33m,\u001b[0m\u001b[1;36m2\u001b[0m\u001b[1;33m,\u001b[0m\u001b[1;36m3\u001b[0m\u001b[1;33m,\u001b[0m\u001b[1;36m4\u001b[0m\u001b[1;33m,\u001b[0m\u001b[1;36m5\u001b[0m\u001b[1;33m,\u001b[0m\u001b[1;34m\"srk\"\u001b[0m\u001b[1;33m]\u001b[0m\u001b[1;33m)\u001b[0m\u001b[1;33m)\u001b[0m \u001b[1;31m# not given int with string\u001b[0m\u001b[1;33m\u001b[0m\u001b[1;33m\u001b[0m\u001b[0m\n\u001b[0m",
      "\u001b[1;31mTypeError\u001b[0m: '>' not supported between instances of 'str' and 'int'"
     ]
    }
   ],
   "source": [
    "print(max([1,2,3,4,5,\"srk\"])) # not given int with string"
   ]
  },
  {
   "cell_type": "code",
   "execution_count": 30,
   "id": "9bb20aab",
   "metadata": {},
   "outputs": [
    {
     "data": {
      "text/plain": [
       "90"
      ]
     },
     "execution_count": 30,
     "metadata": {},
     "output_type": "execute_result"
    }
   ],
   "source": [
    "max([1,34,67,90])"
   ]
  },
  {
   "cell_type": "code",
   "execution_count": 31,
   "id": "fc89240c",
   "metadata": {},
   "outputs": [
    {
     "data": {
      "text/plain": [
       "0"
      ]
     },
     "execution_count": 31,
     "metadata": {},
     "output_type": "execute_result"
    }
   ],
   "source": [
    "min([2,4,67,89,0])"
   ]
  },
  {
   "cell_type": "code",
   "execution_count": 32,
   "id": "3b623db9",
   "metadata": {
    "scrolled": true
   },
   "outputs": [
    {
     "ename": "TypeError",
     "evalue": "'>' not supported between instances of 'int' and 'str'",
     "output_type": "error",
     "traceback": [
      "\u001b[1;31m---------------------------------------------------------------------------\u001b[0m",
      "\u001b[1;31mTypeError\u001b[0m                                 Traceback (most recent call last)",
      "\u001b[1;32mC:\\Users\\SHAHRU~1\\AppData\\Local\\Temp/ipykernel_13768/2424508143.py\u001b[0m in \u001b[0;36m<module>\u001b[1;34m\u001b[0m\n\u001b[1;32m----> 1\u001b[1;33m \u001b[0mmax\u001b[0m\u001b[1;33m(\u001b[0m\u001b[1;33m[\u001b[0m\u001b[1;34m\"sdfs\"\u001b[0m\u001b[1;33m,\u001b[0m\u001b[1;34m\"sdfs\"\u001b[0m \u001b[1;33m,\u001b[0m \u001b[1;36m234\u001b[0m\u001b[1;33m]\u001b[0m\u001b[1;33m)\u001b[0m\u001b[1;33m\u001b[0m\u001b[1;33m\u001b[0m\u001b[0m\n\u001b[0m",
      "\u001b[1;31mTypeError\u001b[0m: '>' not supported between instances of 'int' and 'str'"
     ]
    }
   ],
   "source": [
    "max([\"sdfs\",\"sdfs\" , 234])"
   ]
  },
  {
   "cell_type": "code",
   "execution_count": 33,
   "id": "c4877eeb",
   "metadata": {},
   "outputs": [
    {
     "data": {
      "text/plain": [
       "'z'"
      ]
     },
     "execution_count": 33,
     "metadata": {},
     "output_type": "execute_result"
    }
   ],
   "source": [
    "max([\"sudh\" , \"ineruon\" , \"AI\",\"z\"])"
   ]
  },
  {
   "cell_type": "code",
   "execution_count": 34,
   "id": "2cbe5c3e",
   "metadata": {},
   "outputs": [
    {
     "data": {
      "text/plain": [
       "'A'"
      ]
     },
     "execution_count": 34,
     "metadata": {},
     "output_type": "execute_result"
    }
   ],
   "source": [
    "min([\"fsdfa3434\",\"fsd\",\"fsdfaaaaaaaaa\",\"a\" , \"A\"])"
   ]
  },
  {
   "cell_type": "code",
   "execution_count": 35,
   "id": "3a9ce161",
   "metadata": {
    "scrolled": true
   },
   "outputs": [
    {
     "ename": "TypeError",
     "evalue": "'<' not supported between instances of 'int' and 'str'",
     "output_type": "error",
     "traceback": [
      "\u001b[1;31m---------------------------------------------------------------------------\u001b[0m",
      "\u001b[1;31mTypeError\u001b[0m                                 Traceback (most recent call last)",
      "\u001b[1;32mC:\\Users\\SHAHRU~1\\AppData\\Local\\Temp/ipykernel_13768/3569332580.py\u001b[0m in \u001b[0;36m<module>\u001b[1;34m\u001b[0m\n\u001b[1;32m----> 1\u001b[1;33m \u001b[0mmin\u001b[0m\u001b[1;33m(\u001b[0m\u001b[1;34m\"34345\"\u001b[0m\u001b[1;33m,\u001b[0m\u001b[1;36m234\u001b[0m\u001b[1;33m,\u001b[0m\u001b[1;36m234.345\u001b[0m\u001b[1;33m,\u001b[0m\u001b[1;34m\"344\"\u001b[0m\u001b[1;33m)\u001b[0m\u001b[1;33m\u001b[0m\u001b[1;33m\u001b[0m\u001b[0m\n\u001b[0m",
      "\u001b[1;31mTypeError\u001b[0m: '<' not supported between instances of 'int' and 'str'"
     ]
    }
   ],
   "source": [
    "min(\"34345\",234,234.345,\"344\")"
   ]
  },
  {
   "cell_type": "code",
   "execution_count": 38,
   "id": "498f5b51",
   "metadata": {},
   "outputs": [],
   "source": [
    "l = [1,2,3,4]"
   ]
  },
  {
   "cell_type": "code",
   "execution_count": 39,
   "id": "5e9500b1",
   "metadata": {},
   "outputs": [],
   "source": [
    "l.append([1,2,3,4,5,5])"
   ]
  },
  {
   "cell_type": "code",
   "execution_count": 40,
   "id": "06f25875",
   "metadata": {},
   "outputs": [
    {
     "data": {
      "text/plain": [
       "[1, 2, 3, 4, [1, 2, 3, 4, 5, 5]]"
      ]
     },
     "execution_count": 40,
     "metadata": {},
     "output_type": "execute_result"
    }
   ],
   "source": [
    "l"
   ]
  },
  {
   "cell_type": "code",
   "execution_count": 44,
   "id": "465b43f1",
   "metadata": {},
   "outputs": [
    {
     "ename": "TypeError",
     "evalue": "list.append() takes exactly one argument (2 given)",
     "output_type": "error",
     "traceback": [
      "\u001b[1;31m---------------------------------------------------------------------------\u001b[0m",
      "\u001b[1;31mTypeError\u001b[0m                                 Traceback (most recent call last)",
      "\u001b[1;32mC:\\Users\\SHAHRU~1\\AppData\\Local\\Temp/ipykernel_13768/2848848814.py\u001b[0m in \u001b[0;36m<module>\u001b[1;34m\u001b[0m\n\u001b[1;32m----> 1\u001b[1;33m \u001b[0ml\u001b[0m\u001b[1;33m.\u001b[0m\u001b[0mappend\u001b[0m\u001b[1;33m(\u001b[0m\u001b[1;34m\"srk\"\u001b[0m\u001b[1;33m,\u001b[0m\u001b[1;34m\"khan\"\u001b[0m\u001b[1;33m)\u001b[0m\u001b[1;33m\u001b[0m\u001b[1;33m\u001b[0m\u001b[0m\n\u001b[0m",
      "\u001b[1;31mTypeError\u001b[0m: list.append() takes exactly one argument (2 given)"
     ]
    }
   ],
   "source": [
    "l.append(\"srk\",\"khan\")"
   ]
  },
  {
   "cell_type": "code",
   "execution_count": 46,
   "id": "3384eb2e",
   "metadata": {},
   "outputs": [],
   "source": [
    "l.append(\"srk\")"
   ]
  },
  {
   "cell_type": "code",
   "execution_count": 47,
   "id": "4cdf7836",
   "metadata": {},
   "outputs": [
    {
     "data": {
      "text/plain": [
       "[1, 2, 3, 4, [1, 2, 3, 4, 5, 5], 'srk', 'srk']"
      ]
     },
     "execution_count": 47,
     "metadata": {},
     "output_type": "execute_result"
    }
   ],
   "source": [
    "l"
   ]
  },
  {
   "cell_type": "code",
   "execution_count": 50,
   "id": "369d5cc8",
   "metadata": {},
   "outputs": [],
   "source": [
    "l.insert(3,\"srk\") #in third position put srk 0,1,2,3,4,5\n",
    "                   #                         1,2,3,\"srk\",4  "
   ]
  },
  {
   "cell_type": "code",
   "execution_count": 51,
   "id": "32112352",
   "metadata": {},
   "outputs": [
    {
     "data": {
      "text/plain": [
       "[1, 2, 3, 'srk', 4, [1, 2, 3, 4, 5, 5], 'srk', 'srk']"
      ]
     },
     "execution_count": 51,
     "metadata": {},
     "output_type": "execute_result"
    }
   ],
   "source": [
    "l"
   ]
  },
  {
   "cell_type": "code",
   "execution_count": 52,
   "id": "86d82317",
   "metadata": {},
   "outputs": [],
   "source": [
    "l.insert(-1,\"shahrukh\")"
   ]
  },
  {
   "cell_type": "code",
   "execution_count": 53,
   "id": "dc7cd650",
   "metadata": {},
   "outputs": [
    {
     "data": {
      "text/plain": [
       "[1, 2, 3, 'srk', 4, [1, 2, 3, 4, 5, 5], 'srk', 'shahrukh', 'srk']"
      ]
     },
     "execution_count": 53,
     "metadata": {},
     "output_type": "execute_result"
    }
   ],
   "source": [
    "l                     # srk shifted an shahrukh put over the -1 position"
   ]
  },
  {
   "cell_type": "code",
   "execution_count": 54,
   "id": "7336fd9d",
   "metadata": {},
   "outputs": [],
   "source": [
    "l.extend(\"shahrukh\")"
   ]
  },
  {
   "cell_type": "code",
   "execution_count": 57,
   "id": "ae4a53fd",
   "metadata": {},
   "outputs": [
    {
     "data": {
      "text/plain": [
       "[1,\n",
       " 2,\n",
       " 3,\n",
       " 'srk',\n",
       " 4,\n",
       " [1, 2, 3, 4, 5, 5],\n",
       " 'srk',\n",
       " 'shahrukh',\n",
       " 'srk',\n",
       " 's',\n",
       " 'h',\n",
       " 'a',\n",
       " 'h',\n",
       " 'r',\n",
       " 'u',\n",
       " 'k',\n",
       " 'h']"
      ]
     },
     "execution_count": 57,
     "metadata": {},
     "output_type": "execute_result"
    }
   ],
   "source": [
    "l # only iterable object allow not any int"
   ]
  },
  {
   "cell_type": "code",
   "execution_count": 58,
   "id": "6d8d802a",
   "metadata": {},
   "outputs": [
    {
     "ename": "TypeError",
     "evalue": "'int' object is not iterable",
     "output_type": "error",
     "traceback": [
      "\u001b[1;31m---------------------------------------------------------------------------\u001b[0m",
      "\u001b[1;31mTypeError\u001b[0m                                 Traceback (most recent call last)",
      "\u001b[1;32mC:\\Users\\SHAHRU~1\\AppData\\Local\\Temp/ipykernel_13768/3219959721.py\u001b[0m in \u001b[0;36m<module>\u001b[1;34m\u001b[0m\n\u001b[1;32m----> 1\u001b[1;33m \u001b[0ml\u001b[0m\u001b[1;33m.\u001b[0m\u001b[0mextend\u001b[0m\u001b[1;33m(\u001b[0m\u001b[1;36m45\u001b[0m\u001b[1;33m)\u001b[0m\u001b[1;33m\u001b[0m\u001b[1;33m\u001b[0m\u001b[0m\n\u001b[0m",
      "\u001b[1;31mTypeError\u001b[0m: 'int' object is not iterable"
     ]
    }
   ],
   "source": [
    "l.extend(45)"
   ]
  },
  {
   "cell_type": "code",
   "execution_count": 59,
   "id": "48590fe8",
   "metadata": {},
   "outputs": [],
   "source": [
    "l.extend([45])"
   ]
  },
  {
   "cell_type": "code",
   "execution_count": 60,
   "id": "da6de45f",
   "metadata": {},
   "outputs": [
    {
     "data": {
      "text/plain": [
       "[1,\n",
       " 2,\n",
       " 3,\n",
       " 'srk',\n",
       " 4,\n",
       " [1, 2, 3, 4, 5, 5],\n",
       " 'srk',\n",
       " 'shahrukh',\n",
       " 'srk',\n",
       " 's',\n",
       " 'h',\n",
       " 'a',\n",
       " 'h',\n",
       " 'r',\n",
       " 'u',\n",
       " 'k',\n",
       " 'h',\n",
       " 45]"
      ]
     },
     "execution_count": 60,
     "metadata": {},
     "output_type": "execute_result"
    }
   ],
   "source": [
    "l"
   ]
  },
  {
   "cell_type": "code",
   "execution_count": 66,
   "id": "4041e1b2",
   "metadata": {},
   "outputs": [],
   "source": [
    "l = [1, 2, 3, 4, [1, 2, 3, 4, 5, 5], 'srk', 'srk']"
   ]
  },
  {
   "cell_type": "code",
   "execution_count": 67,
   "id": "430e8384",
   "metadata": {},
   "outputs": [
    {
     "data": {
      "text/plain": [
       "3"
      ]
     },
     "execution_count": 67,
     "metadata": {},
     "output_type": "execute_result"
    }
   ],
   "source": [
    "l.index(4)"
   ]
  },
  {
   "cell_type": "code",
   "execution_count": 68,
   "id": "df991e3a",
   "metadata": {},
   "outputs": [],
   "source": [
    "l = {1,2,3,4,5}"
   ]
  },
  {
   "cell_type": "code",
   "execution_count": 70,
   "id": "c1f843c5",
   "metadata": {},
   "outputs": [
    {
     "data": {
      "text/plain": [
       "1"
      ]
     },
     "execution_count": 70,
     "metadata": {},
     "output_type": "execute_result"
    }
   ],
   "source": [
    "l.pop() # pop delting the data based on index"
   ]
  },
  {
   "cell_type": "code",
   "execution_count": 71,
   "id": "e27c645c",
   "metadata": {},
   "outputs": [
    {
     "data": {
      "text/plain": [
       "{2, 3, 4, 5}"
      ]
     },
     "execution_count": 71,
     "metadata": {},
     "output_type": "execute_result"
    }
   ],
   "source": [
    "l"
   ]
  },
  {
   "cell_type": "code",
   "execution_count": 72,
   "id": "19339df6",
   "metadata": {},
   "outputs": [],
   "source": [
    "l.remove(4) # remove first ocrances maching the data"
   ]
  },
  {
   "cell_type": "code",
   "execution_count": 73,
   "id": "ae823fed",
   "metadata": {},
   "outputs": [
    {
     "data": {
      "text/plain": [
       "{2, 3, 5}"
      ]
     },
     "execution_count": 73,
     "metadata": {},
     "output_type": "execute_result"
    }
   ],
   "source": [
    "l"
   ]
  },
  {
   "cell_type": "code",
   "execution_count": 74,
   "id": "93c77385",
   "metadata": {},
   "outputs": [],
   "source": [
    "l = [1,3,7,4,5,9,2]"
   ]
  },
  {
   "cell_type": "code",
   "execution_count": 75,
   "id": "c9c5370a",
   "metadata": {},
   "outputs": [],
   "source": [
    "l.sort()"
   ]
  },
  {
   "cell_type": "code",
   "execution_count": 76,
   "id": "6d982f76",
   "metadata": {},
   "outputs": [
    {
     "data": {
      "text/plain": [
       "[1, 2, 3, 4, 5, 7, 9]"
      ]
     },
     "execution_count": 76,
     "metadata": {},
     "output_type": "execute_result"
    }
   ],
   "source": [
    "l"
   ]
  },
  {
   "cell_type": "code",
   "execution_count": 1,
   "id": "bbbfe398",
   "metadata": {},
   "outputs": [
    {
     "name": "stdout",
     "output_type": "stream",
     "text": [
      "2\n",
      "index of string:  3\n",
      "6\n",
      "7\n",
      "3\n",
      "6\n",
      "[[1, 2, 3, 4], [5, 6, 7, 'hi', 8], [8, 7, 66], 2, 6, [2, 3, 4], (8+6j), [5, 6, 7]]\n"
     ]
    }
   ],
   "source": [
    "l = [[1,2,3,4],[5,6,7,\"hello\",8],[8,7,66],2,6]\n",
    "l.append([2,3,4])\n",
    "l.append(8+6j)\n",
    "l.append([5,6,7])\n",
    "for i in l:\n",
    "\n",
    "  if type(i) == list:\n",
    "    for j,v in enumerate(i):\n",
    "      \n",
    "      if type(v) == str:\n",
    "        print(\"index of string: \",j)\n",
    "        i[j]=\"hi\"\n",
    "    print(i[1])\n",
    "print(l)"
   ]
  },
  {
   "cell_type": "code",
   "execution_count": 2,
   "id": "d924b897",
   "metadata": {},
   "outputs": [],
   "source": [
    "l=[[1,2,3],[4,5,6],[7,8,9,'xyz','xyz','xyz'],10, 'vishal', True]\n",
    "# part1\n",
    "l.insert(2,[11,12])\n",
    "l.insert(-1,[13,14])\n",
    "l.append(12+3j)"
   ]
  },
  {
   "cell_type": "code",
   "execution_count": 3,
   "id": "c16a1d1f",
   "metadata": {},
   "outputs": [
    {
     "name": "stdout",
     "output_type": "stream",
     "text": [
      "3\n",
      "3\n",
      "3\n"
     ]
    }
   ],
   "source": [
    "for i in l:\n",
    "    if type(i) == list:\n",
    "        for j in i:\n",
    "            if type(j) == str:\n",
    "                print(l.index(i))"
   ]
  },
  {
   "cell_type": "code",
   "execution_count": 4,
   "id": "ff6ce8b8",
   "metadata": {},
   "outputs": [
    {
     "data": {
      "text/plain": [
       "[[1, 2, 3],\n",
       " [4, 5, 6],\n",
       " [11, 12],\n",
       " [7, 8, 9, 'xyz', 'xyz', 'xyz'],\n",
       " 10,\n",
       " 'vishal',\n",
       " [13, 14],\n",
       " True,\n",
       " (12+3j)]"
      ]
     },
     "execution_count": 4,
     "metadata": {},
     "output_type": "execute_result"
    }
   ],
   "source": [
    "l"
   ]
  },
  {
   "cell_type": "code",
   "execution_count": 5,
   "id": "df8e625c",
   "metadata": {},
   "outputs": [
    {
     "name": "stdout",
     "output_type": "stream",
     "text": [
      "[[1, 2, 3], [4, 5, 6], [11, 12], [7, 8, 9, 'xyz'], 10, 'vishal', [13, 14], True, (12+3j)]\n",
      "3\n",
      "3\n",
      "6\n"
     ]
    },
    {
     "ename": "IndexError",
     "evalue": "pop index out of range",
     "output_type": "error",
     "traceback": [
      "\u001b[1;31m---------------------------------------------------------------------------\u001b[0m",
      "\u001b[1;31mIndexError\u001b[0m                                Traceback (most recent call last)",
      "\u001b[1;32mC:\\Users\\SHAHRU~1\\AppData\\Local\\Temp/ipykernel_3176/2888294559.py\u001b[0m in \u001b[0;36m<module>\u001b[1;34m\u001b[0m\n\u001b[0;32m     14\u001b[0m \u001b[1;32mfor\u001b[0m \u001b[0mi\u001b[0m \u001b[1;32min\u001b[0m \u001b[0ml\u001b[0m\u001b[1;33m:\u001b[0m\u001b[1;33m\u001b[0m\u001b[1;33m\u001b[0m\u001b[0m\n\u001b[0;32m     15\u001b[0m     \u001b[1;32mif\u001b[0m \u001b[0mtype\u001b[0m\u001b[1;33m(\u001b[0m\u001b[0mi\u001b[0m\u001b[1;33m)\u001b[0m\u001b[1;33m==\u001b[0m\u001b[0mlist\u001b[0m\u001b[1;33m:\u001b[0m\u001b[1;33m\u001b[0m\u001b[1;33m\u001b[0m\u001b[0m\n\u001b[1;32m---> 16\u001b[1;33m         \u001b[0mprint\u001b[0m\u001b[1;33m(\u001b[0m\u001b[0mi\u001b[0m\u001b[1;33m.\u001b[0m\u001b[0mpop\u001b[0m\u001b[1;33m(\u001b[0m\u001b[1;36m2\u001b[0m\u001b[1;33m)\u001b[0m\u001b[1;33m)\u001b[0m\u001b[1;33m\u001b[0m\u001b[1;33m\u001b[0m\u001b[0m\n\u001b[0m",
      "\u001b[1;31mIndexError\u001b[0m: pop index out of range"
     ]
    }
   ],
   "source": [
    "l=[[1,2,3],[4,5,6],[7,8,9,'xyz'],10, 'vishal', True]\n",
    "# part1\n",
    "l.insert(2,[11,12])\n",
    "l.insert(-1,[13,14])\n",
    "l.append(12+3j)\n",
    "print(l)\n",
    "# part2\n",
    "for i in l:\n",
    "    if type(i) == list:\n",
    "        for j in i:\n",
    "            if type(j) == str:\n",
    "                print(l.index(i))\n",
    "#part3\n",
    "for i in l:\n",
    "    if type(i)==list:\n",
    "        print(i.pop(2))"
   ]
  },
  {
   "cell_type": "code",
   "execution_count": 6,
   "id": "af654652",
   "metadata": {},
   "outputs": [
    {
     "name": "stdout",
     "output_type": "stream",
     "text": [
      "[[23, 45], [6, 7, '78S'], ['sdf', 'sdf'], 'ABC', 'REV']\n",
      "[[23, 45], [6, 7, '78S'], ['sdf', 'sdf'], [11, 12], 'ABC', 'REV']\n",
      "After complex number-  [[23, 45], (2+3j), [6, 7, '78S'], ['sdf', 'sdf'], [11, 12], 'ABC', 'REV']\n"
     ]
    },
    {
     "data": {
      "text/plain": [
       "[[23, 45], (2+3j), [6, 7, '78S'], ['sdf', 'sdf'], [11, 12], 'ABC', 'REV']"
      ]
     },
     "execution_count": 6,
     "metadata": {},
     "output_type": "execute_result"
    }
   ],
   "source": [
    "l = [[23,45],[6,7,'78S'],'ABC','REV']\n",
    "\n",
    "#Q1\n",
    "\n",
    "l.insert(2,['sdf','sdf'])\n",
    "print(l)\n",
    "l.insert(3,[11,12])\n",
    "print(l)\n",
    "l.insert(1,(2+3j))\n",
    "print('After complex number- ',l)\n",
    "l"
   ]
  },
  {
   "cell_type": "code",
   "execution_count": 7,
   "id": "da608c0b",
   "metadata": {},
   "outputs": [
    {
     "name": "stdout",
     "output_type": "stream",
     "text": [
      "Found String in Neasted List at index=[6, 7, '78S'] : 78S\n",
      "Removed 78S\n",
      "Found String in Neasted List at index=['sdf', 'sdf'] : sdf\n",
      "Removed sdf\n",
      "List after remove  [[23, 45], (2+3j), [6, 7], ['sdf'], [11, 12], 'ABC', 'REV']\n"
     ]
    }
   ],
   "source": [
    "#Q2\n",
    "for i in l:\n",
    "    if type(i) == list:\n",
    "        for j in i:\n",
    "            if type(j) == str:\n",
    "                print('Found String in Neasted List at index={} : {}'.format(i,j))\n",
    "                print('Removed',j)\n",
    "                i.remove(j)\n",
    "\n",
    "print('List after remove ',l)"
   ]
  },
  {
   "cell_type": "code",
   "execution_count": 8,
   "id": "3ca7ac45",
   "metadata": {
    "scrolled": true
   },
   "outputs": [
    {
     "name": "stdout",
     "output_type": "stream",
     "text": [
      "Updated list: [[1, '2'], [(1+2j), (3+5j)], [10, 11], [20, 21], '3', 4, 5]\n",
      "\n",
      "\n"
     ]
    }
   ],
   "source": [
    "l=[[1,'2'],[10,11],[20,21],'3',4,5]\n",
    "c=[1+2j,3+5j]\n",
    "\n",
    "# question 1\n",
    "l.insert(1,c)\n",
    "print(f'Updated list: {l}')\n",
    "\n",
    "print()\n",
    "print()"
   ]
  },
  {
   "cell_type": "code",
   "execution_count": 9,
   "id": "bea15eaa",
   "metadata": {
    "scrolled": true
   },
   "outputs": [
    {
     "name": "stdout",
     "output_type": "stream",
     "text": [
      "Updated list: [[1, '2'], [(1+2j), (3+5j)], [10, 11], [20, 21], '3', 4, 5]\n",
      "\n",
      "\n",
      "String exist is 3\n",
      "Its position is: 4\n",
      "\n",
      "After removing 4 the new list is:\n",
      " [[1, '2'], [(1+2j), (3+5j)], [10, 11], [20, 21], 4, 5]\n",
      "\n",
      "\n",
      "The every second elemnt is:\n",
      "2\n",
      "(3+5j)\n",
      "11\n",
      "21\n"
     ]
    }
   ],
   "source": [
    "l=[[1,'2'],[10,11],[20,21],'3',4,5]\n",
    "c=[1+2j,3+5j]\n",
    "\n",
    "# question 1\n",
    "l.insert(1,c)\n",
    "print(f'Updated list: {l}')\n",
    "\n",
    "print()\n",
    "print()\n",
    "\n",
    "# question 2\n",
    "for i in l:\n",
    "    if type(i)==str:\n",
    "        print(f'String exist is {i}')\n",
    "        a=l.index(i)\n",
    "        print(f'Its position is: {a}')\n",
    "print()\n",
    "l.remove('3')\n",
    "print(f'After removing {a} the new list is:\\n {l}')\n",
    "\n",
    "print()\n",
    "print()\n",
    "\n",
    "# question 3\n",
    "print('The every second elemnt is:')\n",
    "for i in l:\n",
    "    if type(i)==list:\n",
    "        \n",
    "        print(i[1])"
   ]
  },
  {
   "cell_type": "code",
   "execution_count": 10,
   "id": "84485f8f",
   "metadata": {
    "scrolled": true
   },
   "outputs": [
    {
     "name": "stdout",
     "output_type": "stream",
     "text": [
      "[[23, 45], [6, 7, '78S'], ['sdf', 'sdf'], 'ABC', 'REV']\n",
      "[[23, 45], [6, 7, '78S'], ['sdf', 'sdf'], [11, 12], 'ABC', 'REV']\n",
      "After complex number-  [[23, 45], (2+3j), [6, 7, '78S'], ['sdf', 'sdf'], [11, 12], 'ABC', 'REV']\n",
      "Found String in Neasted List at index=[6, 7, '78S'] : 78S\n",
      "Removed 78S\n",
      "Found String in Neasted List at index=['sdf', 'sdf'] : sdf\n",
      "Removed sdf\n",
      "List after remove  [[23, 45], (2+3j), [6, 7], ['sdf'], [11, 12], 'ABC', 'REV']\n",
      "Neasted List  1\n",
      "2nd element of it is= 45\n",
      "Neasted List  2\n",
      "2nd element of it is= 7\n",
      "Neasted List  3\n",
      "2nd element of it is= 12\n"
     ]
    }
   ],
   "source": [
    "l = [[23,45],[6,7,'78S'],'ABC','REV']\n",
    "\n",
    "#Q1\n",
    "\n",
    "l.insert(2,['sdf','sdf'])\n",
    "print(l)\n",
    "l.insert(3,[11,12])\n",
    "print(l)\n",
    "l.insert(1,(2+3j))\n",
    "print('After complex number- ',l)\n",
    "\n",
    "#Q2\n",
    "for i in l:\n",
    "    if type(i) == list:\n",
    "        for j in i:\n",
    "            if type(j) == str:\n",
    "                print('Found String in Neasted List at index={} : {}'.format(i,j))\n",
    "                print('Removed',j)\n",
    "                i.remove(j)\n",
    "\n",
    "print('List after remove ',l)\n",
    "\n",
    "#Q3\n",
    "k=1\n",
    "for i in l:\n",
    "    if type(i) == list and len(i) >=2:\n",
    "        print('Neasted List ',k)\n",
    "        print('2nd element of it is=',i[1])\n",
    "        k+=1"
   ]
  },
  {
   "cell_type": "code",
   "execution_count": 11,
   "id": "e52ad33e",
   "metadata": {},
   "outputs": [
    {
     "name": "stdout",
     "output_type": "stream",
     "text": [
      "[[1, 'a'], [3, 4], [5, 'b'], 6j, [7, 8], [9, 0], 1, 3, 4, 5, 6]\n",
      "a\n",
      "b\n"
     ]
    }
   ],
   "source": [
    "l = [[1,'a'],[3,4],[5,'b'],1,3,4,5,6]\n",
    "# Append 2 more list and 1 complex number in between\n",
    "l.insert(3,6j)\n",
    "l.insert(4,[7,8])\n",
    "l.insert(5,[9,0])\n",
    "print (l)\n",
    "for i in l:\n",
    "    if type(i) == list:\n",
    "        for t in i:\n",
    "            if type(t) == str:\n",
    "                print(t)"
   ]
  },
  {
   "cell_type": "code",
   "execution_count": 12,
   "id": "3c99130a",
   "metadata": {
    "scrolled": true
   },
   "outputs": [
    {
     "data": {
      "text/plain": [
       "[[22, 'mahendra', 55, 22.4],\n",
       " ['dhoni', 77, 11, 55, 78.9],\n",
       " [2, 5, 6],\n",
       " [77, 88, 99],\n",
       " [99, 'pravin', 88, True],\n",
       " 2,\n",
       " 5,\n",
       " (6+4j),\n",
       " 8]"
      ]
     },
     "execution_count": 12,
     "metadata": {},
     "output_type": "execute_result"
    }
   ],
   "source": [
    "l1 = [[22,\"mahendra\",55,22.4],[\"dhoni\",77,11,55,78.9],[77,88,99],2,5,8]\n",
    "\n",
    "l1.insert(2,[2,5,6])\n",
    "l1.insert(4,[99,\"pravin\",88,True])\n",
    "l1.insert(-1,6+4j)\n",
    "l1"
   ]
  },
  {
   "cell_type": "code",
   "execution_count": 13,
   "id": "423f6091",
   "metadata": {},
   "outputs": [
    {
     "name": "stdout",
     "output_type": "stream",
     "text": [
      "1\n",
      "0\n",
      "1\n"
     ]
    }
   ],
   "source": [
    "for i in l1:\n",
    "    if type(i) == list :\n",
    "        for j in i:\n",
    "            if type(j) == str :\n",
    "                print(i.index(j))\n",
    "                i.remove(j)"
   ]
  },
  {
   "cell_type": "code",
   "execution_count": 14,
   "id": "0cfbbd40",
   "metadata": {},
   "outputs": [],
   "source": [
    "l=[[\"gh\",56],[89,\"yhg\"],[\"90\",98],78,90.0]"
   ]
  },
  {
   "cell_type": "code",
   "execution_count": 15,
   "id": "a20571f2",
   "metadata": {},
   "outputs": [
    {
     "name": "stdout",
     "output_type": "stream",
     "text": [
      "[['gh', 56], [78, 90], [89, '90', '90', '90'], (6+7j), [89, 'yhg'], ['90', 98], 78, 90.0]\n"
     ]
    }
   ],
   "source": [
    "for e in l:\n",
    "    if type(e)==list:\n",
    "        l.insert(l.index(e)+1,[78,90])\n",
    "        l.insert(l.index(e)+2,[89,\"90\",\"90\",\"90\"])\n",
    "        l.insert(l.index(e)+3,6+7j)\n",
    "        break\n",
    "print(l)"
   ]
  },
  {
   "cell_type": "code",
   "execution_count": 16,
   "id": "f9231548",
   "metadata": {
    "scrolled": true
   },
   "outputs": [
    {
     "name": "stdout",
     "output_type": "stream",
     "text": [
      "index of string in nested list of index number 0 is 0\n",
      "index of string in nested list of index number 2 is 1\n",
      "index of string in nested list of index number 2 is 1\n",
      "index of string in nested list of index number 4 is 1\n",
      "index of string in nested list of index number 5 is 0\n",
      "new list [[56], [78, 90], [89, '90'], (6+7j), [89], [98], 78, 90.0]\n"
     ]
    }
   ],
   "source": [
    "for i in l:\n",
    "    if type(i)==list:\n",
    "        for e in i:\n",
    "            if type(e)==str:\n",
    "                print(f\"index of string in nested list of index number {l.index(i)} is {i.index(e)}\")\n",
    "                i.remove(e)\n",
    "print(\"new list\",l)"
   ]
  },
  {
   "cell_type": "code",
   "execution_count": 17,
   "id": "faf7a17d",
   "metadata": {
    "scrolled": true
   },
   "outputs": [
    {
     "name": "stdout",
     "output_type": "stream",
     "text": [
      "[['gh', 56], [78, 90], [89, '90'], (6+7j), [89, 'yhg'], ['90', 98], 78, 90.0]\n",
      "index of string in nested list of index number 0 is 0\n",
      "index of string in nested list of index number 2 is 1\n",
      "index of string in nested list of index number 4 is 1\n",
      "index of string in nested list of index number 5 is 0\n",
      "new list [[56], [78, 90], [89], (6+7j), [89], [98], 78, 90.0]\n",
      "final list [[56], [78], [89], (6+7j), [89], [98], 78, 90.0]\n"
     ]
    }
   ],
   "source": [
    "l=[[\"gh\",56],[89,\"yhg\"],[\"90\",98],78,90.0]\n",
    "for e in l:\n",
    "    if type(e)==list:\n",
    "        l.insert(l.index(e)+1,[78,90])\n",
    "        l.insert(l.index(e)+2,[89,\"90\"])\n",
    "        l.insert(l.index(e)+3,6+7j)\n",
    "        break\n",
    "print(l)\n",
    "for i in l:\n",
    "    if type(i)==list:\n",
    "        for e in i:\n",
    "            if type(e)==str:\n",
    "                print(f\"index of string in nested list of index number {l.index(i)} is {i.index(e)}\")\n",
    "                i.remove(e)\n",
    "print(\"new list\",l)\n",
    "for i in l:\n",
    "    if type(i)==list:\n",
    "        for e in i:\n",
    "            if len(i)>1:\n",
    "                i.pop(1)\n",
    "print(\"final list\",l)"
   ]
  },
  {
   "cell_type": "code",
   "execution_count": 18,
   "id": "1c9f2a96",
   "metadata": {
    "scrolled": true
   },
   "outputs": [
    {
     "name": "stdout",
     "output_type": "stream",
     "text": [
      "[[22, 'mahendra', 55, 22.4], ['dhoni', 77, 11, 55, 78.9], [2, 5, 6], [77, 88, 99], [99, 'pravin', 88, True], 2, 5, (6+4j), 8]\n",
      "1\n",
      "0\n",
      "1\n",
      "[[22, 55, 22.4], [77, 11, 55, 78.9], [2, 5, 6], [77, 88, 99], [99, 88, True], 2, 5, (6+4j), 8]\n",
      "22.4,55,6,99,True,"
     ]
    }
   ],
   "source": [
    "l1 = [[22,\"mahendra\",55,22.4],[\"dhoni\",77,11,55,78.9],[77,88,99],2,5,8]\n",
    "\n",
    "l1.insert(2,[2,5,6])\n",
    "l1.insert(4,[99,\"pravin\",88,True])\n",
    "l1.insert(-1,6+4j)\n",
    "\n",
    "print(l1)\n",
    "\n",
    "for i in l1:\n",
    "    if type(i) == list :\n",
    "        for j in i:\n",
    "            if type(j) == str :\n",
    "                print(i.index(j))\n",
    "                i.remove(j)\n",
    "\n",
    "\n",
    "print(l1)\n",
    "\n",
    "for i in l1 :\n",
    "    if type(i) == list :\n",
    "        print(i[2], end = \",\")"
   ]
  },
  {
   "cell_type": "code",
   "execution_count": 19,
   "id": "9861614e",
   "metadata": {},
   "outputs": [
    {
     "name": "stdout",
     "output_type": "stream",
     "text": [
      "Q1\n",
      "[(5+6j), [1, 2, 3], [4, 5, 6], [6, 5, 4], [3, 2, 1, 'test', 'test', 'test'], [7, 8, 9], 12, 'Santosh']\n"
     ]
    }
   ],
   "source": [
    "l = [[1,2,3],[4,5,6],[7,8,9],12,\"Santosh\"]\n",
    "l.insert(2,[3,2,1,\"test\",\"test\",\"test\"])\n",
    "l.insert(2,[6,5,4])\n",
    "l.insert(0, 5 + 6j)\n",
    "print(\"Q1\")\n",
    "print(l)"
   ]
  },
  {
   "cell_type": "code",
   "execution_count": 20,
   "id": "193a53ae",
   "metadata": {},
   "outputs": [
    {
     "name": "stdout",
     "output_type": "stream",
     "text": [
      "3\n",
      "4\n"
     ]
    },
    {
     "ename": "IndexError",
     "evalue": "list index out of range",
     "output_type": "error",
     "traceback": [
      "\u001b[1;31m---------------------------------------------------------------------------\u001b[0m",
      "\u001b[1;31mIndexError\u001b[0m                                Traceback (most recent call last)",
      "\u001b[1;32mC:\\Users\\SHAHRU~1\\AppData\\Local\\Temp/ipykernel_3176/741758627.py\u001b[0m in \u001b[0;36m<module>\u001b[1;34m\u001b[0m\n\u001b[0;32m      2\u001b[0m     \u001b[1;32mif\u001b[0m \u001b[0mtype\u001b[0m\u001b[1;33m(\u001b[0m\u001b[0ml\u001b[0m\u001b[1;33m[\u001b[0m\u001b[0mi\u001b[0m\u001b[1;33m]\u001b[0m\u001b[1;33m)\u001b[0m \u001b[1;33m==\u001b[0m \u001b[0mlist\u001b[0m\u001b[1;33m:\u001b[0m\u001b[1;33m\u001b[0m\u001b[1;33m\u001b[0m\u001b[0m\n\u001b[0;32m      3\u001b[0m         \u001b[1;32mfor\u001b[0m \u001b[0mj\u001b[0m \u001b[1;32min\u001b[0m \u001b[0mrange\u001b[0m\u001b[1;33m(\u001b[0m\u001b[0mlen\u001b[0m\u001b[1;33m(\u001b[0m\u001b[0ml\u001b[0m\u001b[1;33m[\u001b[0m\u001b[0mi\u001b[0m\u001b[1;33m]\u001b[0m\u001b[1;33m)\u001b[0m\u001b[1;33m)\u001b[0m\u001b[1;33m:\u001b[0m\u001b[1;33m\u001b[0m\u001b[1;33m\u001b[0m\u001b[0m\n\u001b[1;32m----> 4\u001b[1;33m             \u001b[1;32mif\u001b[0m \u001b[0mtype\u001b[0m\u001b[1;33m(\u001b[0m\u001b[0ml\u001b[0m\u001b[1;33m[\u001b[0m\u001b[0mi\u001b[0m\u001b[1;33m]\u001b[0m\u001b[1;33m[\u001b[0m\u001b[0mj\u001b[0m\u001b[1;33m]\u001b[0m\u001b[1;33m)\u001b[0m \u001b[1;33m==\u001b[0m \u001b[0mstr\u001b[0m\u001b[1;33m:\u001b[0m\u001b[1;33m\u001b[0m\u001b[1;33m\u001b[0m\u001b[0m\n\u001b[0m\u001b[0;32m      5\u001b[0m                 \u001b[0mprint\u001b[0m\u001b[1;33m(\u001b[0m\u001b[0mj\u001b[0m\u001b[1;33m)\u001b[0m\u001b[1;33m\u001b[0m\u001b[1;33m\u001b[0m\u001b[0m\n\u001b[0;32m      6\u001b[0m                 \u001b[1;32mdel\u001b[0m \u001b[0ml\u001b[0m\u001b[1;33m[\u001b[0m\u001b[0mi\u001b[0m\u001b[1;33m]\u001b[0m\u001b[1;33m[\u001b[0m\u001b[0mj\u001b[0m\u001b[1;33m]\u001b[0m\u001b[1;33m\u001b[0m\u001b[1;33m\u001b[0m\u001b[0m\n",
      "\u001b[1;31mIndexError\u001b[0m: list index out of range"
     ]
    }
   ],
   "source": [
    "for i in range(len(l)):\n",
    "    if type(l[i]) == list:\n",
    "        for j in range(len(l[i])):\n",
    "            if type(l[i][j]) == str:\n",
    "                print(j)\n",
    "                del l[i][j]\n",
    "    if(type(l[i]) == str):\n",
    "        print(j)\n",
    "        del l[i]\n",
    "print(\"Q2\")\n",
    "print(l)\n",
    "print(\"Q3\")\n",
    "for i in range(len(l)):\n",
    "    if type(l[i]) == list:\n",
    "        print(l[i][1])"
   ]
  },
  {
   "cell_type": "code",
   "execution_count": 21,
   "id": "91a10fd5",
   "metadata": {
    "scrolled": true
   },
   "outputs": [
    {
     "data": {
      "text/plain": [
       "[[4, 5, 'Sameer', 'Sameer', 'Sameer'],\n",
       " [346, 7, 3426, 76],\n",
       " [34657, 'Jadhav', 74557, 45, 6],\n",
       " (3+6j),\n",
       " 23095,\n",
       " 'ineuron',\n",
       " [67, 67],\n",
       " [55, 55]]"
      ]
     },
     "execution_count": 21,
     "metadata": {},
     "output_type": "execute_result"
    }
   ],
   "source": [
    "l=[[4,5,\"Sameer\",\"Sameer\",\"Sameer\"],[346,7,3426,76],[34657,\"Jadhav\",74557,45,6],23095,'ineuron']\n",
    "l.append([67,67])\n",
    "l.append([55,55])\n",
    "l.insert(3,3+6j)\n",
    "l"
   ]
  },
  {
   "cell_type": "code",
   "execution_count": 22,
   "id": "fbd25fc3",
   "metadata": {},
   "outputs": [
    {
     "name": "stdout",
     "output_type": "stream",
     "text": [
      " got Sameer string at [4, 5, 'Sameer', 'Sameer', 'Sameer'] location\n",
      "[4, 5, 'Sameer', 'Sameer']\n",
      " got Sameer string at [4, 5, 'Sameer', 'Sameer'] location\n",
      "[4, 5, 'Sameer']\n",
      " got Jadhav string at [34657, 'Jadhav', 74557, 45, 6] location\n",
      "[34657, 74557, 45, 6]\n"
     ]
    }
   ],
   "source": [
    "l=[[4,5,\"Sameer\",\"Sameer\",\"Sameer\"],[346,7,3426,76],[34657,\"Jadhav\",74557,45,6],23095,'ineuron']\n",
    "l.append([67,67])\n",
    "l.append([55,55])\n",
    "l.insert(3,3+6j)\n",
    "l\n",
    "\n",
    "for i in l:\n",
    "    if type(i)==list:\n",
    "        for j in i:\n",
    "            if type(j)== str:\n",
    "                print (\" got {} string at {} location\".format(j,i))\n",
    "                i.remove(j)\n",
    "                print(i)\n"
   ]
  },
  {
   "cell_type": "code",
   "execution_count": 23,
   "id": "ff723c15",
   "metadata": {
    "scrolled": true
   },
   "outputs": [
    {
     "name": "stdout",
     "output_type": "stream",
     "text": [
      "Main List :  [[1, 2, 3], [11, 12, 'b', 'b', 'b'], [21, 't', 223], [4, 5, 6], [7, 8, 9], 'demo', 12.5]\n",
      "Index :  2\n",
      "Index :  2\n",
      "Index :  1\n",
      "Second Element :  2\n",
      "Second Element :  12\n",
      "Second Element :  223\n",
      "Second Element :  5\n",
      "Second Element :  8\n"
     ]
    }
   ],
   "source": [
    "# This is 100% working \n",
    "\n",
    "l1 = [[1,2,3],[4,5,6],[7,8,9],'demo',12.5]\n",
    "l2 = [11,12,'b','b','b']\n",
    "l3 = [21,'t',223]\n",
    "# 1)\n",
    "l1.insert(1,l2)\n",
    "l1.insert(2,l3)\n",
    "print(\"Main List : \",l1)\n",
    "# 2)\n",
    "\n",
    "for i in l1:\n",
    "    if type(i)== list:\n",
    "        for j in i:\n",
    "            if type(j) == str:\n",
    "                print(\"Index : \",i.index(j))\n",
    "                i.remove(j)\n",
    "                \n",
    "# 3) \n",
    "for i in l1:\n",
    "    if type(i)== list:\n",
    "        print(\"Second Element : \",i[1])"
   ]
  },
  {
   "cell_type": "code",
   "execution_count": 24,
   "id": "af35fcb8",
   "metadata": {},
   "outputs": [
    {
     "data": {
      "text/plain": [
       "[[1, 2, 3], [11, 12, 'b'], [21, 223], [4, 5, 6], [7, 8, 9], 'demo', 12.5]"
      ]
     },
     "execution_count": 24,
     "metadata": {},
     "output_type": "execute_result"
    }
   ],
   "source": [
    "l1"
   ]
  },
  {
   "cell_type": "code",
   "execution_count": 25,
   "id": "20ce7553",
   "metadata": {
    "scrolled": true
   },
   "outputs": [
    {
     "data": {
      "text/plain": [
       "[[1, 2, 3],\n",
       " [11, 12, 'b', 'b', 'b'],\n",
       " [21, 't', 223],\n",
       " [4, 5, 6],\n",
       " [7, 8, 9],\n",
       " 'demo',\n",
       " 12.5]"
      ]
     },
     "execution_count": 25,
     "metadata": {},
     "output_type": "execute_result"
    }
   ],
   "source": [
    "l1 = [[1,2,3],[4,5,6],[7,8,9],'demo',12.5]\n",
    "l2 = [11,12,'b','b','b']\n",
    "l3 = [21,'t',223]\n",
    "# 1)\n",
    "l1.insert(1,l2)\n",
    "l1.insert(2,l3)\n",
    "l1"
   ]
  },
  {
   "cell_type": "code",
   "execution_count": 26,
   "id": "3aae9183",
   "metadata": {},
   "outputs": [],
   "source": [
    "l = [[1, 2, 3],\n",
    " [11, 12, 'b', 'b', 'b'],\n",
    " [21, 't', 223],\n",
    " [4, 5, 6],\n",
    " [7, 8, 9],\n",
    " 'demo',\n",
    " 12.5]"
   ]
  },
  {
   "cell_type": "code",
   "execution_count": 27,
   "id": "bb5d5cce",
   "metadata": {},
   "outputs": [
    {
     "name": "stdout",
     "output_type": "stream",
     "text": [
      "Ans 2:  5\n",
      "[[1, 2, 3], [11, 12, 'b', 'b', 'b'], [21, 't', 223], [4, 5, 6], [7, 8, 9], 12.5]\n",
      "string: demo\n"
     ]
    },
    {
     "ename": "TypeError",
     "evalue": "'float' object is not subscriptable",
     "output_type": "error",
     "traceback": [
      "\u001b[1;31m---------------------------------------------------------------------------\u001b[0m",
      "\u001b[1;31mTypeError\u001b[0m                                 Traceback (most recent call last)",
      "\u001b[1;32mC:\\Users\\SHAHRU~1\\AppData\\Local\\Temp/ipykernel_3176/461911611.py\u001b[0m in \u001b[0;36m<module>\u001b[1;34m\u001b[0m\n\u001b[0;32m     16\u001b[0m \u001b[1;31m#3\u001b[0m\u001b[1;33m\u001b[0m\u001b[1;33m\u001b[0m\u001b[0m\n\u001b[0;32m     17\u001b[0m \u001b[1;33m\u001b[0m\u001b[0m\n\u001b[1;32m---> 18\u001b[1;33m \u001b[0mb\u001b[0m \u001b[1;33m=\u001b[0m \u001b[1;33m[\u001b[0m\u001b[0mel\u001b[0m\u001b[1;33m[\u001b[0m\u001b[1;36m1\u001b[0m\u001b[1;33m]\u001b[0m \u001b[1;32mfor\u001b[0m \u001b[0mel\u001b[0m \u001b[1;32min\u001b[0m \u001b[0ml\u001b[0m\u001b[1;33m]\u001b[0m\u001b[1;33m\u001b[0m\u001b[1;33m\u001b[0m\u001b[0m\n\u001b[0m\u001b[0;32m     19\u001b[0m \u001b[0mprint\u001b[0m\u001b[1;33m(\u001b[0m\u001b[0mb\u001b[0m\u001b[1;33m)\u001b[0m\u001b[1;33m\u001b[0m\u001b[1;33m\u001b[0m\u001b[0m\n",
      "\u001b[1;32mC:\\Users\\SHAHRU~1\\AppData\\Local\\Temp/ipykernel_3176/461911611.py\u001b[0m in \u001b[0;36m<listcomp>\u001b[1;34m(.0)\u001b[0m\n\u001b[0;32m     16\u001b[0m \u001b[1;31m#3\u001b[0m\u001b[1;33m\u001b[0m\u001b[1;33m\u001b[0m\u001b[0m\n\u001b[0;32m     17\u001b[0m \u001b[1;33m\u001b[0m\u001b[0m\n\u001b[1;32m---> 18\u001b[1;33m \u001b[0mb\u001b[0m \u001b[1;33m=\u001b[0m \u001b[1;33m[\u001b[0m\u001b[0mel\u001b[0m\u001b[1;33m[\u001b[0m\u001b[1;36m1\u001b[0m\u001b[1;33m]\u001b[0m \u001b[1;32mfor\u001b[0m \u001b[0mel\u001b[0m \u001b[1;32min\u001b[0m \u001b[0ml\u001b[0m\u001b[1;33m]\u001b[0m\u001b[1;33m\u001b[0m\u001b[1;33m\u001b[0m\u001b[0m\n\u001b[0m\u001b[0;32m     19\u001b[0m \u001b[0mprint\u001b[0m\u001b[1;33m(\u001b[0m\u001b[0mb\u001b[0m\u001b[1;33m)\u001b[0m\u001b[1;33m\u001b[0m\u001b[1;33m\u001b[0m\u001b[0m\n",
      "\u001b[1;31mTypeError\u001b[0m: 'float' object is not subscriptable"
     ]
    }
   ],
   "source": [
    "l = [[1, 2, 3],\n",
    " [11, 12, 'b', 'b', 'b'],\n",
    " [21, 't', 223],\n",
    " [4, 5, 6],\n",
    " [7, 8, 9],\n",
    " 'demo',\n",
    " 12.5]\n",
    "\n",
    "\n",
    "for i in l:\n",
    "    if type(i)==str:\n",
    "        print(\"Ans 2: \",l.index(i))\n",
    "        l.pop(l.index(i))\n",
    "        print(l)\n",
    "        print(\"string:\",i)\n",
    "#3\n",
    "\n",
    "b = [el[1] for el in l]\n",
    "print(b)\n"
   ]
  },
  {
   "cell_type": "code",
   "execution_count": 28,
   "id": "641f5db3",
   "metadata": {
    "scrolled": true
   },
   "outputs": [
    {
     "name": "stdout",
     "output_type": "stream",
     "text": [
      "index of string in the list is  2\n",
      "index of string in the list is  3\n",
      "index of string in the list is  4\n",
      "index of string in the list is  1\n",
      "[[1, 2, 3], [11, 12, 'ccc', 'ccc', 'ccc'], [21, 'ccc', 223], [4, 5, 6], [7, 8, 9], 'demo', 12.5]\n"
     ]
    },
    {
     "data": {
      "text/plain": [
       "[2, 12, 'ccc', 5, 8]"
      ]
     },
     "execution_count": 28,
     "metadata": {},
     "output_type": "execute_result"
    }
   ],
   "source": [
    "l = [[1, 2, 3],\n",
    " [11, 12, 'b', 'b', 'b'],\n",
    " [21, 't', 223],\n",
    " [4, 5, 6],\n",
    " [7, 8, 9],\n",
    " 'demo',\n",
    " 12.5]\n",
    "\n",
    "li=[]\n",
    "for i,j in enumerate(l):\n",
    "    if type(j) == list:\n",
    "        for k,d in enumerate(j):\n",
    "            if type(d) == str:\n",
    "                print('index of string in the list is ',k)\n",
    "                l[i][k] = 'ccc'\n",
    "            if k == 1:\n",
    "                li.append(j[k])\n",
    "print(l)\n",
    "li\n"
   ]
  },
  {
   "cell_type": "code",
   "execution_count": 29,
   "id": "addeb945",
   "metadata": {},
   "outputs": [
    {
     "name": "stdout",
     "output_type": "stream",
     "text": [
      "1\n"
     ]
    }
   ],
   "source": [
    "l = [[1, 2, 3],[11, 12, 'b', 'b', 'b'],[21, 't', 223],[4, 5, 6],[7, 8, 9],'demo',12.5]\n",
    "for i in l:\n",
    "    b=False\n",
    "    if type(i) == list:\n",
    "        a=False\n",
    "        for j in i:\n",
    "            if type(j)==str:\n",
    "                i.remove(j)\n",
    "                a=True\n",
    "                break\n",
    "        if a :\n",
    "            print(l.index(i))\n",
    "            l.remove(i)"
   ]
  },
  {
   "cell_type": "code",
   "execution_count": 30,
   "id": "45f6bb44",
   "metadata": {},
   "outputs": [
    {
     "data": {
      "text/plain": [
       "[[1, 2, 3], [21, 't', 223], [4, 5, 6], [7, 8, 9], 'demo', 12.5]"
      ]
     },
     "execution_count": 30,
     "metadata": {},
     "output_type": "execute_result"
    }
   ],
   "source": [
    "l"
   ]
  },
  {
   "cell_type": "code",
   "execution_count": 31,
   "id": "3eaa752a",
   "metadata": {},
   "outputs": [
    {
     "name": "stdout",
     "output_type": "stream",
     "text": [
      "[1, 2, 3]\n",
      "Occurance found in sublist [11, 12, 'b', 'b', 'b']  at  2\n",
      "Occurance found in sublist [11, 12, 'b', 'b']  at  2\n",
      "[11, 12, 'b']\n",
      "Occurance found in sublist [21, 't', 223, 44]  at  1\n",
      "[21, 223, 44]\n",
      "[4, 5, 6]\n",
      "[7, 8, 9]\n",
      "demo\n",
      "12.5\n",
      "3\n",
      "b\n",
      "44\n",
      "6\n",
      "9\n"
     ]
    }
   ],
   "source": [
    "\n",
    "l = [[1, 2, 3],\n",
    " [11, 12, 'b', 'b', 'b'],\n",
    " [21, 't', 223,44],\n",
    " [4, 5, 6],\n",
    " [7, 8, 9],\n",
    " 'demo',\n",
    " 12.5]\n",
    "\n",
    "#part 2\n",
    "for sublist in l:\n",
    "    if isinstance(sublist,list):\n",
    "           for obj in sublist:\n",
    "                if isinstance(obj,str):\n",
    "                    print('Occurance found in sublist',sublist ,' at ',sublist.index(obj))\n",
    "                    sublist.remove(obj)\n",
    "                 \n",
    "    print(sublist)\n",
    "\n",
    "#part 3\n",
    "\n",
    "for i in l:\n",
    "    if type(i)== list:\n",
    "        print(i[2])\n"
   ]
  },
  {
   "cell_type": "code",
   "execution_count": 32,
   "id": "92e72494",
   "metadata": {},
   "outputs": [
    {
     "data": {
      "text/plain": [
       "[[1, 2, 3], [11, 12, 'b'], [21, 223, 44], [4, 5, 6], [7, 8, 9], 'demo', 12.5]"
      ]
     },
     "execution_count": 32,
     "metadata": {},
     "output_type": "execute_result"
    }
   ],
   "source": [
    "l"
   ]
  },
  {
   "cell_type": "code",
   "execution_count": 33,
   "id": "2c415aa1",
   "metadata": {},
   "outputs": [
    {
     "name": "stdout",
     "output_type": "stream",
     "text": [
      "65\n",
      "54\n",
      "654\n",
      "54\n",
      "55454\n",
      "[65, 54, 654, 54, 55454]\n"
     ]
    }
   ],
   "source": [
    "l = []\n",
    "for i in range(5):\n",
    "    l.append(int(input()))\n",
    "print(l)"
   ]
  },
  {
   "cell_type": "code",
   "execution_count": 34,
   "id": "4aa7f921",
   "metadata": {},
   "outputs": [
    {
     "name": "stdout",
     "output_type": "stream",
     "text": [
      "66\n"
     ]
    },
    {
     "data": {
      "text/plain": [
       "'66'"
      ]
     },
     "execution_count": 34,
     "metadata": {},
     "output_type": "execute_result"
    }
   ],
   "source": [
    "input()"
   ]
  },
  {
   "cell_type": "code",
   "execution_count": 35,
   "id": "7364107c",
   "metadata": {},
   "outputs": [
    {
     "name": "stdout",
     "output_type": "stream",
     "text": [
      "656545\n"
     ]
    },
    {
     "data": {
      "text/plain": [
       "['6', '5', '6', '5', '4', '5']"
      ]
     },
     "execution_count": 35,
     "metadata": {},
     "output_type": "execute_result"
    }
   ],
   "source": [
    "list(input())"
   ]
  },
  {
   "cell_type": "code",
   "execution_count": 36,
   "id": "36f00f2a",
   "metadata": {},
   "outputs": [
    {
     "name": "stdout",
     "output_type": "stream",
     "text": [
      "Index of string b is : 2\n",
      "Index of string b is : 3\n",
      "Index of string b is : 4\n",
      "The string in the nested list is 'b'\n",
      "The string in the nested list is 'b'\n",
      "The string in the nested list is 'b'\n",
      "Index of string t is : 1\n",
      "The string in the nested list is 't'\n",
      "List after removal of string from nested list is\r",
      " [[1, 2, 3], [11, 12], [21, 223], [4, 5, 6], [7, 8, 9], 'demo', 12.5] \n",
      "\n"
     ]
    }
   ],
   "source": [
    "\n",
    "#2. Find the index of string element in the nested list and remove the string\n",
    "l = [[1, 2, 3],\n",
    " [11, 12, 'b', 'b', 'b'],\n",
    " [21, 't', 223],\n",
    " [4, 5, 6],\n",
    " [7, 8, 9],\n",
    " 'demo',\n",
    " 12.5]\n",
    "\n",
    "for i in l:\n",
    "    if type(i) == list:\n",
    "        j=0\n",
    "        while j < len(i):\n",
    "            if type(i[j]) is str:\n",
    "                print(\"Index of string {} is :\".format(i[j]),j)\n",
    "            j = j +1\n",
    "        j=0\n",
    "        while j < len(i):\n",
    "            if type(i[j]) is str:\n",
    "                print(\"The string in the nested list is '{}'\".format(i[j]))\n",
    "                i.remove(i[j])\n",
    "                continue\n",
    "            j = j +1\n",
    "print(\"List after removal of string from nested list is\\r\",l,'\\n')\n"
   ]
  },
  {
   "cell_type": "code",
   "execution_count": null,
   "id": "b6f0ded0",
   "metadata": {},
   "outputs": [],
   "source": [
    "l = [1,2,3,4,5]"
   ]
  },
  {
   "cell_type": "code",
   "execution_count": null,
   "id": "63befdbb",
   "metadata": {},
   "outputs": [],
   "source": [
    "l1 = []"
   ]
  },
  {
   "cell_type": "code",
   "execution_count": null,
   "id": "3c25ecbe",
   "metadata": {},
   "outputs": [],
   "source": [
    "for i in \"sudh\":\n",
    "    l1.append(i)\n",
    "    "
   ]
  },
  {
   "cell_type": "code",
   "execution_count": 37,
   "id": "5e8873e7",
   "metadata": {},
   "outputs": [
    {
     "data": {
      "text/plain": [
       "[[1, 2, 3],\n",
       " [11, 12, 'b', 'b', 'b'],\n",
       " [21, 't', 223],\n",
       " [4, 5, 6],\n",
       " [7, 8, 9],\n",
       " 'demo',\n",
       " 12.5]"
      ]
     },
     "execution_count": 37,
     "metadata": {},
     "output_type": "execute_result"
    }
   ],
   "source": [
    "l1"
   ]
  },
  {
   "cell_type": "code",
   "execution_count": null,
   "id": "ca993bff",
   "metadata": {},
   "outputs": [],
   "source": [
    "[[i] for i in \"sudh\"] #compration opration"
   ]
  },
  {
   "cell_type": "code",
   "execution_count": null,
   "id": "f4ea47cb",
   "metadata": {},
   "outputs": [],
   "source": [
    "l = []\n",
    "for i in range(10) :\n",
    "    if i%2 ==0:                   #% persentile\n",
    "        l.append(i)"
   ]
  },
  {
   "cell_type": "code",
   "execution_count": null,
   "id": "382afd32",
   "metadata": {},
   "outputs": [],
   "source": [
    "l[i for i in range(10) if i %2 == 0 ]"
   ]
  },
  {
   "cell_type": "code",
   "execution_count": null,
   "id": "8e228a3a",
   "metadata": {},
   "outputs": [],
   "source": [
    "8%3"
   ]
  },
  {
   "cell_type": "code",
   "execution_count": null,
   "id": "a1b5bc64",
   "metadata": {},
   "outputs": [],
   "source": [
    "8%2"
   ]
  },
  {
   "cell_type": "code",
   "execution_count": null,
   "id": "8562b288",
   "metadata": {},
   "outputs": [],
   "source": [
    "l = []\n",
    "for i in range(10):\n",
    "    if i % 2 != 0:\n",
    "        l.append(\"odd\")\n",
    "    else :\n",
    "        l.append(\"even\")"
   ]
  },
  {
   "cell_type": "code",
   "execution_count": null,
   "id": "cd6c894e",
   "metadata": {},
   "outputs": [],
   "source": [
    "l"
   ]
  },
  {
   "cell_type": "code",
   "execution_count": null,
   "id": "2a266d51",
   "metadata": {},
   "outputs": [],
   "source": [
    "[\"odd\" if i%2 != 0 else \"even\" for i in range(10)]"
   ]
  },
  {
   "cell_type": "code",
   "execution_count": null,
   "id": "c24da00a",
   "metadata": {},
   "outputs": [],
   "source": [
    "mat = []\n",
    "for i in range(3):\n",
    "    mat.append([])\n",
    "    for j in range(3):\n",
    "        mat[i].append(j)\n",
    "mat"
   ]
  },
  {
   "cell_type": "code",
   "execution_count": null,
   "id": "4f15ea0c",
   "metadata": {},
   "outputs": [],
   "source": [
    "[[j for j in range(3)]for i in range(3)]"
   ]
  },
  {
   "cell_type": "code",
   "execution_count": null,
   "id": "481cd424",
   "metadata": {},
   "outputs": [],
   "source": [
    "[i for i in range(8) if i % 2 == 0 if i % 3 == 0  ]"
   ]
  },
  {
   "cell_type": "code",
   "execution_count": null,
   "id": "6dd4f06e",
   "metadata": {},
   "outputs": [],
   "source": [
    "l = []\n",
    "for i in range(8):\n",
    "    if i % 2 == 0 :\n",
    "        if i % 3 == 0 :\n",
    "            l.append(i)"
   ]
  },
  {
   "cell_type": "code",
   "execution_count": null,
   "id": "dad51a77",
   "metadata": {},
   "outputs": [],
   "source": [
    "l"
   ]
  },
  {
   "cell_type": "code",
   "execution_count": null,
   "id": "b9b2211d",
   "metadata": {},
   "outputs": [],
   "source": [
    "l = []\n",
    "for i in range(10):\n",
    "    l.append(i)"
   ]
  },
  {
   "cell_type": "code",
   "execution_count": null,
   "id": "bda241ae",
   "metadata": {},
   "outputs": [],
   "source": [
    "l"
   ]
  },
  {
   "cell_type": "code",
   "execution_count": null,
   "id": "08c97b85",
   "metadata": {},
   "outputs": [],
   "source": [
    "[\"yes \" if i == 1  else \"no\" if i == 2 else \"test \" for i in l]"
   ]
  },
  {
   "cell_type": "code",
   "execution_count": null,
   "id": "9b5e50c8",
   "metadata": {},
   "outputs": [],
   "source": [
    "l"
   ]
  },
  {
   "cell_type": "code",
   "execution_count": null,
   "id": "8c48f5b2",
   "metadata": {},
   "outputs": [],
   "source": [
    "res = []\n",
    "for i in l :\n",
    "    if i == 1 :\n",
    "        res.append(\"yes\")\n",
    "    elif i ==2 :\n",
    "        res.append(\"no\")\n",
    "    else :\n",
    "        res.append(\"test\")"
   ]
  },
  {
   "cell_type": "code",
   "execution_count": null,
   "id": "b46941d9",
   "metadata": {},
   "outputs": [],
   "source": [
    "res"
   ]
  },
  {
   "cell_type": "code",
   "execution_count": 38,
   "id": "2b3ac9ce",
   "metadata": {},
   "outputs": [
    {
     "data": {
      "text/plain": [
       "0"
      ]
     },
     "execution_count": 38,
     "metadata": {},
     "output_type": "execute_result"
    }
   ],
   "source": [
    "0%2"
   ]
  },
  {
   "cell_type": "code",
   "execution_count": 39,
   "id": "7617c85c",
   "metadata": {},
   "outputs": [
    {
     "data": {
      "text/plain": [
       "1"
      ]
     },
     "execution_count": 39,
     "metadata": {},
     "output_type": "execute_result"
    }
   ],
   "source": [
    "1%2"
   ]
  },
  {
   "cell_type": "code",
   "execution_count": 40,
   "id": "897e9b03",
   "metadata": {},
   "outputs": [
    {
     "data": {
      "text/plain": [
       "0"
      ]
     },
     "execution_count": 40,
     "metadata": {},
     "output_type": "execute_result"
    }
   ],
   "source": [
    "2%2          #see"
   ]
  },
  {
   "cell_type": "code",
   "execution_count": 41,
   "id": "a3f3e084",
   "metadata": {},
   "outputs": [
    {
     "data": {
      "text/plain": [
       "1"
      ]
     },
     "execution_count": 41,
     "metadata": {},
     "output_type": "execute_result"
    }
   ],
   "source": [
    "3%2"
   ]
  },
  {
   "cell_type": "code",
   "execution_count": 42,
   "id": "51386cf6",
   "metadata": {},
   "outputs": [
    {
     "data": {
      "text/plain": [
       "0"
      ]
     },
     "execution_count": 42,
     "metadata": {},
     "output_type": "execute_result"
    }
   ],
   "source": [
    "4%2     #see"
   ]
  },
  {
   "cell_type": "code",
   "execution_count": 43,
   "id": "30e772b6",
   "metadata": {},
   "outputs": [
    {
     "data": {
      "text/plain": [
       "1"
      ]
     },
     "execution_count": 43,
     "metadata": {},
     "output_type": "execute_result"
    }
   ],
   "source": [
    "5%2"
   ]
  },
  {
   "cell_type": "code",
   "execution_count": 44,
   "id": "38cc39d2",
   "metadata": {},
   "outputs": [
    {
     "data": {
      "text/plain": [
       "0"
      ]
     },
     "execution_count": 44,
     "metadata": {},
     "output_type": "execute_result"
    }
   ],
   "source": [
    "6%2  # see"
   ]
  },
  {
   "cell_type": "code",
   "execution_count": 45,
   "id": "8a35161f",
   "metadata": {},
   "outputs": [
    {
     "data": {
      "text/plain": [
       "1"
      ]
     },
     "execution_count": 45,
     "metadata": {},
     "output_type": "execute_result"
    }
   ],
   "source": [
    "7%2"
   ]
  },
  {
   "cell_type": "code",
   "execution_count": null,
   "id": "e384b2fb",
   "metadata": {},
   "outputs": [],
   "source": [
    "hetro genius not sort"
   ]
  },
  {
   "cell_type": "markdown",
   "id": "9811c4a4",
   "metadata": {},
   "source": [
    "# LIST and TUPLE dictionary"
   ]
  },
  {
   "cell_type": "code",
   "execution_count": 1,
   "id": "c5c354f9",
   "metadata": {},
   "outputs": [],
   "source": [
    "t = ()"
   ]
  },
  {
   "cell_type": "code",
   "execution_count": 2,
   "id": "0ad8112d",
   "metadata": {},
   "outputs": [
    {
     "data": {
      "text/plain": [
       "tuple"
      ]
     },
     "execution_count": 2,
     "metadata": {},
     "output_type": "execute_result"
    }
   ],
   "source": [
    "type(t)"
   ]
  },
  {
   "cell_type": "code",
   "execution_count": 3,
   "id": "f55f3f1d",
   "metadata": {},
   "outputs": [],
   "source": [
    "l = ()"
   ]
  },
  {
   "cell_type": "code",
   "execution_count": 5,
   "id": "a51b3aa7",
   "metadata": {},
   "outputs": [
    {
     "data": {
      "text/plain": [
       "tuple"
      ]
     },
     "execution_count": 5,
     "metadata": {},
     "output_type": "execute_result"
    }
   ],
   "source": [
    "type(l)"
   ]
  },
  {
   "cell_type": "code",
   "execution_count": 6,
   "id": "78f2d897",
   "metadata": {},
   "outputs": [],
   "source": [
    "l = []"
   ]
  },
  {
   "cell_type": "code",
   "execution_count": 7,
   "id": "d0b82ca7",
   "metadata": {},
   "outputs": [
    {
     "data": {
      "text/plain": [
       "list"
      ]
     },
     "execution_count": 7,
     "metadata": {},
     "output_type": "execute_result"
    }
   ],
   "source": [
    "type(l)"
   ]
  },
  {
   "cell_type": "code",
   "execution_count": 8,
   "id": "b4c87a03",
   "metadata": {},
   "outputs": [],
   "source": [
    "t = (230,\"srk\",\"khan\",555,True)"
   ]
  },
  {
   "cell_type": "code",
   "execution_count": 9,
   "id": "ce8daa3d",
   "metadata": {},
   "outputs": [
    {
     "data": {
      "text/plain": [
       "230"
      ]
     },
     "execution_count": 9,
     "metadata": {},
     "output_type": "execute_result"
    }
   ],
   "source": [
    "t[0]"
   ]
  },
  {
   "cell_type": "code",
   "execution_count": 10,
   "id": "edf31843",
   "metadata": {},
   "outputs": [],
   "source": [
    "l = [234,\"srk\",\"khan\",555,True] # list is mutable entities"
   ]
  },
  {
   "cell_type": "code",
   "execution_count": 11,
   "id": "1352f382",
   "metadata": {},
   "outputs": [
    {
     "data": {
      "text/plain": [
       "'khan'"
      ]
     },
     "execution_count": 11,
     "metadata": {},
     "output_type": "execute_result"
    }
   ],
   "source": [
    "l[2]"
   ]
  },
  {
   "cell_type": "code",
   "execution_count": 12,
   "id": "d20e24bb",
   "metadata": {},
   "outputs": [],
   "source": [
    "l[1] = \"shahrukh\""
   ]
  },
  {
   "cell_type": "code",
   "execution_count": 13,
   "id": "bb7ae033",
   "metadata": {},
   "outputs": [
    {
     "data": {
      "text/plain": [
       "'shahrukh'"
      ]
     },
     "execution_count": 13,
     "metadata": {},
     "output_type": "execute_result"
    }
   ],
   "source": [
    "l[1]"
   ]
  },
  {
   "cell_type": "code",
   "execution_count": 14,
   "id": "c247ad97",
   "metadata": {},
   "outputs": [
    {
     "ename": "TypeError",
     "evalue": "'tuple' object does not support item assignment",
     "output_type": "error",
     "traceback": [
      "\u001b[1;31m---------------------------------------------------------------------------\u001b[0m",
      "\u001b[1;31mTypeError\u001b[0m                                 Traceback (most recent call last)",
      "\u001b[1;32mC:\\Users\\SHAHRU~1\\AppData\\Local\\Temp/ipykernel_20128/1080740135.py\u001b[0m in \u001b[0;36m<module>\u001b[1;34m\u001b[0m\n\u001b[1;32m----> 1\u001b[1;33m \u001b[0mt\u001b[0m\u001b[1;33m[\u001b[0m\u001b[1;36m2\u001b[0m\u001b[1;33m]\u001b[0m \u001b[1;33m=\u001b[0m \u001b[1;34m\"shahrukh\"\u001b[0m\u001b[1;33m\u001b[0m\u001b[1;33m\u001b[0m\u001b[0m\n\u001b[0m",
      "\u001b[1;31mTypeError\u001b[0m: 'tuple' object does not support item assignment"
     ]
    }
   ],
   "source": [
    "t[2] = \"shahrukh\" # tuple is immutable object"
   ]
  },
  {
   "cell_type": "code",
   "execution_count": 15,
   "id": "4eab92dd",
   "metadata": {},
   "outputs": [],
   "source": [
    "t2 = (241,554,896)"
   ]
  },
  {
   "cell_type": "code",
   "execution_count": 16,
   "id": "4a61340a",
   "metadata": {},
   "outputs": [
    {
     "data": {
      "text/plain": [
       "(230, 'srk', 'khan', 555, True, 241, 554, 896)"
      ]
     },
     "execution_count": 16,
     "metadata": {},
     "output_type": "execute_result"
    }
   ],
   "source": [
    "t+t2  # same location is not to be perform this kind of opration"
   ]
  },
  {
   "cell_type": "code",
   "execution_count": 17,
   "id": "4ce9dc75",
   "metadata": {},
   "outputs": [
    {
     "data": {
      "text/plain": [
       "(230, 'srk', 'khan', 555)"
      ]
     },
     "execution_count": 17,
     "metadata": {},
     "output_type": "execute_result"
    }
   ],
   "source": [
    "t[0:4]"
   ]
  },
  {
   "cell_type": "code",
   "execution_count": 19,
   "id": "8b6c5809",
   "metadata": {},
   "outputs": [
    {
     "data": {
      "text/plain": [
       "(True, 555, 'khan', 'srk', 230)"
      ]
     },
     "execution_count": 19,
     "metadata": {},
     "output_type": "execute_result"
    }
   ],
   "source": [
    "t[::-1]"
   ]
  },
  {
   "cell_type": "code",
   "execution_count": 21,
   "id": "54f589af",
   "metadata": {},
   "outputs": [
    {
     "data": {
      "text/plain": [
       "True"
      ]
     },
     "execution_count": 21,
     "metadata": {},
     "output_type": "execute_result"
    }
   ],
   "source": [
    "t[-1]"
   ]
  },
  {
   "cell_type": "code",
   "execution_count": 22,
   "id": "6098bcaf",
   "metadata": {
    "scrolled": false
   },
   "outputs": [
    {
     "data": {
      "text/plain": [
       "(230,\n",
       " 'srk',\n",
       " 'khan',\n",
       " 555,\n",
       " True,\n",
       " 230,\n",
       " 'srk',\n",
       " 'khan',\n",
       " 555,\n",
       " True,\n",
       " 230,\n",
       " 'srk',\n",
       " 'khan',\n",
       " 555,\n",
       " True,\n",
       " 230,\n",
       " 'srk',\n",
       " 'khan',\n",
       " 555,\n",
       " True)"
      ]
     },
     "execution_count": 22,
     "metadata": {},
     "output_type": "execute_result"
    }
   ],
   "source": [
    "t*4"
   ]
  },
  {
   "cell_type": "code",
   "execution_count": 23,
   "id": "e1e6266f",
   "metadata": {},
   "outputs": [
    {
     "data": {
      "text/plain": [
       "True"
      ]
     },
     "execution_count": 23,
     "metadata": {},
     "output_type": "execute_result"
    }
   ],
   "source": [
    "\"srk\" in t"
   ]
  },
  {
   "cell_type": "code",
   "execution_count": 24,
   "id": "5b768a83",
   "metadata": {},
   "outputs": [],
   "source": [
    "t3 = (23,343,45,454,54)"
   ]
  },
  {
   "cell_type": "code",
   "execution_count": 27,
   "id": "79d5f785",
   "metadata": {},
   "outputs": [],
   "source": [
    "t1 = (234,34,\"sudh\" , 3.45,True)"
   ]
  },
  {
   "cell_type": "code",
   "execution_count": 28,
   "id": "a4598c7c",
   "metadata": {},
   "outputs": [
    {
     "ename": "TypeError",
     "evalue": "'>' not supported between instances of 'str' and 'int'",
     "output_type": "error",
     "traceback": [
      "\u001b[1;31m---------------------------------------------------------------------------\u001b[0m",
      "\u001b[1;31mTypeError\u001b[0m                                 Traceback (most recent call last)",
      "\u001b[1;32mC:\\Users\\SHAHRU~1\\AppData\\Local\\Temp/ipykernel_20128/3099455752.py\u001b[0m in \u001b[0;36m<module>\u001b[1;34m\u001b[0m\n\u001b[1;32m----> 1\u001b[1;33m \u001b[0mmax\u001b[0m\u001b[1;33m(\u001b[0m\u001b[0mt1\u001b[0m\u001b[1;33m)\u001b[0m\u001b[1;33m\u001b[0m\u001b[1;33m\u001b[0m\u001b[0m\n\u001b[0m",
      "\u001b[1;31mTypeError\u001b[0m: '>' not supported between instances of 'str' and 'int'"
     ]
    }
   ],
   "source": [
    "max(t1)"
   ]
  },
  {
   "cell_type": "code",
   "execution_count": 29,
   "id": "02579641",
   "metadata": {},
   "outputs": [],
   "source": [
    "t3 = (23,343,45,454,54)"
   ]
  },
  {
   "cell_type": "code",
   "execution_count": 30,
   "id": "865d3a90",
   "metadata": {},
   "outputs": [
    {
     "data": {
      "text/plain": [
       "454"
      ]
     },
     "execution_count": 30,
     "metadata": {},
     "output_type": "execute_result"
    }
   ],
   "source": [
    "max(t3)"
   ]
  },
  {
   "cell_type": "code",
   "execution_count": 32,
   "id": "a3d23744",
   "metadata": {},
   "outputs": [
    {
     "data": {
      "text/plain": [
       "23"
      ]
     },
     "execution_count": 32,
     "metadata": {},
     "output_type": "execute_result"
    }
   ],
   "source": [
    "min(t3)"
   ]
  },
  {
   "cell_type": "code",
   "execution_count": 33,
   "id": "0a0f42b0",
   "metadata": {},
   "outputs": [],
   "source": [
    "# tuple convert in list \n",
    "t6 = (56)"
   ]
  },
  {
   "cell_type": "code",
   "execution_count": 34,
   "id": "8ed9cf9c",
   "metadata": {},
   "outputs": [],
   "source": [
    "l5 = list(t)"
   ]
  },
  {
   "cell_type": "code",
   "execution_count": 35,
   "id": "348ff035",
   "metadata": {},
   "outputs": [],
   "source": [
    "l5.insert(3,t6)"
   ]
  },
  {
   "cell_type": "code",
   "execution_count": 36,
   "id": "a9fe15cf",
   "metadata": {},
   "outputs": [
    {
     "data": {
      "text/plain": [
       "[230, 'srk', 'khan', 56, 555, True]"
      ]
     },
     "execution_count": 36,
     "metadata": {},
     "output_type": "execute_result"
    }
   ],
   "source": [
    "l5"
   ]
  },
  {
   "cell_type": "code",
   "execution_count": 37,
   "id": "5fcd4897",
   "metadata": {},
   "outputs": [
    {
     "data": {
      "text/plain": [
       "(230, 'srk', 'khan', 56, 555, True)"
      ]
     },
     "execution_count": 37,
     "metadata": {},
     "output_type": "execute_result"
    }
   ],
   "source": [
    "tuple(l5)"
   ]
  },
  {
   "cell_type": "code",
   "execution_count": 38,
   "id": "0988cc29",
   "metadata": {},
   "outputs": [],
   "source": [
    "t = ((3,4,5,6,7) , (\"sdfsd\",45,45) , (\"454\",54) , 45,454,67 , [4,5,6,7,7])"
   ]
  },
  {
   "cell_type": "code",
   "execution_count": 40,
   "id": "24930a49",
   "metadata": {},
   "outputs": [
    {
     "data": {
      "text/plain": [
       "[5, 6, 7]"
      ]
     },
     "execution_count": 40,
     "metadata": {},
     "output_type": "execute_result"
    }
   ],
   "source": [
    "t [6][1:4]"
   ]
  },
  {
   "cell_type": "code",
   "execution_count": 41,
   "id": "19619768",
   "metadata": {},
   "outputs": [
    {
     "data": {
      "text/plain": [
       "'sdfsd'"
      ]
     },
     "execution_count": 41,
     "metadata": {},
     "output_type": "execute_result"
    }
   ],
   "source": [
    "t[1][0]"
   ]
  },
  {
   "cell_type": "code",
   "execution_count": 42,
   "id": "88affaed",
   "metadata": {},
   "outputs": [
    {
     "name": "stdout",
     "output_type": "stream",
     "text": [
      "(3, 4, 5, 6, 7)\n",
      "('sdfsd', 45, 45)\n",
      "('454', 54)\n",
      "45\n",
      "454\n",
      "67\n",
      "[4, 5, 6, 7, 7]\n"
     ]
    }
   ],
   "source": [
    "for i in t:\n",
    "    print(i)"
   ]
  },
  {
   "cell_type": "code",
   "execution_count": 44,
   "id": "0f83e018",
   "metadata": {},
   "outputs": [],
   "source": [
    "t1 = (234,34,\"sudh\" , 3.45,True)"
   ]
  },
  {
   "cell_type": "code",
   "execution_count": 45,
   "id": "0b7fc35d",
   "metadata": {},
   "outputs": [],
   "source": [
    "t3 = (23,343,45,454,54)"
   ]
  },
  {
   "cell_type": "code",
   "execution_count": 46,
   "id": "a8bc7a88",
   "metadata": {},
   "outputs": [
    {
     "name": "stdout",
     "output_type": "stream",
     "text": [
      "its not bsame\n"
     ]
    }
   ],
   "source": [
    "if len(t1)==len(t2):\n",
    "    print (\"its same\")\n",
    "else:\n",
    "    print(\"its not bsame\")"
   ]
  },
  {
   "cell_type": "code",
   "execution_count": 47,
   "id": "83503b2c",
   "metadata": {},
   "outputs": [
    {
     "name": "stdout",
     "output_type": "stream",
     "text": [
      "its not same\n"
     ]
    }
   ],
   "source": [
    "if len(t1)==len(t2):\n",
    "    print(\"its same \")\n",
    "else :\n",
    "    print(\"its not same\")"
   ]
  },
  {
   "cell_type": "code",
   "execution_count": 51,
   "id": "4c086191",
   "metadata": {},
   "outputs": [
    {
     "name": "stdout",
     "output_type": "stream",
     "text": [
      "input user number454\n",
      "you are right\n"
     ]
    }
   ],
   "source": [
    "t3 = (23,343,45,454,54)\n",
    "i = int(input(\"input user number\"))\n",
    "if i in t3:\n",
    "    print(\"you are right\")\n",
    "else:\n",
    "    print(\"you are not right number\")\n",
    "     \n",
    "    "
   ]
  },
  {
   "cell_type": "code",
   "execution_count": 52,
   "id": "282dce73",
   "metadata": {},
   "outputs": [],
   "source": [
    "t5 = (23,343,45,454,54)"
   ]
  },
  {
   "cell_type": "code",
   "execution_count": 53,
   "id": "90b7b711",
   "metadata": {},
   "outputs": [],
   "source": [
    "del(t5)"
   ]
  },
  {
   "cell_type": "code",
   "execution_count": 54,
   "id": "c6d9331d",
   "metadata": {},
   "outputs": [
    {
     "ename": "NameError",
     "evalue": "name 't5' is not defined",
     "output_type": "error",
     "traceback": [
      "\u001b[1;31m---------------------------------------------------------------------------\u001b[0m",
      "\u001b[1;31mNameError\u001b[0m                                 Traceback (most recent call last)",
      "\u001b[1;32mC:\\Users\\SHAHRU~1\\AppData\\Local\\Temp/ipykernel_20128/4029938564.py\u001b[0m in \u001b[0;36m<module>\u001b[1;34m\u001b[0m\n\u001b[1;32m----> 1\u001b[1;33m \u001b[0mt5\u001b[0m\u001b[1;33m\u001b[0m\u001b[1;33m\u001b[0m\u001b[0m\n\u001b[0m",
      "\u001b[1;31mNameError\u001b[0m: name 't5' is not defined"
     ]
    }
   ],
   "source": [
    "t5"
   ]
  },
  {
   "cell_type": "markdown",
   "id": "2916e26c",
   "metadata": {},
   "source": [
    "# set"
   ]
  },
  {
   "cell_type": "code",
   "execution_count": 71,
   "id": "0fefe70c",
   "metadata": {},
   "outputs": [],
   "source": [
    "# set is a collection which will always try to hold a distinct element insided\n",
    "l1 = [25,25,36,36,89,47,56,56,47,\"srk\",\"khan\"]"
   ]
  },
  {
   "cell_type": "code",
   "execution_count": 72,
   "id": "2aff0886",
   "metadata": {},
   "outputs": [],
   "source": [
    " s = set(l1) # not show any repeat value"
   ]
  },
  {
   "cell_type": "code",
   "execution_count": 73,
   "id": "b3cba8b0",
   "metadata": {},
   "outputs": [
    {
     "data": {
      "text/plain": [
       "{25, 36, 47, 56, 89, 'khan', 'srk'}"
      ]
     },
     "execution_count": 73,
     "metadata": {},
     "output_type": "execute_result"
    }
   ],
   "source": [
    "s"
   ]
  },
  {
   "cell_type": "code",
   "execution_count": 74,
   "id": "96c74505",
   "metadata": {},
   "outputs": [
    {
     "name": "stdout",
     "output_type": "stream",
     "text": [
      "36\n",
      "khan\n",
      "47\n",
      "srk\n",
      "56\n",
      "89\n",
      "25\n"
     ]
    }
   ],
   "source": [
    "for i in s:\n",
    "    print(i)"
   ]
  },
  {
   "cell_type": "code",
   "execution_count": 75,
   "id": "e0ab57ad",
   "metadata": {},
   "outputs": [
    {
     "data": {
      "text/plain": [
       "False"
      ]
     },
     "execution_count": 75,
     "metadata": {},
     "output_type": "execute_result"
    }
   ],
   "source": [
    "34 in s"
   ]
  },
  {
   "cell_type": "code",
   "execution_count": 76,
   "id": "7d77b108",
   "metadata": {},
   "outputs": [
    {
     "ename": "TypeError",
     "evalue": "'set' object is not subscriptable",
     "output_type": "error",
     "traceback": [
      "\u001b[1;31m---------------------------------------------------------------------------\u001b[0m",
      "\u001b[1;31mTypeError\u001b[0m                                 Traceback (most recent call last)",
      "\u001b[1;32mC:\\Users\\SHAHRU~1\\AppData\\Local\\Temp/ipykernel_20128/878419959.py\u001b[0m in \u001b[0;36m<module>\u001b[1;34m\u001b[0m\n\u001b[1;32m----> 1\u001b[1;33m \u001b[0ms\u001b[0m\u001b[1;33m[\u001b[0m\u001b[1;36m1\u001b[0m\u001b[1;33m]\u001b[0m\u001b[1;33m\u001b[0m\u001b[1;33m\u001b[0m\u001b[0m\n\u001b[0m",
      "\u001b[1;31mTypeError\u001b[0m: 'set' object is not subscriptable"
     ]
    }
   ],
   "source": [
    "s[1]"
   ]
  },
  {
   "cell_type": "code",
   "execution_count": 77,
   "id": "f91a0178",
   "metadata": {},
   "outputs": [
    {
     "data": {
      "text/plain": [
       "set()"
      ]
     },
     "execution_count": 77,
     "metadata": {},
     "output_type": "execute_result"
    }
   ],
   "source": [
    "s = set()\n",
    "s"
   ]
  },
  {
   "cell_type": "code",
   "execution_count": 78,
   "id": "71026fd5",
   "metadata": {},
   "outputs": [],
   "source": [
    "s.add (45)"
   ]
  },
  {
   "cell_type": "code",
   "execution_count": 79,
   "id": "cf5bf6f6",
   "metadata": {},
   "outputs": [
    {
     "data": {
      "text/plain": [
       "{45}"
      ]
     },
     "execution_count": 79,
     "metadata": {},
     "output_type": "execute_result"
    }
   ],
   "source": [
    "s"
   ]
  },
  {
   "cell_type": "code",
   "execution_count": 80,
   "id": "81e8d62d",
   "metadata": {},
   "outputs": [
    {
     "data": {
      "text/plain": [
       "{45}"
      ]
     },
     "execution_count": 80,
     "metadata": {},
     "output_type": "execute_result"
    }
   ],
   "source": [
    "s"
   ]
  },
  {
   "cell_type": "code",
   "execution_count": 81,
   "id": "d01797fd",
   "metadata": {},
   "outputs": [],
   "source": [
    "s.add(\"hjsdgf\")"
   ]
  },
  {
   "cell_type": "code",
   "execution_count": null,
   "id": "8b427d53",
   "metadata": {},
   "outputs": [],
   "source": []
  }
 ],
 "metadata": {
  "kernelspec": {
   "display_name": "Python 3 (ipykernel)",
   "language": "python",
   "name": "python3"
  },
  "language_info": {
   "codemirror_mode": {
    "name": "ipython",
    "version": 3
   },
   "file_extension": ".py",
   "mimetype": "text/x-python",
   "name": "python",
   "nbconvert_exporter": "python",
   "pygments_lexer": "ipython3",
   "version": "3.9.7"
  }
 },
 "nbformat": 4,
 "nbformat_minor": 5
}
