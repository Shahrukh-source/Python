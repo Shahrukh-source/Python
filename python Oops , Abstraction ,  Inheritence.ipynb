{
 "cells": [
  {
   "cell_type": "code",
   "execution_count": 12,
   "id": "607c7daa",
   "metadata": {},
   "outputs": [],
   "source": [
    "class test: # parent class\n",
    "    def __init__(self,a,b,c,d,e):\n",
    "        self.__a = a\n",
    "        self.b = b\n",
    "        self.c = c\n",
    "        self.d = d\n",
    "        self.e = e\n",
    "        \n",
    "    def test_custom(self,v):\n",
    "        return v - self.__a\n",
    "    \n",
    "    def __str__(self):\n",
    "        return \"this is my self code for abstraction\""
   ]
  },
  {
   "cell_type": "code",
   "execution_count": 13,
   "id": "1c78c5aa",
   "metadata": {},
   "outputs": [],
   "source": [
    "o = test(2,3,4,5,6)"
   ]
  },
  {
   "cell_type": "code",
   "execution_count": 14,
   "id": "f3b6e7db",
   "metadata": {},
   "outputs": [
    {
     "data": {
      "text/plain": [
       "4"
      ]
     },
     "execution_count": 14,
     "metadata": {},
     "output_type": "execute_result"
    }
   ],
   "source": [
    "o.test_custom(6)"
   ]
  },
  {
   "cell_type": "code",
   "execution_count": 15,
   "id": "f3c65f20",
   "metadata": {},
   "outputs": [
    {
     "ename": "AttributeError",
     "evalue": "'test' object has no attribute '__a'",
     "output_type": "error",
     "traceback": [
      "\u001b[1;31m---------------------------------------------------------------------------\u001b[0m",
      "\u001b[1;31mAttributeError\u001b[0m                            Traceback (most recent call last)",
      "\u001b[1;32mC:\\Users\\SHAHRU~1\\AppData\\Local\\Temp/ipykernel_11336/924825990.py\u001b[0m in \u001b[0;36m<module>\u001b[1;34m\u001b[0m\n\u001b[1;32m----> 1\u001b[1;33m \u001b[0mo\u001b[0m\u001b[1;33m.\u001b[0m\u001b[0m__a\u001b[0m\u001b[1;33m\u001b[0m\u001b[1;33m\u001b[0m\u001b[0m\n\u001b[0m",
      "\u001b[1;31mAttributeError\u001b[0m: 'test' object has no attribute '__a'"
     ]
    }
   ],
   "source": [
    "o.__a # abstraction means is symbolised, no under score means that its a public,sigle under score means that is a protected,and double under score its meansthat is a private"
   ]
  },
  {
   "cell_type": "code",
   "execution_count": null,
   "id": "7ad4d195",
   "metadata": {},
   "outputs": [],
   "source": [
    "# this time i have created is privated variable so you are not able to access directly out side of the class,but its not been you to access to access but in a different way"
   ]
  },
  {
   "cell_type": "code",
   "execution_count": 16,
   "id": "c292d491",
   "metadata": {},
   "outputs": [
    {
     "data": {
      "text/plain": [
       "2"
      ]
     },
     "execution_count": 16,
     "metadata": {},
     "output_type": "execute_result"
    }
   ],
   "source": [
    "o._test__a # test is a clss name"
   ]
  },
  {
   "cell_type": "code",
   "execution_count": 17,
   "id": "aba69449",
   "metadata": {},
   "outputs": [],
   "source": [
    "# abs traction means protecting your variable protecting your symbol,protecting your method from someone"
   ]
  },
  {
   "cell_type": "code",
   "execution_count": 30,
   "id": "29cb457e",
   "metadata": {},
   "outputs": [
    {
     "data": {
      "text/plain": [
       "8"
      ]
     },
     "execution_count": 30,
     "metadata": {},
     "output_type": "execute_result"
    }
   ],
   "source": [
    "class test1(test): # child class\n",
    "    def __init__(self,j,*args): #self is pointer,j is child class parents,staric of args ,key word of args\n",
    "        super(test1,self).__init__(*args)# super(parent) function is available in python mens you will be able to findout so <<super test1 means is test>>\n",
    "        self.j = j\n",
    "m = test1(4,5,8,7,6,5)\n",
    "m.b # why it s not get a?????? and what is instance and attribute????"
   ]
  },
  {
   "cell_type": "code",
   "execution_count": 36,
   "id": "1922bfeb",
   "metadata": {},
   "outputs": [
    {
     "ename": "AttributeError",
     "evalue": "'test2' object has no attribute 'a'",
     "output_type": "error",
     "traceback": [
      "\u001b[1;31m---------------------------------------------------------------------------\u001b[0m",
      "\u001b[1;31mAttributeError\u001b[0m                            Traceback (most recent call last)",
      "\u001b[1;32mC:\\Users\\SHAHRU~1\\AppData\\Local\\Temp/ipykernel_11336/4116357351.py\u001b[0m in \u001b[0;36m<module>\u001b[1;34m\u001b[0m\n\u001b[0;32m      4\u001b[0m         \u001b[0mself\u001b[0m\u001b[1;33m.\u001b[0m\u001b[0mj\u001b[0m \u001b[1;33m=\u001b[0m \u001b[0mj\u001b[0m\u001b[1;33m\u001b[0m\u001b[1;33m\u001b[0m\u001b[0m\n\u001b[0;32m      5\u001b[0m \u001b[0mm\u001b[0m \u001b[1;33m=\u001b[0m \u001b[0mtest2\u001b[0m\u001b[1;33m(\u001b[0m\u001b[1;36m4\u001b[0m\u001b[1;33m,\u001b[0m\u001b[1;36m5\u001b[0m\u001b[1;33m,\u001b[0m\u001b[1;36m8\u001b[0m\u001b[1;33m,\u001b[0m\u001b[1;36m7\u001b[0m\u001b[1;33m,\u001b[0m\u001b[1;36m6\u001b[0m\u001b[1;33m,\u001b[0m\u001b[1;36m5\u001b[0m\u001b[1;33m,\u001b[0m\u001b[1;36m7\u001b[0m\u001b[1;33m)\u001b[0m\u001b[1;33m\u001b[0m\u001b[1;33m\u001b[0m\u001b[0m\n\u001b[1;32m----> 6\u001b[1;33m \u001b[0mm\u001b[0m\u001b[1;33m.\u001b[0m\u001b[0ma\u001b[0m\u001b[1;33m\u001b[0m\u001b[1;33m\u001b[0m\u001b[0m\n\u001b[0m",
      "\u001b[1;31mAttributeError\u001b[0m: 'test2' object has no attribute 'a'"
     ]
    }
   ],
   "source": [
    "class test2(test1): # child class\n",
    "    def __init__(self,j,*args): #self is pointer,j is child class parents,staric of args ,key word of args\n",
    "        super(test2,self).__init__(*args)# super(parent) function is available in python mens you will be able to findout so <<super test1 means is test>>\n",
    "        self.j = j\n",
    "m = test2(4,5,8,7,6,5,7)\n",
    "m.a # and when class increase by one by then  variable are incress and get want new one variable over here????? "
   ]
  },
  {
   "cell_type": "code",
   "execution_count": 24,
   "id": "efe2394c",
   "metadata": {},
   "outputs": [],
   "source": [
    "# so i have to call init method i am try to access all the test class but you remember insdide the test class there bis a init\n",
    "#so have to invoke that because we know that whenever we try to create object the respective class, i execute ythis one i call what\n",
    "#can i said that it call for init i try to initialise all the varieble\n",
    "#so if i try to call this parent class though my child clas object\n",
    "# so can i say that if i have to utilise all of these think i have to initialise is init will ibe able to see it abcde no i am not i able to use it\n",
    "# so i calling to super useit\n",
    "#<<<<<if you have two constructor you should be use super for calling  to parents class>>>>>"
   ]
  },
  {
   "cell_type": "code",
   "execution_count": 37,
   "id": "6f354c18",
   "metadata": {},
   "outputs": [],
   "source": [
    "# so this is call as inheritence inheritence help of increse the reusiblity of the code"
   ]
  },
  {
   "cell_type": "code",
   "execution_count": 1,
   "id": "4e2cbac1",
   "metadata": {},
   "outputs": [
    {
     "ename": "SyntaxError",
     "evalue": "invalid syntax (Temp/ipykernel_6480/3623734714.py, line 1)",
     "output_type": "error",
     "traceback": [
      "\u001b[1;36m  File \u001b[1;32m\"C:\\Users\\SHAHRU~1\\AppData\\Local\\Temp/ipykernel_6480/3623734714.py\"\u001b[1;36m, line \u001b[1;32m1\u001b[0m\n\u001b[1;33m    create a class test ans test1\u001b[0m\n\u001b[1;37m           ^\u001b[0m\n\u001b[1;31mSyntaxError\u001b[0m\u001b[1;31m:\u001b[0m invalid syntax\n"
     ]
    }
   ],
   "source": [
    "create a class test ans test1\n",
    "inherit test and test1 into test2\n",
    "function in test \n",
    "and function in test1\n",
    "test2 should inherit function from test1 and test both"
   ]
  },
  {
   "cell_type": "code",
   "execution_count": 3,
   "id": "a256b228",
   "metadata": {},
   "outputs": [
    {
     "name": "stdout",
     "output_type": "stream",
     "text": [
      "this is first class\n",
      "this is my second class\n",
      "my last class\n",
      "this is first class\n"
     ]
    }
   ],
   "source": [
    "class test:\n",
    "    def a(self):\n",
    "        print('this is first class')        \n",
    "class test1:\n",
    "    def a(self):\n",
    "        print(\"this is my second class\")       \n",
    "class test2(test,test1):\n",
    "        \n",
    "        t1 = test()\n",
    "        t1.a()\n",
    "        t2 = test1()\n",
    "        t2.a()\n",
    "        print(\"my last class\")\n",
    "        \n",
    "t = test2()\n",
    "t.a()"
   ]
  },
  {
   "cell_type": "code",
   "execution_count": 5,
   "id": "df76e16b",
   "metadata": {},
   "outputs": [
    {
     "name": "stdout",
     "output_type": "stream",
     "text": [
      "class 1\n",
      "class2\n"
     ]
    }
   ],
   "source": [
    "class test:\n",
    "    def a(self):\n",
    "        print(\"class 1\")\n",
    "class test1:\n",
    "    def a(self):\n",
    "        print(\"class2\")\n",
    "class test2():\n",
    "    t = test()\n",
    "    t.a()\n",
    "    t1 = test1()\n",
    "    t1.a()\n",
    "t2 = test2()\n",
    "\n",
    "        \n",
    "        "
   ]
  },
  {
   "cell_type": "code",
   "execution_count": 6,
   "id": "e482e6a7",
   "metadata": {},
   "outputs": [
    {
     "ename": "IndentationError",
     "evalue": "expected an indented block (Temp/ipykernel_5192/533396762.py, line 22)",
     "output_type": "error",
     "traceback": [
      "\u001b[1;36m  File \u001b[1;32m\"C:\\Users\\SHAHRU~1\\AppData\\Local\\Temp/ipykernel_5192/533396762.py\"\u001b[1;36m, line \u001b[1;32m22\u001b[0m\n\u001b[1;33m    l = test2()\u001b[0m\n\u001b[1;37m                       ^\u001b[0m\n\u001b[1;31mIndentationError\u001b[0m\u001b[1;31m:\u001b[0m expected an indented block\n"
     ]
    }
   ],
   "source": [
    "class test:\n",
    "    \n",
    "    def __init__(self,a,b,c,d):\n",
    "        self.a = a\n",
    "        self.b = b\n",
    "        self.c = c\n",
    "        self.d = d\n",
    "        \n",
    "s = test()        \n",
    "    \n",
    "    \n",
    "class test1:\n",
    "    def __init__(self,):\n",
    "        pass\n",
    "    \n",
    "k = test1()\n",
    "    \n",
    "class test2(test,test1):\n",
    "    \n",
    "    def __init__(self,):\n",
    "        \n",
    "l = test2()        "
   ]
  },
  {
   "cell_type": "code",
   "execution_count": 9,
   "id": "33aa0a2c",
   "metadata": {},
   "outputs": [
    {
     "name": "stdout",
     "output_type": "stream",
     "text": [
      "my name is shahrukh khan\n",
      "hello meet my bro amir\n"
     ]
    }
   ],
   "source": [
    "class test1:\n",
    "    def A():\n",
    "        print('my name is shahrukh khan')        \n",
    "class test2:\n",
    "    def A():\n",
    "        print(\"hello meet my bro amir\")       \n",
    "class test3(test,test1):\n",
    "        \n",
    "        test1.A()\n",
    "        test2.A()"
   ]
  },
  {
   "cell_type": "code",
   "execution_count": 12,
   "id": "15d110e5",
   "metadata": {},
   "outputs": [],
   "source": [
    "class testa:\n",
    "    def __init__(self,a,b,c,d):\n",
    "        self.__a = a\n",
    "        self.b = b\n",
    "        self.c = c\n",
    "        self.d = d\n",
    "        def test_customer(self,v):\n",
    "            return v - self.__a\n",
    "        \n",
    "class testb:\n",
    "     def __init__(self,a,b,c,d):\n",
    "        self.__a = a\n",
    "        self.b = b\n",
    "        self.c = c\n",
    "        self.d = d\n",
    "        def test_customer(self,v):\n",
    "            return v - self.b\n",
    "        \n",
    "class testc(testa,testb):\n",
    "    def __init__(self,j,*args):\n",
    "        super(testa,self).__init__(*args)\n",
    "        self.j = j\n",
    "        \n",
    "    def __init__(self,k,*args):\n",
    "        super(testb,self).__init__(*args)\n",
    "        self.k = k\n",
    "        \n",
    "\n",
    "        "
   ]
  },
  {
   "cell_type": "code",
   "execution_count": 13,
   "id": "c2ab5e42",
   "metadata": {},
   "outputs": [
    {
     "name": "stdout",
     "output_type": "stream",
     "text": [
      "This is class Test\n",
      "This is class Test1\n"
     ]
    }
   ],
   "source": [
    "class Test:\n",
    "    def a(self):\n",
    "        return \"This is class Test\"\n",
    "\n",
    "class Test1:\n",
    "    def a(self):\n",
    "        return \"This is class Test1\"\n",
    "\n",
    "class Test2(Test, Test1):\n",
    "    \"\"\"Test class methods overrides Test1 class methods\"\"\"\n",
    "    pass\n",
    "\n",
    "t2 = Test2()\n",
    "print(t2.a())\n",
    "\n",
    "class Test2(Test1, Test):\n",
    "    \"\"\"Test1 class methods overrides Test class methods\"\"\"\n",
    "    pass\n",
    "\n",
    "t2_ = Test2()\n",
    "print(t2_.a())\n"
   ]
  },
  {
   "cell_type": "code",
   "execution_count": 18,
   "id": "a2448f30",
   "metadata": {},
   "outputs": [],
   "source": [
    "class A:\n",
    "    def a(self):\n",
    "        return \"This is A ==> a method\"\n",
    "\n",
    "class B: \n",
    "    def a(self):\n",
    "        return \"This is B ==> a method\"\n",
    "\n",
    "class C(A,B):\n",
    "    def a(self):\n",
    "        return super(A,self).a()\n",
    "    \n",
    "    def a(self):\n",
    "        return super(B,self).a()\n"
   ]
  },
  {
   "cell_type": "code",
   "execution_count": 19,
   "id": "47febe47",
   "metadata": {},
   "outputs": [
    {
     "ename": "AttributeError",
     "evalue": "'super' object has no attribute 'a'",
     "output_type": "error",
     "traceback": [
      "\u001b[1;31m---------------------------------------------------------------------------\u001b[0m",
      "\u001b[1;31mAttributeError\u001b[0m                            Traceback (most recent call last)",
      "\u001b[1;32mC:\\Users\\SHAHRU~1\\AppData\\Local\\Temp/ipykernel_5192/1580115500.py\u001b[0m in \u001b[0;36m<module>\u001b[1;34m\u001b[0m\n\u001b[0;32m      1\u001b[0m \u001b[0mc\u001b[0m\u001b[1;33m=\u001b[0m\u001b[0mC\u001b[0m\u001b[1;33m(\u001b[0m\u001b[1;33m)\u001b[0m\u001b[1;33m\u001b[0m\u001b[1;33m\u001b[0m\u001b[0m\n\u001b[1;32m----> 2\u001b[1;33m \u001b[0mc\u001b[0m\u001b[1;33m.\u001b[0m\u001b[0ma\u001b[0m\u001b[1;33m(\u001b[0m\u001b[1;33m)\u001b[0m\u001b[1;33m\u001b[0m\u001b[1;33m\u001b[0m\u001b[0m\n\u001b[0m",
      "\u001b[1;32mC:\\Users\\SHAHRU~1\\AppData\\Local\\Temp/ipykernel_5192/4219805597.py\u001b[0m in \u001b[0;36ma\u001b[1;34m(self)\u001b[0m\n\u001b[0;32m     12\u001b[0m \u001b[1;33m\u001b[0m\u001b[0m\n\u001b[0;32m     13\u001b[0m     \u001b[1;32mdef\u001b[0m \u001b[0ma\u001b[0m\u001b[1;33m(\u001b[0m\u001b[0mself\u001b[0m\u001b[1;33m)\u001b[0m\u001b[1;33m:\u001b[0m\u001b[1;33m\u001b[0m\u001b[1;33m\u001b[0m\u001b[0m\n\u001b[1;32m---> 14\u001b[1;33m         \u001b[1;32mreturn\u001b[0m \u001b[0msuper\u001b[0m\u001b[1;33m(\u001b[0m\u001b[0mB\u001b[0m\u001b[1;33m,\u001b[0m\u001b[0mself\u001b[0m\u001b[1;33m)\u001b[0m\u001b[1;33m.\u001b[0m\u001b[0ma\u001b[0m\u001b[1;33m(\u001b[0m\u001b[1;33m)\u001b[0m\u001b[1;33m\u001b[0m\u001b[1;33m\u001b[0m\u001b[0m\n\u001b[0m",
      "\u001b[1;31mAttributeError\u001b[0m: 'super' object has no attribute 'a'"
     ]
    }
   ],
   "source": [
    "c=C()\n",
    "c.a()"
   ]
  },
  {
   "cell_type": "code",
   "execution_count": 8,
   "id": "1c79f6e8",
   "metadata": {},
   "outputs": [
    {
     "name": "stdout",
     "output_type": "stream",
     "text": [
      "This belongs to test\n",
      "This belongs to test1\n"
     ]
    }
   ],
   "source": [
    "class test:\n",
    "    def a(self):\n",
    "        print(\"This belongs to test\")\n",
    "\n",
    "class test1:\n",
    "    def a(self):\n",
    "        print(\"This belongs to test1\") \n",
    "\n",
    "class test2(test,test1): #??????? any time pass but any time not pass \n",
    "    def a(self):\n",
    "        test.a(self)\n",
    "        test1.a(self)\n",
    "        \n",
    "t = test2()\n",
    "t.a()"
   ]
  },
  {
   "cell_type": "code",
   "execution_count": 2,
   "id": "6b55850b",
   "metadata": {},
   "outputs": [],
   "source": [
    "t = test2()\n",
    "t.a()"
   ]
  },
  {
   "cell_type": "code",
   "execution_count": 7,
   "id": "360aee3d",
   "metadata": {},
   "outputs": [
    {
     "name": "stdout",
     "output_type": "stream",
     "text": [
      "function a from class test\n",
      "function a from class test1\n"
     ]
    }
   ],
   "source": [
    "class test:\n",
    "     def a(self):\n",
    "        print('function a from class test')\n",
    "\n",
    "class test1:\n",
    "    def a(self):\n",
    "        print('function a from class test1')\n",
    "\n",
    "class test2(test,test1):\n",
    "    def a(self):\n",
    "        test.a(self)\n",
    "        test1.a(self)\n",
    "        \n",
    "t = test2()\n",
    "t.a()"
   ]
  },
  {
   "cell_type": "code",
   "execution_count": 9,
   "id": "177d1cdb",
   "metadata": {},
   "outputs": [
    {
     "name": "stdout",
     "output_type": "stream",
     "text": [
      "This is from class test\n"
     ]
    }
   ],
   "source": [
    "class test:\n",
    "   \n",
    "    def a(self):\n",
    "        print(\"This is from class test\")\n",
    "        \n",
    "class test1:\n",
    "    \n",
    "    def a(self):\n",
    "        print(\"This is from class test1\")\n",
    "        \n",
    "\n",
    "        \n",
    "class test2(test,test1):\n",
    "    def a(self):\n",
    "        super(test2,self).a()\n",
    "        \n",
    "    \n",
    "    \n",
    "    \n",
    "t2=test2()\n",
    "t2.a()\n"
   ]
  },
  {
   "cell_type": "code",
   "execution_count": 10,
   "id": "f1d0b3b7",
   "metadata": {},
   "outputs": [
    {
     "name": "stdout",
     "output_type": "stream",
     "text": [
      "test2\n",
      "this belongs to test\n",
      "this belongs to test1\n"
     ]
    }
   ],
   "source": [
    "class test:\n",
    "    def a(self):\n",
    "        print(\"this belongs to test\")\n",
    "class test1:\n",
    "    def a(self):\n",
    "        print(\"this belongs to test1\")\n",
    "        \n",
    "        \n",
    "class test2(test,test1):\n",
    "    def c(self):\n",
    "        print(\"test2\")\n",
    "obj = test2()\n",
    "obj.c()\n",
    "obj.a()\n",
    "test1.a(obj)\n"
   ]
  },
  {
   "cell_type": "code",
   "execution_count": 11,
   "id": "4e6f25e7",
   "metadata": {},
   "outputs": [
    {
     "name": "stdout",
     "output_type": "stream",
     "text": [
      "this a function of class test\n",
      "this a function of class test1\n"
     ]
    }
   ],
   "source": [
    "class test:\n",
    "    def a(self):\n",
    "        return 'this a function of class test'\n",
    "ob1=test()\n",
    "\n",
    "class test1:\n",
    "    def a(self):\n",
    "        return 'this a function of class test1'\n",
    "ob2=test1()\n",
    "\n",
    "\n",
    "\n",
    "class test2(test,test1):\n",
    "    def x(self):\n",
    "        return ob1.a(),ob2.a()\n",
    "    \n",
    "ob3=test2()\n",
    "c1,c2=ob3.x()\n",
    "print(c1)\n",
    "print(c2)\n"
   ]
  },
  {
   "cell_type": "code",
   "execution_count": null,
   "id": "122345ed",
   "metadata": {},
   "outputs": [],
   "source": []
  },
  {
   "cell_type": "code",
   "execution_count": 13,
   "id": "75cd5e5e",
   "metadata": {},
   "outputs": [
    {
     "ename": "TypeError",
     "evalue": "m() missing 1 required positional argument: 'self'",
     "output_type": "error",
     "traceback": [
      "\u001b[1;31m---------------------------------------------------------------------------\u001b[0m",
      "\u001b[1;31mTypeError\u001b[0m                                 Traceback (most recent call last)",
      "\u001b[1;32mC:\\Users\\SHAHRU~1\\AppData\\Local\\Temp/ipykernel_6252/1160505661.py\u001b[0m in \u001b[0;36m<module>\u001b[1;34m\u001b[0m\n\u001b[0;32m     16\u001b[0m \u001b[1;33m\u001b[0m\u001b[0m\n\u001b[0;32m     17\u001b[0m \u001b[1;33m\u001b[0m\u001b[0m\n\u001b[1;32m---> 18\u001b[1;33m \u001b[0mClass4\u001b[0m\u001b[1;33m.\u001b[0m\u001b[0mm\u001b[0m\u001b[1;33m(\u001b[0m\u001b[1;33m)\u001b[0m\u001b[1;33m\u001b[0m\u001b[1;33m\u001b[0m\u001b[0m\n\u001b[0m",
      "\u001b[1;31mTypeError\u001b[0m: m() missing 1 required positional argument: 'self'"
     ]
    }
   ],
   "source": [
    "class Class1:\n",
    "    def m(self):\n",
    "        print(\"In Class1\")\n",
    "  \n",
    "\n",
    "class Class2(Class1):\n",
    "    def m(self):\n",
    "        print(\"In Class2\")\n",
    "        super().m()\n",
    "  \n",
    " \n",
    "class Class4(Class2, Class1):\n",
    "        def m(self):\n",
    "            print(\"In Class4\")   \n",
    "            super().m()\n",
    "    \n",
    "\n",
    "Class4.m()"
   ]
  },
  {
   "cell_type": "code",
   "execution_count": 14,
   "id": "ac9cf719",
   "metadata": {},
   "outputs": [
    {
     "name": "stdout",
     "output_type": "stream",
     "text": [
      "In Class test\n",
      "In Class test1\n"
     ]
    }
   ],
   "source": [
    "class test:\n",
    "    def A(self):\n",
    "        print(\"In Class test\")\n",
    "\n",
    "class test1(test):\n",
    "    def A(self):\n",
    "        print(\"In Class test1\")\n",
    "\n",
    "class test2(test1):\n",
    "    pass\n",
    "\n",
    "obj = test2()\n",
    "test.A(obj)\n",
    "test1.A(obj)"
   ]
  },
  {
   "cell_type": "code",
   "execution_count": 15,
   "id": "40188e80",
   "metadata": {},
   "outputs": [
    {
     "name": "stdout",
     "output_type": "stream",
     "text": [
      "iNeuron Company was established in 2018\n"
     ]
    }
   ],
   "source": [
    "class Ineuron:\n",
    "    company_website = 'https://ineuron.ai/'\n",
    "    name = 'iNeuron'\n",
    " \n",
    "    def contact_details(self):\n",
    "        print('Contact us at ', self.company_website)\n",
    " \n",
    " \n",
    "class Datascience(Ineuron):\n",
    "    def __init__(self):\n",
    "        self.year_of_establishment= 2018\n",
    " \n",
    "    def est_details(self):\n",
    "        print('{0} Company was established in {1}'\n",
    "              .format(self.name,self.year_of_establishment))\n",
    " \n",
    " \n",
    "ds = Datascience()\n",
    "ds.est_details()"
   ]
  },
  {
   "cell_type": "code",
   "execution_count": 16,
   "id": "b057d63b",
   "metadata": {},
   "outputs": [
    {
     "name": "stdout",
     "output_type": "stream",
     "text": [
      "multi_task\n",
      "Name: sudh\n"
     ]
    }
   ],
   "source": [
    "class OS: # example of multiple inheritence\n",
    "    multi_task = True\n",
    "    os_name = 'Windows OS'\n",
    "    name = \"sudh\"\n",
    " \n",
    " \n",
    "class windows(OS, Ineuron):\n",
    "    def __init__(self):\n",
    "        if self.multi_task is True:\n",
    "            print('multi_task')\n",
    "        print('Name: {}'.format(self.name))\n",
    " \n",
    " \n",
    "windows = windows()"
   ]
  },
  {
   "cell_type": "code",
   "execution_count": 21,
   "id": "1fa7ec18",
   "metadata": {},
   "outputs": [
    {
     "name": "stdout",
     "output_type": "stream",
     "text": [
      "multi_task\n",
      "Name: fonk\n"
     ]
    }
   ],
   "source": [
    "class OS: # example of multiple inheritence\n",
    "    multi_task = True\n",
    "    os_name = 'Windows OS'\n",
    "    name = \"srk\"\n",
    " \n",
    " \n",
    "class windows(fonk,OS): #priority to the classes,fonk in first place so even calling to fonk\n",
    "    def __init__(self):\n",
    "        if self.multi_task is True:\n",
    "            print('multi_task')\n",
    "        print('Name: {}'.format(self.name))\n",
    " \n",
    " \n",
    "windows = windows()"
   ]
  },
  {
   "cell_type": "code",
   "execution_count": 22,
   "id": "6aa570b2",
   "metadata": {},
   "outputs": [
    {
     "name": "stdout",
     "output_type": "stream",
     "text": [
      "multi_task\n",
      "Name: fonk\n"
     ]
    }
   ],
   "source": [
    "class windows(fonk,OS):\n",
    "    def __init__(self):\n",
    "        if self.multi_task is True:\n",
    "            print('multi_task')\n",
    "        print('Name: {}'.format(self.name))\n",
    " \n",
    " \n",
    "windows = windows()"
   ]
  },
  {
   "cell_type": "code",
   "execution_count": 23,
   "id": "96bce9a6",
   "metadata": {},
   "outputs": [
    {
     "name": "stdout",
     "output_type": "stream",
     "text": [
      "The company iNeuron offers total 12 different types of courses. Most trending course is Data-Science\n"
     ]
    }
   ],
   "source": [
    "class iNeuron: #multilevel class\n",
    "    num_of_courses = 12\n",
    " \n",
    " \n",
    "class Datascience(iNeuron):\n",
    "    course_type = 'Data-Science'\n",
    " \n",
    " \n",
    "class AI(Datascience):\n",
    "    def __init__(self):\n",
    "        self.company = \"iNeuron\"\n",
    "        print('The company {0} offers total {1} different types of courses. Most trending course is {2}'.format(self.company,self.num_of_courses,self.course_type))\n",
    " \n",
    " \n",
    "AI = AI()"
   ]
  },
  {
   "cell_type": "code",
   "execution_count": 19,
   "id": "f1bd1727",
   "metadata": {},
   "outputs": [
    {
     "name": "stdout",
     "output_type": "stream",
     "text": [
      "fonk is my company and its stablish in 2022\n"
     ]
    }
   ],
   "source": [
    "class fonk:\n",
    "    company_wesite = \"www.shafonk.com\"\n",
    "    name = \"fonk\"\n",
    "    \n",
    "    def contact_detail(self):\n",
    "        print (\"the comoany contact is\",self.company_website)\n",
    "        \n",
    "class Datascience(fonk):\n",
    "    def __init__(self):\n",
    "        self.year_of_stablish = 2022\n",
    "        \n",
    "    def est_detail(self):\n",
    "        print(\"{0} is my company and its stablish in {1}\".format(self.name,self.year_of_stablish))\n",
    "        \n",
    "obj = Datascience()\n",
    "obj.est_detail()"
   ]
  },
  {
   "cell_type": "code",
   "execution_count": 24,
   "id": "83f0770a",
   "metadata": {},
   "outputs": [],
   "source": [
    "#i dont want to exposed those impimentation to you i am hide the implimention when wee are use incapsulation "
   ]
  },
  {
   "cell_type": "code",
   "execution_count": null,
   "id": "6fb6a6dc",
   "metadata": {},
   "outputs": [],
   "source": [
    "# inhheritnce means make all the implparents imentation available to child"
   ]
  }
 ],
 "metadata": {
  "kernelspec": {
   "display_name": "Python 3 (ipykernel)",
   "language": "python",
   "name": "python3"
  },
  "language_info": {
   "codemirror_mode": {
    "name": "ipython",
    "version": 3
   },
   "file_extension": ".py",
   "mimetype": "text/x-python",
   "name": "python",
   "nbconvert_exporter": "python",
   "pygments_lexer": "ipython3",
   "version": "3.9.7"
  }
 },
 "nbformat": 4,
 "nbformat_minor": 5
}
