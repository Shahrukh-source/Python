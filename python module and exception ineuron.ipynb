{
 "cells": [
  {
   "cell_type": "code",
   "execution_count": 2,
   "id": "787451a6",
   "metadata": {},
   "outputs": [],
   "source": [
    "import math\n"
   ]
  },
  {
   "cell_type": "code",
   "execution_count": 3,
   "id": "2484895b",
   "metadata": {},
   "outputs": [
    {
     "data": {
      "text/plain": [
       "5.0"
      ]
     },
     "execution_count": 3,
     "metadata": {},
     "output_type": "execute_result"
    }
   ],
   "source": [
    "math.sqrt(25)"
   ]
  },
  {
   "cell_type": "code",
   "execution_count": 4,
   "id": "eb57e211",
   "metadata": {},
   "outputs": [],
   "source": [
    "from math import sqrt"
   ]
  },
  {
   "cell_type": "code",
   "execution_count": 5,
   "id": "63afe62b",
   "metadata": {},
   "outputs": [
    {
     "data": {
      "text/plain": [
       "10.0"
      ]
     },
     "execution_count": 5,
     "metadata": {},
     "output_type": "execute_result"
    }
   ],
   "source": [
    "sqrt(100)"
   ]
  },
  {
   "cell_type": "code",
   "execution_count": 6,
   "id": "e0ca5192",
   "metadata": {},
   "outputs": [],
   "source": [
    "from math import sqrt,pi# pie ^ value"
   ]
  },
  {
   "cell_type": "code",
   "execution_count": 7,
   "id": "6135998c",
   "metadata": {},
   "outputs": [
    {
     "data": {
      "text/plain": [
       "3.141592653589793"
      ]
     },
     "execution_count": 7,
     "metadata": {},
     "output_type": "execute_result"
    }
   ],
   "source": [
    "pi"
   ]
  },
  {
   "cell_type": "code",
   "execution_count": 8,
   "id": "2097c3e3",
   "metadata": {},
   "outputs": [],
   "source": [
    "from math import*"
   ]
  },
  {
   "cell_type": "code",
   "execution_count": 9,
   "id": "64a3a10a",
   "metadata": {},
   "outputs": [
    {
     "data": {
      "text/plain": [
       "0.0"
      ]
     },
     "execution_count": 9,
     "metadata": {},
     "output_type": "execute_result"
    }
   ],
   "source": [
    "sin(0)"
   ]
  },
  {
   "cell_type": "code",
   "execution_count": 10,
   "id": "4935d213",
   "metadata": {},
   "outputs": [
    {
     "data": {
      "text/plain": [
       "5.0"
      ]
     },
     "execution_count": 10,
     "metadata": {},
     "output_type": "execute_result"
    }
   ],
   "source": [
    "sqrt(25)"
   ]
  },
  {
   "cell_type": "code",
   "execution_count": 11,
   "id": "3e9df961",
   "metadata": {},
   "outputs": [
    {
     "data": {
      "text/plain": [
       "3.141592653589793"
      ]
     },
     "execution_count": 11,
     "metadata": {},
     "output_type": "execute_result"
    }
   ],
   "source": [
    "pi"
   ]
  },
  {
   "cell_type": "markdown",
   "id": "e32998c2",
   "metadata": {},
   "source": [
    "# i want to create my own so module make any folder(.py) and create text file(.py) and write def function in file then call (import)  the file"
   ]
  },
  {
   "cell_type": "code",
   "execution_count": 12,
   "id": "ec9f95a1",
   "metadata": {},
   "outputs": [],
   "source": [
    "#Jupyter Notebook txtfile1.py 06/23/2022\n",
    "\n",
    "##this is my first module\n",
    "#print(\"this is my first ever module\")"
   ]
  },
  {
   "cell_type": "code",
   "execution_count": 13,
   "id": "8b1b2171",
   "metadata": {},
   "outputs": [
    {
     "name": "stdout",
     "output_type": "stream",
     "text": [
      "this is my first ever module\n"
     ]
    }
   ],
   "source": [
    "import txtfile1"
   ]
  },
  {
   "cell_type": "code",
   "execution_count": 14,
   "id": "8f5b142b",
   "metadata": {},
   "outputs": [],
   "source": [
    "import txtfile1"
   ]
  },
  {
   "cell_type": "markdown",
   "id": "d66832cc",
   "metadata": {},
   "source": [
    "# how to able get the data again"
   ]
  },
  {
   "cell_type": "code",
   "execution_count": 15,
   "id": "c844de9d",
   "metadata": {},
   "outputs": [],
   "source": [
    "import imp   #<<<<"
   ]
  },
  {
   "cell_type": "code",
   "execution_count": 16,
   "id": "064fb72c",
   "metadata": {},
   "outputs": [
    {
     "name": "stdout",
     "output_type": "stream",
     "text": [
      "this is my first ever module\n"
     ]
    },
    {
     "data": {
      "text/plain": [
       "<module 'txtfile1' from 'C:\\\\Users\\\\shahrukh khan\\\\txtfile1.py'>"
      ]
     },
     "execution_count": 16,
     "metadata": {},
     "output_type": "execute_result"
    }
   ],
   "source": [
    "imp.reload(txtfile1)"
   ]
  },
  {
   "cell_type": "code",
   "execution_count": 1,
   "id": "3b2d1ec8",
   "metadata": {},
   "outputs": [
    {
     "ename": "SyntaxError",
     "evalue": "invalid syntax (addition.py, line 12)",
     "output_type": "error",
     "traceback": [
      "Traceback \u001b[1;36m(most recent call last)\u001b[0m:\n",
      "  File \u001b[0;32m\"C:\\Users\\shahrukh khan\\anaconda3\\lib\\site-packages\\IPython\\core\\interactiveshell.py\"\u001b[0m, line \u001b[0;32m3444\u001b[0m, in \u001b[0;35mrun_code\u001b[0m\n    exec(code_obj, self.user_global_ns, self.user_ns)\n",
      "\u001b[1;36m  File \u001b[1;32m\"C:\\Users\\SHAHRU~1\\AppData\\Local\\Temp/ipykernel_3552/1244411377.py\"\u001b[1;36m, line \u001b[1;32m1\u001b[1;36m, in \u001b[1;35m<module>\u001b[1;36m\u001b[0m\n\u001b[1;33m    import addition # new text file\u001b[0m\n",
      "\u001b[1;36m  File \u001b[1;32m\"C:\\Users\\shahrukh khan\\addition.py\"\u001b[1;36m, line \u001b[1;32m12\u001b[0m\n\u001b[1;33m    \"course\": [\"ml\", \"deep learning\",\"python\"]\u001b[0m\n\u001b[1;37m            ^\u001b[0m\n\u001b[1;31mSyntaxError\u001b[0m\u001b[1;31m:\u001b[0m invalid syntax\n"
     ]
    }
   ],
   "source": [
    "import addition # new text file"
   ]
  },
  {
   "cell_type": "code",
   "execution_count": 2,
   "id": "9016e7b7",
   "metadata": {},
   "outputs": [
    {
     "ename": "NameError",
     "evalue": "name 'addition' is not defined",
     "output_type": "error",
     "traceback": [
      "\u001b[1;31m---------------------------------------------------------------------------\u001b[0m",
      "\u001b[1;31mNameError\u001b[0m                                 Traceback (most recent call last)",
      "\u001b[1;32mC:\\Users\\SHAHRU~1\\AppData\\Local\\Temp/ipykernel_3552/1298867588.py\u001b[0m in \u001b[0;36m<module>\u001b[1;34m\u001b[0m\n\u001b[1;32m----> 1\u001b[1;33m \u001b[0maddition\u001b[0m\u001b[1;33m.\u001b[0m\u001b[0maddition1\u001b[0m\u001b[1;33m(\u001b[0m\u001b[1;36m5\u001b[0m\u001b[1;33m,\u001b[0m\u001b[1;36m5\u001b[0m\u001b[1;33m)\u001b[0m\u001b[1;33m\u001b[0m\u001b[1;33m\u001b[0m\u001b[0m\n\u001b[0m",
      "\u001b[1;31mNameError\u001b[0m: name 'addition' is not defined"
     ]
    }
   ],
   "source": [
    "addition.addition1(5,5)"
   ]
  },
  {
   "cell_type": "code",
   "execution_count": 3,
   "id": "689364bc",
   "metadata": {},
   "outputs": [
    {
     "ename": "SyntaxError",
     "evalue": "invalid syntax (addition.py, line 12)",
     "output_type": "error",
     "traceback": [
      "Traceback \u001b[1;36m(most recent call last)\u001b[0m:\n",
      "  File \u001b[0;32m\"C:\\Users\\shahrukh khan\\anaconda3\\lib\\site-packages\\IPython\\core\\interactiveshell.py\"\u001b[0m, line \u001b[0;32m3444\u001b[0m, in \u001b[0;35mrun_code\u001b[0m\n    exec(code_obj, self.user_global_ns, self.user_ns)\n",
      "\u001b[1;36m  File \u001b[1;32m\"C:\\Users\\SHAHRU~1\\AppData\\Local\\Temp/ipykernel_3552/1146126069.py\"\u001b[1;36m, line \u001b[1;32m1\u001b[1;36m, in \u001b[1;35m<module>\u001b[1;36m\u001b[0m\n\u001b[1;33m    import addition\u001b[0m\n",
      "\u001b[1;36m  File \u001b[1;32m\"C:\\Users\\shahrukh khan\\addition.py\"\u001b[1;36m, line \u001b[1;32m12\u001b[0m\n\u001b[1;33m    \"course\": [\"ml\", \"deep learning\",\"python\"]\u001b[0m\n\u001b[1;37m            ^\u001b[0m\n\u001b[1;31mSyntaxError\u001b[0m\u001b[1;31m:\u001b[0m invalid syntax\n"
     ]
    }
   ],
   "source": [
    "import addition"
   ]
  },
  {
   "cell_type": "code",
   "execution_count": 4,
   "id": "b7522209",
   "metadata": {},
   "outputs": [
    {
     "ename": "NameError",
     "evalue": "name 'addition' is not defined",
     "output_type": "error",
     "traceback": [
      "\u001b[1;31m---------------------------------------------------------------------------\u001b[0m",
      "\u001b[1;31mNameError\u001b[0m                                 Traceback (most recent call last)",
      "\u001b[1;32mC:\\Users\\SHAHRU~1\\AppData\\Local\\Temp/ipykernel_3552/1317860293.py\u001b[0m in \u001b[0;36m<module>\u001b[1;34m\u001b[0m\n\u001b[1;32m----> 1\u001b[1;33m \u001b[0maddition\u001b[0m\u001b[1;33m.\u001b[0m\u001b[0mpower\u001b[0m\u001b[1;33m(\u001b[0m\u001b[1;36m5\u001b[0m\u001b[1;33m,\u001b[0m\u001b[1;36m3\u001b[0m\u001b[1;33m)\u001b[0m\u001b[1;33m\u001b[0m\u001b[1;33m\u001b[0m\u001b[0m\n\u001b[0m",
      "\u001b[1;31mNameError\u001b[0m: name 'addition' is not defined"
     ]
    }
   ],
   "source": [
    "addition.power(5,3)"
   ]
  },
  {
   "cell_type": "code",
   "execution_count": 5,
   "id": "6ce12e64",
   "metadata": {},
   "outputs": [
    {
     "ename": "NameError",
     "evalue": "name 'addition' is not defined",
     "output_type": "error",
     "traceback": [
      "\u001b[1;31m---------------------------------------------------------------------------\u001b[0m",
      "\u001b[1;31mNameError\u001b[0m                                 Traceback (most recent call last)",
      "\u001b[1;32mC:\\Users\\SHAHRU~1\\AppData\\Local\\Temp/ipykernel_3552/1306924443.py\u001b[0m in \u001b[0;36m<module>\u001b[1;34m\u001b[0m\n\u001b[1;32m----> 1\u001b[1;33m \u001b[0maddition\u001b[0m\u001b[1;33m.\u001b[0m\u001b[0mmul\u001b[0m\u001b[1;33m(\u001b[0m\u001b[1;36m6\u001b[0m\u001b[1;33m,\u001b[0m\u001b[1;36m4\u001b[0m\u001b[1;33m)\u001b[0m\u001b[1;33m\u001b[0m\u001b[1;33m\u001b[0m\u001b[0m\n\u001b[0m",
      "\u001b[1;31mNameError\u001b[0m: name 'addition' is not defined"
     ]
    }
   ],
   "source": [
    "addition.mul(6,4)"
   ]
  },
  {
   "cell_type": "code",
   "execution_count": null,
   "id": "47a88d75",
   "metadata": {},
   "outputs": [],
   "source": [
    "Jupyter Notebook  test6.py  06/23/2022\n",
    "\n",
    "#data = {\n",
    "      \"name\": \"shahrukh khan\",\n",
    "       \"course\": [\"ml\", \"deep learning\",\"python\"],\n",
    "       \"msg\": \"this is my class\"\n",
    "}\n",
    "\n",
    "def get_course():\n",
    "        return data[\"course\"]\n",
    "    \n",
    "def msg() :\n",
    "    return data[\"msg\"]"
   ]
  },
  {
   "cell_type": "code",
   "execution_count": 7,
   "id": "de153c64",
   "metadata": {},
   "outputs": [],
   "source": [
    "import test6"
   ]
  },
  {
   "cell_type": "code",
   "execution_count": 8,
   "id": "11e0ca5a",
   "metadata": {},
   "outputs": [
    {
     "data": {
      "text/plain": [
       "['ml', 'deep learning', 'python']"
      ]
     },
     "execution_count": 8,
     "metadata": {},
     "output_type": "execute_result"
    }
   ],
   "source": [
    "test6.get_course()"
   ]
  },
  {
   "cell_type": "code",
   "execution_count": 9,
   "id": "1a8b16c0",
   "metadata": {},
   "outputs": [
    {
     "data": {
      "text/plain": [
       "'this is my class'"
      ]
     },
     "execution_count": 9,
     "metadata": {},
     "output_type": "execute_result"
    }
   ],
   "source": [
    "test6.msg()"
   ]
  },
  {
   "cell_type": "code",
   "execution_count": 10,
   "id": "9b8cfe8d",
   "metadata": {},
   "outputs": [],
   "source": [
    "from test6 import get_course"
   ]
  },
  {
   "cell_type": "code",
   "execution_count": 11,
   "id": "589c8aca",
   "metadata": {},
   "outputs": [],
   "source": [
    "import logging as lg"
   ]
  },
  {
   "cell_type": "code",
   "execution_count": 12,
   "id": "235d1f56",
   "metadata": {},
   "outputs": [],
   "source": [
    "import os"
   ]
  },
  {
   "cell_type": "code",
   "execution_count": 13,
   "id": "2029de45",
   "metadata": {},
   "outputs": [
    {
     "ename": "FileExistsError",
     "evalue": "[WinError 183] Cannot create a file when that file already exists: 'test20'",
     "output_type": "error",
     "traceback": [
      "\u001b[1;31m---------------------------------------------------------------------------\u001b[0m",
      "\u001b[1;31mFileExistsError\u001b[0m                           Traceback (most recent call last)",
      "\u001b[1;32mC:\\Users\\SHAHRU~1\\AppData\\Local\\Temp/ipykernel_3552/1670734023.py\u001b[0m in \u001b[0;36m<module>\u001b[1;34m\u001b[0m\n\u001b[1;32m----> 1\u001b[1;33m \u001b[0mos\u001b[0m\u001b[1;33m.\u001b[0m\u001b[0mmkdir\u001b[0m\u001b[1;33m(\u001b[0m\u001b[1;34m\"test20\"\u001b[0m\u001b[1;33m)\u001b[0m\u001b[1;33m\u001b[0m\u001b[1;33m\u001b[0m\u001b[0m\n\u001b[0m",
      "\u001b[1;31mFileExistsError\u001b[0m: [WinError 183] Cannot create a file when that file already exists: 'test20'"
     ]
    }
   ],
   "source": [
    "os.mkdir(\"test20\")\n"
   ]
  },
  {
   "cell_type": "code",
   "execution_count": null,
   "id": "1b4e443e",
   "metadata": {},
   "outputs": [],
   "source": [
    "Files Running Clusters\n",
    "Select items to perform actions on them.   \n",
    " \n",
    "test123test1 # make folder\n",
    "  \n",
    "..\n",
    "seconds ago \n",
    "python module ineuron.ipynb     8 days ago3.66 kB\n",
    "mod1.py                         8 days ago134 B\n",
    "mod2.py                          8 days ago170 B\n",
    "mod3.py"
   ]
  },
  {
   "cell_type": "code",
   "execution_count": 27,
   "id": "7cf8ff0d",
   "metadata": {},
   "outputs": [
    {
     "ename": "NameError",
     "evalue": "name 'test123' is not defined",
     "output_type": "error",
     "traceback": [
      "\u001b[1;31m---------------------------------------------------------------------------\u001b[0m",
      "\u001b[1;31mNameError\u001b[0m                                 Traceback (most recent call last)",
      "\u001b[1;32mC:\\Users\\SHAHRU~1\\AppData\\Local\\Temp/ipykernel_3552/2302035035.py\u001b[0m in \u001b[0;36m<module>\u001b[1;34m\u001b[0m\n\u001b[1;32m----> 1\u001b[1;33m \u001b[0mtest123\u001b[0m\u001b[1;33m.\u001b[0m\u001b[0mtest1\u001b[0m\u001b[1;33m\u001b[0m\u001b[1;33m\u001b[0m\u001b[0m\n\u001b[0m",
      "\u001b[1;31mNameError\u001b[0m: name 'test123' is not defined"
     ]
    }
   ],
   "source": [
    "test123.test1"
   ]
  },
  {
   "cell_type": "code",
   "execution_count": 29,
   "id": "0a8423d0",
   "metadata": {},
   "outputs": [],
   "source": [
    "from test123.test1 import mod1,mod2,mod3"
   ]
  },
  {
   "cell_type": "code",
   "execution_count": 31,
   "id": "19047efa",
   "metadata": {},
   "outputs": [
    {
     "name": "stdout",
     "output_type": "stream",
     "text": [
      "my first module\n"
     ]
    }
   ],
   "source": [
    "mod1.fn1()"
   ]
  },
  {
   "cell_type": "code",
   "execution_count": 32,
   "id": "86506c1c",
   "metadata": {},
   "outputs": [
    {
     "name": "stdout",
     "output_type": "stream",
     "text": [
      "this is my third file\n"
     ]
    }
   ],
   "source": [
    "mod2.fn21()"
   ]
  },
  {
   "cell_type": "code",
   "execution_count": 33,
   "id": "963292da",
   "metadata": {},
   "outputs": [
    {
     "data": {
      "text/plain": [
       "'this is my second file'"
      ]
     },
     "execution_count": 33,
     "metadata": {},
     "output_type": "execute_result"
    }
   ],
   "source": [
    "mod3.fn31()"
   ]
  },
  {
   "cell_type": "code",
   "execution_count": 34,
   "id": "e66a2d9e",
   "metadata": {},
   "outputs": [],
   "source": [
    "#in folder and in file now open new jupiter then call"
   ]
  },
  {
   "cell_type": "markdown",
   "id": "377bc5c7",
   "metadata": {},
   "source": [
    "# exception handling try and except"
   ]
  },
  {
   "cell_type": "code",
   "execution_count": 21,
   "id": "6520cca2",
   "metadata": {},
   "outputs": [
    {
     "ename": "SyntaxError",
     "evalue": "EOL while scanning string literal (Temp/ipykernel_3552/5486167.py, line 1)",
     "output_type": "error",
     "traceback": [
      "\u001b[1;36m  File \u001b[1;32m\"C:\\Users\\SHAHRU~1\\AppData\\Local\\Temp/ipykernel_3552/5486167.py\"\u001b[1;36m, line \u001b[1;32m1\u001b[0m\n\u001b[1;33m    print(\"this is my name)\u001b[0m\n\u001b[1;37m                            ^\u001b[0m\n\u001b[1;31mSyntaxError\u001b[0m\u001b[1;31m:\u001b[0m EOL while scanning string literal\n"
     ]
    }
   ],
   "source": [
    "print(\"this is my name) \n",
    "# this is i have made syntectical mistake ,# so these are all error is called compile type issu"
   ]
  },
  {
   "cell_type": "code",
   "execution_count": 22,
   "id": "bc21502f",
   "metadata": {},
   "outputs": [],
   "source": [
    "def test(a,b):\n",
    "    return a/b\n"
   ]
  },
  {
   "cell_type": "code",
   "execution_count": 23,
   "id": "888bd25f",
   "metadata": {},
   "outputs": [
    {
     "ename": "ZeroDivisionError",
     "evalue": "division by zero",
     "output_type": "error",
     "traceback": [
      "\u001b[1;31m---------------------------------------------------------------------------\u001b[0m",
      "\u001b[1;31mZeroDivisionError\u001b[0m                         Traceback (most recent call last)",
      "\u001b[1;32mC:\\Users\\SHAHRU~1\\AppData\\Local\\Temp/ipykernel_3552/3898843801.py\u001b[0m in \u001b[0;36m<module>\u001b[1;34m\u001b[0m\n\u001b[1;32m----> 1\u001b[1;33m \u001b[0mtest\u001b[0m\u001b[1;33m(\u001b[0m\u001b[1;36m5\u001b[0m\u001b[1;33m,\u001b[0m\u001b[1;36m0\u001b[0m\u001b[1;33m)\u001b[0m \u001b[1;31m# its a compile type issu\u001b[0m\u001b[1;33m\u001b[0m\u001b[1;33m\u001b[0m\u001b[0m\n\u001b[0m",
      "\u001b[1;32mC:\\Users\\SHAHRU~1\\AppData\\Local\\Temp/ipykernel_3552/2405163521.py\u001b[0m in \u001b[0;36mtest\u001b[1;34m(a, b)\u001b[0m\n\u001b[0;32m      1\u001b[0m \u001b[1;32mdef\u001b[0m \u001b[0mtest\u001b[0m\u001b[1;33m(\u001b[0m\u001b[0ma\u001b[0m\u001b[1;33m,\u001b[0m\u001b[0mb\u001b[0m\u001b[1;33m)\u001b[0m\u001b[1;33m:\u001b[0m\u001b[1;33m\u001b[0m\u001b[1;33m\u001b[0m\u001b[0m\n\u001b[1;32m----> 2\u001b[1;33m     \u001b[1;32mreturn\u001b[0m \u001b[0ma\u001b[0m\u001b[1;33m/\u001b[0m\u001b[0mb\u001b[0m\u001b[1;33m\u001b[0m\u001b[1;33m\u001b[0m\u001b[0m\n\u001b[0m",
      "\u001b[1;31mZeroDivisionError\u001b[0m: division by zero"
     ]
    }
   ],
   "source": [
    "test(5,0) # its a compile type issu"
   ]
  },
  {
   "cell_type": "code",
   "execution_count": null,
   "id": "1ac03e41",
   "metadata": {},
   "outputs": [],
   "source": [
    "# these kind of issu are called compile time error"
   ]
  },
  {
   "cell_type": "code",
   "execution_count": 24,
   "id": "94a49a90",
   "metadata": {},
   "outputs": [],
   "source": [
    "# so how can handle all the issu i handle issu with the help of <<<<<<exception>>>>"
   ]
  },
  {
   "cell_type": "code",
   "execution_count": 25,
   "id": "fd849a18",
   "metadata": {},
   "outputs": [
    {
     "data": {
      "text/plain": [
       "<function __main__.test(a, b)>"
      ]
     },
     "execution_count": 25,
     "metadata": {},
     "output_type": "execute_result"
    }
   ],
   "source": [
    "test"
   ]
  },
  {
   "cell_type": "code",
   "execution_count": 35,
   "id": "3005859c",
   "metadata": {},
   "outputs": [
    {
     "ename": "FileNotFoundError",
     "evalue": "[Errno 2] No such file or directory: 'txt.csv'",
     "output_type": "error",
     "traceback": [
      "\u001b[1;31m---------------------------------------------------------------------------\u001b[0m",
      "\u001b[1;31mFileNotFoundError\u001b[0m                         Traceback (most recent call last)",
      "\u001b[1;32mC:\\Users\\SHAHRU~1\\AppData\\Local\\Temp/ipykernel_3552/3454388787.py\u001b[0m in \u001b[0;36m<module>\u001b[1;34m\u001b[0m\n\u001b[1;32m----> 1\u001b[1;33m \u001b[0ma\u001b[0m \u001b[1;33m=\u001b[0m \u001b[0mopen\u001b[0m\u001b[1;33m(\u001b[0m\u001b[1;34m\"txt.csv\"\u001b[0m\u001b[1;33m,\u001b[0m \u001b[1;34m\"r\"\u001b[0m\u001b[1;33m)\u001b[0m\u001b[1;33m\u001b[0m\u001b[1;33m\u001b[0m\u001b[0m\n\u001b[0m",
      "\u001b[1;31mFileNotFoundError\u001b[0m: [Errno 2] No such file or directory: 'txt.csv'"
     ]
    }
   ],
   "source": [
    "a = open(\"txt.csv\", \"r\")"
   ]
  },
  {
   "cell_type": "code",
   "execution_count": null,
   "id": "3da2a7cb",
   "metadata": {},
   "outputs": [],
   "source": [
    "# first is run time issue"
   ]
  },
  {
   "cell_type": "code",
   "execution_count": 36,
   "id": "b12cf0c2",
   "metadata": {},
   "outputs": [],
   "source": [
    "try:\n",
    "    a = open(\"txt.csv\", \"r\")\n",
    "except:\n",
    "    pass"
   ]
  },
  {
   "cell_type": "code",
   "execution_count": 37,
   "id": "ae30a4b6",
   "metadata": {},
   "outputs": [],
   "source": [
    "#i may get some sort of error i just kept inside the try block and acccept block to handle it"
   ]
  },
  {
   "cell_type": "code",
   "execution_count": 38,
   "id": "56250b5f",
   "metadata": {},
   "outputs": [
    {
     "ename": "SyntaxError",
     "evalue": "invalid syntax (Temp/ipykernel_3552/4149346982.py, line 3)",
     "output_type": "error",
     "traceback": [
      "\u001b[1;36m  File \u001b[1;32m\"C:\\Users\\SHAHRU~1\\AppData\\Local\\Temp/ipykernel_3552/4149346982.py\"\u001b[1;36m, line \u001b[1;32m3\u001b[0m\n\u001b[1;33m    except:\u001b[0m\n\u001b[1;37m    ^\u001b[0m\n\u001b[1;31mSyntaxError\u001b[0m\u001b[1;31m:\u001b[0m invalid syntax\n"
     ]
    }
   ],
   "source": [
    "try:\n",
    "    a = open(\"txt.csv\", \"r\"\n",
    "except:\n",
    "    pass"
   ]
  },
  {
   "cell_type": "code",
   "execution_count": 39,
   "id": "dfff0198",
   "metadata": {},
   "outputs": [],
   "source": [
    "# show me issue because its a compile type error ,its a systeticle error ,so what kind of error i will be to handle a run time errror so comple type issue are not to be handdle\n"
   ]
  },
  {
   "cell_type": "code",
   "execution_count": 41,
   "id": "a57cf22e",
   "metadata": {},
   "outputs": [
    {
     "name": "stdout",
     "output_type": "stream",
     "text": [
      " this is my own error\n"
     ]
    }
   ],
   "source": [
    "try:\n",
    "    a = open(\"txt.csv\", \"r\")\n",
    "except:\n",
    "    print(\" this is my own error\")"
   ]
  },
  {
   "cell_type": "code",
   "execution_count": 42,
   "id": "5685ee4c",
   "metadata": {},
   "outputs": [],
   "source": [
    "# io error is a prediffind classes which is already available inside a exception handling classes"
   ]
  },
  {
   "cell_type": "code",
   "execution_count": 26,
   "id": "21e3a02a",
   "metadata": {},
   "outputs": [],
   "source": [
    "#iOError Exception It is an error raised when an input/output operation fails, such as the print statement or the open () function when trying to open a file that does not exist. It is also raised for operating system-related errors."
   ]
  },
  {
   "cell_type": "code",
   "execution_count": 2,
   "id": "bfb7d109",
   "metadata": {},
   "outputs": [
    {
     "ename": "NameError",
     "evalue": "name 'ioerror' is not defined",
     "output_type": "error",
     "traceback": [
      "\u001b[1;31m---------------------------------------------------------------------------\u001b[0m",
      "\u001b[1;31mZeroDivisionError\u001b[0m                         Traceback (most recent call last)",
      "\u001b[1;32mC:\\Users\\SHAHRU~1\\AppData\\Local\\Temp/ipykernel_11788/3974352752.py\u001b[0m in \u001b[0;36m<module>\u001b[1;34m\u001b[0m\n\u001b[0;32m      2\u001b[0m \u001b[1;32mtry\u001b[0m\u001b[1;33m:\u001b[0m\u001b[1;33m\u001b[0m\u001b[1;33m\u001b[0m\u001b[0m\n\u001b[1;32m----> 3\u001b[1;33m     \u001b[0ma\u001b[0m \u001b[1;33m=\u001b[0m \u001b[1;36m5\u001b[0m\u001b[1;33m/\u001b[0m\u001b[1;36m0\u001b[0m\u001b[1;33m\u001b[0m\u001b[1;33m\u001b[0m\u001b[0m\n\u001b[0m\u001b[0;32m      4\u001b[0m \u001b[1;32mexcept\u001b[0m \u001b[0mioerror\u001b[0m\u001b[1;33m:\u001b[0m\u001b[1;33m\u001b[0m\u001b[1;33m\u001b[0m\u001b[0m\n",
      "\u001b[1;31mZeroDivisionError\u001b[0m: division by zero",
      "\nDuring handling of the above exception, another exception occurred:\n",
      "\u001b[1;31mNameError\u001b[0m                                 Traceback (most recent call last)",
      "\u001b[1;32mC:\\Users\\SHAHRU~1\\AppData\\Local\\Temp/ipykernel_11788/3974352752.py\u001b[0m in \u001b[0;36m<module>\u001b[1;34m\u001b[0m\n\u001b[0;32m      2\u001b[0m \u001b[1;32mtry\u001b[0m\u001b[1;33m:\u001b[0m\u001b[1;33m\u001b[0m\u001b[1;33m\u001b[0m\u001b[0m\n\u001b[0;32m      3\u001b[0m     \u001b[0ma\u001b[0m \u001b[1;33m=\u001b[0m \u001b[1;36m5\u001b[0m\u001b[1;33m/\u001b[0m\u001b[1;36m0\u001b[0m\u001b[1;33m\u001b[0m\u001b[1;33m\u001b[0m\u001b[0m\n\u001b[1;32m----> 4\u001b[1;33m \u001b[1;32mexcept\u001b[0m \u001b[0mioerror\u001b[0m\u001b[1;33m:\u001b[0m\u001b[1;33m\u001b[0m\u001b[1;33m\u001b[0m\u001b[0m\n\u001b[0m\u001b[0;32m      5\u001b[0m     \u001b[0mprint\u001b[0m\u001b[1;33m(\u001b[0m\u001b[1;34m\" this is my own error\"\u001b[0m\u001b[1;33m)\u001b[0m\u001b[1;33m\u001b[0m\u001b[1;33m\u001b[0m\u001b[0m\n",
      "\u001b[1;31mNameError\u001b[0m: name 'ioerror' is not defined"
     ]
    }
   ],
   "source": [
    "#ArithmeticError error\n",
    "try:\n",
    "    a = 5/0\n",
    "except ioerror: # input and uot put error when i am read the file and i am not do it\n",
    "    print(\" this is my own error\")"
   ]
  },
  {
   "cell_type": "code",
   "execution_count": 3,
   "id": "db6bf939",
   "metadata": {},
   "outputs": [
    {
     "name": "stdout",
     "output_type": "stream",
     "text": [
      " this is my own error\n"
     ]
    }
   ],
   "source": [
    "try:\n",
    "    a = 5/0\n",
    "except ArithmeticError:\n",
    "    print(\" this is my own error\")"
   ]
  },
  {
   "cell_type": "code",
   "execution_count": 5,
   "id": "4aee73cc",
   "metadata": {},
   "outputs": [
    {
     "name": "stdout",
     "output_type": "stream",
     "text": [
      " this is my own error division by zero\n"
     ]
    }
   ],
   "source": [
    "try:\n",
    "    a = 5/0\n",
    "except ArithmeticError as e:\n",
    "    print(\" this is my own error\",e)"
   ]
  },
  {
   "cell_type": "code",
   "execution_count": 6,
   "id": "5ef49cbf",
   "metadata": {},
   "outputs": [],
   "source": [
    "# try>>>>>>>> its a kind of block where we suppose to keep our suspicious code\n",
    "# acccept>>>> is nothing whenever there will be an issue it will come where it will come to a acccept block"
   ]
  },
  {
   "cell_type": "code",
   "execution_count": 7,
   "id": "ad5eef54",
   "metadata": {},
   "outputs": [
    {
     "name": "stdout",
     "output_type": "stream",
     "text": [
      " this is my own error\n"
     ]
    }
   ],
   "source": [
    "try:\n",
    "    a = 5/0\n",
    "except ArithmeticError:\n",
    "    print(\" this is my own error\")\n",
    "else:\n",
    "    print(\"this wil be issue\")"
   ]
  },
  {
   "cell_type": "code",
   "execution_count": 9,
   "id": "f916deaa",
   "metadata": {},
   "outputs": [
    {
     "name": "stdout",
     "output_type": "stream",
     "text": [
      "this my new issue and \n"
     ]
    }
   ],
   "source": [
    "try:\n",
    "    a = 5/4\n",
    "except ArithmeticError as e:\n",
    "    print(\" this is my own error\",e)\n",
    "else:\n",
    "    print(\"this my new issue and \")"
   ]
  },
  {
   "cell_type": "code",
   "execution_count": 10,
   "id": "d7e9f6b7",
   "metadata": {},
   "outputs": [
    {
     "name": "stdout",
     "output_type": "stream",
     "text": [
      "this my new issue and \n"
     ]
    },
    {
     "ename": "FileNotFoundError",
     "evalue": "[Errno 2] No such file or directory: 'txt.csv'",
     "output_type": "error",
     "traceback": [
      "\u001b[1;31m---------------------------------------------------------------------------\u001b[0m",
      "\u001b[1;31mFileNotFoundError\u001b[0m                         Traceback (most recent call last)",
      "\u001b[1;32mC:\\Users\\SHAHRU~1\\AppData\\Local\\Temp/ipykernel_11788/84943736.py\u001b[0m in \u001b[0;36m<module>\u001b[1;34m\u001b[0m\n\u001b[0;32m      5\u001b[0m \u001b[1;32melse\u001b[0m\u001b[1;33m:\u001b[0m\u001b[1;33m\u001b[0m\u001b[1;33m\u001b[0m\u001b[0m\n\u001b[0;32m      6\u001b[0m     \u001b[0mprint\u001b[0m\u001b[1;33m(\u001b[0m\u001b[1;34m\"this my new issue and \"\u001b[0m\u001b[1;33m)\u001b[0m\u001b[1;33m\u001b[0m\u001b[1;33m\u001b[0m\u001b[0m\n\u001b[1;32m----> 7\u001b[1;33m     \u001b[0mf\u001b[0m \u001b[1;33m=\u001b[0m \u001b[0mopen\u001b[0m\u001b[1;33m(\u001b[0m\u001b[1;34m\"txt.csv\"\u001b[0m\u001b[1;33m,\u001b[0m \u001b[1;34m\"r\"\u001b[0m\u001b[1;33m)\u001b[0m\u001b[1;33m\u001b[0m\u001b[1;33m\u001b[0m\u001b[0m\n\u001b[0m",
      "\u001b[1;31mFileNotFoundError\u001b[0m: [Errno 2] No such file or directory: 'txt.csv'"
     ]
    }
   ],
   "source": [
    "try:\n",
    "    a = 5/4\n",
    "except ArithmeticError as e:\n",
    "    print(\" this is my own error\",e)\n",
    "else:\n",
    "    print(\"this my new issue and \")\n",
    "    f = open(\"txt.csv\", \"r\")"
   ]
  },
  {
   "cell_type": "code",
   "execution_count": 14,
   "id": "65a041ff",
   "metadata": {},
   "outputs": [
    {
     "name": "stdout",
     "output_type": "stream",
     "text": [
      "this my new issue and \n",
      "this is issue intyer nal try block\n"
     ]
    }
   ],
   "source": [
    "try:\n",
    "    a = 5/4\n",
    "except ArithmeticError as e:\n",
    "    print(\" this is my own error\",e)\n",
    "else:\n",
    "    print(\"this my new issue and \")\n",
    "    \n",
    "    try:\n",
    "        f = open(\"txt.csv\", \"r\")\n",
    "    except :\n",
    "         print(\"this is issue intyer nal try block\")"
   ]
  },
  {
   "cell_type": "code",
   "execution_count": 2,
   "id": "6a008a27",
   "metadata": {},
   "outputs": [
    {
     "name": "stdout",
     "output_type": "stream",
     "text": [
      "enter your first number5\n",
      "enter your second number0\n",
      " this is my own error division by zero\n"
     ]
    }
   ],
   "source": [
    "try:\n",
    "    a = int(input(\"enter your first number\"))\n",
    "    b = int(input(\"enter your second number\"))\n",
    "    c = a/b\n",
    "except ArithmeticError as e:\n",
    "    print(\" this is my own error\",e)\n",
    "else:\n",
    "    print(\"this my new issue and \")\n",
    "    \n",
    "    try:\n",
    "        f = open(\"txt.csv\", \"r\")\n",
    "    except :\n",
    "         print(\"this is issue intyer nal try block\")"
   ]
  },
  {
   "cell_type": "code",
   "execution_count": 5,
   "id": "670e38c0",
   "metadata": {},
   "outputs": [
    {
     "name": "stdout",
     "output_type": "stream",
     "text": [
      "enter your first number5\n",
      "enter your second number0\n",
      " this is my own error division by zero\n"
     ]
    }
   ],
   "source": [
    "try:\n",
    "    a = int(input(\"enter your first number\"))\n",
    "    b = int(input(\"enter your second number\"))\n",
    "    c = a/b\n",
    "except ArithmeticError as e:\n",
    "    print(\" this is my own error\",e)\n",
    "    f = open(\"text.csv\",\"w+\")\n",
    "    f.read()\n",
    "else:\n",
    "    print(\"this my new issue and \")\n",
    "    \n",
    "    try:\n",
    "        f = open(\"txt.csv\", \"r\")\n",
    "    except :\n",
    "         print(\"this is issue intyer nal try block\") # succesfuly execute use else not a except ,if any issue so file is going in except but if will be not issue so file is come in else"
   ]
  },
  {
   "cell_type": "code",
   "execution_count": 8,
   "id": "98ce7bd9",
   "metadata": {},
   "outputs": [
    {
     "ename": "IndexError",
     "evalue": "list index out of range",
     "output_type": "error",
     "traceback": [
      "\u001b[1;31m---------------------------------------------------------------------------\u001b[0m",
      "\u001b[1;31mIndexError\u001b[0m                                Traceback (most recent call last)",
      "\u001b[1;32mC:\\Users\\SHAHRU~1\\AppData\\Local\\Temp/ipykernel_9304/3671169183.py\u001b[0m in \u001b[0;36m<module>\u001b[1;34m\u001b[0m\n\u001b[0;32m      1\u001b[0m \u001b[0ml\u001b[0m \u001b[1;33m=\u001b[0m\u001b[1;33m[\u001b[0m\u001b[1;36m4\u001b[0m\u001b[1;33m,\u001b[0m\u001b[1;36m5\u001b[0m\u001b[1;33m,\u001b[0m\u001b[1;36m6\u001b[0m\u001b[1;33m,\u001b[0m\u001b[1;36m7\u001b[0m\u001b[1;33m,\u001b[0m\u001b[1;36m8\u001b[0m\u001b[1;33m,\u001b[0m\u001b[1;36m90\u001b[0m\u001b[1;33m]\u001b[0m\u001b[1;33m\u001b[0m\u001b[1;33m\u001b[0m\u001b[0m\n\u001b[1;32m----> 2\u001b[1;33m \u001b[0mprint\u001b[0m\u001b[1;33m(\u001b[0m\u001b[0ml\u001b[0m\u001b[1;33m[\u001b[0m\u001b[1;36m100\u001b[0m\u001b[1;33m]\u001b[0m\u001b[1;33m)\u001b[0m\u001b[1;33m\u001b[0m\u001b[1;33m\u001b[0m\u001b[0m\n\u001b[0m\u001b[0;32m      3\u001b[0m \u001b[1;33m\u001b[0m\u001b[0m\n\u001b[0;32m      4\u001b[0m \u001b[0mt\u001b[0m \u001b[1;33m=\u001b[0m \u001b[1;33m(\u001b[0m\u001b[1;36m4\u001b[0m\u001b[1;33m,\u001b[0m\u001b[1;36m5\u001b[0m\u001b[1;33m,\u001b[0m\u001b[1;36m2\u001b[0m\u001b[1;33m,\u001b[0m\u001b[1;36m3\u001b[0m\u001b[1;33m,\u001b[0m\u001b[1;36m6\u001b[0m\u001b[1;33m,\u001b[0m\u001b[1;36m7\u001b[0m\u001b[1;33m,\u001b[0m\u001b[1;36m8\u001b[0m\u001b[1;33m,\u001b[0m\u001b[1;36m9\u001b[0m\u001b[1;33m)\u001b[0m\u001b[1;33m\u001b[0m\u001b[1;33m\u001b[0m\u001b[0m\n\u001b[0;32m      5\u001b[0m \u001b[0mprint\u001b[0m\u001b[1;33m(\u001b[0m\u001b[0mt\u001b[0m\u001b[1;33m)\u001b[0m\u001b[1;33m\u001b[0m\u001b[1;33m\u001b[0m\u001b[0m\n",
      "\u001b[1;31mIndexError\u001b[0m: list index out of range"
     ]
    }
   ],
   "source": [
    "l =[4,5,6,7,8,90]\n",
    "print(l[100])\n",
    "\n",
    "t = (4,5,2,3,6,7,8,9)\n",
    "print(t)"
   ]
  },
  {
   "cell_type": "code",
   "execution_count": 7,
   "id": "9a61d78d",
   "metadata": {},
   "outputs": [
    {
     "ename": "IndexError",
     "evalue": "list index out of range",
     "output_type": "error",
     "traceback": [
      "\u001b[1;31m---------------------------------------------------------------------------\u001b[0m",
      "\u001b[1;31mIndexError\u001b[0m                                Traceback (most recent call last)",
      "\u001b[1;32mC:\\Users\\SHAHRU~1\\AppData\\Local\\Temp/ipykernel_9304/2321736930.py\u001b[0m in \u001b[0;36m<module>\u001b[1;34m\u001b[0m\n\u001b[1;32m----> 1\u001b[1;33m \u001b[0ml\u001b[0m\u001b[1;33m[\u001b[0m\u001b[1;36m100\u001b[0m\u001b[1;33m]\u001b[0m\u001b[1;33m\u001b[0m\u001b[1;33m\u001b[0m\u001b[0m\n\u001b[0m",
      "\u001b[1;31mIndexError\u001b[0m: list index out of range"
     ]
    }
   ],
   "source": [
    "l[100]"
   ]
  },
  {
   "cell_type": "code",
   "execution_count": 25,
   "id": "bd8bffe6",
   "metadata": {},
   "outputs": [
    {
     "name": "stdout",
     "output_type": "stream",
     "text": [
      "there is my issue \n",
      "(4, 5, 2, 3, 6, 7, 8, 9)\n"
     ]
    }
   ],
   "source": [
    "try:\n",
    "    l =[4,5,6,7,8,9,0]\n",
    "    l[100]\n",
    "except:\n",
    "    print(\"there is my issue \")\n",
    "    t = (4,5,2,3,6,7,8,9)\n",
    "    print(t)\n",
    " \n",
    "    try:\n",
    "        t[0] = \"shahrukh\"\n",
    "        try:\n",
    "            list[t]\n",
    "            print(t)\n",
    "        except:\n",
    "            pass\n",
    "    except:\n",
    "        pass\n",
    "else:\n",
    "    print(\"there is my not s issue\")"
   ]
  },
  {
   "cell_type": "code",
   "execution_count": 27,
   "id": "510c2190",
   "metadata": {},
   "outputs": [],
   "source": [
    "# finally role and responsibility of finally execute is this itself in any circumstances so whether there is an issue with the try block\n",
    "# whether you have not handle those error and any kind of a thing you will be able to find but finally is try to execute itself"
   ]
  },
  {
   "cell_type": "code",
   "execution_count": 29,
   "id": "ef344118",
   "metadata": {},
   "outputs": [
    {
     "name": "stdout",
     "output_type": "stream",
     "text": [
      "finally  read my code \n",
      "1\n"
     ]
    },
    {
     "ename": "FileNotFoundError",
     "evalue": "[Errno 2] No such file or directory: 'txt'",
     "output_type": "error",
     "traceback": [
      "\u001b[1;31m---------------------------------------------------------------------------\u001b[0m",
      "\u001b[1;31mFileNotFoundError\u001b[0m                         Traceback (most recent call last)",
      "\u001b[1;32mC:\\Users\\SHAHRU~1\\AppData\\Local\\Temp/ipykernel_9304/1051150416.py\u001b[0m in \u001b[0;36m<module>\u001b[1;34m\u001b[0m\n\u001b[0;32m      1\u001b[0m \u001b[1;32mtry\u001b[0m\u001b[1;33m:\u001b[0m\u001b[1;33m\u001b[0m\u001b[1;33m\u001b[0m\u001b[0m\n\u001b[1;32m----> 2\u001b[1;33m     \u001b[0mf\u001b[0m \u001b[1;33m=\u001b[0m \u001b[0mopen\u001b[0m\u001b[1;33m(\u001b[0m\u001b[1;34m\"txt\"\u001b[0m\u001b[1;33m,\u001b[0m\u001b[1;34m\"r\"\u001b[0m\u001b[1;33m)\u001b[0m\u001b[1;33m\u001b[0m\u001b[1;33m\u001b[0m\u001b[0m\n\u001b[0m\u001b[0;32m      3\u001b[0m \u001b[1;32mfinally\u001b[0m\u001b[1;33m:\u001b[0m\u001b[1;33m\u001b[0m\u001b[1;33m\u001b[0m\u001b[0m\n\u001b[0;32m      4\u001b[0m     \u001b[0mprint\u001b[0m\u001b[1;33m(\u001b[0m\u001b[1;34m\"finally  read my code \"\u001b[0m\u001b[1;33m)\u001b[0m\u001b[1;33m\u001b[0m\u001b[1;33m\u001b[0m\u001b[0m\n\u001b[0;32m      5\u001b[0m     \u001b[0ml\u001b[0m \u001b[1;33m=\u001b[0m \u001b[1;33m[\u001b[0m\u001b[1;36m1\u001b[0m\u001b[1;33m,\u001b[0m\u001b[1;36m2\u001b[0m\u001b[1;33m,\u001b[0m\u001b[1;36m3\u001b[0m\u001b[1;33m,\u001b[0m\u001b[1;36m5\u001b[0m\u001b[1;33m,\u001b[0m\u001b[1;36m6\u001b[0m\u001b[1;33m]\u001b[0m\u001b[1;33m\u001b[0m\u001b[1;33m\u001b[0m\u001b[0m\n",
      "\u001b[1;31mFileNotFoundError\u001b[0m: [Errno 2] No such file or directory: 'txt'"
     ]
    }
   ],
   "source": [
    "try:\n",
    "    f = open(\"txt\",\"r\")\n",
    "finally:\n",
    "    print(\"finally  read my code \")\n",
    "    l = [1,2,3,5,6]\n",
    "    l[0]\n",
    "    print(l[0])"
   ]
  },
  {
   "cell_type": "code",
   "execution_count": 35,
   "id": "2b4d4af1",
   "metadata": {},
   "outputs": [
    {
     "name": "stdout",
     "output_type": "stream",
     "text": [
      "print my code \n",
      "finally  read my code \n"
     ]
    }
   ],
   "source": [
    "try:\n",
    "    f = open(\"txt\",\"r\") # suspeciuos code\n",
    "except:                 # if try is fail\n",
    "    pass\n",
    "else:\n",
    "    print(\"print my code \") # if try will pass come to else\n",
    "finally:                    # and then finally  try to execute\n",
    "    print(\"finally  read my code \")\n",
    "    l = [1,2,3,5,6]\n",
    "    try:\n",
    "        l[10]\n",
    "        print(l[10])\n",
    "    except:\n",
    "        pass"
   ]
  },
  {
   "cell_type": "code",
   "execution_count": 34,
   "id": "af898fc8",
   "metadata": {},
   "outputs": [
    {
     "name": "stdout",
     "output_type": "stream",
     "text": [
      "print my code \n",
      "finally  read my code \n"
     ]
    }
   ],
   "source": [
    "try:\n",
    "    f = open(\"txt\",\"w+\") # suspeciuos code\n",
    "except:                 # if try is fail\n",
    "    pass\n",
    "else:\n",
    "    print(\"print my code \") # if try will pass come to else\n",
    "finally:                    # and then finally  try to execute\n",
    "    print(\"finally  read my code \")\n",
    "    l = [1,2,3,5,6]\n",
    "    try:\n",
    "        l[10]\n",
    "        print(l[10])\n",
    "    except:\n",
    "        pass"
   ]
  },
  {
   "cell_type": "code",
   "execution_count": 36,
   "id": "b1309079",
   "metadata": {},
   "outputs": [
    {
     "ename": "ZeroDivisionError",
     "evalue": "division by zero",
     "output_type": "error",
     "traceback": [
      "\u001b[1;31m---------------------------------------------------------------------------\u001b[0m",
      "\u001b[1;31mZeroDivisionError\u001b[0m                         Traceback (most recent call last)",
      "\u001b[1;32mC:\\Users\\SHAHRU~1\\AppData\\Local\\Temp/ipykernel_9304/2874912419.py\u001b[0m in \u001b[0;36m<module>\u001b[1;34m\u001b[0m\n\u001b[1;32m----> 1\u001b[1;33m \u001b[1;36m5\u001b[0m\u001b[1;33m/\u001b[0m\u001b[1;36m0\u001b[0m\u001b[1;33m\u001b[0m\u001b[1;33m\u001b[0m\u001b[0m\n\u001b[0m",
      "\u001b[1;31mZeroDivisionError\u001b[0m: division by zero"
     ]
    }
   ],
   "source": [
    "5/0"
   ]
  },
  {
   "cell_type": "code",
   "execution_count": 3,
   "id": "c9e5d6a2",
   "metadata": {},
   "outputs": [
    {
     "name": "stdout",
     "output_type": "stream",
     "text": [
      "this is my error [Errno 2] No such file or directory: 'test1.txt'\n"
     ]
    }
   ],
   "source": [
    "try:\n",
    "    f =open(\"test1.txt\",\"r\")\n",
    "except IOError as e:\n",
    "    print(\"this is my error\", e)"
   ]
  },
  {
   "cell_type": "code",
   "execution_count": 4,
   "id": "a92e1f5b",
   "metadata": {},
   "outputs": [
    {
     "ename": "FileNotFoundError",
     "evalue": "[Errno 2] No such file or directory: 'test1.txt'",
     "output_type": "error",
     "traceback": [
      "\u001b[1;31m---------------------------------------------------------------------------\u001b[0m",
      "\u001b[1;31mFileNotFoundError\u001b[0m                         Traceback (most recent call last)",
      "\u001b[1;32mC:\\Users\\SHAHRU~1\\AppData\\Local\\Temp/ipykernel_8232/1808875451.py\u001b[0m in \u001b[0;36m<module>\u001b[1;34m\u001b[0m\n\u001b[1;32m----> 1\u001b[1;33m \u001b[0mf\u001b[0m \u001b[1;33m=\u001b[0m\u001b[0mopen\u001b[0m\u001b[1;33m(\u001b[0m\u001b[1;34m\"test1.txt\"\u001b[0m\u001b[1;33m,\u001b[0m\u001b[1;34m\"r\"\u001b[0m\u001b[1;33m)\u001b[0m\u001b[1;33m\u001b[0m\u001b[1;33m\u001b[0m\u001b[0m\n\u001b[0m",
      "\u001b[1;31mFileNotFoundError\u001b[0m: [Errno 2] No such file or directory: 'test1.txt'"
     ]
    }
   ],
   "source": [
    " f =open(\"test1.txt\",\"r\")"
   ]
  },
  {
   "cell_type": "code",
   "execution_count": null,
   "id": "19cd77fa",
   "metadata": {},
   "outputs": [],
   "source": [
    "def fnint():\n",
    "    while True:\n",
    "        try:\n",
    "            a = int(input(\"inter your name\\n\"))\n",
    "            c = 8/a\n",
    "        except FileNotFoundError as e:\n",
    "            print(e)\n",
    "        except Exception as e:  # exception is a super class and exception keep checking the hierarchy\n",
    "            print(\"this is my error\", e)\n",
    "            continue\n",
    "        except IOError as e:\n",
    "            print(e)\n",
    "        except ValueError as  e:\n",
    "            print(e)\n",
    "        except ZeroDevisionError as e :\n",
    "            print(e)\n",
    "        else:\n",
    "            print(\"this is my error msg\")\n",
    "            break\n",
    "        finally:\n",
    "            print(\"close the loop\")\n",
    "        "
   ]
  },
  {
   "cell_type": "code",
   "execution_count": null,
   "id": "7779f774",
   "metadata": {},
   "outputs": [],
   "source": [
    "fnint()"
   ]
  },
  {
   "cell_type": "code",
   "execution_count": 5,
   "id": "1c7d2819",
   "metadata": {},
   "outputs": [],
   "source": [
    "def fnint():\n",
    "    while True:\n",
    "        try:\n",
    "            a = int(input(\"inter your int\\n\"))\n",
    "            c = 8/a\n",
    "        except FileNotFoundError as e:\n",
    "            print(e)\n",
    "        except IOError as e:\n",
    "            print(e)\n",
    "        except ValueError as  e:\n",
    "            print(e)\n",
    "        except ZeroDivisionError as e :\n",
    "            print(e)\n",
    "        else:\n",
    "            print(\"this is my error msg\")\n",
    "            break\n",
    "        finally:\n",
    "            print(\"close the loop\")"
   ]
  },
  {
   "cell_type": "code",
   "execution_count": 6,
   "id": "6e48ba42",
   "metadata": {},
   "outputs": [
    {
     "name": "stdout",
     "output_type": "stream",
     "text": [
      "inter your int\n",
      "0\n",
      "division by zero\n",
      "close the loop\n",
      "inter your int\n",
      "kdnc\n",
      "invalid literal for int() with base 10: 'kdnc'\n",
      "close the loop\n",
      "inter your int\n",
      "666\n",
      "this is my error msg\n",
      "close the loop\n"
     ]
    }
   ],
   "source": [
    "fnint()"
   ]
  },
  {
   "cell_type": "code",
   "execution_count": 13,
   "id": "0e00c213",
   "metadata": {},
   "outputs": [],
   "source": [
    "def create_your_exception(a):\n",
    "    if a == 6:\n",
    "        raise Exception(a)"
   ]
  },
  {
   "cell_type": "code",
   "execution_count": 15,
   "id": "19cbc2cc",
   "metadata": {},
   "outputs": [],
   "source": [
    "create_your_exception(7)"
   ]
  },
  {
   "cell_type": "code",
   "execution_count": 16,
   "id": "a486d52a",
   "metadata": {},
   "outputs": [],
   "source": [
    "def create_your_exception(a):\n",
    "    if a == 6:\n",
    "        raise Exception(a)"
   ]
  },
  {
   "cell_type": "code",
   "execution_count": 17,
   "id": "aa4f496f",
   "metadata": {},
   "outputs": [
    {
     "ename": "Exception",
     "evalue": "6",
     "output_type": "error",
     "traceback": [
      "\u001b[1;31m---------------------------------------------------------------------------\u001b[0m",
      "\u001b[1;31mException\u001b[0m                                 Traceback (most recent call last)",
      "\u001b[1;32mC:\\Users\\SHAHRU~1\\AppData\\Local\\Temp/ipykernel_3408/2402796548.py\u001b[0m in \u001b[0;36m<module>\u001b[1;34m\u001b[0m\n\u001b[1;32m----> 1\u001b[1;33m \u001b[0mcreate_your_exception\u001b[0m\u001b[1;33m(\u001b[0m\u001b[1;36m6\u001b[0m\u001b[1;33m)\u001b[0m\u001b[1;33m\u001b[0m\u001b[1;33m\u001b[0m\u001b[0m\n\u001b[0m",
      "\u001b[1;32mC:\\Users\\SHAHRU~1\\AppData\\Local\\Temp/ipykernel_3408/4103199785.py\u001b[0m in \u001b[0;36mcreate_your_exception\u001b[1;34m(a)\u001b[0m\n\u001b[0;32m      1\u001b[0m \u001b[1;32mdef\u001b[0m \u001b[0mcreate_your_exception\u001b[0m\u001b[1;33m(\u001b[0m\u001b[0ma\u001b[0m\u001b[1;33m)\u001b[0m\u001b[1;33m:\u001b[0m\u001b[1;33m\u001b[0m\u001b[1;33m\u001b[0m\u001b[0m\n\u001b[0;32m      2\u001b[0m     \u001b[1;32mif\u001b[0m \u001b[0ma\u001b[0m \u001b[1;33m==\u001b[0m \u001b[1;36m6\u001b[0m\u001b[1;33m:\u001b[0m\u001b[1;33m\u001b[0m\u001b[1;33m\u001b[0m\u001b[0m\n\u001b[1;32m----> 3\u001b[1;33m         \u001b[1;32mraise\u001b[0m \u001b[0mException\u001b[0m\u001b[1;33m(\u001b[0m\u001b[0ma\u001b[0m\u001b[1;33m)\u001b[0m\u001b[1;33m\u001b[0m\u001b[1;33m\u001b[0m\u001b[0m\n\u001b[0m",
      "\u001b[1;31mException\u001b[0m: 6"
     ]
    }
   ],
   "source": [
    "create_your_exception(6)"
   ]
  },
  {
   "cell_type": "code",
   "execution_count": 34,
   "id": "bcd5b2bc",
   "metadata": {},
   "outputs": [],
   "source": [
    "def create_your_exception(a):\n",
    "    if a == 6:\n",
    "        raise Exception(\"error is\", a)\n",
    "    else:\n",
    "        print(\"this is ok \")\n",
    "    return a"
   ]
  },
  {
   "cell_type": "code",
   "execution_count": 35,
   "id": "1d459975",
   "metadata": {},
   "outputs": [
    {
     "name": "stdout",
     "output_type": "stream",
     "text": [
      "('error is', 6)\n"
     ]
    }
   ],
   "source": [
    "try:\n",
    "    create_your_exception(6)\n",
    "except Exception as a:\n",
    "    print(a)"
   ]
  },
  {
   "cell_type": "code",
   "execution_count": 39,
   "id": "5e69bf54",
   "metadata": {},
   "outputs": [],
   "source": [
    "def create_your_exception(a):\n",
    "    if a > 6:\n",
    "        raise Exception(\"error is\", a)\n",
    "    else:\n",
    "        print(\"this is ok \")\n",
    "    return a"
   ]
  },
  {
   "cell_type": "code",
   "execution_count": 40,
   "id": "8c1681de",
   "metadata": {},
   "outputs": [
    {
     "ename": "Exception",
     "evalue": "('error is', 10)",
     "output_type": "error",
     "traceback": [
      "\u001b[1;31m---------------------------------------------------------------------------\u001b[0m",
      "\u001b[1;31mException\u001b[0m                                 Traceback (most recent call last)",
      "\u001b[1;32mC:\\Users\\SHAHRU~1\\AppData\\Local\\Temp/ipykernel_3408/1330398994.py\u001b[0m in \u001b[0;36m<module>\u001b[1;34m\u001b[0m\n\u001b[1;32m----> 1\u001b[1;33m \u001b[0mcreate_your_exception\u001b[0m\u001b[1;33m(\u001b[0m\u001b[1;36m10\u001b[0m\u001b[1;33m)\u001b[0m\u001b[1;33m\u001b[0m\u001b[1;33m\u001b[0m\u001b[0m\n\u001b[0m",
      "\u001b[1;32mC:\\Users\\SHAHRU~1\\AppData\\Local\\Temp/ipykernel_3408/1041449454.py\u001b[0m in \u001b[0;36mcreate_your_exception\u001b[1;34m(a)\u001b[0m\n\u001b[0;32m      1\u001b[0m \u001b[1;32mdef\u001b[0m \u001b[0mcreate_your_exception\u001b[0m\u001b[1;33m(\u001b[0m\u001b[0ma\u001b[0m\u001b[1;33m)\u001b[0m\u001b[1;33m:\u001b[0m\u001b[1;33m\u001b[0m\u001b[1;33m\u001b[0m\u001b[0m\n\u001b[0;32m      2\u001b[0m     \u001b[1;32mif\u001b[0m \u001b[0ma\u001b[0m \u001b[1;33m>\u001b[0m \u001b[1;36m6\u001b[0m\u001b[1;33m:\u001b[0m\u001b[1;33m\u001b[0m\u001b[1;33m\u001b[0m\u001b[0m\n\u001b[1;32m----> 3\u001b[1;33m         \u001b[1;32mraise\u001b[0m \u001b[0mException\u001b[0m\u001b[1;33m(\u001b[0m\u001b[1;34m\"error is\"\u001b[0m\u001b[1;33m,\u001b[0m \u001b[0ma\u001b[0m\u001b[1;33m)\u001b[0m\u001b[1;33m\u001b[0m\u001b[1;33m\u001b[0m\u001b[0m\n\u001b[0m\u001b[0;32m      4\u001b[0m     \u001b[1;32melse\u001b[0m\u001b[1;33m:\u001b[0m\u001b[1;33m\u001b[0m\u001b[1;33m\u001b[0m\u001b[0m\n\u001b[0;32m      5\u001b[0m         \u001b[0mprint\u001b[0m\u001b[1;33m(\u001b[0m\u001b[1;34m\"this is ok \"\u001b[0m\u001b[1;33m)\u001b[0m\u001b[1;33m\u001b[0m\u001b[1;33m\u001b[0m\u001b[0m\n",
      "\u001b[1;31mException\u001b[0m: ('error is', 10)"
     ]
    }
   ],
   "source": [
    "create_your_exception(10)"
   ]
  },
  {
   "cell_type": "code",
   "execution_count": 38,
   "id": "832f0e29",
   "metadata": {},
   "outputs": [
    {
     "name": "stdout",
     "output_type": "stream",
     "text": [
      "('error is', 10)\n"
     ]
    }
   ],
   "source": [
    "try:\n",
    "    create_your_exception(10)\n",
    "except Exception as a:\n",
    "    print(a)"
   ]
  },
  {
   "cell_type": "code",
   "execution_count": 44,
   "id": "0aad24e9",
   "metadata": {},
   "outputs": [],
   "source": [
    "import logging as lg\n",
    "lg.basicConfig(filename =\"even.log\", level = lg.INFO , format = \"%(asctime)s = %(message)s\")\n",
    "\n",
    "\n",
    "def even(maximum,minimum):\n",
    "    try:\n",
    "        maximum = int(input(\" enter the first value\"))\n",
    "        minimum = int(input(\"enter the second value\"))\n",
    "    except Exception as e:\n",
    "        lg.error(e)\n",
    "    else:\n",
    "        for i in range(maximum, minimum):\n",
    "            if i%2 == 0 :\n",
    "                print(i, \"even number\")\n",
    "    finally:\n",
    "        print(\"code executed\")"
   ]
  },
  {
   "cell_type": "code",
   "execution_count": null,
   "id": "3301f96f",
   "metadata": {},
   "outputs": [],
   "source": []
  },
  {
   "cell_type": "code",
   "execution_count": null,
   "id": "5a839739",
   "metadata": {},
   "outputs": [],
   "source": []
  },
  {
   "cell_type": "code",
   "execution_count": null,
   "id": "00e0ee6d",
   "metadata": {},
   "outputs": [],
   "source": []
  }
 ],
 "metadata": {
  "kernelspec": {
   "display_name": "Python 3 (ipykernel)",
   "language": "python",
   "name": "python3"
  },
  "language_info": {
   "codemirror_mode": {
    "name": "ipython",
    "version": 3
   },
   "file_extension": ".py",
   "mimetype": "text/x-python",
   "name": "python",
   "nbconvert_exporter": "python",
   "pygments_lexer": "ipython3",
   "version": "3.9.7"
  }
 },
 "nbformat": 4,
 "nbformat_minor": 5
}
