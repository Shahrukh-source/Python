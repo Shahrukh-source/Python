{
 "cells": [
  {
   "cell_type": "code",
   "execution_count": 1,
   "id": "92f5d276",
   "metadata": {},
   "outputs": [],
   "source": [
    "# for example >>>class = car\n",
    "# and         >>>object = car logo (xuv,Aulto, Nano, Audi etc) object is variable of a particular class\n"
   ]
  },
  {
   "cell_type": "code",
   "execution_count": 2,
   "id": "e833d25c",
   "metadata": {},
   "outputs": [],
   "source": [
    "class car:\n",
    "    pass"
   ]
  },
  {
   "cell_type": "code",
   "execution_count": 3,
   "id": "f190c964",
   "metadata": {},
   "outputs": [],
   "source": [
    "audiq7 = car() # i am create of variable of a car class"
   ]
  },
  {
   "cell_type": "code",
   "execution_count": 4,
   "id": "259a377e",
   "metadata": {},
   "outputs": [
    {
     "data": {
      "text/plain": [
       "<__main__.car at 0x2200b39d4f0>"
      ]
     },
     "execution_count": 4,
     "metadata": {},
     "output_type": "execute_result"
    }
   ],
   "source": [
    "audiq7"
   ]
  },
  {
   "cell_type": "code",
   "execution_count": 5,
   "id": "5f6f3888",
   "metadata": {},
   "outputs": [],
   "source": [
    "audiq7.milage = 12\n",
    "audiq7.year = 2022\n",
    "audiq7.make = 345\n",
    "audiq7.model = \"fhds\"\n",
    "# that wea have variable created , so class variable a new veriable "
   ]
  },
  {
   "cell_type": "code",
   "execution_count": 6,
   "id": "6e085408",
   "metadata": {},
   "outputs": [
    {
     "data": {
      "text/plain": [
       "12"
      ]
     },
     "execution_count": 6,
     "metadata": {},
     "output_type": "execute_result"
    }
   ],
   "source": [
    "audiq7.milage"
   ]
  },
  {
   "cell_type": "code",
   "execution_count": 7,
   "id": "cadac87f",
   "metadata": {},
   "outputs": [
    {
     "ename": "NameError",
     "evalue": "name 'mulage' is not defined",
     "output_type": "error",
     "traceback": [
      "\u001b[1;31m---------------------------------------------------------------------------\u001b[0m",
      "\u001b[1;31mNameError\u001b[0m                                 Traceback (most recent call last)",
      "\u001b[1;32mC:\\Users\\SHAHRU~1\\AppData\\Local\\Temp/ipykernel_10192/2881420986.py\u001b[0m in \u001b[0;36m<module>\u001b[1;34m\u001b[0m\n\u001b[1;32m----> 1\u001b[1;33m \u001b[0mmulage\u001b[0m\u001b[1;33m\u001b[0m\u001b[1;33m\u001b[0m\u001b[0m\n\u001b[0m",
      "\u001b[1;31mNameError\u001b[0m: name 'mulage' is not defined"
     ]
    }
   ],
   "source": [
    "mulage"
   ]
  },
  {
   "cell_type": "code",
   "execution_count": 8,
   "id": "b0cdcce2",
   "metadata": {},
   "outputs": [
    {
     "ename": "NameError",
     "evalue": "name 'nano' is not defined",
     "output_type": "error",
     "traceback": [
      "\u001b[1;31m---------------------------------------------------------------------------\u001b[0m",
      "\u001b[1;31mNameError\u001b[0m                                 Traceback (most recent call last)",
      "\u001b[1;32mC:\\Users\\SHAHRU~1\\AppData\\Local\\Temp/ipykernel_10192/3780320869.py\u001b[0m in \u001b[0;36m<module>\u001b[1;34m\u001b[0m\n\u001b[1;32m----> 1\u001b[1;33m \u001b[0mnano\u001b[0m\u001b[1;33m.\u001b[0m\u001b[0mmilage\u001b[0m \u001b[1;33m=\u001b[0m \u001b[1;36m20\u001b[0m\u001b[1;33m\u001b[0m\u001b[1;33m\u001b[0m\u001b[0m\n\u001b[0m\u001b[0;32m      2\u001b[0m \u001b[0mnano\u001b[0m\u001b[1;33m.\u001b[0m\u001b[0myear\u001b[0m \u001b[1;33m=\u001b[0m \u001b[1;36m2022\u001b[0m\u001b[1;33m\u001b[0m\u001b[1;33m\u001b[0m\u001b[0m\n\u001b[0;32m      3\u001b[0m \u001b[0mnano\u001b[0m\u001b[1;33m.\u001b[0m\u001b[0mmake\u001b[0m \u001b[1;33m=\u001b[0m \u001b[1;36m255\u001b[0m\u001b[1;33m\u001b[0m\u001b[1;33m\u001b[0m\u001b[0m\n\u001b[0;32m      4\u001b[0m \u001b[0mnano\u001b[0m\u001b[1;33m.\u001b[0m\u001b[0mmodel\u001b[0m \u001b[1;33m=\u001b[0m \u001b[1;34m\"khdr\"\u001b[0m\u001b[1;33m\u001b[0m\u001b[1;33m\u001b[0m\u001b[0m\n",
      "\u001b[1;31mNameError\u001b[0m: name 'nano' is not defined"
     ]
    }
   ],
   "source": [
    "nano.milage = 20  \n",
    "nano.year = 2022\n",
    "nano.make = 255\n",
    "nano.model = \"khdr\""
   ]
  },
  {
   "cell_type": "code",
   "execution_count": 9,
   "id": "8ebbc86b",
   "metadata": {},
   "outputs": [],
   "source": [
    "nano = car()"
   ]
  },
  {
   "cell_type": "code",
   "execution_count": 12,
   "id": "fe99fd4d",
   "metadata": {},
   "outputs": [],
   "source": [
    "nano.milage = 20  \n",
    "nano.year = 2022\n",
    "nano.make = 255\n",
    "nano.model = \"khdr\"\n",
    "nano.enginenumber = 32165546"
   ]
  },
  {
   "cell_type": "code",
   "execution_count": 13,
   "id": "6d7beff5",
   "metadata": {},
   "outputs": [
    {
     "data": {
      "text/plain": [
       "20"
      ]
     },
     "execution_count": 13,
     "metadata": {},
     "output_type": "execute_result"
    }
   ],
   "source": [
    "nano.milage"
   ]
  },
  {
   "cell_type": "code",
   "execution_count": 15,
   "id": "1ff72e0c",
   "metadata": {},
   "outputs": [
    {
     "name": "stdout",
     "output_type": "stream",
     "text": [
      "20 12\n"
     ]
    }
   ],
   "source": [
    "print(nano.milage,audiq7.milage)"
   ]
  },
  {
   "cell_type": "code",
   "execution_count": 1,
   "id": "6c792781",
   "metadata": {},
   "outputs": [],
   "source": [
    "# __init___ is a function that is used to initialization data"
   ]
  },
  {
   "cell_type": "code",
   "execution_count": 4,
   "id": "bb405cf6",
   "metadata": {},
   "outputs": [],
   "source": [
    "class car:\n",
    "    def __init__(self,milage,model,year,make): # init function is been used to pass a data to a class so init funtion is provider a data to a class\n",
    "        self.milage = milage # self is pointer to itself ,it is point to going itself means a same classes, here self.milage is a class variable\n",
    "        self.year = year\n",
    "        self.make = make\n",
    "        self.model = model"
   ]
  },
  {
   "cell_type": "code",
   "execution_count": 6,
   "id": "a964b43b",
   "metadata": {},
   "outputs": [],
   "source": [
    "audi1 = car(20,\"gffh10\",2022,555)"
   ]
  },
  {
   "cell_type": "code",
   "execution_count": 8,
   "id": "90b6e83e",
   "metadata": {},
   "outputs": [
    {
     "data": {
      "text/plain": [
       "20"
      ]
     },
     "execution_count": 8,
     "metadata": {},
     "output_type": "execute_result"
    }
   ],
   "source": [
    "audi1.milage"
   ]
  },
  {
   "cell_type": "code",
   "execution_count": 11,
   "id": "173a6e09",
   "metadata": {},
   "outputs": [],
   "source": [
    "audi1 = car(20,\"gffh10\",2022,555)\n",
    "audi2 = car(20,\"gffh10\",2022,555)\n",
    "audi3 = car(20,\"gffh10\",2022,555)\n",
    "audi4 = car(20,\"gffh10\",2022,555)\n",
    "audi5 = car(20,\"gffh10\",2022,555)\n",
    "audi6 = car(20,\"gffh10\",2022,555)\n",
    "audi7 = car(20,\"gffh10\",2022,555)\n",
    "audi8 = car(20,\"gffh10\",2022,555)\n",
    "audi9 = car(20,\"gffh10\",2022,555)"
   ]
  },
  {
   "cell_type": "code",
   "execution_count": 12,
   "id": "f9439cfe",
   "metadata": {},
   "outputs": [
    {
     "data": {
      "text/plain": [
       "'gffh10'"
      ]
     },
     "execution_count": 12,
     "metadata": {},
     "output_type": "execute_result"
    }
   ],
   "source": [
    "audi4.model"
   ]
  },
  {
   "cell_type": "code",
   "execution_count": 17,
   "id": "9b1c556c",
   "metadata": {},
   "outputs": [],
   "source": [
    "class car:\n",
    "    def __init__(milage,model,year,make): #milage is behaving like a self\n",
    "        self.milage = milage \n",
    "        self.year = year\n",
    "        self.make = make\n",
    "        self.model = model"
   ]
  },
  {
   "cell_type": "code",
   "execution_count": null,
   "id": "39d02630",
   "metadata": {},
   "outputs": [],
   "source": []
  },
  {
   "cell_type": "code",
   "execution_count": 16,
   "id": "cfacf123",
   "metadata": {},
   "outputs": [],
   "source": [
    "# if i delete the self so >>>>milage<<<< is behaving like a self"
   ]
  },
  {
   "cell_type": "code",
   "execution_count": 18,
   "id": "1d11a88c",
   "metadata": {},
   "outputs": [],
   "source": [
    "class car:\n",
    "    def __init__(a,milage,model,year,make): #milage is behaving like a self, so self is not a key word self is a convention\n",
    "        a.milage = milage \n",
    "        a.year = year\n",
    "        a.make = make\n",
    "        a.model = model"
   ]
  },
  {
   "cell_type": "code",
   "execution_count": 19,
   "id": "08fc2f07",
   "metadata": {},
   "outputs": [
    {
     "data": {
      "text/plain": [
       "'gffh10'"
      ]
     },
     "execution_count": 19,
     "metadata": {},
     "output_type": "execute_result"
    }
   ],
   "source": [
    "audi1.model"
   ]
  },
  {
   "cell_type": "code",
   "execution_count": 21,
   "id": "b428e3bc",
   "metadata": {},
   "outputs": [],
   "source": [
    "nano67 = car(20,\"gffh10\",2022,555)"
   ]
  },
  {
   "cell_type": "code",
   "execution_count": 22,
   "id": "ad101e9f",
   "metadata": {},
   "outputs": [
    {
     "data": {
      "text/plain": [
       "'gffh10'"
      ]
     },
     "execution_count": 22,
     "metadata": {},
     "output_type": "execute_result"
    }
   ],
   "source": [
    "nano67.model"
   ]
  },
  {
   "cell_type": "code",
   "execution_count": 27,
   "id": "025f55c6",
   "metadata": {},
   "outputs": [],
   "source": [
    "class car:\n",
    "    def __init__(a,mi,mo,ye,ma): \n",
    "        a.milage = mi\n",
    "        a.year = ye\n",
    "        a.make = ma\n",
    "        a.model = mo"
   ]
  },
  {
   "cell_type": "code",
   "execution_count": 28,
   "id": "40f02e57",
   "metadata": {},
   "outputs": [],
   "source": [
    "nano67 = car(20,\"gffh10\",2022,555)"
   ]
  },
  {
   "cell_type": "code",
   "execution_count": 29,
   "id": "8c97cbcc",
   "metadata": {},
   "outputs": [
    {
     "ename": "AttributeError",
     "evalue": "'car' object has no attribute 'ma'",
     "output_type": "error",
     "traceback": [
      "\u001b[1;31m---------------------------------------------------------------------------\u001b[0m",
      "\u001b[1;31mAttributeError\u001b[0m                            Traceback (most recent call last)",
      "\u001b[1;32mC:\\Users\\SHAHRU~1\\AppData\\Local\\Temp/ipykernel_13224/977293927.py\u001b[0m in \u001b[0;36m<module>\u001b[1;34m\u001b[0m\n\u001b[1;32m----> 1\u001b[1;33m \u001b[0mnano67\u001b[0m\u001b[1;33m.\u001b[0m\u001b[0mma\u001b[0m\u001b[1;33m\u001b[0m\u001b[1;33m\u001b[0m\u001b[0m\n\u001b[0m",
      "\u001b[1;31mAttributeError\u001b[0m: 'car' object has no attribute 'ma'"
     ]
    }
   ],
   "source": [
    "nano67.ma # so actual variable is milage,year..."
   ]
  },
  {
   "cell_type": "code",
   "execution_count": 30,
   "id": "4b32bcd1",
   "metadata": {},
   "outputs": [
    {
     "data": {
      "text/plain": [
       "'gffh10'"
      ]
     },
     "execution_count": 30,
     "metadata": {},
     "output_type": "execute_result"
    }
   ],
   "source": [
    "nano67.model"
   ]
  },
  {
   "cell_type": "code",
   "execution_count": 84,
   "id": "f3cd05b5",
   "metadata": {},
   "outputs": [],
   "source": [
    "class car:\n",
    "    def __init__(a,mi,mo,ye,ma): \n",
    "        a.milage = mi\n",
    "        a.year = ye\n",
    "        a.make = ma\n",
    "        a.model = mo\n",
    "    def age(self,current_year):\n",
    "        return current_year - self.year\n",
    "    \n",
    "    def milage1(self):\n",
    "        print(\"print the milage of a car\",self.milage)\n",
    "        \n",
    "       # return self.milage\n",
    "    \n",
    "    def __str__(c): #str ia a inbuilt function that we are define in this particular place,<<<  c is linking to car class >>>\n",
    "        return \"this is my class i have just created\" # str is provide some sort of message ,whenever some one is going to call object\n",
    "        "
   ]
  },
  {
   "cell_type": "code",
   "execution_count": 85,
   "id": "8463c40e",
   "metadata": {},
   "outputs": [],
   "source": [
    "nano67 = car(20,\"gffh10\",2022,555)"
   ]
  },
  {
   "cell_type": "code",
   "execution_count": 86,
   "id": "4095b1c3",
   "metadata": {},
   "outputs": [
    {
     "data": {
      "text/plain": [
       "2"
      ]
     },
     "execution_count": 86,
     "metadata": {},
     "output_type": "execute_result"
    }
   ],
   "source": [
    "nano67.age(2024)"
   ]
  },
  {
   "cell_type": "code",
   "execution_count": 87,
   "id": "e79cd8f4",
   "metadata": {},
   "outputs": [
    {
     "name": "stdout",
     "output_type": "stream",
     "text": [
      "print the milage of a car 20\n"
     ]
    }
   ],
   "source": [
    "nano67.milage1()"
   ]
  },
  {
   "cell_type": "code",
   "execution_count": 88,
   "id": "f46fb437",
   "metadata": {},
   "outputs": [
    {
     "name": "stdout",
     "output_type": "stream",
     "text": [
      "this is my class i have just created\n"
     ]
    }
   ],
   "source": [
    "print(nano67)"
   ]
  },
  {
   "cell_type": "code",
   "execution_count": 37,
   "id": "7b9df69f",
   "metadata": {},
   "outputs": [],
   "source": [
    "class student:\n",
    "    \n",
    "    def __init__(self , name , rollno , joining_date , current_topic):\n",
    "        self.name = name \n",
    "        self.rollno = rollno\n",
    "        self.joining_date =  joining_date\n",
    "        self.current_topic = current_topic\n",
    "        \n",
    "    def crt_topic(self):\n",
    "        print(\"current topic discussed in my class is \" , self.current_topic)\n",
    "        \n",
    "    def str_rollno(self):\n",
    "        \n",
    "            if type(self.rollno) == str:\n",
    "                print(\"do nothing \")\n",
    "\n",
    "            else :\n",
    "                return str(self.rollno)\n",
    "        \n",
    "    \n",
    "        \n",
    "    def duration(self,current_date) :\n",
    "        \n",
    "        print(\"duration of student in my class is \" , current_date- self.joining_date)\n",
    "        \n",
    "    \n",
    "           \n",
    "    def __str__(self):\n",
    "        \n",
    "        \n",
    "        return \"this is strudent class where they can tyr to input there own data and they can try to fetch it \" \n",
    "    \n",
    "        \n",
    "        "
   ]
  },
  {
   "cell_type": "code",
   "execution_count": 38,
   "id": "0dd90063",
   "metadata": {},
   "outputs": [],
   "source": [
    "srini = student(\"srini\" , \"55\", 2021,\"oops\")"
   ]
  },
  {
   "cell_type": "code",
   "execution_count": 39,
   "id": "8905a3ac",
   "metadata": {},
   "outputs": [
    {
     "name": "stdout",
     "output_type": "stream",
     "text": [
      "duration of student in my class is  3\n"
     ]
    }
   ],
   "source": [
    "srini.duration(2024)"
   ]
  },
  {
   "cell_type": "code",
   "execution_count": 40,
   "id": "f56db20f",
   "metadata": {},
   "outputs": [
    {
     "data": {
      "text/plain": [
       "'55'"
      ]
     },
     "execution_count": 40,
     "metadata": {},
     "output_type": "execute_result"
    }
   ],
   "source": [
    "srini.rollno"
   ]
  },
  {
   "cell_type": "code",
   "execution_count": 42,
   "id": "70bc1365",
   "metadata": {},
   "outputs": [
    {
     "name": "stdout",
     "output_type": "stream",
     "text": [
      "current topic discussed in my class is  oops\n"
     ]
    }
   ],
   "source": [
    "srini.crt_topic()"
   ]
  },
  {
   "cell_type": "code",
   "execution_count": 126,
   "id": "fc8fa57a",
   "metadata": {},
   "outputs": [],
   "source": [
    "class student:\n",
    "    \n",
    "    def __init__(self , name , rollno , joining_date , current_topic):\n",
    "        self.name = name \n",
    "        self.rollno = rollno\n",
    "        self.joining_date = joining_date\n",
    "        self.current_topic = current_topic\n",
    "        \n",
    "        \n",
    "    def name_Parsing(self) :\n",
    "\n",
    "        if type(self.name) == list:\n",
    "            for i in self.name :\n",
    "                print(\"name of the stuent \" , i )\n",
    "        else : \n",
    "            print(\"provided name is not in a form of list \")\n",
    "    \n",
    "        \n",
    "    def crt_topic(self):\n",
    "        print(\"current topic discussed in my class is \" , self.current_topic)\n",
    "        \n",
    "    def str_rollno(self):\n",
    "        \n",
    "        try :\n",
    "        \n",
    "            if type(self.rollno) == str:\n",
    "                print(\"do nothing \")\n",
    "\n",
    "            else :\n",
    "                return str(self.rollno)\n",
    "        except Exception as e  :\n",
    "            \n",
    "            print(\"this is my erro msg \" , e )\n",
    "        \n",
    "        \n",
    "    def duration(self,*current_date) :\n",
    "        \n",
    "        print(\"duration of student in my class is \" , current_date- self.joining_date)\n",
    "        \n",
    "    def __str__(self):\n",
    "        \n",
    "        \n",
    "        return \"this is strudent class where they can tyr to input there own data and they can try to fetch it \"\n",
    "          "
   ]
  },
  {
   "cell_type": "code",
   "execution_count": 127,
   "id": "61bd993a",
   "metadata": {},
   "outputs": [],
   "source": [
    "srini = student(\"srini\" , \"####\", 2021,\"oops\")"
   ]
  },
  {
   "cell_type": "code",
   "execution_count": null,
   "id": "072fa8c7",
   "metadata": {},
   "outputs": [],
   "source": []
  },
  {
   "cell_type": "code",
   "execution_count": 128,
   "id": "18b0353e",
   "metadata": {},
   "outputs": [],
   "source": [
    "srini = student(\"srini\" , \"####\", 2021,\"oops\")"
   ]
  },
  {
   "cell_type": "code",
   "execution_count": 129,
   "id": "66feff78",
   "metadata": {},
   "outputs": [],
   "source": [
    "srk = student(\"srk\", 5463 , 2022, \"python\")"
   ]
  },
  {
   "cell_type": "code",
   "execution_count": 92,
   "id": "2294c723",
   "metadata": {},
   "outputs": [],
   "source": [
    "class student:\n",
    "    \n",
    "    def __init__(self, name,rollno, section,grade,joining_date,current_topic):\n",
    "        self.name = name\n",
    "        self.rollno = rollno\n",
    "        self.section = section\n",
    "        self.grade = grade\n",
    "        self.joining_date = joining_date\n",
    "        self.current_topic = current_topic\n",
    "        \n",
    "    def name_parsing(self):\n",
    "        if type(self.name) == list:\n",
    "            for i in self.name:\n",
    "                print(\"the student name is \", i)\n",
    "        else:\n",
    "            print(\"this is not allow\")\n",
    "            \n",
    "        \n",
    "        \n",
    "    def crt_topic(self):\n",
    "        print(\"current topic discus in my class\", self.current_topic)\n",
    "        \n",
    "    def str_rollno(self):\n",
    "     \n",
    "        try:\n",
    "            if type(self.rollno) == str:\n",
    "                print(\"do nothing\")        \n",
    "            \n",
    "            else:\n",
    "                return str(self.rollno)\n",
    "        \n",
    "        except Exception as e:\n",
    "            print(\"this is my error\", e)\n",
    "        #print(\"this is my good roll number\", self.rollno)\n",
    "        \n",
    "    def section(self,section):\n",
    "        print(\"my new section is\", self.section)\n",
    "        \n",
    "    def grade(self):\n",
    "        print|(\"my top grade is\", self.grade)\n",
    "        \n",
    "    def duration(self,current_date):\n",
    "        print(\"duration time is \",current_date - joining_date)\n",
    "        \n",
    "        \n",
    "    def __str__(self):\n",
    "        return \" this is my new class and i have just created\"\n",
    "        \n",
    "    \n",
    "        "
   ]
  },
  {
   "cell_type": "code",
   "execution_count": 94,
   "id": "41b25628",
   "metadata": {},
   "outputs": [],
   "source": [
    "shahrukh = student([\"shahrukh\",\"haider\",\"amir\",\"sabir\",\"sahil\",\"imran\"],\"####\",'B','A',2022,\"python\") #??????????"
   ]
  },
  {
   "cell_type": "code",
   "execution_count": 95,
   "id": "2d990225",
   "metadata": {},
   "outputs": [
    {
     "name": "stdout",
     "output_type": "stream",
     "text": [
      "the student name is  shahrukh\n",
      "the student name is  haider\n",
      "the student name is  amir\n",
      "the student name is  sabir\n",
      "the student name is  sahil\n",
      "the student name is  imran\n"
     ]
    }
   ],
   "source": [
    "shahrukh.name_parsing()"
   ]
  },
  {
   "cell_type": "code",
   "execution_count": 116,
   "id": "c15997ba",
   "metadata": {},
   "outputs": [],
   "source": [
    "class student:\n",
    "    \n",
    "    def __init__(self, name,rollno, section,grade,joining_date,current_topic):\n",
    "        self.name = name\n",
    "        self.rollno = rollno\n",
    "        self.section = section\n",
    "        self.grade = grade\n",
    "        self.joining_date = joining_date\n",
    "        self.current_topic = current_topic\n",
    "            \n",
    "        \n",
    "        \n",
    "    def crt_topic(self):\n",
    "        print(\"current topic discus in my class\", self.current_topic)\n",
    "        \n",
    "    def str_rollno(self):\n",
    "     \n",
    "        try:\n",
    "            if type(self.rollno) == str:\n",
    "                print(\"do nothing\")        \n",
    "            \n",
    "            else:\n",
    "                return str(self.rollno)\n",
    "        \n",
    "        except Exception as e:\n",
    "            print(\"this is my error\", e)\n",
    "        #print(\"this is my good roll number\", self.rollno)\n",
    "        \n",
    "    def str_section(self): # if i giving any variable so its take variable when you are going to execute\n",
    "        print(\"my new section is\", self.section)\n",
    "        \n",
    "    def str_grade(self):\n",
    "        print(\"my top grade is\", self.grade)\n",
    "        \n",
    "    def duration(self,current_date):\n",
    "        print(\"duration time is \",current_date - joining_date)\n",
    "        \n",
    "        \n",
    "    def __str__(self):\n",
    "        return \" this is my new class and i have just created\"\n",
    "        \n",
    "    \n",
    "        "
   ]
  },
  {
   "cell_type": "code",
   "execution_count": 117,
   "id": "0d9b9e1a",
   "metadata": {},
   "outputs": [],
   "source": [
    "shahrukh = student(\"shahrukh\",\"####\",'B','A',2022,\"python\")"
   ]
  },
  {
   "cell_type": "code",
   "execution_count": 118,
   "id": "d41ef5cf",
   "metadata": {},
   "outputs": [
    {
     "data": {
      "text/plain": [
       "'shahrukh'"
      ]
     },
     "execution_count": 118,
     "metadata": {},
     "output_type": "execute_result"
    }
   ],
   "source": [
    "shahrukh.name"
   ]
  },
  {
   "cell_type": "code",
   "execution_count": 119,
   "id": "00e04163",
   "metadata": {},
   "outputs": [
    {
     "name": "stdout",
     "output_type": "stream",
     "text": [
      "my new section is B\n"
     ]
    }
   ],
   "source": [
    "shahrukh.str_section()   #????????"
   ]
  },
  {
   "cell_type": "code",
   "execution_count": 120,
   "id": "d3f919c0",
   "metadata": {},
   "outputs": [
    {
     "name": "stdout",
     "output_type": "stream",
     "text": [
      "current topic discus in my class python\n"
     ]
    }
   ],
   "source": [
    "shahrukh.crt_topic()"
   ]
  },
  {
   "cell_type": "code",
   "execution_count": 121,
   "id": "7e02574b",
   "metadata": {},
   "outputs": [
    {
     "name": "stdout",
     "output_type": "stream",
     "text": [
      "do nothing\n"
     ]
    }
   ],
   "source": [
    "shahrukh.str_rollno() # giving string format"
   ]
  },
  {
   "cell_type": "code",
   "execution_count": 122,
   "id": "862c1628",
   "metadata": {},
   "outputs": [
    {
     "name": "stdout",
     "output_type": "stream",
     "text": [
      " this is my new class and i have just created\n"
     ]
    }
   ],
   "source": [
    "print(shahrukh)"
   ]
  },
  {
   "cell_type": "code",
   "execution_count": 123,
   "id": "0816569b",
   "metadata": {},
   "outputs": [
    {
     "name": "stdout",
     "output_type": "stream",
     "text": [
      "my top grade is A\n"
     ]
    }
   ],
   "source": [
    "shahrukh.str_grade()"
   ]
  },
  {
   "cell_type": "code",
   "execution_count": null,
   "id": "dcb291a6",
   "metadata": {},
   "outputs": [],
   "source": []
  },
  {
   "cell_type": "code",
   "execution_count": 25,
   "id": "3602c7f6",
   "metadata": {},
   "outputs": [],
   "source": [
    "class data:\n",
    "    \n",
    "    def __init__(self,file_name,file_type,date,size):\n",
    "        self.file_name = file_name\n",
    "        self.file_type = file_type\n",
    "        self.date = date\n",
    "        self.size = size\n",
    "        \n",
    "    def str_filename(self):\n",
    "        print(\"my file name\", self.file_name)\n",
    "            \n",
    "    def str_filetype(self):\n",
    "        print(\"my file type is \",self.file_type)\n",
    "        \n",
    "    def  str_date(self):\n",
    "        print(\"working date is\", self.date)\n",
    "        \n",
    "    def str_size(self):\n",
    "        print(\"the size is\", self.size)\n",
    "        \n",
    "    def __str__(self):\n",
    "        return \"this is complete project\""
   ]
  },
  {
   "cell_type": "code",
   "execution_count": 26,
   "id": "0ce90993",
   "metadata": {},
   "outputs": [],
   "source": [
    "company = data(\"Employee file\",\"mongo file\", \"20-7-2022\", \"1gb\")"
   ]
  },
  {
   "cell_type": "code",
   "execution_count": 27,
   "id": "398583de",
   "metadata": {},
   "outputs": [
    {
     "name": "stdout",
     "output_type": "stream",
     "text": [
      "my file name Employee file\n"
     ]
    }
   ],
   "source": [
    "company.str_filename()"
   ]
  },
  {
   "cell_type": "code",
   "execution_count": 28,
   "id": "773d8fee",
   "metadata": {},
   "outputs": [
    {
     "name": "stdout",
     "output_type": "stream",
     "text": [
      "the size is 1gb\n"
     ]
    }
   ],
   "source": [
    "company.str_size()"
   ]
  },
  {
   "cell_type": "code",
   "execution_count": 29,
   "id": "dfddf2a6",
   "metadata": {},
   "outputs": [
    {
     "ename": "AttributeError",
     "evalue": "'data' object has no attribute 'int_date'",
     "output_type": "error",
     "traceback": [
      "\u001b[1;31m---------------------------------------------------------------------------\u001b[0m",
      "\u001b[1;31mAttributeError\u001b[0m                            Traceback (most recent call last)",
      "\u001b[1;32mC:\\Users\\SHAHRU~1\\AppData\\Local\\Temp/ipykernel_8832/1008813989.py\u001b[0m in \u001b[0;36m<module>\u001b[1;34m\u001b[0m\n\u001b[1;32m----> 1\u001b[1;33m \u001b[0mcompany\u001b[0m\u001b[1;33m.\u001b[0m\u001b[0mint_date\u001b[0m\u001b[1;33m(\u001b[0m\u001b[1;33m)\u001b[0m\u001b[1;33m\u001b[0m\u001b[1;33m\u001b[0m\u001b[0m\n\u001b[0m",
      "\u001b[1;31mAttributeError\u001b[0m: 'data' object has no attribute 'int_date'"
     ]
    }
   ],
   "source": [
    "company.int_date()"
   ]
  },
  {
   "cell_type": "markdown",
   "id": "0a3c27c0",
   "metadata": {},
   "source": [
    "# level 1"
   ]
  },
  {
   "cell_type": "code",
   "execution_count": 37,
   "id": "3dae4958",
   "metadata": {},
   "outputs": [
    {
     "name": "stdout",
     "output_type": "stream",
     "text": [
      "this is test file\n"
     ]
    }
   ],
   "source": [
    "class data:\n",
    "    \n",
    "    def __init__(self,filename,filetype,date,size):\n",
    "        self.filename = filename\n",
    "        self.filetype = filetype\n",
    "        self.date = date\n",
    "        self.size = size\n",
    "        \n",
    "        \n",
    "    def fileopen(self):\n",
    "        f = open(self.filename,\"w\")\n",
    "        f.write(\"this is test file\")\n",
    "        f.close()\n",
    "        \n",
    "    def fileread(self):\n",
    "        f = open(self.filename,\"r\")\n",
    "        print(f.read())\n",
    "        f.close()\n",
    "        \n",
    "    def fileappend(self):\n",
    "        f = open(self.filename, \"a\")\n",
    "        f.write(\"Appending data to file\")\n",
    "        f.close()\n",
    "        \n",
    "file1 = data(\"file1\", \"txt\", \"2022-7-5\", \"1gb\")\n",
    "file1.fileopen()\n",
    "file1.fileread()\n",
    "file1.fileappend()"
   ]
  },
  {
   "cell_type": "code",
   "execution_count": 43,
   "id": "8396f831",
   "metadata": {},
   "outputs": [
    {
     "name": "stdout",
     "output_type": "stream",
     "text": [
      "hii my name is shahrukh khan\n"
     ]
    }
   ],
   "source": [
    "#level1\n",
    "class data:\n",
    "    \n",
    "    def __init__(self,filename,filetype,date,size):\n",
    "        self.filename = filename\n",
    "        self.filetype = filetype\n",
    "        self.date = date\n",
    "        self.size = size\n",
    "        \n",
    "    def fileopen(self):\n",
    "        try:\n",
    "            with open(f\"{self.filename}.txt\", \"w\") as wr :\n",
    "                wr.write(\"hii my name is shahrukh khan\")\n",
    "        except Exception as e:\n",
    "            print(e)\n",
    "            \n",
    "    def fileread(self):\n",
    "        try:\n",
    "            with open(f\"{self.filename}.txt\", \"r\") as wr :\n",
    "                for i in wr:\n",
    "                    print(i)\n",
    "        except Exception as e:\n",
    "            print(e)\n",
    "            \n",
    "    def fileappend(self):\n",
    "        try:\n",
    "            with open(f\"{self.filename}.txt\", \"a\") as wr:\n",
    "                wr.write(\"hii i am data sciencetist in a big company\")\n",
    "        except Exception as e:\n",
    "            print(e)\n",
    "        \n",
    "    def __str__(self):\n",
    "        return \"this task was given in opps\"\n",
    "    \n",
    "file2 = data(\"file2\", \"txt\", \"2022-7-5\", \"1gb\")\n",
    "file2.fileopen()\n",
    "file2.fileread()\n",
    "file2.fileappend()\n"
   ]
  },
  {
   "cell_type": "code",
   "execution_count": 49,
   "id": "9933461c",
   "metadata": {},
   "outputs": [
    {
     "name": "stdout",
     "output_type": "stream",
     "text": [
      "hii there\n"
     ]
    }
   ],
   "source": [
    "#level1\n",
    "class data:\n",
    "    \n",
    "    def __init__(self,filename,filetype,date,size):\n",
    "        self.filename = filename\n",
    "        self.filetype = filetype\n",
    "        self.date = date\n",
    "        self.size = size\n",
    "        \n",
    "    def file_open(self,write):\n",
    "        f = open(self.filename+\".\"+self.filetype, \"w\")\n",
    "        f.write(write)\n",
    "    def file_read(self):\n",
    "        f= open(self.filename+\".\"+self.filetype,\"r\")\n",
    "        a = f.readlines()\n",
    "        for i in a:\n",
    "            print(i)\n",
    "            \n",
    "    def __str__(self):\n",
    "        return \"value has return\"\n",
    "    \n",
    "file3 = data(\"file2\", \"txt\", \"2022-7-5\", \"1gb\")\n",
    "file3.file_open(\"hii there\")\n",
    "file3.file_read()\n",
    "#file3.fileappend()\n"
   ]
  },
  {
   "cell_type": "code",
   "execution_count": null,
   "id": "d36d5231",
   "metadata": {},
   "outputs": [],
   "source": [
    "class data :\n",
    "    def __init__(self,filename,filetype,data,size):\n",
    "        self.filename=filename\n",
    "        self.filetype=filetype\n",
    "        self.data=data\n",
    "        self.size=size\n",
    "        \n",
    "    def file_open(self):\n",
    "        f=open(self.filename,'w+')\n",
    "        f.write('this is first line')\n",
    "        f.close()\n",
    "        \n",
    "    def file_read(self):\n",
    "        try:\n",
    "            f =open(self.filename,'r')\n",
    "            print(f.read())\n",
    "            f.close()\n",
    "        except Exception as e:\n",
    "            print('error type is :',e)\n",
    "            \n",
    "            \n",
    "    def file_append(self):\n",
    "        try:\n",
    "            f= open(self.filename,'a')\n",
    "            f.write('this is the second line')\n",
    "            f.close()\n",
    "        except Exception as e:\n",
    "            print('error type :',e)\n"
   ]
  },
  {
   "cell_type": "code",
   "execution_count": null,
   "id": "823f8b21",
   "metadata": {},
   "outputs": [],
   "source": [
    "import os.path\n",
    "class data:\n",
    "    def __init__(self,file_name,file_type,date,size):\n",
    "        self.file_name=file_name\n",
    "        self.file_type=file_type\n",
    "        self.date = date\n",
    "        self.size = size\n",
    "    def file_open(self):\n",
    "        if os.path.isfile(self.file_name):\n",
    "            with open(self.file_name) as f\n",
    "            f.read()\n",
    "        else:\n",
    "            with open(self.file_name,'w+')as f\n",
    "            f.write('I am writing')\n",
    "    def file_read(self):\n",
    "        with open(self.file_name,'r')as f\n",
    "            f.read()\n"
   ]
  },
  {
   "cell_type": "code",
   "execution_count": null,
   "id": "d5d43733",
   "metadata": {},
   "outputs": [],
   "source": []
  },
  {
   "cell_type": "code",
   "execution_count": 50,
   "id": "64664886",
   "metadata": {},
   "outputs": [],
   "source": [
    "# Create a class Data\n",
    "\n",
    "class Data:\n",
    "    def __init__(self, fname, ftype, date, size):\n",
    "        self.fname=fname\n",
    "        self.ftype=ftype\n",
    "        self.date=date\n",
    "        self.size=size\n",
    "    \n",
    "    def file_open(self):\n",
    "        file = open(self.fname, \"w\")\n",
    "        while True:\n",
    "            entry=input(\"Wanna write to file? If no, leave blank: \")\n",
    "            file.writelines(entry)\n",
    "            \n",
    "            if not entry:\n",
    "                break\n",
    "            \n",
    "        file.close()\n",
    "    \n",
    "    def file_read(self):\n",
    "        file = open(self.fname)\n",
    "        print(file.read())\n",
    "        file.close()\n",
    "    \n",
    "    def file_append(self):\n",
    "        file = open(self.fname, \"a\")\n",
    "        while True:\n",
    "            entry=input(\"Wanna write to file? If no, leave blank: \")\n",
    "            file.writelines(entry)\n",
    "            \n",
    "            if not entry:\n",
    "                break\n"
   ]
  },
  {
   "cell_type": "code",
   "execution_count": 20,
   "id": "a1211ff3",
   "metadata": {},
   "outputs": [
    {
     "ename": "IndentationError",
     "evalue": "unindent does not match any outer indentation level (<tokenize>, line 38)",
     "output_type": "error",
     "traceback": [
      "\u001b[1;36m  File \u001b[1;32m\"<tokenize>\"\u001b[1;36m, line \u001b[1;32m38\u001b[0m\n\u001b[1;33m    f.read()\u001b[0m\n\u001b[1;37m    ^\u001b[0m\n\u001b[1;31mIndentationError\u001b[0m\u001b[1;31m:\u001b[0m unindent does not match any outer indentation level\n"
     ]
    }
   ],
   "source": [
    "class data:\n",
    "    def __init__(self,filename,filetype,date,size):\n",
    "        self.filename = filename\n",
    "        self.file_type = filetype\n",
    "        self.date = date\n",
    "        self.size = size\n",
    "        \n",
    "    def file_open(a,filename):\n",
    "        if type(self.filename) == list:\n",
    "            for i in filename:\n",
    "                f = open(i,'w')\n",
    "                f.write(\"OOPS\")\n",
    "        elif type(self.filename) == dict:\n",
    "            for i in filename:\n",
    "                f = open(i,'w')\n",
    "                f.write(\"OOPS\")\n",
    "        elif type(self.filename) == tuple:\n",
    "            for i in filename:\n",
    "                f = open(i,'w')\n",
    "                f.write(\"OOPS\")\n",
    "        else:\n",
    "            f = open(i,'w')\n",
    "            f.write(\"OOPS\")\n",
    "            \n",
    "    def file_read(b,filename):\n",
    "        if type(self.filename) == list:\n",
    "            for i in filename:\n",
    "                f = open(i,'r')\n",
    "                f.read()\n",
    "        elif type(self.filename) == dict:\n",
    "            for i in filename:\n",
    "                f = open(i,'r')\n",
    "                f.read()\n",
    "       \n",
    "elif type(self.filename) == tuple:\n",
    "            for i in filename:\n",
    "                f = open(i,'r')\n",
    "        f.read()\n",
    "           else:\n",
    "                f = open(i,'r')\n",
    "                f.read()\n",
    "            \n",
    "    def file_append(c,filename):\n",
    "             if type(self.filename) == list:\n",
    "                for i in filename:\n",
    "                f = open(i,'a')\n",
    "                f.write(\"easy\")\n",
    "        elif type(self.filename) == dict:\n",
    "            for i in filename:\n",
    "                f = open(i,'a')\n",
    "                f.write(\"easy\")\n",
    "        elif type(self.filename) == tuple:\n",
    "            for i in filename:\n",
    "                f = open(i,'a')\n",
    "                f.write(\"easy\")\n",
    "        else:\n",
    "            f = open(i,'a')\n",
    "            f.write(\"easy\")\n"
   ]
  },
  {
   "cell_type": "markdown",
   "id": "252bac0d",
   "metadata": {},
   "source": [
    "# level 2"
   ]
  },
  {
   "cell_type": "code",
   "execution_count": 21,
   "id": "2c7dded4",
   "metadata": {},
   "outputs": [],
   "source": [
    "import logging as lg\n",
    "lg.basicConfig(filename='OOPS.log', level=lg.ERROR)\n",
    "class Data:\n",
    "  def __init__(self, fileName, fileType, data, size):\n",
    "    self.fileName = fileName\n",
    "    self.fileType = fileType\n",
    "    self.data = data\n",
    "    self.size = size\n",
    "  \n",
    "  def File_open(self): \n",
    "    try:  \n",
    "      with open(self.fileName+self.fileType,'w') as f:\n",
    "        f.write(self.data)\n",
    "    except Exception as e:\n",
    "      self.logging(e)\n",
    "    \n",
    "  def File_read(self):\n",
    "    try:\n",
    "      with open(self.fileName+self.fileType,'r') as f:\n",
    "        f.read()\n",
    "    except FileNotFoundError as e:\n",
    "      self.logging(e)\n",
    "    except Exception as e:\n",
    "      self.logging(e)\n",
    "    \n",
    "  def  File_append(self, data):\n",
    "    try:\n",
    "      with open(self.fileName+self.fileType, 'a') as f:\n",
    "        f.write(data)\n",
    "    except FileNotFoundError as e:\n",
    "      self.logging(e)\n",
    "    except Exception as e:\n",
    "      self.logging(e)\n",
    "    \n",
    "    \n",
    "    \n",
    "  def logging(self, log):\n",
    "    lg.error(log) \n",
    "    \n",
    "    \n",
    "    \n",
    "d = Data('d','.txt','hi',2)\n",
    "d.File_open()\n",
    "d.File_append('op')\n"
   ]
  },
  {
   "cell_type": "code",
   "execution_count": 27,
   "id": "465e3297",
   "metadata": {},
   "outputs": [
    {
     "ename": "SyntaxError",
     "evalue": "unexpected EOF while parsing (Temp/ipykernel_9872/3409271345.py, line 35)",
     "output_type": "error",
     "traceback": [
      "\u001b[1;36m  File \u001b[1;32m\"C:\\Users\\SHAHRU~1\\AppData\\Local\\Temp/ipykernel_9872/3409271345.py\"\u001b[1;36m, line \u001b[1;32m35\u001b[0m\n\u001b[1;33m    \u001b[0m\n\u001b[1;37m    ^\u001b[0m\n\u001b[1;31mSyntaxError\u001b[0m\u001b[1;31m:\u001b[0m unexpected EOF while parsing\n"
     ]
    }
   ],
   "source": [
    "import os\n",
    "import logging as lg\n",
    "lg.basicConfig(filename='oops.log',level=lg.INFO)\n",
    "class data:\n",
    "    def __init__(self, filename, filetype, date, size):\n",
    "        self.filename = filename\n",
    "        self.filetype = filetype\n",
    "        self.date = date\n",
    "        self.size = size\n",
    "        \n",
    "    def File_open(self):\n",
    "        lst = os.listdir()\n",
    "        if self.filename is not os.listdir():\n",
    "            f = open(self.filename, 'w')\n",
    "            f.write(\"This is the file content\")\n",
    "            lg.info(\"Wrote the file\") \n",
    "            lg.info(self.filename) \n",
    "            f.close()\n",
    "        else:\n",
    "            print(\"file already exists\")\n",
    "    def File_read(self):\n",
    "        try:\n",
    "            f = open(self.filename, 'r')\n",
    "            for i in f:\n",
    "                print(i)\n",
    "            f.close()\n",
    "        except Exception as e:\n",
    "            print(\"file doesn't exist\", e)\n",
    "            \n",
    "    def File_append(self):\n",
    "        try:\n",
    "            f = open(self.filename, 'a')\n",
    "            f.write(\"Hello everyone\")\n",
    "            lg.info(\"appended to the file\")           \n"
   ]
  },
  {
   "cell_type": "code",
   "execution_count": null,
   "id": "1b8171a6",
   "metadata": {},
   "outputs": [],
   "source": [
    "from flask import Flask, render_template, request, jsonify\n",
    "\n",
    "app = Flask(__name__)\n",
    "\n",
    "\n",
    "@app.route('/', methods=['GET', 'POST']) # To render Homepage\n",
    "def home_page():\n",
    "    return render_template('index.html')\n",
    "\n",
    "@app.route('/math', methods=['POST'])  # This will be called from UI\n",
    "def math_operation():\n",
    "    if (request.method=='POST'):\n",
    "        operation=request.form['operation']\n",
    "        num1=int(request.form['num1'])\n",
    "        num2 = int(request.form['num2'])\n",
    "        if(operation=='add'):\n",
    "            r=num1+num2\n",
    "            result= 'the sum of '+str(num1)+' and '+str(num2) +' is '+str(r)\n",
    "        if (operation == 'subtract'):\n",
    "            r = num1 - num2\n",
    "            result = 'the difference of ' + str(num1) + ' and ' + str(num2) + ' is ' + str(r)\n",
    "        if (operation == 'multiply'):\n",
    "            r = num1 * num2\n",
    "            result = 'the product of ' + str(num1) + ' and ' + str(num2) + ' is ' + str(r)\n",
    "        if (operation == 'divide'):\n",
    "            r = num1 / num2\n",
    "            result = 'the quotient when ' + str(num1) + ' is divided by ' + str(num2) + ' is ' + str(r)\n",
    "        return render_template('results.html',result=result)\n",
    "\n",
    "@app.route('/via_postman', methods=['POST']) # for calling the API from Postman/SOAPUI\n",
    "def math_operation_via_postman():\n",
    "    if (request.method=='POST'):\n",
    "        operation=request.json['operation']\n",
    "        num1=int(request.json['num1'])\n",
    "        num2 = int(request.json['num2'])\n",
    "        if(operation=='add'):\n",
    "            r=num1+num2\n",
    "            result= 'the sum of '+str(num1)+' and '+str(num2) +' is '+str(r)\n",
    "        if (operation == 'subtract'):\n",
    "            r = num1 - num2\n",
    "            result = 'the difference of ' + str(num1) + ' and ' + str(num2) + ' is ' + str(r)\n",
    "        if (operation == 'multiply'):\n",
    "            r = num1 * num2\n",
    "            result = 'the product of ' + str(num1) + ' and ' + str(num2) + ' is ' + str(r)\n",
    "        if (operation == 'divide'):\n",
    "            r = num1 / num2\n",
    "            result = 'the quotient when ' + str(num1) + ' is divided by ' + str(num2) + ' is ' + str(r)\n",
    "        return jsonify(result)\n",
    "\n",
    "\n",
    "if __name__ == '__main__':\n",
    "    app.run()\n"
   ]
  }
 ],
 "metadata": {
  "kernelspec": {
   "display_name": "Python 3 (ipykernel)",
   "language": "python",
   "name": "python3"
  },
  "language_info": {
   "codemirror_mode": {
    "name": "ipython",
    "version": 3
   },
   "file_extension": ".py",
   "mimetype": "text/x-python",
   "name": "python",
   "nbconvert_exporter": "python",
   "pygments_lexer": "ipython3",
   "version": "3.9.7"
  }
 },
 "nbformat": 4,
 "nbformat_minor": 5
}
